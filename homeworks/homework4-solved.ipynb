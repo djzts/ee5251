{
 "cells": [
  {
   "cell_type": "markdown",
   "metadata": {
    "format": "text/markdown"
   },
   "source": [
    "\n"
   ]
  },
  {
   "cell_type": "markdown",
   "metadata": {
    "format": "text/markdown"
   },
   "source": [
    "\\begin{equation*}\n",
    "\\newcommand{\\E}{\\mathbb{E}}\n",
    "\\end{equation*}\n",
    "\n"
   ]
  },
  {
   "cell_type": "markdown",
   "metadata": {
    "format": "text/markdown"
   },
   "source": [
    "\n",
    "# Due Dates\n",
    "\n",
    "* Textbook: Thursday, October 18, in class\n",
    "* Coding: Thursday, October 18, at 11:59 PM\n",
    "\n",
    "# Textbook Problems\n",
    "\n",
    "* 3.9\n",
    "* 3.10\n",
    "* 3.12\n",
    "* 3.13\n",
    "* 3.20\n"
   ]
  },
  {
   "cell_type": "code",
   "execution_count": 1,
   "metadata": {
    "autoscroll": "auto",
    "options": {
     "caption": false,
     "complete": true,
     "display_data": true,
     "display_stream": true,
     "dpi": 200,
     "echo": true,
     "evaluate": true,
     "f_env": null,
     "f_pos": "htpb",
     "f_size": [
      6,
      4
     ],
     "f_spines": true,
     "fig": true,
     "include": true,
     "name": null,
     "option_string": "echo='True', evaluate='True' ",
     "results": "verbatim",
     "term": false,
     "wrap": "output"
    }
   },
   "outputs": [],
   "source": [
    "# This is code to load the assignment.\n",
    "# You'll need to run this code do or restart the assignment.\n",
    "from loadAssignment import loadAssignment\n",
    "Assignment, Questions, Submit, Data = loadAssignment(4)\n",
    "\n",
    "# These are modules that we need\n",
    "# once you run this code, you don't need to load them again\n",
    "import autograd.numpy as np\n",
    "import autograd as ag\n",
    "import scipy.linalg as la\n",
    "import matplotlib.pyplot as plt\n",
    "%matplotlib inline"
   ]
  },
  {
   "cell_type": "markdown",
   "metadata": {
    "format": "text/markdown"
   },
   "source": [
    "\n"
   ]
  },
  {
   "cell_type": "markdown",
   "metadata": {
    "format": "text/markdown"
   },
   "source": [
    "\n"
   ]
  },
  {
   "cell_type": "markdown",
   "metadata": {
    "format": "text/markdown"
   },
   "source": [
    "\n",
    "# Question 0\n"
   ]
  },
  {
   "cell_type": "markdown",
   "metadata": {
    "format": "text/markdown"
   },
   "source": [
    "\n"
   ]
  },
  {
   "cell_type": "markdown",
   "metadata": {
    "format": "text/markdown"
   },
   "source": [
    "\n",
    "\n"
   ]
  },
  {
   "cell_type": "markdown",
   "metadata": {
    "format": "text/markdown"
   },
   "source": [
    "\n",
    "Let $u$, $v$, and $w$ be scalar Gaussian random variables with mean zero and covariance:\n",
    "\\begin{equation*}\n",
    "\\E\\left[\n",
    "\t\\begin{bmatrix}\n",
    "\t\tu \\\\\n",
    "\t\tv \\\\\n",
    "\t\tw\n",
    "\t\\end{bmatrix}\n",
    "\t\\begin{bmatrix}\n",
    "\t\tu \\\\\n",
    "\t\tv \\\\\n",
    "\t\tw\n",
    "\t\\end{bmatrix}^\\top\n",
    "\t\\right]\n",
    "\t= \\left[\\begin{matrix}2.421 & -0.13 & -1.904\\\\-0.13 & 0.23 & 0.107\\\\-1.904 & 0.107 & 1.683\\end{matrix}\\right]\n",
    "\\end{equation*}\n",
    "Define $x$ and $y$ by\n",
    "\\begin{align*}\n",
    "x &= u + v \\\\\n",
    "y &= x + w\n",
    "\\end{align*}\n",
    "\n",
    "Also assume that a values of $u = 1.851$ and $y=0.22$ are measured.\n",
    "\n",
    "For convenience, the covariance and measurements are given here:\n"
   ]
  },
  {
   "cell_type": "code",
   "execution_count": 2,
   "metadata": {
    "autoscroll": "auto",
    "options": {
     "caption": false,
     "complete": true,
     "display_data": true,
     "display_stream": true,
     "dpi": 200,
     "echo": true,
     "evaluate": true,
     "f_env": null,
     "f_pos": "htpb",
     "f_size": [
      6,
      4
     ],
     "f_spines": true,
     "fig": true,
     "include": true,
     "name": null,
     "option_string": " echo='True', evaluate='True' ",
     "results": "verbatim",
     "term": false,
     "wrap": "output"
    }
   },
   "outputs": [],
   "source": [
    "Cov = np.array([[2.421, -0.13, -1.904],\n",
    "[-0.13, 0.23, 0.107],\n",
    "[-1.904, 0.107, 1.683]])\n",
    "u = 1.851\n",
    "y = 0.22"
   ]
  },
  {
   "cell_type": "markdown",
   "metadata": {
    "format": "text/markdown"
   },
   "source": [
    "\n",
    "Calculate $\\E[x|u,y]$.\n",
    "\n"
   ]
  },
  {
   "cell_type": "code",
   "execution_count": 3,
   "metadata": {
    "autoscroll": "auto",
    "options": {
     "caption": false,
     "complete": true,
     "display_data": true,
     "display_stream": true,
     "dpi": 200,
     "echo": true,
     "evaluate": true,
     "f_env": null,
     "f_pos": "htpb",
     "f_size": [
      6,
      4
     ],
     "f_spines": true,
     "fig": true,
     "include": true,
     "name": null,
     "option_string": "echo='True',evaluate='True' ",
     "results": "verbatim",
     "term": false,
     "wrap": "output"
    }
   },
   "outputs": [
    {
     "name": "stdout",
     "output_type": "stream",
     "text": [
      "That is correct. Nice.\n",
      "A score of 1 was entered for Question 0\n"
     ]
    }
   ],
   "source": [
    "# M is a matrix mapping u,v,w to x,u,y\n",
    "\n",
    "M = np.array([[1.,1.,0],\n",
    "              [1.,0,0],\n",
    "              [1.,1.,1.]])\n",
    "\n",
    "# Sig is the covariance of x,u,y\n",
    "Sig = np.dot(M,np.dot(Cov,M.T))\n",
    "\n",
    "# The gain vector\n",
    "K = la.solve(Sig[1:,1:],Sig[1:,0])\n",
    "x_est = np.dot(K,np.hstack([u,y]))\n",
    "\n",
    "Questions[0].checkAnswer(x_est)"
   ]
  },
  {
   "cell_type": "markdown",
   "metadata": {
    "format": "text/markdown"
   },
   "source": [
    "\n"
   ]
  },
  {
   "cell_type": "markdown",
   "metadata": {
    "format": "text/markdown"
   },
   "source": [
    "\n"
   ]
  },
  {
   "cell_type": "markdown",
   "metadata": {
    "format": "text/markdown"
   },
   "source": [
    "\n",
    "\n",
    "# Question 1\n",
    "\n"
   ]
  },
  {
   "cell_type": "markdown",
   "metadata": {
    "format": "text/markdown"
   },
   "source": [
    "\n"
   ]
  },
  {
   "cell_type": "markdown",
   "metadata": {
    "format": "text/markdown"
   },
   "source": [
    "\n",
    "Say that $x_0 = 0$, and \n",
    "\\begin{equation*}\n",
    "x_{k+1} = \\Phi x_k + w_k\n",
    "\\end{equation*}\n",
    "where $w_k$ are independent Gaussians with mean $0$ and covariance $I$ and \n",
    "\\begin{equation*}\n",
    "\\Phi = \\left[\\begin{matrix}-0.52 & 0.35\\\\0.0 & -0.25\\end{matrix}\\right]\n",
    "\\end{equation*}\n",
    "\n",
    "For convenience, it is given here:\n"
   ]
  },
  {
   "cell_type": "code",
   "execution_count": 4,
   "metadata": {
    "autoscroll": "auto",
    "options": {
     "caption": false,
     "complete": true,
     "display_data": true,
     "display_stream": true,
     "dpi": 200,
     "echo": true,
     "evaluate": true,
     "f_env": null,
     "f_pos": "htpb",
     "f_size": [
      6,
      4
     ],
     "f_spines": true,
     "fig": true,
     "include": true,
     "name": null,
     "option_string": "echo='True',evaluate='True' ",
     "results": "verbatim",
     "term": false,
     "wrap": "output"
    }
   },
   "outputs": [],
   "source": [
    "Phi = np.array([[-0.52, 0.35],\n",
    "[0, -0.25]])"
   ]
  },
  {
   "cell_type": "markdown",
   "metadata": {
    "format": "text/markdown"
   },
   "source": [
    "\n",
    "Let $\\Sigma_k = \\E[x_k x_k^\\top]$ and let $\\Sigma = \\lim_{k\\to\\infty} \\Sigma_k$. (It can be shown\n",
    "that if all eigenvalues of $\\Phi$ have magnitude less than $1$, then the limit of $\\Sigma_k$ exists and is finite.)\n",
    "\n",
    "What is $\\Sigma$? (It will help to write an expression for $\\Sigma_{k+1}$ in terms of $\\Sigma_k$ and note that for large $k$, $\\Sigma_{k+1} \\approx \\Sigma_k$.)\n",
    "\n",
    "(The command `la.solve_discrete_lyapunov` may help.)\n",
    "\n"
   ]
  },
  {
   "cell_type": "markdown",
   "metadata": {
    "format": "text/markdown"
   },
   "source": [
    "\n"
   ]
  },
  {
   "cell_type": "code",
   "execution_count": 5,
   "metadata": {
    "autoscroll": "auto",
    "options": {
     "caption": false,
     "complete": true,
     "display_data": true,
     "display_stream": true,
     "dpi": 200,
     "echo": true,
     "evaluate": true,
     "f_env": null,
     "f_pos": "htpb",
     "f_size": [
      6,
      4
     ],
     "f_spines": true,
     "fig": true,
     "include": true,
     "name": null,
     "option_string": " echo='True',evaluate='True' ",
     "results": "verbatim",
     "term": false,
     "wrap": "output"
    }
   },
   "outputs": [
    {
     "name": "stdout",
     "output_type": "stream",
     "text": [
      "[[0. 0.]\n",
      " [0. 0.]]\n",
      "Huzzah.\n",
      "A score of 1 was entered for Question 1\n"
     ]
    }
   ],
   "source": [
    "# Here is the fancy way.\n",
    "Sigma = la.solve_discrete_lyapunov(Phi,np.eye(2))\n",
    "\n",
    "# Here is the brute force way.\n",
    "\n",
    "Sigma_test = np.zeros(2)\n",
    "for _ in range(100):\n",
    "    Sigma_test = np.dot(Phi,np.dot(Sigma_test,Phi.T)) + np.eye(2)\n",
    "\n",
    "print(Sigma-Sigma_test)\n",
    "Questions[1].checkAnswer(Sigma_test)"
   ]
  },
  {
   "cell_type": "markdown",
   "metadata": {
    "format": "text/markdown"
   },
   "source": [
    "\n"
   ]
  },
  {
   "cell_type": "markdown",
   "metadata": {
    "format": "text/markdown"
   },
   "source": [
    "\n"
   ]
  },
  {
   "cell_type": "markdown",
   "metadata": {
    "format": "text/markdown"
   },
   "source": [
    "\n",
    "# Question 2\n",
    "\n",
    "\n",
    "Let $x_k$ be the sequence of vectors from the previous problem. Assume that we have\n",
    "measurements of the form\n",
    "\n",
    "\\begin{equation*}\n",
    "y_k = \\begin{bmatrix} 1 & 0 \\end{bmatrix} x_k + v_k\n",
    "\\end{equation*}\n",
    "\n",
    "where $v_k$ is a zero mean, variance $1$ Gaussian white noise sequence which is independent of $w_k$. \n",
    "\n",
    "Let $\\hat x_k^- = \\E[x_k|y_{0:k-1}]$ be the a-priori estimate and let\n",
    "Let $P_k^{-} = \\E[(x_k-\\hat x_k^-)(x_k-\\hat x_k^-)^\\top]$ be the a-priori filter covariance. In this problem, because $\\Phi$ is stable, the limit $P= \\lim_{k\\to\\infty}P_k^-$ is guaranteed exist and be finite. What is $P$?\n",
    "\n",
    "(The command `la.solve_discrete_are` may help.)\n",
    "\n"
   ]
  },
  {
   "cell_type": "code",
   "execution_count": 6,
   "metadata": {
    "autoscroll": "auto",
    "options": {
     "caption": false,
     "complete": true,
     "display_data": true,
     "display_stream": true,
     "dpi": 200,
     "echo": true,
     "evaluate": true,
     "f_env": null,
     "f_pos": "htpb",
     "f_size": [
      6,
      4
     ],
     "f_spines": true,
     "fig": true,
     "include": true,
     "name": null,
     "option_string": "echo='True',evaluate='True' ",
     "results": "verbatim",
     "term": false,
     "wrap": "output"
    }
   },
   "outputs": [
    {
     "name": "stdout",
     "output_type": "stream",
     "text": [
      "[[-1.11022302e-15 -6.93889390e-17]\n",
      " [-6.93889390e-17  1.33226763e-15]]\n",
      "Phenomenal\n",
      "A score of 1 was entered for Question 2\n"
     ]
    }
   ],
   "source": [
    "# This is the fancy way.\n",
    "Q = np.eye(2)\n",
    "R = np.eye(1)\n",
    "H = np.array([[1.,0.]])\n",
    "\n",
    "P = la.solve_discrete_are(Phi.T,H.T,Q,R)\n",
    "\n",
    "# You could alternatively compute P_k^- till it converges.\n",
    "# It doesn't take long.\n",
    "\n",
    "P_test = np.zeros((2,2))\n",
    "\n",
    "def dot(*mats):\n",
    "    if len(mats)==1:\n",
    "        return mats[0]\n",
    "    else:\n",
    "        return np.dot(mats[0],dot(*mats[1:]))\n",
    "\n",
    "for _ in range(100):\n",
    "    Psi = dot(H,P_test,H.T) + R\n",
    "    K = la.solve(Psi,dot(H,P_test,Phi.T)).T\n",
    "    P_test = dot(Phi,P_test,Phi.T) + Q - dot(K,Psi,K.T)\n",
    "\n",
    "print(P-P_test)\n",
    "Questions[2].checkAnswer(P_test)"
   ]
  },
  {
   "cell_type": "markdown",
   "metadata": {
    "format": "text/markdown"
   },
   "source": [
    "\n"
   ]
  },
  {
   "cell_type": "markdown",
   "metadata": {
    "format": "text/markdown"
   },
   "source": [
    "\n",
    "\n",
    "\n",
    "\n",
    "\n"
   ]
  },
  {
   "cell_type": "markdown",
   "metadata": {
    "format": "text/markdown"
   },
   "source": [
    "\n",
    "# Question 3\n",
    "\n",
    "Let $\\hat x_k^-$ be the a-priori estimate from the previous problem. Let \n",
    "$D_k = \\E[\\hat x_k^- (\\hat x_k^-)^\\top]$. Let $D = \\lim_{k\\to\\infty} D_k$. Calculate $D$. \n",
    "\n"
   ]
  },
  {
   "cell_type": "code",
   "execution_count": 7,
   "metadata": {
    "autoscroll": "auto",
    "options": {
     "caption": false,
     "complete": true,
     "display_data": true,
     "display_stream": true,
     "dpi": 200,
     "echo": true,
     "evaluate": true,
     "f_env": null,
     "f_pos": "htpb",
     "f_size": [
      6,
      4
     ],
     "f_spines": true,
     "fig": true,
     "include": true,
     "name": null,
     "option_string": "echo='True',evaluate='True' ",
     "results": "verbatim",
     "term": false,
     "wrap": "output"
    }
   },
   "outputs": [
    {
     "name": "stdout",
     "output_type": "stream",
     "text": [
      "Oh yeah!\n",
      "A score of 1 was entered for Question 3\n"
     ]
    }
   ],
   "source": [
    "D = Sigma - P\n",
    "\n",
    "Questions[3].checkAnswer(D)"
   ]
  },
  {
   "cell_type": "markdown",
   "metadata": {
    "format": "text/markdown"
   },
   "source": [
    "\n"
   ]
  },
  {
   "cell_type": "markdown",
   "metadata": {
    "format": "text/markdown"
   },
   "source": [
    "\n"
   ]
  },
  {
   "cell_type": "markdown",
   "metadata": {
    "format": "text/markdown"
   },
   "source": [
    "\n",
    "# Question 4\n",
    "\n",
    "Let $P_k^-$ be the a-priori covariance from above \n",
    "Assume that the initial condition, $x_0=0$ is known.\n",
    "Plot the entries of $P_k^-$ for $k=0,\\ldots,19$.  \n",
    "\n",
    "Your plot should have three lines, one for each of the unique entries of $P_k^-$. (Since $P_k^-$ is symmetric, the off-diagonal entries are identical.)\n",
    "\n"
   ]
  },
  {
   "cell_type": "code",
   "execution_count": 8,
   "metadata": {
    "autoscroll": "auto",
    "options": {
     "caption": false,
     "complete": true,
     "display_data": true,
     "display_stream": true,
     "dpi": 200,
     "echo": true,
     "evaluate": true,
     "f_env": null,
     "f_pos": "htpb",
     "f_size": [
      6,
      4
     ],
     "f_spines": true,
     "fig": true,
     "include": true,
     "name": null,
     "option_string": " echo='True', evaluate='True' ",
     "results": "verbatim",
     "term": false,
     "wrap": "output"
    }
   },
   "outputs": [
    {
     "name": "stdout",
     "output_type": "stream",
     "text": [
      "Phenomenal\n",
      "A score of 1 was entered for Question 4\n"
     ]
    },
    {
     "data": {
      "image/png": "[encoded data removed]",
      "text/plain": [
       "<Figure size 432x288 with 1 Axes>"
      ]
     },
     "metadata": {
      "needs_background": "light"
     },
     "output_type": "display_data"
    }
   ],
   "source": [
    "P_list = []\n",
    "P = np.zeros((2,2))\n",
    "for _ in range(20):\n",
    "    P_list.append(np.hstack([np.diag(P),P[0,1]]))\n",
    "    Psi = dot(H,P,H.T) + R\n",
    "    K = la.solve(Psi,dot(H,P,Phi.T)).T\n",
    "    P = dot(Phi,P,Phi.T) + Q - dot(K,Psi,K.T)\n",
    "    \n",
    "P_mat = np.array(P_list).T\n",
    "for P_vec in P_mat:\n",
    "    plt.plot(P_vec)\n",
    "\n",
    "\n",
    "Questions[4].checkAnswer()"
   ]
  },
  {
   "cell_type": "markdown",
   "metadata": {
    "format": "text/markdown"
   },
   "source": [
    "\n"
   ]
  },
  {
   "cell_type": "markdown",
   "metadata": {
    "format": "text/markdown"
   },
   "source": [
    "\n"
   ]
  },
  {
   "cell_type": "markdown",
   "metadata": {
    "format": "text/markdown"
   },
   "source": [
    "\n",
    "\n",
    "\n",
    "# Question 5\n",
    "\n",
    "# Final Score\n",
    "\n",
    "You can run this code to see all of your scores.\n",
    "\n",
    "\n"
   ]
  },
  {
   "cell_type": "code",
   "execution_count": 9,
   "metadata": {
    "autoscroll": "auto",
    "options": {
     "caption": false,
     "complete": true,
     "display_data": true,
     "display_stream": true,
     "dpi": 200,
     "echo": true,
     "evaluate": true,
     "f_env": null,
     "f_pos": "htpb",
     "f_size": [
      6,
      4
     ],
     "f_spines": true,
     "fig": true,
     "include": true,
     "name": null,
     "option_string": "echo='True', evaluate='True' ",
     "results": "verbatim",
     "term": false,
     "wrap": "output"
    }
   },
   "outputs": [
    {
     "name": "stdout",
     "output_type": "stream",
     "text": [
      "Problem 0: 1\n",
      "Problem 1: 1\n",
      "Problem 2: 1\n",
      "Problem 3: 1\n",
      "Problem 4: 1\n",
      "\n",
      "Total: 5 / 5\n"
     ]
    }
   ],
   "source": [
    "Assignment.showResults()"
   ]
  },
  {
   "cell_type": "markdown",
   "metadata": {
    "format": "text/markdown"
   },
   "source": [
    "\n",
    "\n",
    "\n",
    "# Submission\n",
    "\n",
    "Save your work and run this cell to submit. It will only work if you have the internet.\n",
    "\n"
   ]
  },
  {
   "cell_type": "markdown",
   "metadata": {
    "format": "text/markdown"
   },
   "source": [
    "\n"
   ]
  },
  {
   "cell_type": "markdown",
   "metadata": {
    "format": "text/markdown"
   },
   "source": []
  }
 ],
 "metadata": {
  "kernel_info": {
   "name": "estenv"
  },
  "kernelspec": {
   "display_name": "Estimation",
   "language": "python",
   "name": "estenv"
  },
  "language_info": {
   "codemirror_mode": {
    "name": "ipython",
    "version": 3
   },
   "file_extension": ".py",
   "mimetype": "text/x-python",
   "name": "python",
   "nbconvert_exporter": "python",
   "pygments_lexer": "ipython3",
   "version": "3.6.5"
  }
 },
 "nbformat": 4,
 "nbformat_minor": 1
}
