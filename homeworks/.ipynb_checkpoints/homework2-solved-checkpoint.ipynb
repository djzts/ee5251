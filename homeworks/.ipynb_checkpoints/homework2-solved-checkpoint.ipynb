{
 "cells": [
  {
   "cell_type": "markdown",
   "metadata": {
    "format": "text/markdown"
   },
   "source": [
    "\n"
   ]
  },
  {
   "cell_type": "markdown",
   "metadata": {
    "format": "text/markdown"
   },
   "source": []
  },
  {
   "cell_type": "markdown",
   "metadata": {
    "format": "text/markdown"
   },
   "source": [
    "\n",
    "# Due Dates\n",
    "\n",
    "* Textbook: Thursday, September 27, in class\n",
    "* Coding: Thursday, September 27, at 11:59 PM\n",
    "\n",
    "# Textbook Problems\n",
    "\n",
    "* 2.5\n",
    "* 2.9\n",
    "* 2.16\n",
    "* 2.19\n",
    "\n"
   ]
  },
  {
   "cell_type": "code",
   "execution_count": 1,
   "metadata": {
    "autoscroll": "auto",
    "options": {
     "caption": false,
     "complete": true,
     "display_data": true,
     "display_stream": true,
     "dpi": 200,
     "echo": true,
     "evaluate": true,
     "f_env": null,
     "f_pos": "htpb",
     "f_size": [
      6,
      4
     ],
     "f_spines": true,
     "fig": true,
     "include": true,
     "name": null,
     "option_string": "echo='True', evaluate='True' ",
     "results": "verbatim",
     "term": false,
     "wrap": "output"
    }
   },
   "outputs": [],
   "source": [
    "# This is code to load the assignment.\n",
    "# You'll need to run this code do or restart the assignment.\n",
    "from loadAssignment import loadAssignment\n",
    "Assignment, Questions, Submit, Data = loadAssignment(2)\n",
    "\n",
    "# These are modules that we need\n",
    "# once you run this code, you don't need to load them again\n",
    "import autograd.numpy as np\n",
    "import autograd as ag\n",
    "import scipy.linalg as la\n",
    "import scipy.optimize as opt\n",
    "import matplotlib.pyplot as plt\n",
    "%matplotlib inline"
   ]
  },
  {
   "cell_type": "markdown",
   "metadata": {
    "format": "text/markdown"
   },
   "source": [
    "\n"
   ]
  },
  {
   "cell_type": "markdown",
   "metadata": {
    "format": "text/markdown"
   },
   "source": [
    "\n"
   ]
  },
  {
   "cell_type": "markdown",
   "metadata": {
    "format": "text/markdown"
   },
   "source": [
    "\n",
    "# Automatic Differentiation\n",
    "\n",
    "In class, Andy makes a lot of hoopla about taking derivatives. That is because when you are doing theory, you should really know how to take derivatives. \n",
    "\n",
    "However, when you are coding, you should do as little manually as possible, and that includes taking derivatives. Computers make fewer mistakes than humans.\n",
    "\n",
    "In recent years, several great tools for [automatic differentiation](https://en.wikipedia.org/wiki/Automatic_differentiation) have emerged. \n",
    "For this class, we will use a simple one known as [autograd](https://github.com/HIPS/autograd). Autograd is a wrapper around `numpy` (note how it was imported above) that enables you to automatically differentiate `numpy` code. \n",
    " \n",
    "Let's see how to use it.\n"
   ]
  },
  {
   "cell_type": "code",
   "execution_count": 2,
   "metadata": {
    "autoscroll": "auto",
    "options": {
     "caption": false,
     "complete": true,
     "display_data": true,
     "display_stream": true,
     "dpi": 200,
     "echo": true,
     "evaluate": true,
     "f_env": null,
     "f_pos": "htpb",
     "f_size": [
      6,
      4
     ],
     "f_spines": true,
     "fig": true,
     "include": true,
     "name": null,
     "option_string": "echo='True',evaluate='True' ",
     "results": "verbatim",
     "term": false,
     "wrap": "output"
    }
   },
   "outputs": [
    {
     "name": "stdout",
     "output_type": "stream",
     "text": [
      "Gradient\n",
      "[1. 2. 3.]\n",
      "Jacobian\n",
      "[[ 0.  1.]\n",
      " [ 1. -1.]]\n"
     ]
    }
   ],
   "source": [
    "# Gradients of scalar functions\n",
    "\n",
    "w = np.array([1.,2,3])\n",
    "\n",
    "def scalarFun(x):\n",
    "    return np.dot(w,x)\n",
    "\n",
    "scalarGrad = ag.grad(scalarFun)\n",
    "\n",
    "print('Gradient')\n",
    "print(scalarGrad(np.zeros(3)))\n",
    "\n",
    "def vectorFun(x):\n",
    "    return np.array([np.sin(x[1]),x[0]-x[1]])\n",
    "\n",
    "vectorJacobian = ag.jacobian(vectorFun)\n",
    "\n",
    "print('Jacobian')\n",
    "print(vectorJacobian(np.array([2.,0])))"
   ]
  },
  {
   "cell_type": "markdown",
   "metadata": {
    "format": "text/markdown"
   },
   "source": [
    "\n",
    "Other tools based on automatic differentiation include [TensorFlow](https://www.tensorflow.org/), [PyTorch](https://pytorch.org/), and [CasADi](https://web.casadi.org/). These tools have many more features than autograd and are geared toward specific applications (TensorFlow and PyTorch for machine learning, CasADi for optimal control).\n",
    "\n",
    "\n",
    "\n",
    "\n",
    "# Nonlinear Least Squares\n",
    "\n",
    "Nonlinear least squares is covered in Chapter 1 of the book. However, we will not have time to \n",
    "cover it in detail in class. Secretly, you actually used nonlinear least squares in the first homework when\n",
    "using `opt.curve_fit`. \n",
    "\n",
    "We will cover it in a bit more detail in this homework.\n",
    "\n",
    "# Localization with Range Finders\n",
    "\n",
    "\n",
    "The first few questions will deal with localization using range finder data. \n",
    "\n",
    "This is Margot. \n",
    "<img src=\"figures/margot.JPG\" alt=\"Margot\" width=\"300px\"/>\n",
    "\n",
    "I want to keep track of Margot to ensure that she is not entering the neighbor's yard. To do this, I will\n",
    "place a collection of range finders in the yard, and then use nonlinear least squares to determine her location.\n",
    "\n",
    "\n",
    "Each sensor gives a measurement of the form. \n",
    "\n",
    "\\begin{equation*}\n",
    "y_i = \\| x - c_i\\| + v_i,\n",
    "\\end{equation*}\n",
    "where $x$ is Margot's location, $c_i$ is the location of the sensor. \n",
    "\n"
   ]
  },
  {
   "cell_type": "markdown",
   "metadata": {
    "format": "text/markdown"
   },
   "source": [
    "\n"
   ]
  },
  {
   "cell_type": "markdown",
   "metadata": {
    "format": "text/markdown"
   },
   "source": [
    "\n",
    "I got 6 placed in the following locations:\n",
    "\n"
   ]
  },
  {
   "cell_type": "code",
   "execution_count": 3,
   "metadata": {
    "autoscroll": "auto",
    "options": {
     "caption": false,
     "complete": true,
     "display_data": true,
     "display_stream": true,
     "dpi": 200,
     "echo": true,
     "evaluate": true,
     "f_env": null,
     "f_pos": "htpb",
     "f_size": [
      6,
      4
     ],
     "f_spines": true,
     "fig": true,
     "include": true,
     "name": null,
     "option_string": "echo='True', evaluate='True' ",
     "results": "verbatim",
     "term": false,
     "wrap": "output"
    }
   },
   "outputs": [
    {
     "data": {
      "image/png": "[encoded data removed]",
      "text/plain": [
       "<Figure size 432x288 with 1 Axes>"
      ]
     },
     "metadata": {
      "needs_background": "light"
     },
     "output_type": "display_data"
    }
   ],
   "source": [
    "SensorLocs = np.array([[-5.859, -8.104],\n",
    "[-9.994, -0.343],\n",
    "[7.229, -6.909],\n",
    "[4.153, 9.097],\n",
    "[5.991, -8.007],\n",
    "[0.009, -10]])\n",
    "\n",
    "# Each row of SensorStr is the x-y coordinate of a sensor\n",
    "plt.plot(SensorLocs[:,0],SensorLocs[:,1],'.')\n",
    "plt.gca().set_aspect('equal')"
   ]
  },
  {
   "cell_type": "markdown",
   "metadata": {
    "format": "text/markdown"
   },
   "source": [
    "\n",
    "I turned the system on and recieved the following set of measurements:\n",
    "\n"
   ]
  },
  {
   "cell_type": "code",
   "execution_count": 4,
   "metadata": {
    "autoscroll": "auto",
    "options": {
     "caption": false,
     "complete": true,
     "display_data": true,
     "display_stream": true,
     "dpi": 200,
     "echo": true,
     "evaluate": true,
     "f_env": null,
     "f_pos": "htpb",
     "f_size": [
      6,
      4
     ],
     "f_spines": true,
     "fig": true,
     "include": true,
     "name": null,
     "option_string": "echo='True',evaluate='True' ",
     "results": "verbatim",
     "term": false,
     "wrap": "output"
    }
   },
   "outputs": [],
   "source": [
    "YRange = np.array([12.517, 12.464, 9.923, 8.41, 10.231, 10.481])"
   ]
  },
  {
   "cell_type": "markdown",
   "metadata": {
    "format": "text/markdown"
   },
   "source": [
    "\n",
    "We will attempt to optimize a cost of the form\n",
    "\\begin{equation}\n",
    "J(x) = \\frac{1}{2}\\sum_{i=0}^{5} (\\|x-c_i\\|-y_i)^2\n",
    "\\end{equation}\n",
    "\n",
    "\n",
    "# Question 0\n",
    "\n",
    "Gradient descent is one of the simplest and most useful algorithms for optimization. To minimize a cost function, $J(x)$, it is an iteration of the form:\n",
    "\n",
    "\\begin{equation*}\n",
    "x_{k+1} = x_k - \\eta \\frac{\\partial J(x_k)}{\\partial x},\n",
    "\\end{equation*}\n",
    "where $\\eta >0$ is a step size parameter. \n",
    "\n"
   ]
  },
  {
   "cell_type": "markdown",
   "metadata": {
    "format": "text/markdown"
   },
   "source": [
    "\n"
   ]
  },
  {
   "cell_type": "markdown",
   "metadata": {
    "format": "text/markdown"
   },
   "source": [
    "\n"
   ]
  },
  {
   "cell_type": "markdown",
   "metadata": {
    "format": "text/markdown"
   },
   "source": [
    "\n",
    "Start with $x_0$ a 2D zero vector, and perform $20$ iterations of gradient descent. Store all $21$ values of $x_k$ in a $21\\times 2$ `numpy` array called `X_gd`. Use a step size value of $\\eta = 0.1$.\n",
    "\n",
    "(Andy encourages you to use `autograd` to find the gradients. These are easy, but sometimes gradients get hard.)\n",
    "\n"
   ]
  },
  {
   "cell_type": "markdown",
   "metadata": {
    "format": "text/markdown"
   },
   "source": [
    "\n"
   ]
  },
  {
   "cell_type": "code",
   "execution_count": 5,
   "metadata": {
    "autoscroll": "auto",
    "options": {
     "caption": false,
     "complete": true,
     "display_data": true,
     "display_stream": true,
     "dpi": 200,
     "echo": true,
     "evaluate": true,
     "f_env": null,
     "f_pos": "htpb",
     "f_size": [
      6,
      4
     ],
     "f_spines": true,
     "fig": true,
     "include": true,
     "name": null,
     "option_string": "echo='True', evaluate='True' ",
     "results": "verbatim",
     "term": false,
     "wrap": "output"
    }
   },
   "outputs": [
    {
     "name": "stdout",
     "output_type": "stream",
     "text": [
      "Spot on.\n",
      "A score of 1 was entered for Question 0\n"
     ]
    },
    {
     "data": {
      "image/png": "[encoded data removed]",
      "text/plain": [
       "<Figure size 432x288 with 1 Axes>"
      ]
     },
     "metadata": {
      "needs_background": "light"
     },
     "output_type": "display_data"
    }
   ],
   "source": [
    "gdIter = 20\n",
    "eta = 0.1\n",
    "\n",
    "def resFun(x):\n",
    "    diff = np.outer(np.ones(len(SensorLocs)),x) - SensorLocs\n",
    "    return np.linalg.norm(diff,axis=1) - YRange\n",
    "    \n",
    "    \n",
    "def costFun(x):\n",
    "    r = resFun(x)\n",
    "    return .5 * np.dot(r,r)\n",
    "\n",
    "resJac = ag.jacobian(resFun)\n",
    "\n",
    "costGrad = ag.grad(costFun)\n",
    "\n",
    "x = np.zeros(2)\n",
    "X_gd_list = [x]\n",
    "\n",
    "for _ in range(gdIter):\n",
    "    x = x - eta * costGrad(x)\n",
    "    X_gd_list.append(x)\n",
    "    \n",
    "X_gd = np.array(X_gd_list)\n",
    "\n",
    "Questions[0].checkAnswer(X_gd)"
   ]
  },
  {
   "cell_type": "markdown",
   "metadata": {
    "format": "text/markdown"
   },
   "source": [
    "\n",
    "\n"
   ]
  },
  {
   "cell_type": "markdown",
   "metadata": {
    "format": "text/markdown"
   },
   "source": [
    "\n",
    "# Question 1\n",
    "\n",
    "Now, instead of doing gradient descent, perform 20 of the nonlinear least squares algorithm from 1.4 of the book. This method is often called the Gauss-Newton method. Store your result in a $21\\times 2$ array called `X_gn`.\n",
    "\n",
    "(Andy encourages you to use `autograd` to take the jacobians. Again, these are easy, but they won't always be.)\n",
    "\n"
   ]
  },
  {
   "cell_type": "markdown",
   "metadata": {
    "format": "text/markdown"
   },
   "source": [
    "\n"
   ]
  },
  {
   "cell_type": "markdown",
   "metadata": {
    "format": "text/markdown"
   },
   "source": [
    "\n"
   ]
  },
  {
   "cell_type": "code",
   "execution_count": 6,
   "metadata": {
    "autoscroll": "auto",
    "options": {
     "caption": false,
     "complete": true,
     "display_data": true,
     "display_stream": true,
     "dpi": 200,
     "echo": true,
     "evaluate": true,
     "f_env": null,
     "f_pos": "htpb",
     "f_size": [
      6,
      4
     ],
     "f_spines": true,
     "fig": true,
     "include": true,
     "name": null,
     "option_string": "echo='True', evaluate='True' ",
     "results": "verbatim",
     "term": false,
     "wrap": "output"
    }
   },
   "outputs": [
    {
     "name": "stdout",
     "output_type": "stream",
     "text": [
      "That is correct. Nice.\n",
      "A score of 1 was entered for Question 1\n"
     ]
    },
    {
     "data": {
      "image/png": "[encoded data removed]",
      "text/plain": [
       "<Figure size 432x288 with 1 Axes>"
      ]
     },
     "metadata": {
      "needs_background": "light"
     },
     "output_type": "display_data"
    }
   ],
   "source": [
    "x = np.zeros(2)\n",
    "X_gn_list = [x]\n",
    "for _ in range(gdIter):\n",
    "    dy = -resFun(x)\n",
    "    J = resJac(x)\n",
    "    dx = la.solve(np.dot(J.T,J),np.dot(J.T,dy))\n",
    "    x = x + dx\n",
    "    X_gn_list.append(x)\n",
    "    \n",
    "\n",
    "X_gn = np.array(X_gn_list)\n",
    "Questions[1].checkAnswer(X_gn)"
   ]
  },
  {
   "cell_type": "markdown",
   "metadata": {
    "format": "text/markdown"
   },
   "source": [
    "\n"
   ]
  },
  {
   "cell_type": "markdown",
   "metadata": {
    "format": "text/markdown"
   },
   "source": []
  },
  {
   "cell_type": "markdown",
   "metadata": {
    "format": "text/markdown"
   },
   "source": [
    "\n",
    "# Background: Generating Random Numbers\n",
    "\n",
    "Numpy and Scipy have methods for generating random numbers. \n",
    "The numpy functions are a bit simpler, while the scipy functions are more full featured.  \n",
    "Here is how to use a few.\n",
    "\n"
   ]
  },
  {
   "cell_type": "code",
   "execution_count": 7,
   "metadata": {
    "autoscroll": "auto",
    "options": {
     "caption": false,
     "complete": true,
     "display_data": true,
     "display_stream": true,
     "dpi": 200,
     "echo": true,
     "evaluate": true,
     "f_env": null,
     "f_pos": "htpb",
     "f_size": [
      6,
      4
     ],
     "f_spines": true,
     "fig": true,
     "include": true,
     "name": null,
     "option_string": "echo='True',evaluate='True' ",
     "results": "verbatim",
     "term": false,
     "wrap": "output"
    }
   },
   "outputs": [
    {
     "data": {
      "text/plain": [
       "[<matplotlib.lines.Line2D at 0x7f0426dc47f0>]"
      ]
     },
     "execution_count": 1,
     "metadata": {},
     "output_type": "execute_result"
    },
    {
     "data": {
      "image/png": "[encoded data removed]",
      "text/plain": [
       "<Figure size 432x288 with 1 Axes>"
      ]
     },
     "metadata": {
      "needs_background": "light"
     },
     "output_type": "display_data"
    }
   ],
   "source": [
    "import scipy.stats as sts\n",
    "# Generate 1000 independent samples from a Gaussian\n",
    "y = sts.norm.rvs(size=1000)\n",
    "# Plot the histogram of a Gaussian\n",
    "plt.hist(y,density=True,bins=20)\n",
    "# This histogram should match the density function well \n",
    "x = np.linspace(-3,3,100)\n",
    "plt.plot(x,sts.norm.pdf(x))"
   ]
  },
  {
   "cell_type": "markdown",
   "metadata": {
    "format": "text/markdown"
   },
   "source": [
    "\n",
    "# Question 2 \n",
    "\n"
   ]
  },
  {
   "cell_type": "markdown",
   "metadata": {
    "format": "text/markdown"
   },
   "source": [
    "\n"
   ]
  },
  {
   "cell_type": "markdown",
   "metadata": {
    "format": "text/markdown"
   },
   "source": [
    "\n"
   ]
  },
  {
   "cell_type": "markdown",
   "metadata": {
    "format": "text/markdown"
   },
   "source": [
    "\n",
    "\n",
    "Generate 1000 in dependent Gaussian random variables with mean $\\mu$ and covariance $P$ given by:\n",
    "\n"
   ]
  },
  {
   "cell_type": "code",
   "execution_count": 8,
   "metadata": {
    "autoscroll": "auto",
    "options": {
     "caption": false,
     "complete": true,
     "display_data": true,
     "display_stream": true,
     "dpi": 200,
     "echo": true,
     "evaluate": true,
     "f_env": null,
     "f_pos": "htpb",
     "f_size": [
      6,
      4
     ],
     "f_spines": true,
     "fig": true,
     "include": true,
     "name": null,
     "option_string": "echo='True', evaluate='True' ",
     "results": "verbatim",
     "term": false,
     "wrap": "output"
    }
   },
   "outputs": [],
   "source": [
    "mu = np.array([-0.743, -2.091])\n",
    "\n",
    "P = np.array([[1.184, 0.315],\n",
    "[0.315, 0.316]])"
   ]
  },
  {
   "cell_type": "markdown",
   "metadata": {
    "format": "text/markdown"
   },
   "source": [
    "\n",
    "Store your result in a $2\\times 1000$ `numpy` array called `X`. The function [`la.cholesky`](https://docs.scipy.org/doc/scipy/reference/generated/scipy.linalg.cholesky.html) is helpful for this.\n",
    "\n"
   ]
  },
  {
   "cell_type": "code",
   "execution_count": 9,
   "metadata": {
    "autoscroll": "auto",
    "options": {
     "caption": false,
     "complete": true,
     "display_data": true,
     "display_stream": true,
     "dpi": 200,
     "echo": true,
     "evaluate": true,
     "f_env": null,
     "f_pos": "htpb",
     "f_size": [
      6,
      4
     ],
     "f_spines": true,
     "fig": true,
     "include": true,
     "name": null,
     "option_string": "echo='True',evaluate='True' ",
     "results": "verbatim",
     "term": false,
     "wrap": "output"
    }
   },
   "outputs": [
    {
     "name": "stdout",
     "output_type": "stream",
     "text": [
      "Spot on.\n",
      "A score of 1 was entered for Question 2\n"
     ]
    }
   ],
   "source": [
    "L = la.cholesky(P,lower=True)\n",
    "\n",
    "Mu = np.tile(mu.reshape((2,1)),1000)\n",
    "X = Mu + np.dot(L,sts.norm.rvs(size=(2,1000)))\n",
    "\n",
    "Questions[2].checkAnswer(X)"
   ]
  },
  {
   "cell_type": "markdown",
   "metadata": {
    "format": "text/markdown"
   },
   "source": [
    "\n"
   ]
  },
  {
   "cell_type": "markdown",
   "metadata": {
    "format": "text/markdown"
   },
   "source": [
    "\n",
    "If you got it wrong but you are pretty sure you had the right answer, you may just need to run the cell again.\n",
    "The checker relies on a [statistical test](https://en.wikipedia.org/wiki/Kolmogorov-Smirnov_test). There is a slight chance that the test will fail even though you are correct.  \n",
    "(If you get it wrong several times in a row, you probably have the wrong answer.)<\n",
    "\n",
    "Let's see what this looks like. In particular, most of the points in `X`  should be contained within\n",
    "an ellipse centered at `mu` and shapred according to `P`.\n",
    "\n"
   ]
  },
  {
   "cell_type": "code",
   "execution_count": 10,
   "metadata": {
    "autoscroll": "auto",
    "options": {
     "caption": false,
     "complete": true,
     "display_data": true,
     "display_stream": true,
     "dpi": 200,
     "echo": true,
     "evaluate": true,
     "f_env": null,
     "f_pos": "htpb",
     "f_size": [
      6,
      4
     ],
     "f_spines": true,
     "fig": true,
     "include": true,
     "name": null,
     "option_string": "echo='True',evaluate='True'",
     "results": "verbatim",
     "term": false,
     "wrap": "output"
    }
   },
   "outputs": [
    {
     "data": {
      "text/plain": [
       "[<matplotlib.lines.Line2D at 0x7f0426cdd0f0>]"
      ]
     },
     "execution_count": 1,
     "metadata": {},
     "output_type": "execute_result"
    },
    {
     "data": {
      "image/png": "[encoded data removed]",
      "text/plain": [
       "<Figure size 432x288 with 1 Axes>"
      ]
     },
     "metadata": {
      "needs_background": "light"
     },
     "output_type": "display_data"
    }
   ],
   "source": [
    "# Plot the mean\n",
    "plt.plot(mu[0],mu[1],'*')\n",
    "\n",
    "# Plot the ellipse of the covariance matrix\n",
    "Mu = np.outer(mu,np.ones(100))\n",
    "L = la.cholesky(P,lower=True)\n",
    "theta = np.linspace(0,2*np.pi,100)\n",
    "Ellipse = Mu + np.dot(L,np.array([np.cos(theta),np.sin(theta)]))\n",
    "plt.plot(Ellipse[0],Ellipse[1])\n",
    "\n",
    "\n",
    "# Do a scatter plot of X\n",
    "plt.plot(X[0],X[1],'.',alpha=.2)"
   ]
  },
  {
   "cell_type": "markdown",
   "metadata": {
    "format": "text/markdown"
   },
   "source": [
    "\n"
   ]
  },
  {
   "cell_type": "markdown",
   "metadata": {
    "format": "text/markdown"
   },
   "source": [
    "\n",
    "# Question 3\n",
    "\n"
   ]
  },
  {
   "cell_type": "markdown",
   "metadata": {
    "format": "text/markdown"
   },
   "source": [
    "\n"
   ]
  },
  {
   "cell_type": "markdown",
   "metadata": {
    "format": "text/markdown"
   },
   "source": [
    "\n",
    "Here is some data that was randomly generated by a two-dimensional Gaussian. Here each column is a sample\n",
    "from the distribution.\n",
    "\n"
   ]
  },
  {
   "cell_type": "code",
   "execution_count": 11,
   "metadata": {
    "autoscroll": "auto",
    "options": {
     "caption": false,
     "complete": true,
     "display_data": true,
     "display_stream": true,
     "dpi": 200,
     "echo": true,
     "evaluate": true,
     "f_env": null,
     "f_pos": "htpb",
     "f_size": [
      6,
      4
     ],
     "f_spines": true,
     "fig": true,
     "include": true,
     "name": null,
     "option_string": "echo='True',evaluate='True'",
     "results": "verbatim",
     "term": false,
     "wrap": "output"
    }
   },
   "outputs": [
    {
     "data": {
      "image/png": "[encoded data removed]",
      "text/plain": [
       "<Figure size 432x288 with 1 Axes>"
      ]
     },
     "metadata": {
      "needs_background": "light"
     },
     "output_type": "display_data"
    }
   ],
   "source": [
    "X_rand = Data.X_rand\n",
    "plt.plot(X_rand[0],X_rand[1],'.')\n",
    "plt.gca().set_aspect('equal')"
   ]
  },
  {
   "cell_type": "markdown",
   "metadata": {
    "format": "text/markdown"
   },
   "source": [
    " \n",
    "Compute the maximum likelihood estimates of the mean and covariance.\n",
    "\n"
   ]
  },
  {
   "cell_type": "code",
   "execution_count": 12,
   "metadata": {
    "autoscroll": "auto",
    "options": {
     "caption": false,
     "complete": true,
     "display_data": true,
     "display_stream": true,
     "dpi": 200,
     "echo": true,
     "evaluate": true,
     "f_env": null,
     "f_pos": "htpb",
     "f_size": [
      6,
      4
     ],
     "f_spines": true,
     "fig": true,
     "include": true,
     "name": null,
     "option_string": "echo='True',evaluate='True'",
     "results": "verbatim",
     "term": false,
     "wrap": "output"
    }
   },
   "outputs": [
    {
     "name": "stdout",
     "output_type": "stream",
     "text": [
      "Hoorah!\n",
      "A score of 1 was entered for Question 3\n"
     ]
    }
   ],
   "source": [
    "# Call them mu_ml and R_ml\n",
    "mu_ml = np.mean(X_rand,axis=1)\n",
    "n,nRand = X_rand.shape\n",
    "diffMat = X_rand - np.outer(mu_ml,np.ones(nRand))\n",
    "R_ml = np.dot(diffMat,diffMat.T) / nRand\n",
    "\n",
    "Questions[3].checkAnswer(mu_ml,R_ml)"
   ]
  },
  {
   "cell_type": "markdown",
   "metadata": {
    "format": "text/markdown"
   },
   "source": [
    "\n"
   ]
  },
  {
   "cell_type": "markdown",
   "metadata": {
    "format": "text/markdown"
   },
   "source": [
    "\n"
   ]
  },
  {
   "cell_type": "markdown",
   "metadata": {
    "format": "text/markdown"
   },
   "source": [
    "\n",
    "# Question 4\n",
    "\n",
    "Integrals are hard. This is a ubiquitous problem when working with probabilities. Say that\n",
    "$\\textbf{x}$ is a random variable. The expected value of some function $f(\\textbf{x})$ is given by\n",
    "\\begin{equation*}\n",
    "\\mathbb{E}[f(\\textbf{x})] = \\int f(x) p(x)dx,\n",
    "\\end{equation*}\n",
    "where $p(x)$ is the density of $\\textbf{x}$.\n",
    "\n",
    "Unless $f$ and $p$ have very special forms, the integral will be intractable. However, if we can draw samples from $p(x)$, then we \n",
    "compute the Monte Carlo estimate of the expected value:\n",
    "\\begin{equation*}\n",
    "\\mathbb{E}[f(\\textbf{x})] \\approx \\frac{1}{N} \\sum_{i=0}^{N-1} f(\\textbf{x}_i).\n",
    "\\end{equation*}\n",
    "Here $\\textbf{x}_i$ are independent samples drawn from $p(x)$. \n",
    "\n"
   ]
  },
  {
   "cell_type": "markdown",
   "metadata": {
    "format": "text/markdown"
   },
   "source": [
    "\n"
   ]
  },
  {
   "cell_type": "markdown",
   "metadata": {
    "format": "text/markdown"
   },
   "source": [
    "\n",
    "Assume that $\\textbf{x}$ is a $100$-dimensional Gaussian random variable with mean zero\n",
    "and identity covariance. Let $f(x)$ give the maximum of $x$ over the $100$ coordinates. (`np.max` will help here.)\n",
    "\n",
    "Estimate $\\mathbb{E}[f(\\mathbb{x})]$ by using $5000$ samples of $\\textbf{x}$.\n",
    "\n"
   ]
  },
  {
   "cell_type": "code",
   "execution_count": 13,
   "metadata": {
    "autoscroll": "auto",
    "options": {
     "caption": false,
     "complete": true,
     "display_data": true,
     "display_stream": true,
     "dpi": 200,
     "echo": true,
     "evaluate": true,
     "f_env": null,
     "f_pos": "htpb",
     "f_size": [
      6,
      4
     ],
     "f_spines": true,
     "fig": true,
     "include": true,
     "name": null,
     "option_string": "echo='True',evaluate='True' ",
     "results": "verbatim",
     "term": false,
     "wrap": "output"
    }
   },
   "outputs": [
    {
     "name": "stdout",
     "output_type": "stream",
     "text": [
      "Spot on.\n",
      "A score of 1 was entered for Question 4\n"
     ]
    }
   ],
   "source": [
    "X_MC = sts.norm.rvs(size=(100,5000))\n",
    "\n",
    "f_MC = np.max(X_MC,axis=0)\n",
    "f_MC_mean = np.mean(f_MC)\n",
    "\n",
    "Questions[4].checkAnswer(f_MC_mean)"
   ]
  },
  {
   "cell_type": "markdown",
   "metadata": {
    "format": "text/markdown"
   },
   "source": [
    "\n"
   ]
  },
  {
   "cell_type": "markdown",
   "metadata": {
    "format": "text/markdown"
   },
   "source": [
    "\n",
    "The uses a statistical test. There is a small chance that your test will fail even if the answer is right. If you think you have the right answer, just run the cell again. \n",
    "(If you get it wrong several times in a row, you probably have the wrong answer.)\n",
    "\n",
    "# Final Score\n",
    "\n",
    "You can run this code to see all of your scores.\n",
    "\n",
    "\n"
   ]
  },
  {
   "cell_type": "code",
   "execution_count": 14,
   "metadata": {
    "autoscroll": "auto",
    "options": {
     "caption": false,
     "complete": true,
     "display_data": true,
     "display_stream": true,
     "dpi": 200,
     "echo": true,
     "evaluate": true,
     "f_env": null,
     "f_pos": "htpb",
     "f_size": [
      6,
      4
     ],
     "f_spines": true,
     "fig": true,
     "include": true,
     "name": null,
     "option_string": "echo='True', evaluate='True' ",
     "results": "verbatim",
     "term": false,
     "wrap": "output"
    }
   },
   "outputs": [
    {
     "name": "stdout",
     "output_type": "stream",
     "text": [
      "Problem 0: 1\n",
      "Problem 1: 1\n",
      "Problem 2: 1\n",
      "Problem 3: 1\n",
      "Problem 4: 1\n",
      "\n",
      "Total: 5 / 5\n"
     ]
    }
   ],
   "source": [
    "Assignment.showResults()"
   ]
  },
  {
   "cell_type": "markdown",
   "metadata": {
    "format": "text/markdown"
   },
   "source": [
    "\n",
    "\n",
    "\n",
    "# Submission\n",
    "\n",
    "Save your work and run this cell to submit. It will only work if you have the internet.\n",
    "\n"
   ]
  },
  {
   "cell_type": "markdown",
   "metadata": {
    "format": "text/markdown"
   },
   "source": [
    "\n"
   ]
  },
  {
   "cell_type": "markdown",
   "metadata": {
    "format": "text/markdown"
   },
   "source": []
  }
 ],
 "metadata": {
  "kernel_info": {
   "name": "estenv"
  },
  "kernelspec": {
   "display_name": "Estimation",
   "language": "python",
   "name": "estenv"
  },
  "language_info": {
   "codemirror_mode": {
    "name": "ipython",
    "version": 3
   },
   "file_extension": ".py",
   "mimetype": "text/x-python",
   "name": "python",
   "nbconvert_exporter": "python",
   "pygments_lexer": "ipython3",
   "version": "3.6.5"
  }
 },
 "nbformat": 4,
 "nbformat_minor": 1
}
