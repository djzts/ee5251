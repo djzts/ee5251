{
 "cells": [
  {
   "cell_type": "markdown",
   "metadata": {
    "format": "text/markdown"
   },
   "source": [
    "\n"
   ]
  },
  {
   "cell_type": "markdown",
   "metadata": {
    "format": "text/markdown"
   },
   "source": [
    "\\begin{equation*}\n",
    "\\newcommand{\\E}{\\mathbb{E}}\n",
    "\\newcommand{\\Nor}{\\mathcal{N}}\n",
    "\\end{equation*}\n",
    "\n"
   ]
  },
  {
   "cell_type": "markdown",
   "metadata": {
    "format": "text/markdown"
   },
   "source": [
    "\n",
    "# Due Dates\n",
    "\n",
    "* Textbook: None\n",
    "* Coding: Tuesday, December 11, at 11:59 PM\n",
    "\n",
    "\n",
    "\n"
   ]
  },
  {
   "cell_type": "code",
   "execution_count": 1,
   "metadata": {
    "autoscroll": "auto",
    "options": {
     "caption": false,
     "complete": true,
     "display_data": true,
     "display_stream": true,
     "dpi": 200,
     "echo": true,
     "evaluate": false,
     "f_env": null,
     "f_pos": "htpb",
     "f_size": [
      6,
      4
     ],
     "f_spines": true,
     "fig": true,
     "include": true,
     "name": null,
     "option_string": "echo='True', evaluate='False' ",
     "results": "verbatim",
     "term": false,
     "wrap": "output"
    }
   },
   "outputs": [],
   "source": [
    "# This is code to load the assignment.\n",
    "# You'll need to run this code do or restart the assignment.\n",
    "from loadAssignment import loadAssignment\n",
    "Assignment, Questions, Submit, Data = loadAssignment(11)\n",
    "\n",
    "# These are modules that we need\n",
    "# once you run this code, you don't need to load them again\n",
    "import autograd.numpy as np\n",
    "import autograd as ag\n",
    "import scipy.linalg as la\n",
    "import numpy.linalg as nla\n",
    "import scipy.signal as sp\n",
    "import scipy.stats as st\n",
    "import numpy.random as rnd\n",
    "import matplotlib.pyplot as plt\n",
    "%matplotlib inline"
   ]
  },
  {
   "cell_type": "markdown",
   "metadata": {
    "format": "text/markdown"
   },
   "source": [
    "\n"
   ]
  },
  {
   "cell_type": "markdown",
   "metadata": {
    "format": "text/markdown"
   },
   "source": [
    "\n"
   ]
  },
  {
   "cell_type": "markdown",
   "metadata": {
    "format": "text/markdown"
   },
   "source": [
    "\n",
    "\n"
   ]
  },
  {
   "cell_type": "markdown",
   "metadata": {
    "format": "text/markdown"
   },
   "source": [
    "\n",
    "\n",
    "\n",
    "\n"
   ]
  },
  {
   "cell_type": "markdown",
   "metadata": {
    "format": "text/markdown"
   },
   "source": [
    "\n",
    "\n"
   ]
  },
  {
   "cell_type": "markdown",
   "metadata": {
    "format": "text/markdown"
   },
   "source": [
    "\n",
    "\n",
    "# Question 0\n",
    "\n"
   ]
  },
  {
   "cell_type": "code",
   "execution_count": 2,
   "metadata": {
    "autoscroll": "auto",
    "options": {
     "caption": false,
     "complete": true,
     "display_data": true,
     "display_stream": true,
     "dpi": 200,
     "echo": true,
     "evalaute": false,
     "evaluate": true,
     "f_env": null,
     "f_pos": "htpb",
     "f_size": [
      6,
      4
     ],
     "f_spines": true,
     "fig": true,
     "include": true,
     "name": null,
     "option_string": " echo='True',evalaute='False' ",
     "results": "verbatim",
     "term": false,
     "wrap": "output"
    }
   },
   "outputs": [
    {
     "data": {
      "text/html": [
       "<iframe width=\"560\" height=\"315\" src=\"https://www.youtube.com/embed/zMa3gUaVibQ\" frameborder=\"0\" allow=\"accelerometer; autoplay; encrypted-media; gyroscope; picture-in-picture\" allowfullscreen></iframe>"
      ],
      "text/plain": [
       "<IPython.core.display.HTML object>"
      ]
     },
     "metadata": {},
     "output_type": "display_data"
    }
   ],
   "source": [
    "%%HTML\n",
    "<iframe width=\"560\" height=\"315\" src=\"https://www.youtube.com/embed/zMa3gUaVibQ\" frameborder=\"0\" allow=\"accelerometer; autoplay; encrypted-media; gyroscope; picture-in-picture\" allowfullscreen></iframe>"
   ]
  },
  {
   "cell_type": "markdown",
   "metadata": {
    "format": "text/markdown"
   },
   "source": [
    "\n",
    "The first few problems in this homework will focus on coding the Kalman smoother. The particular algorithm is known as the RTS smoother, and is presented in Table 5.2 of the book.\n",
    "\n",
    "\n",
    "\n",
    "As discussed in the video lecture, the smoother requires first computing all of the means and covariances for the Kalman filter.\n",
    "\n",
    "Assume that we have a linear dynamical model of the form:\n",
    "\n",
    "\\begin{align*}\n",
    "x_{k=1} &= \\Phi x_k + w_k \\\\\n",
    "y_k &= H x_k + v_k,\n",
    "\\end{align*}\n",
    "\n",
    "where $x_0\\sim \\Nor(\\hat x_0^-,P_0^-)$ and the noises are independent with distributions given by\n",
    "$w_k\\sim \\Nor(0,Q)$ and $v_k\\sim \\Nor(0,R)$.\n",
    "\n",
    "The observed data, $y_k$ is given by the array of values below.\n",
    "\n"
   ]
  },
  {
   "cell_type": "code",
   "execution_count": 3,
   "metadata": {
    "autoscroll": "auto",
    "options": {
     "caption": false,
     "complete": true,
     "display_data": true,
     "display_stream": true,
     "dpi": 200,
     "echo": true,
     "evaluate": false,
     "f_env": null,
     "f_pos": "htpb",
     "f_size": [
      6,
      4
     ],
     "f_spines": true,
     "fig": true,
     "include": true,
     "name": null,
     "option_string": " echo='True',evaluate='False' ",
     "results": "verbatim",
     "term": false,
     "wrap": "output"
    }
   },
   "outputs": [
    {
     "data": {
      "text/plain": [
       "[<matplotlib.lines.Line2D at 0x1cc772fdb38>]"
      ]
     },
     "execution_count": 3,
     "metadata": {},
     "output_type": "execute_result"
    },
    {
     "data": {
      "image/png": "[encoded data removed]",
      "text/plain": [
       "<Figure size 432x288 with 1 Axes>"
      ]
     },
     "metadata": {},
     "output_type": "display_data"
    }
   ],
   "source": [
    "Y = Data.Y\n",
    "Time = Data.Time\n",
    "plt.plot(Time,Y)"
   ]
  },
  {
   "cell_type": "markdown",
   "metadata": {
    "format": "text/markdown"
   },
   "source": [
    "\n",
    "The system matrices are given by:\n",
    "\n"
   ]
  },
  {
   "cell_type": "markdown",
   "metadata": {
    "format": "text/markdown"
   },
   "source": [
    "\n"
   ]
  },
  {
   "cell_type": "code",
   "execution_count": 4,
   "metadata": {
    "autoscroll": "auto",
    "options": {
     "caption": false,
     "complete": true,
     "display_data": true,
     "display_stream": true,
     "dpi": 200,
     "echo": true,
     "evaluate": false,
     "f_env": null,
     "f_pos": "htpb",
     "f_size": [
      6,
      4
     ],
     "f_spines": true,
     "fig": true,
     "include": true,
     "name": null,
     "option_string": " echo='True',evaluate='False' ",
     "results": "verbatim",
     "term": false,
     "wrap": "output"
    }
   },
   "outputs": [],
   "source": [
    "Phi = np.array([[0.9, -0.18],\n",
    "[0.18, 0.9]])\n",
    "\n",
    "H = np.array([[1, 0]])\n",
    "\n",
    "Q = np.array([[0.01, 0],\n",
    "[0, 1]])\n",
    "\n",
    "R = np.array([[0.5]])\n",
    "\n",
    "xhat0_prior = np.array([1, 2])\n",
    "\n",
    "P0_prior = np.array([[2, 0],\n",
    "[0, 1]])\n",
    "\n",
    "T=len(Y)\n",
    "\n",
    "n=len(xhat0_prior)"
   ]
  },
  {
   "cell_type": "markdown",
   "metadata": {
    "format": "text/markdown"
   },
   "source": [
    "\n",
    "Compute all of the mean and covariances from the Kalman filter. Specifically, compute \n",
    "\n",
    "```\n",
    "Xhat_prior, P_prior, Xhat_post, P_post\n",
    "```\n",
    "\n",
    "Here if $T$ is the number of measurements from $Y$, and $n$ is the dimension of $x$, the arrays should be:\n",
    "\n",
    "* `Xhat_prior` an $T\\times n$ array or prior means: `Xhat_prior[k]` is $\\hat x_k^-$\n",
    "* `P_prior` is an $T\\times n\\times n$ array of prior covariances: `P_prior[k]` is $P_k^-$\n",
    "* `Xhat_post` is an $T\\times n\\times n$ array of posterior means: `Xhat_post[k]` is $\\hat x_k^+$\n",
    "* `P_post` is an $T\\times n\\times n$ array of posterior covariances: `P_post[k]` is $P_k^+$\n",
    "\n",
    "Note: You will use this calculation repeately for different system matrices. So, it may be helpful for the rest of the \n",
    "homework to code this calculation as a function that takes the system matrices and the measurements and computes the arrays above. \n",
    "(The DRY (don't repeat yourself) principle) \n",
    "\n"
   ]
  },
  {
   "cell_type": "code",
   "execution_count": 5,
   "metadata": {},
   "outputs": [],
   "source": [
    "def dot(*mats):\n",
    "    \"\"\"\n",
    "    Computes product of arbitrary matrices\n",
    "    \"\"\"\n",
    "    \n",
    "    if len(mats) == 1:\n",
    "        return mats[0]\n",
    "    else:\n",
    "        return np.dot(mats[0],dot(*mats[1:]))"
   ]
  },
  {
   "cell_type": "code",
   "execution_count": 6,
   "metadata": {},
   "outputs": [],
   "source": [
    "def Kcal(P_pre,H,R):\n",
    "    K=dot(P_pre,H.T,np.linalg.inv(dot(H,P_pre,H.T)+R))\n",
    "    return K\n",
    "\n",
    "\n",
    "def Ppost(P_pre,H,R):\n",
    "    K=Kcal(P_pre,H,R)\n",
    "    p_post=P_pre-dot(K,H,P_pre)\n",
    "    return p_post\n",
    "\n",
    "def xpost(P_pre,x_pre,i,H,R):\n",
    "    x_post=x_pre+dot(Kcal(P_pre,H,R),(Y[i]-dot(H,x_pre)))\n",
    "    return x_post\n",
    "\n",
    "def xnext(x_post,Phi):\n",
    "    x_next=dot(Phi,x_post)\n",
    "    return x_next\n",
    "\n",
    "def Pnext(P_post,Phi,Q):\n",
    "    P_next=dot(Phi,P_post,Phi.T)+Q;\n",
    "    return P_next\n",
    "\n",
    "def Q0(xhat0_prior,P0_prior,H,Phi,Q,R):\n",
    "    ## redo the question 0\n",
    "    x_pre=xhat0_prior \n",
    "    P_pre=P0_prior\n",
    "\n",
    "    #initialize the x- P- x+ P+\n",
    "    Xhat_prior=np.zeros([T,n])\n",
    "    P_prior=np.zeros([T,n,n])\n",
    "    Xhat_post=np.zeros([T,n])\n",
    "    P_post=np.zeros([T,n,n])\n",
    "    for i in range(T):\n",
    "\n",
    "        Xhat_prior[i]=x_pre\n",
    "        P_prior[i]=P_pre\n",
    "    \n",
    "        x_post=xpost(P_pre,x_pre,i,H,R)\n",
    "        p_p=Ppost(P_pre,H,R)\n",
    "    \n",
    "        Xhat_post[i]=x_post\n",
    "        P_post[i]=p_p\n",
    "    \n",
    "        x_pre=xnext(x_post,Phi)\n",
    "        P_pre=Pnext(p_p,Phi,Q)\n",
    "    return (Xhat_prior,P_prior,Xhat_post,P_post)"
   ]
  },
  {
   "cell_type": "markdown",
   "metadata": {
    "format": "text/markdown"
   },
   "source": [
    "\n"
   ]
  },
  {
   "cell_type": "code",
   "execution_count": 7,
   "metadata": {
    "autoscroll": "auto",
    "options": {
     "caption": false,
     "complete": true,
     "display_data": true,
     "display_stream": true,
     "dpi": 200,
     "echo": true,
     "evaluate": false,
     "f_env": null,
     "f_pos": "htpb",
     "f_size": [
      6,
      4
     ],
     "f_spines": true,
     "fig": true,
     "include": true,
     "name": null,
     "option_string": " echo='True',evaluate='False' ",
     "results": "verbatim",
     "term": false,
     "wrap": "output"
    }
   },
   "outputs": [
    {
     "name": "stdout",
     "output_type": "stream",
     "text": [
      "Oh yeah!\n",
      "A score of 1 was entered for Question 0\n"
     ]
    },
    {
     "data": {
      "image/png": "[encoded data removed]",
      "text/plain": [
       "<Figure size 432x288 with 2 Axes>"
      ]
     },
     "metadata": {},
     "output_type": "display_data"
    }
   ],
   "source": [
    "# Define your matrices here\n",
    "\n",
    "    \n",
    "Xhat_prior,P_prior,Xhat_post,P_post=Q0(xhat0_prior,P0_prior,H,Phi,Q,R)\n",
    "Questions[0].checkAnswer(Xhat_prior,P_prior,Xhat_post,P_post)"
   ]
  },
  {
   "cell_type": "markdown",
   "metadata": {
    "format": "text/markdown"
   },
   "source": [
    "\n"
   ]
  },
  {
   "cell_type": "markdown",
   "metadata": {
    "format": "text/markdown"
   },
   "source": [
    "\n",
    "# Question 1\n",
    "\n",
    "In the later parts of the homework, we will use the Expectation-Maximization (EM) algorithm to learn the system matrices. \n",
    "The EM algorithm is a fancy way of doing maximum likelihood when there are hidden variables. IN this case, the state $x_k$ are hidden variables.\n",
    "\n",
    "To assess the performance of the EM algorithm, we will need to evaluate the log likelihood of the measurements: $\\log p(y_0,y_1,\\ldots,y_{T-1})$.\n",
    "\n",
    "COmpute the log-likelihood of the measurements. Hint: it can be efficiently computer from the Kalman filter by appropriately splitting the joint density, $p(y_0,y_1,\\ldots,y_{T-1})$ \n",
    "into terms that can be computer by filters.\n",
    "\n"
   ]
  },
  {
   "cell_type": "code",
   "execution_count": 9,
   "metadata": {},
   "outputs": [],
   "source": [
    "from scipy.stats import multivariate_normal\n",
    "def Q1(H,Xhat_prior,P_prior,R):\n",
    "    p=0\n",
    "    for i in range(T):\n",
    "        temp=multivariate_normal.pdf(Y[i], mean=dot(H,Xhat_prior[i]), cov=dot(H,P_prior[i],H.T)+R)\n",
    "        p=p+np.log(temp)\n",
    "    return p"
   ]
  },
  {
   "cell_type": "markdown",
   "metadata": {
    "format": "text/markdown"
   },
   "source": [
    "\n"
   ]
  },
  {
   "cell_type": "code",
   "execution_count": 10,
   "metadata": {
    "autoscroll": "auto",
    "options": {
     "caption": false,
     "complete": true,
     "display_data": true,
     "display_stream": true,
     "dpi": 200,
     "echo": true,
     "evaluate": false,
     "f_env": null,
     "f_pos": "htpb",
     "f_size": [
      6,
      4
     ],
     "f_spines": true,
     "fig": true,
     "include": true,
     "name": null,
     "option_string": " echo='True',evaluate='False' ",
     "results": "verbatim",
     "term": false,
     "wrap": "output"
    }
   },
   "outputs": [
    {
     "name": "stdout",
     "output_type": "stream",
     "text": [
      "Hoorah!\n",
      "A score of 1 was entered for Question 1\n"
     ]
    }
   ],
   "source": [
    "# Compute the log likelihood here\n",
    "logLike=Q1(H,Xhat_prior,P_prior,R)\n",
    "Questions[1].checkAnswer(logLike)"
   ]
  },
  {
   "cell_type": "markdown",
   "metadata": {
    "format": "text/markdown"
   },
   "source": [
    "\n"
   ]
  },
  {
   "cell_type": "markdown",
   "metadata": {
    "format": "text/markdown"
   },
   "source": [
    "\n",
    "# Question 2\n",
    "\n"
   ]
  },
  {
   "cell_type": "code",
   "execution_count": 11,
   "metadata": {
    "autoscroll": "auto",
    "options": {
     "caption": false,
     "complete": true,
     "display_data": true,
     "display_stream": true,
     "dpi": 200,
     "echo": true,
     "evaluate": false,
     "f_env": null,
     "f_pos": "htpb",
     "f_size": [
      6,
      4
     ],
     "f_spines": true,
     "fig": true,
     "include": true,
     "name": null,
     "option_string": " echo='True',evaluate='False' ",
     "results": "verbatim",
     "term": false,
     "wrap": "output"
    }
   },
   "outputs": [
    {
     "data": {
      "text/html": [
       "<iframe width=\"560\" height=\"315\" src=\"https://www.youtube.com/embed/-3B5ixDVgvA\" frameborder=\"0\" allow=\"accelerometer; autoplay; encrypted-media; gyroscope; picture-in-picture\" allowfullscreen></iframe>"
      ],
      "text/plain": [
       "<IPython.core.display.HTML object>"
      ]
     },
     "metadata": {},
     "output_type": "display_data"
    }
   ],
   "source": [
    "%%HTML\n",
    "<iframe width=\"560\" height=\"315\" src=\"https://www.youtube.com/embed/-3B5ixDVgvA\" frameborder=\"0\" allow=\"accelerometer; autoplay; encrypted-media; gyroscope; picture-in-picture\" allowfullscreen></iframe>"
   ]
  },
  {
   "cell_type": "markdown",
   "metadata": {
    "format": "text/markdown"
   },
   "source": [
    "\n",
    "\n",
    "Now that we have all of the matrices from the Kalman filter, we can compute the Kalman smoother via:\n",
    "\\begin{align*}\n",
    "\\hat x_{T-1}^s &= \\hat x_{T-1}^+ \\\\\n",
    "P_{T-1}^s &= P_{T-1}^+\n",
    "\\end{align*}\n",
    "and for $k < T-1$:\n",
    "\\begin{align*}\n",
    "G_k &= P_k^+ \\Phi^\\top (P_{k+1}^-)^{-1} \\\\\n",
    "\\hat x_k^s &= \\hat x_k^+ + G_k(\\hat x_{k+1}^s - \\hat x_{k+1}^-) \\\\\n",
    "P_k^s &= P_k^+ + G_k(P_{k+1}^s - P_{k+1}^-)G_k^\\top\n",
    "\\end{align*}\n",
    "\n",
    "Calculate array `Xhat_s`, `P_s`, and `G_s` such that:\n",
    "* `Xhat_s` is a $T\\times n$ array of smoother means: `Xhat_s[k]` is $\\hat x_k^s$\n",
    "* `P_s` is a $T\\times n\\times n$ array of smoother covariances: `P_s[k]` is $P_k^s$\n",
    "* `G_s` is a $(T-1)\\times n\\times n$ array of smoother gains: `G_s[k]` is $G_k$\n",
    "\n",
    "As before, it would help to make this computation a function, as you will need to use these calculations again.\n",
    "The DRY principle says it would be good to code it up as a function.\n",
    "\n"
   ]
  },
  {
   "cell_type": "code",
   "execution_count": 13,
   "metadata": {},
   "outputs": [],
   "source": [
    "def Q2(Xhat_prior,P_prior,Xhat_post,P_post,Phi):\n",
    "    Xhat_s=np.zeros([T,n])\n",
    "    P_s=np.zeros([T,n,n])\n",
    "\n",
    "    Xhat_s[T-1]=np.copy(Xhat_post[T-1])\n",
    "    P_s[T-1]=np.copy(P_post[T-1])\n",
    "\n",
    "    G_s=np.zeros([T-1,n,n])\n",
    "\n",
    "    # do the algorithm from 0 to T-2\n",
    "    for i in range (T-1):    \n",
    "        k=T-2-i\n",
    "        G_s[k]=dot(P_post[k],Phi.T,np.linalg.inv(P_prior[k+1]))\n",
    "        Xhat_s[k]=Xhat_post[k]+dot(G_s[k],(Xhat_s[k+1]-Xhat_prior[k+1]))\n",
    "        P_s[k]=P_post[k]+dot(G_s[k],(P_s[k+1]-P_prior[k+1]),G_s[k].T)\n",
    "   \n",
    "    return(Xhat_s,P_s,G_s)"
   ]
  },
  {
   "cell_type": "markdown",
   "metadata": {
    "format": "text/markdown"
   },
   "source": [
    "\n"
   ]
  },
  {
   "cell_type": "code",
   "execution_count": 14,
   "metadata": {
    "autoscroll": "auto",
    "options": {
     "caption": false,
     "complete": true,
     "display_data": true,
     "display_stream": true,
     "dpi": 200,
     "echo": true,
     "evaluate": false,
     "f_env": null,
     "f_pos": "htpb",
     "f_size": [
      6,
      4
     ],
     "f_spines": true,
     "fig": true,
     "include": true,
     "name": null,
     "option_string": " echo='True', evaluate='False' ",
     "results": "verbatim",
     "term": false,
     "wrap": "output"
    }
   },
   "outputs": [
    {
     "name": "stdout",
     "output_type": "stream",
     "text": [
      "Phenomenal\n",
      "A score of 1 was entered for Question 2\n"
     ]
    },
    {
     "data": {
      "image/png": "[encoded data removed]",
      "text/plain": [
       "<Figure size 432x288 with 2 Axes>"
      ]
     },
     "metadata": {},
     "output_type": "display_data"
    }
   ],
   "source": [
    "# Find the arrays here\n",
    "Xhat_s,P_s,G_s=Q2(Xhat_prior,P_prior,Xhat_post,P_post,Phi)\n",
    "Questions[2].checkAnswer(Xhat_s,P_s,G_s)"
   ]
  },
  {
   "cell_type": "markdown",
   "metadata": {
    "format": "text/markdown"
   },
   "source": [
    "\n",
    "What you should see is that, compared to the filter, the result of the smoother is significantly... smoother.\n",
    "It is also more accurate. This is because it is using ALL of the data to estimate the state, \n",
    "not just the data up to the current point in time.\n",
    "\n"
   ]
  },
  {
   "cell_type": "markdown",
   "metadata": {
    "format": "text/markdown"
   },
   "source": [
    "\n",
    "# Question 3\n",
    "\n"
   ]
  },
  {
   "cell_type": "code",
   "execution_count": 15,
   "metadata": {
    "autoscroll": "auto",
    "options": {
     "caption": false,
     "complete": true,
     "display_data": true,
     "display_stream": true,
     "dpi": 200,
     "echo": true,
     "evaluate": false,
     "f_env": null,
     "f_pos": "htpb",
     "f_size": [
      6,
      4
     ],
     "f_spines": true,
     "fig": true,
     "include": true,
     "name": null,
     "option_string": " echo='True',evaluate='False' ",
     "results": "verbatim",
     "term": false,
     "wrap": "output"
    }
   },
   "outputs": [
    {
     "data": {
      "text/html": [
       "<iframe width=\"560\" height=\"315\" src=\"https://www.youtube.com/embed/mIvnNliaLWk\" frameborder=\"0\" allow=\"accelerometer; autoplay; encrypted-media; gyroscope; picture-in-picture\" allowfullscreen></iframe>"
      ],
      "text/plain": [
       "<IPython.core.display.HTML object>"
      ]
     },
     "metadata": {},
     "output_type": "display_data"
    }
   ],
   "source": [
    "%%HTML\n",
    "<iframe width=\"560\" height=\"315\" src=\"https://www.youtube.com/embed/mIvnNliaLWk\" frameborder=\"0\" allow=\"accelerometer; autoplay; encrypted-media; gyroscope; picture-in-picture\" allowfullscreen></iframe>"
   ]
  },
  {
   "cell_type": "markdown",
   "metadata": {
    "format": "text/markdown"
   },
   "source": [
    "\n",
    "The rest of the homework will focus on identifying the system matrices via the EM algorithm. \n",
    "\n",
    "As discussed in the video lecture, the EM algorithm alternates between \n",
    "* E-Step: $J(\\theta|\\theta_i) = \\E[\\log p(X,Y|\\theta) | \\theta_i,Y]$ \n",
    "* M-step: $\\theta_{i+1} = \\textrm{argmax}_{\\theta} J(\\theta| \\theta_i)$\n",
    "\n",
    "Here $\\theta = (\\Phi,H,Q,R,\\hat x_0^-,P_0^-)$\n",
    "\n",
    "Let $X = x_{0:T-1}$ and $Y = y_{0:T-1}$. \n",
    "\n",
    "As we saw, the E-step can be computed analytically. Indeed, the log-likelihood has the form:\n",
    "\\begin{align*}\n",
    "\\log p(X,Y|\\theta) &= \\log p(x_0|\\theta) + \\sum_{k=0}^{T-2} \\log p(x_{k+1}|x_k,\\theta) + \\sum_{k=0}^{T-1} \\log p(y_k|x_k,\\theta) \\\\\n",
    "&= -\\frac{1}{2}\\left((x_0-\\hat x_0^-)(P_0^-)^{-1}(x_0-\\hat x_0) +\\log\\det P_0^-\\right) \\\\\n",
    "& -\\frac{1}{2} \\sum_{k=0}^{T-2} \\left((x_{k+1}-\\Phi x_k)^\\top Q^{-1} (x_{k+1}-\\Phi x_k) + \\log\\det Q\\right) \\\\\n",
    "& -\\frac{1}{2} \\sum_{k=0}^{T-1} \\left((y_{k}-H x_k)^\\top R^{-1}(y_k-H x_k) + \\log\\det R\\right)\n",
    "\\end{align*}\n",
    "And the correspnding means can be computed via the Kalman smoother:\n",
    "\n",
    "\\begin{equation*}\n",
    "\\newcommand{\\Tr}{\\mathrm{Tr}}\n",
    "\\end{equation*}\n",
    "\\begin{align*}\n",
    "\\E[(x_0-\\hat x_0^-)^\\top (P_0^{-})^{-1}(x_0-\\hat x_0^-)|Y] \n",
    "&= \n",
    "\\Tr((P_0^{-1})^{-1}(P_0^s + (\\hat x_0^s-\\hat x_0^-)(\\hat x_0^s-\\hat x_0^-)^\\top))\\\\\n",
    "\\E[(y_k-H x_k)^\\top R^{-1} (y_k - H_k)] &=\n",
    "\\Tr(R^{-1}(HP_k^s H^\\top + (H x_k^s - y_k)(H \\hat x_k^s - y_k)^\\top)) \\\\\n",
    "\\E[(x_{k+1}-\\Phi x_k)^\\top Q^{-1} (x_{k+1}-\\Phi x_k)]&= \\\\\n",
    "&\n",
    "\\hspace{-10em}\n",
    "\\Tr\\left(\n",
    "Q^{-1}\\left(\n",
    "\\begin{bmatrix}\n",
    "-\\Phi & I\n",
    "\\end{bmatrix}\n",
    "\\left(\n",
    "\\begin{bmatrix}\n",
    "P_k^s & G_k P_{k+1}^s \\\\\n",
    "P_{k+1}^s G_k^\\top & P_{k+1}^s\n",
    "\\end{bmatrix}\n",
    "+\\begin{bmatrix}\n",
    "\\hat x_k^s \\\\\n",
    "\\hat x_{k+1}^s\n",
    "\\end{bmatrix}\n",
    "\\begin{bmatrix}\n",
    "\\hat x_k^s \\\\\n",
    "\\hat x_{k+1}^s\n",
    "\\end{bmatrix}^\\top\n",
    "\\right)\n",
    "\\begin{bmatrix}\n",
    "-\\Phi^\\top \\\\\n",
    "I\n",
    "\\end{bmatrix}\n",
    "\\right)\n",
    "\\right)\n",
    "\\end{align*}\n",
    "\n",
    "As discussed in the video, the initial condition terms can be optimized by setting \n",
    "\\begin{align*}\n",
    "\\hat x_0^- & =\\hat x_0^s \\\\\n",
    "P_0^- &= P_0^s\n",
    "\\end{align*}\n",
    "\n",
    "The measurement term can be expressed as:\n",
    "\n",
    "\\begin{multline}\n",
    "\\sum_{k=0}^{T-1}\\Tr(R^{-1}(HP_k^s H^\\top + (H x_k^s - y_k)(H \\hat x_k^s - y_k)^\\top)) = \n",
    "\\\\\n",
    "= \\sum_{k=0}^{T-1}\\Tr(R^{-1}(H(P_k+\\hat x_k^s \\hat x_k^s)H^\\top -y_k (\\hat x_k^s)^\\top H^\\top - H (x_k^s) y_k^\\top + y_k y_k^\\top)) \\\\\n",
    "= \\Tr(R^{-1}(H\\Sigma H^\\top + N H^\\top + H N^\\top + F))\n",
    "\\end{multline}\n",
    "for some matrices, $\\Sigma$, $N$, and $F$. \n",
    "\n",
    "Based on the theory discussed in the video, the optimal $H$ and $R$ can be computed as:\n",
    "\\begin{align*}\n",
    "H &= -N\\Sigma^{-1} \\\\\n",
    "R &= (H\\Sigma H^\\top + N H^\\top + H N^\\top + F) / T\n",
    "\\end{align*}\n",
    "\n",
    "Finally, the update step terms can be expressed as:\n",
    "\\begin{multline}\n",
    "\\sum_{k=0}^{T-2}\\Tr\\left(\n",
    "Q^{-1}\\left(\n",
    "\\begin{bmatrix}\n",
    "-\\Phi & I\n",
    "\\end{bmatrix}\n",
    "\\left(\\begin{bmatrix}\n",
    "P_k^s & G_k P_{k+1}^s \\\\\n",
    "P_{k+1}^s G_k^\\top & P_{k+1}^s\n",
    "\\end{bmatrix}\n",
    "+\\begin{bmatrix}\n",
    "\\hat x_k^s \\\\\n",
    "\\hat x_{k+1}^s\n",
    "\\end{bmatrix}\n",
    "\\begin{bmatrix}\n",
    "\\hat x_k^s \\\\\n",
    "\\hat x_{k+1}^s\n",
    "\\end{bmatrix}^\\top\n",
    "\\right)\n",
    "\\begin{bmatrix}\n",
    "-\\Phi^\\top \\\\\n",
    "I\n",
    "\\end{bmatrix}\n",
    "\\right)\n",
    "\\right)\n",
    "\\\\\n",
    "=\n",
    "\\Tr(Q^{-1}(\\Phi \\Omega \\Phi^\\top + M \\Phi^\\top + \\Phi M^\\top +E)),\n",
    "\\end{multline}\n",
    "for some matrices $\\Omega$, $M$, and $E$. \n",
    "\n",
    "As discussed in the video, the optimal $\\Phi$ and $Q$ can be computed using:\n",
    "\\begin{align*}\n",
    "\\Phi &= -M\\Omega^{-1} \\\\\n",
    "Q &= (\\Phi \\Omega \\Phi^\\top + M \\Phi^\\top + \\Phi M^\\top + E)/(T-1).\n",
    "\\end{align*}\n",
    "\n",
    "For this problem, we will step through a single iteration. Specifically, we will be assuming that the \n",
    "(unknown) system matrices have been randomly initialized:\n",
    "\n"
   ]
  },
  {
   "cell_type": "code",
   "execution_count": 16,
   "metadata": {
    "autoscroll": "auto",
    "options": {
     "caption": false,
     "complete": true,
     "display_data": true,
     "display_stream": true,
     "dpi": 200,
     "echo": true,
     "evaluate": false,
     "f_env": null,
     "f_pos": "htpb",
     "f_size": [
      6,
      4
     ],
     "f_spines": true,
     "fig": true,
     "include": true,
     "name": null,
     "option_string": " echo='True',evaluate='False' ",
     "results": "verbatim",
     "term": false,
     "wrap": "output"
    }
   },
   "outputs": [],
   "source": [
    "Phi_0 = Data.Phi_0\n",
    "H_0 = Data.H_0\n",
    "Q_0 = Data.Q_0\n",
    "R_0 = Data.R_0\n",
    "xhat0_prior_0 = Data.xhat0_prior_0\n",
    "P0_prior_0 = Data.P0_prior_0"
   ]
  },
  {
   "cell_type": "markdown",
   "metadata": {
    "format": "text/markdown"
   },
   "source": [
    "\n",
    "Compute the next values of the matrices, `Phi_1`, `H_1`, `Q_1`, `R_1`, `xhat0_prior_1`, `P0_prior_1`, resulting from one step of the EM algorithm.\n",
    "\n"
   ]
  },
  {
   "cell_type": "markdown",
   "metadata": {
    "format": "text/markdown"
   },
   "source": [
    "\n"
   ]
  },
  {
   "cell_type": "code",
   "execution_count": null,
   "metadata": {
    "autoscroll": "auto",
    "options": {
     "caption": false,
     "complete": true,
     "display_data": true,
     "display_stream": true,
     "dpi": 200,
     "echo": true,
     "evaluate": false,
     "f_env": null,
     "f_pos": "htpb",
     "f_size": [
      6,
      4
     ],
     "f_spines": true,
     "fig": true,
     "include": true,
     "name": null,
     "option_string": " echo='True', evaluate='False' ",
     "results": "verbatim",
     "term": false,
     "wrap": "output"
    }
   },
   "outputs": [],
   "source": [
    "# Define your function here\n",
    "\n",
    "Questions[3].checkAnswer()"
   ]
  },
  {
   "cell_type": "markdown",
   "metadata": {
    "format": "text/markdown"
   },
   "source": [
    "\n"
   ]
  },
  {
   "cell_type": "markdown",
   "metadata": {
    "format": "text/markdown"
   },
   "source": [
    "\n",
    "\n",
    "\n",
    "# Question 4\n",
    "\n",
    "The magic of the EM algorithm is that it monotonically increases the log likelihood function. \n",
    "\n",
    "Let $\\theta_i$ be the sequence of parameters produced by the EM algorithm. So $\\theta_0$ were the initial parameters \n",
    "and $\\theta_1$ were the parameters from the previous problem.\n",
    "\n",
    "Make an array \n",
    "$LL$ with length 15 such that $LL[i]$ is the corresponding log likelikhood: $\\log p(y_{0:T-1}|\\theta_i)$. \n",
    "\n"
   ]
  },
  {
   "cell_type": "markdown",
   "metadata": {
    "format": "text/markdown"
   },
   "source": [
    "\n"
   ]
  },
  {
   "cell_type": "code",
   "execution_count": null,
   "metadata": {
    "autoscroll": "auto",
    "options": {
     "caption": false,
     "complete": true,
     "display_data": true,
     "display_stream": true,
     "dpi": 200,
     "echo": true,
     "evaluate": false,
     "f_env": null,
     "f_pos": "htpb",
     "f_size": [
      6,
      4
     ],
     "f_spines": true,
     "fig": true,
     "include": true,
     "name": null,
     "option_string": " echo='True',evaluate='False' ",
     "results": "verbatim",
     "term": false,
     "wrap": "output"
    }
   },
   "outputs": [],
   "source": [
    "# Define the likelihoods here\n",
    "\n",
    "Questions[4].checkAnswer(LL)"
   ]
  },
  {
   "cell_type": "markdown",
   "metadata": {
    "format": "text/markdown"
   },
   "source": [
    "\n",
    "\n",
    "\n",
    "\n",
    "\n",
    "# Final Score\n",
    "\n",
    "You can run this code to see all of your scores.\n",
    "\n",
    "\n"
   ]
  },
  {
   "cell_type": "code",
   "execution_count": null,
   "metadata": {
    "autoscroll": "auto",
    "options": {
     "caption": false,
     "complete": true,
     "display_data": true,
     "display_stream": true,
     "dpi": 200,
     "echo": true,
     "evaluate": false,
     "f_env": null,
     "f_pos": "htpb",
     "f_size": [
      6,
      4
     ],
     "f_spines": true,
     "fig": true,
     "include": true,
     "name": null,
     "option_string": "echo='True', evaluate='False' ",
     "results": "verbatim",
     "term": false,
     "wrap": "output"
    }
   },
   "outputs": [],
   "source": [
    "Assignment.showResults()"
   ]
  },
  {
   "cell_type": "markdown",
   "metadata": {
    "format": "text/markdown"
   },
   "source": [
    "\n",
    "\n",
    "\n",
    "# Submission\n",
    "\n",
    "Save your work and run this cell to submit. It will only work if you have the internet.\n",
    "\n"
   ]
  },
  {
   "cell_type": "code",
   "execution_count": null,
   "metadata": {
    "autoscroll": "auto",
    "options": {
     "caption": false,
     "complete": true,
     "display_data": true,
     "display_stream": true,
     "dpi": 200,
     "echo": true,
     "evaluate": false,
     "f_env": null,
     "f_pos": "htpb",
     "f_size": [
      6,
      4
     ],
     "f_spines": true,
     "fig": true,
     "include": true,
     "name": null,
     "option_string": "echo='True', evaluate='False' ",
     "results": "verbatim",
     "term": false,
     "wrap": "output"
    }
   },
   "outputs": [],
   "source": [
    "Submit()"
   ]
  },
  {
   "cell_type": "markdown",
   "metadata": {
    "format": "text/markdown"
   },
   "source": [
    "\n"
   ]
  },
  {
   "cell_type": "markdown",
   "metadata": {
    "format": "text/markdown"
   },
   "source": []
  }
 ],
 "metadata": {
  "kernel_info": {
   "name": "estenv"
  },
  "kernelspec": {
   "display_name": "Estimation",
   "language": "python",
   "name": "estenv"
  },
  "language_info": {
   "codemirror_mode": {
    "name": "ipython",
    "version": 3
   },
   "file_extension": ".py",
   "mimetype": "text/x-python",
   "name": "python",
   "nbconvert_exporter": "python",
   "pygments_lexer": "ipython3",
   "version": "3.6.5"
  }
 },
 "nbformat": 4,
 "nbformat_minor": 1
}
