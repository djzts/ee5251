{
 "cells": [
  {
   "cell_type": "markdown",
   "metadata": {
    "format": "text/markdown"
   },
   "source": [
    "\n"
   ]
  },
  {
   "cell_type": "markdown",
   "metadata": {
    "format": "text/markdown"
   },
   "source": [
    "\\begin{equation*}\n",
    "\\newcommand{\\E}{\\mathbb{E}}\n",
    "\\newcommand{\\Nor}{\\mathcal{N}}\n",
    "\\end{equation*}\n",
    "\n"
   ]
  },
  {
   "cell_type": "markdown",
   "metadata": {
    "format": "text/markdown"
   },
   "source": [
    "\n",
    "# Due Dates\n",
    "\n",
    "* Textbook: Thursday, October 25, in class\n",
    "* Coding: Thursday, October 25, at 11:59 PM\n",
    "\n",
    "# Textbook Problems\n",
    "\n",
    "* 3.7\n",
    "* 3.26\n",
    "* 3.28 (Don't try to compare with Ackermann's formula / pole placement, since we have not discussed this.) \n",
    "* 3.31\n",
    "\n"
   ]
  },
  {
   "cell_type": "code",
   "execution_count": 1,
   "metadata": {
    "autoscroll": "auto",
    "collapsed": false,
    "options": {
     "caption": false,
     "complete": true,
     "display_data": true,
     "display_stream": true,
     "dpi": 200,
     "echo": true,
     "evaluate": true,
     "f_env": null,
     "f_pos": "htpb",
     "f_size": [
      6,
      4
     ],
     "f_spines": true,
     "fig": true,
     "include": true,
     "name": null,
     "option_string": "echo='True', evaluate='True' ",
     "results": "verbatim",
     "term": false,
     "wrap": "output"
    }
   },
   "outputs": [],
   "source": [
    "# This is code to load the assignment.\n",
    "# You'll need to run this code do or restart the assignment.\n",
    "from loadAssignment import loadAssignment\n",
    "Assignment, Questions, Submit, Data = loadAssignment(5)\n",
    "\n",
    "# These are modules that we need\n",
    "# once you run this code, you don't need to load them again\n",
    "import autograd.numpy as np\n",
    "import autograd as ag\n",
    "import scipy.linalg as la\n",
    "import matplotlib.pyplot as plt\n",
    "%matplotlib inline"
   ]
  },
  {
   "cell_type": "markdown",
   "metadata": {
    "format": "text/markdown"
   },
   "source": [
    "\n"
   ]
  },
  {
   "cell_type": "markdown",
   "metadata": {
    "format": "text/markdown"
   },
   "source": [
    "\n"
   ]
  },
  {
   "cell_type": "markdown",
   "metadata": {
    "format": "text/markdown"
   },
   "source": [
    "\n",
    "\n",
    "\n",
    "# Question 0\n",
    "\n",
    "\n"
   ]
  },
  {
   "cell_type": "markdown",
   "metadata": {
    "format": "text/markdown"
   },
   "source": [
    "\n"
   ]
  },
  {
   "cell_type": "markdown",
   "metadata": {
    "format": "text/markdown"
   },
   "source": [
    "\n",
    "\n"
   ]
  },
  {
   "cell_type": "markdown",
   "metadata": {
    "format": "text/markdown"
   },
   "source": [
    "\n",
    "In this homework, we will use the extended Kalman filter to track the movement of a simple \n",
    "vehicle model given in discrete-time by:\n",
    "\\begin{equation*}\n",
    "\\begin{bmatrix}\n",
    "p_x[k+1] \\\\\n",
    "p_y[k+1] \\\\\n",
    "\\theta[k+1]\n",
    "\\end{bmatrix}\n",
    "=\n",
    "\\begin{bmatrix}\n",
    "p_x[k] \\\\\n",
    "p_y[k] \\\\\n",
    "\\theta[k]\n",
    "\\end{bmatrix} + dt \n",
    "\\begin{bmatrix}\n",
    "u_v[k] \\cos(\\theta[k]) \\\\ \n",
    "u_v[k] \\sin(\\theta[k]) \\\\\n",
    "u_\\omega[k]\n",
    "\\end{bmatrix}\n",
    "+w[k].\n",
    "\\end{equation*}\n",
    "\n"
   ]
  },
  {
   "cell_type": "markdown",
   "metadata": {
    "format": "text/markdown"
   },
   "source": [
    "\n",
    "Here $dt$ is the time-step and $w[k]$ is the process noise. We will assume that $dt=0.1$ and the process noise is independent Gaussian noise distributed as $w[k] \\sim\\Nor(0,0.0001I)$.\n",
    "\n",
    "We stack the state and inputs as:\n",
    "\\begin{equation*}\n",
    "x[k] = \\begin{bmatrix}\n",
    "p_x[k] \\\\\n",
    "p_y[k] \\\\\n",
    "\\theta[k]\n",
    "\\end{bmatrix}\n",
    "\\quad \n",
    "u[k] = \\begin{bmatrix}\n",
    "u_v[k] \\\\\n",
    "u_\\omega[k]\n",
    "\\end{bmatrix}\n",
    "\\end{equation*}\n",
    "\n",
    "The initial condition, control input, $u[0],\\ldots,u[510]$, and noise terms $w[0],\\ldots,w[510]$ are given below. \n",
    "\n"
   ]
  },
  {
   "cell_type": "code",
   "execution_count": 2,
   "metadata": {
    "autoscroll": "auto",
    "collapsed": false,
    "options": {
     "caption": false,
     "complete": true,
     "display_data": true,
     "display_stream": true,
     "dpi": 200,
     "echo": true,
     "evaluate": true,
     "f_env": null,
     "f_pos": "htpb",
     "f_size": [
      6,
      4
     ],
     "f_spines": true,
     "fig": true,
     "include": true,
     "name": null,
     "option_string": " echo='True', evaluate='True' ",
     "results": "verbatim",
     "term": false,
     "wrap": "output"
    }
   },
   "outputs": [],
   "source": [
    "x0 = Data.x0\n",
    "U = Data.U\n",
    "Wp = Data.Wp"
   ]
  },
  {
   "cell_type": "markdown",
   "metadata": {
    "format": "text/markdown"
   },
   "source": [
    "\n",
    "\n",
    "Simulate the system. Store your result in a matrix of size $512\\times 3$, where each row corresponds to a state value. \n",
    "\n"
   ]
  },
  {
   "cell_type": "code",
   "execution_count": 3,
   "metadata": {
    "autoscroll": "auto",
    "collapsed": false,
    "options": {
     "caption": false,
     "complete": true,
     "display_data": true,
     "display_stream": true,
     "dpi": 200,
     "echo": true,
     "evaluate": true,
     "f_env": null,
     "f_pos": "htpb",
     "f_size": [
      6,
      4
     ],
     "f_spines": true,
     "fig": true,
     "include": true,
     "name": null,
     "option_string": " echo='True', evaluate='True' ",
     "results": "verbatim",
     "term": false,
     "wrap": "output"
    }
   },
   "outputs": [
    {
     "name": "stdout",
     "output_type": "stream",
     "text": [
      "Phenomenal\n",
      "A score of 1 was entered for Question 0\n"
     ]
    }
   ],
   "source": [
    "x = np.copy(x0)\n",
    "\n",
    "X_list = [x]\n",
    "\n",
    "def vectorField(x,u):\n",
    "    px,py,theta = x\n",
    "    v,omega = u\n",
    "\n",
    "    return np.array([v*np.cos(theta),v*np.sin(theta),omega])\n",
    "\n",
    "def step(x,u,w):\n",
    "    return x + 0.1 * vectorField(x,u) + w\n",
    "\n",
    "for u,w in zip(U,Wp):\n",
    "    x = step(x,u,w)\n",
    "    X_list.append(x)\n",
    "\n",
    "\n",
    "X = np.array(X_list)\n",
    "\n",
    "Questions[0].checkAnswer(X)"
   ]
  },
  {
   "cell_type": "markdown",
   "metadata": {
    "format": "text/markdown"
   },
   "source": [
    "\n"
   ]
  },
  {
   "cell_type": "markdown",
   "metadata": {
    "format": "text/markdown"
   },
   "source": [
    "\n"
   ]
  },
  {
   "cell_type": "code",
   "execution_count": 4,
   "metadata": {
    "autoscroll": "auto",
    "collapsed": false,
    "options": {
     "caption": false,
     "complete": true,
     "display_data": true,
     "display_stream": true,
     "dpi": 200,
     "echo": true,
     "evaluate": true,
     "f_env": null,
     "f_pos": "htpb",
     "f_size": [
      6,
      4
     ],
     "f_spines": true,
     "fig": true,
     "include": true,
     "name": null,
     "option_string": " echo='True',evaluate='True'",
     "results": "verbatim",
     "term": false,
     "wrap": "output"
    }
   },
   "outputs": [
    {
     "data": {
      "image/png": "[encoded data removed]",
      "text/plain": [
       "<Figure size 432x288 with 1 Axes>"
      ]
     },
     "metadata": {
      "needs_background": "light"
     },
     "output_type": "display_data"
    }
   ],
   "source": [
    "# Here is the true trajectory of the vehicle\n",
    "plt.plot(X[:,0],X[:,1])\n",
    "plt.plot(X[0,0],X[0,1],'go')\n",
    "plt.plot(X[-1,0],X[-1,1],'rs')\n",
    "plt.gca().set_aspect('equal')"
   ]
  },
  {
   "cell_type": "markdown",
   "metadata": {
    "format": "text/markdown"
   },
   "source": [
    "\n"
   ]
  },
  {
   "cell_type": "markdown",
   "metadata": {
    "format": "text/markdown"
   },
   "source": [
    "\n",
    "# Question 1\n",
    "\n",
    "In the next several problems, we will code up the extended Kalman filter (EKF) for this problem.\n",
    "\n",
    "The course text does not cover the discrete-time EKF. A good alternative reference that does cover the discrete-time EKF is given here:\n",
    "\n",
    "https://users.aalto.fi/~ssarkka/pub/cup_book_online_20131111.pdf\n",
    "\n",
    "\n",
    "The discussion is in Section 5.2. Specifically, we will use Algorithm 5.5.  \n",
    "\n",
    "This question will focus on the time-update.\n",
    "\n",
    "Assume that we have computed our posterior approximations:\n",
    "\\begin{equation*}\n",
    "\\hat x_k^+ = \\E[x_k | y_{0:k},u_{0:k-1}], \\quad P_k^+ = \\E[(x_k-\\hat x_k^+)(x_k-\\hat x_k^+)^\\top]\n",
    "\\end{equation*}\n",
    "\n",
    "Given the input $u_k$ calculate the EKF approximation to the mean can covariance:\n",
    "\\begin{equation*}\n",
    "\\hat x_{k+1}^- = \\E[x_{k+1} | y_{0:k},u_{0:k}], \\quad \n",
    "P_{k+1}^- = \\E[(x_{k+1}-\\hat x_{k+1}^-)(x_{k+1}-\\hat x_{k+1}^-)^\\top]\n",
    "\\end{equation*}\n",
    "\n",
    "Specifically, write a function of the form:\n",
    "\n",
    "```\n",
    "x_pre,P_pre = carTimeUpdate(x_post,P_post,u)\n",
    "```\n",
    "\n",
    "As always, I would encourage you to use autograd, rather than taking the required Jacobians manually.\n",
    "\n"
   ]
  },
  {
   "cell_type": "code",
   "execution_count": 5,
   "metadata": {
    "autoscroll": "auto",
    "collapsed": false,
    "options": {
     "caption": false,
     "complete": true,
     "display_data": true,
     "display_stream": true,
     "dpi": 200,
     "echo": true,
     "evaluate": true,
     "f_env": null,
     "f_pos": "htpb",
     "f_size": [
      6,
      4
     ],
     "f_spines": true,
     "fig": true,
     "include": true,
     "name": null,
     "option_string": " echo= 'True', evaluate = 'True' ",
     "results": "verbatim",
     "term": false,
     "wrap": "output"
    }
   },
   "outputs": [
    {
     "name": "stdout",
     "output_type": "stream",
     "text": [
      "Hoorah!\n",
      "A score of 1 was entered for Question 1\n"
     ]
    }
   ],
   "source": [
    "dfdx = ag.jacobian(step,0)\n",
    "dfdw = ag.jacobian(step,2)\n",
    "\n",
    "def dot(*mats):\n",
    "    if len(mats) == 1:\n",
    "        return mats[0]\n",
    "    else:\n",
    "        return np.dot(mats[0],dot(*mats[1:]))\n",
    "\n",
    "def carTimeUpdate(x,P,u):\n",
    "    w =np.zeros(3)\n",
    "\n",
    "    x_next = step(x,u,w)\n",
    "    \n",
    "    F = dfdx(x,u,w)\n",
    "    L = dfdw(x,u,w)\n",
    "\n",
    "    Q = 0.0001 * np.eye(3)\n",
    "    P_next = dot(F,P,F.T) + dot(L,Q,L.T)\n",
    "\n",
    "    return x_next,P_next\n",
    "    \n",
    "\n",
    "Questions[1].checkAnswer(carTimeUpdate)"
   ]
  },
  {
   "cell_type": "markdown",
   "metadata": {
    "format": "text/markdown"
   },
   "source": [
    "\n"
   ]
  },
  {
   "cell_type": "markdown",
   "metadata": {
    "format": "text/markdown"
   },
   "source": [
    "\n"
   ]
  },
  {
   "cell_type": "markdown",
   "metadata": {
    "format": "text/markdown"
   },
   "source": [
    "\n",
    "# Question 2\n",
    "\n",
    "Recall the distance measurement model from a few weeks ago:\n",
    "\n",
    "\\begin{equation*}\n",
    "(y_k)_i = \\|p_k-c_i\\| + 0.2 (1+\\|p_k-c_i\\|) (v_k)_i\n",
    "\\end{equation*}\n",
    "\n",
    "Here $p_k = \\begin{bmatrix} p_x[k] \\\\ p_y[k] \\end{bmatrix}$, $c_i$ corresponds to the location of a sensor, and $(v_k)_i$ are independent Gaussian noises with mean $0$ and covariance $1$. The term $(y_k)_i$ denotes that entry $i$ of the measurement at time $k$. Similarly, $(v_k)_i$ is the entry $i$ of the measurement noise at time $k$. \n",
    "In this problem, we will have $10$ sensors at locations given below:\n",
    "\n"
   ]
  },
  {
   "cell_type": "code",
   "execution_count": 6,
   "metadata": {
    "autoscroll": "auto",
    "collapsed": false,
    "options": {
     "caption": false,
     "complete": true,
     "display_data": true,
     "display_stream": true,
     "dpi": 200,
     "echo": true,
     "evaluate": true,
     "f_env": null,
     "f_pos": "htpb",
     "f_size": [
      6,
      4
     ],
     "f_spines": true,
     "fig": true,
     "include": true,
     "name": null,
     "option_string": " echo='True', evaluate='True' ",
     "results": "verbatim",
     "term": false,
     "wrap": "output"
    }
   },
   "outputs": [],
   "source": [
    "SensorLocs = Data.SensorLocs"
   ]
  },
  {
   "cell_type": "markdown",
   "metadata": {
    "format": "text/markdown"
   },
   "source": [
    "\n",
    "Assume now that the prior approximations have been computed:\n",
    "\n",
    "\\begin{equation*}\n",
    "\\hat x_k^- = \\E[x_k | y_{0:k-1},u_{0:k-1}], \\quad P_k^- = \\E[(x_k - \\hat x_k^-)(x_k - \\hat x_k^-)^\\top]\n",
    "\\end{equation*}\n",
    "\n",
    "Given the measurement, $y_k$, compute the EKF posterior approximations:\n",
    "\n",
    "\\begin{equation*}\n",
    "\\hat x_k^+ = \\E[x_k | y_{0:k},u_{0:k-1}], \\quad P_k^+ = \\E[(x_k-\\hat x_k^+)(x_k - \\hat x_k^+)^\\top].\n",
    "\\end{equation*}\n",
    "\n",
    "Specifically, write a function of the form:\n",
    "\n",
    "```\n",
    "x_post,P_post = carMeasUpdate(x_pre,P_pre,y)\n",
    "```\n",
    "\n"
   ]
  },
  {
   "cell_type": "code",
   "execution_count": 7,
   "metadata": {
    "autoscroll": "auto",
    "collapsed": false,
    "options": {
     "caption": false,
     "complete": true,
     "display_data": true,
     "display_stream": true,
     "dpi": 200,
     "echo": true,
     "evaluate": true,
     "f_env": null,
     "f_pos": "htpb",
     "f_size": [
      6,
      4
     ],
     "f_spines": true,
     "fig": true,
     "include": true,
     "name": null,
     "option_string": " echo='True', evaluate='True' ",
     "results": "verbatim",
     "term": false,
     "wrap": "output"
    }
   },
   "outputs": [
    {
     "name": "stdout",
     "output_type": "stream",
     "text": [
      "That is correct. Nice.\n",
      "A score of 1 was entered for Question 2\n"
     ]
    }
   ],
   "source": [
    "nSensors = len(SensorLocs)\n",
    "noiseStd = 0.2\n",
    "def measure(x,v):\n",
    "    d = np.linalg.norm(SensorLocs-np.outer(np.ones(nSensors),x[:2]),axis=1)\n",
    "    y = d + noiseStd * (1+d)*v\n",
    "    return y\n",
    "\n",
    "dhdx = ag.jacobian(measure,0)\n",
    "dhdv = ag.jacobian(measure,1)\n",
    "\n",
    "def carMeasUpdate(x,P,y):\n",
    "    v = np.zeros_like(y)\n",
    "    H = dhdx(x,v)\n",
    "    G = dhdv(x,v)\n",
    "    Psi = dot(H,P,H.T) + dot(G,G.T)\n",
    "\n",
    "    K = np.linalg.solve(Psi,np.dot(H,P)).T\n",
    "\n",
    "    h = measure(x,v)\n",
    "    x_next = x + np.dot(K,y-h)\n",
    "    P_next = P - dot(K,Psi,K.T)\n",
    "\n",
    "    return x_next,P_next\n",
    "\n",
    "Questions[2].checkAnswer(carMeasUpdate)"
   ]
  },
  {
   "cell_type": "markdown",
   "metadata": {
    "format": "text/markdown"
   },
   "source": [
    "\n"
   ]
  },
  {
   "cell_type": "markdown",
   "metadata": {
    "format": "text/markdown"
   },
   "source": [
    "\n"
   ]
  },
  {
   "cell_type": "markdown",
   "metadata": {
    "format": "text/markdown"
   },
   "source": [
    "\n",
    "\n",
    "\n",
    "# Question 3\n",
    "\n",
    "Now we will use the functions above to compute the EKF for the vehicle model. So, we will assume that the vehicle state is no longer directly measured. Assume that the initial state is distributed as $\\Nor(0,10\\cdot I)$. Furthermore, assume that the measurements are those given below:\n",
    "\n"
   ]
  },
  {
   "cell_type": "code",
   "execution_count": 8,
   "metadata": {
    "autoscroll": "auto",
    "collapsed": false,
    "options": {
     "caption": false,
     "complete": true,
     "display_data": true,
     "display_stream": true,
     "dpi": 200,
     "echo": true,
     "evaluate": true,
     "f_env": null,
     "f_pos": "htpb",
     "f_size": [
      6,
      4
     ],
     "f_spines": true,
     "fig": true,
     "include": true,
     "name": null,
     "option_string": " echo='True', evaluate = 'True' ",
     "results": "verbatim",
     "term": false,
     "wrap": "output"
    }
   },
   "outputs": [],
   "source": [
    "Y = Data.Y"
   ]
  },
  {
   "cell_type": "markdown",
   "metadata": {
    "format": "text/markdown"
   },
   "source": [
    "\n",
    "In particular, make a $512\\times 3$ array for the values of $\\hat x_k^+$ and an $512 \\times 3\\times 3$ array for the values of $P_k^+$. \n",
    "\n"
   ]
  },
  {
   "cell_type": "code",
   "execution_count": 9,
   "metadata": {
    "autoscroll": "auto",
    "collapsed": false,
    "options": {
     "caption": false,
     "complete": true,
     "display_data": true,
     "display_stream": true,
     "dpi": 200,
     "echo": true,
     "evaluate": true,
     "f_env": null,
     "f_pos": "htpb",
     "f_size": [
      6,
      4
     ],
     "f_spines": true,
     "fig": true,
     "include": true,
     "name": null,
     "option_string": "echo = 'True',evaluate= 'True' ",
     "results": "verbatim",
     "term": false,
     "wrap": "output"
    }
   },
   "outputs": [
    {
     "name": "stdout",
     "output_type": "stream",
     "text": [
      "True - Test:\n",
      "[[-2.22044605e-16  4.44089210e-16  0.00000000e+00]\n",
      " [ 0.00000000e+00  8.88178420e-16  0.00000000e+00]\n",
      " [ 4.44089210e-16  4.44089210e-16  0.00000000e+00]\n",
      " ...\n",
      " [-1.15463195e-14  1.06581410e-14 -1.77635684e-15]\n",
      " [-1.02140518e-14  1.06581410e-14 -1.77635684e-15]\n",
      " [-8.88178420e-15  1.06581410e-14 -1.77635684e-15]]\n",
      "Passed\n",
      "True - Test:\n",
      "[[[ 0.00000000e+00 -4.99600361e-16  0.00000000e+00]\n",
      "  [ 1.66533454e-16 -8.88178420e-16  0.00000000e+00]\n",
      "  [ 0.00000000e+00  0.00000000e+00  0.00000000e+00]]\n",
      "\n",
      " [[ 0.00000000e+00 -4.71844785e-16  0.00000000e+00]\n",
      "  [ 1.66533454e-16  0.00000000e+00  0.00000000e+00]\n",
      "  [ 0.00000000e+00  0.00000000e+00  0.00000000e+00]]\n",
      "\n",
      " [[ 0.00000000e+00 -4.71844785e-16  0.00000000e+00]\n",
      "  [ 1.24900090e-16  0.00000000e+00  0.00000000e+00]\n",
      "  [ 0.00000000e+00  0.00000000e+00  0.00000000e+00]]\n",
      "\n",
      " ...\n",
      "\n",
      " [[-2.81719092e-15 -7.68916181e-16  4.38885039e-16]\n",
      "  [ 1.84617946e-15  9.15933995e-16 -1.96023753e-16]\n",
      "  [ 2.98372438e-16  3.46944695e-18 -4.16333634e-17]]\n",
      "\n",
      " [[-2.83106871e-15 -8.44376652e-16  4.41487125e-16]\n",
      "  [ 1.79543880e-15  9.36750677e-16 -1.89084859e-16]\n",
      "  [ 3.00974523e-16  1.04083409e-17 -4.16333634e-17]]\n",
      "\n",
      " [[-2.84494650e-15 -9.20704485e-16  4.44956572e-16]\n",
      "  [ 1.74339709e-15  9.57567359e-16 -1.82145965e-16]\n",
      "  [ 3.04443970e-16  1.73472348e-17 -4.16333634e-17]]]\n",
      "Passed\n",
      "That is correct. Nice.\n",
      "A score of 1 was entered for Question 3\n"
     ]
    }
   ],
   "source": [
    "mu = np.zeros(3)\n",
    "P = 10 * np.eye(3)\n",
    "\n",
    "Mu_list = []\n",
    "P_list = []\n",
    "\n",
    "for k,y in enumerate(Y):\n",
    "    mu,P = carMeasUpdate(mu,P,y)\n",
    "    Mu_list.append(mu)\n",
    "    P_list.append(P)\n",
    "\n",
    "    if k < len(U):\n",
    "        mu,P = carTimeUpdate(mu,P,U[k])\n",
    "\n",
    "Mu = np.array(Mu_list)\n",
    "P_arr = np.array(P_list)\n",
    "\n",
    "Questions[3].checkAnswer(Mu,P_arr)"
   ]
  },
  {
   "cell_type": "markdown",
   "metadata": {
    "format": "text/markdown"
   },
   "source": [
    "\n"
   ]
  },
  {
   "cell_type": "markdown",
   "metadata": {
    "format": "text/markdown"
   },
   "source": [
    "\n"
   ]
  },
  {
   "cell_type": "markdown",
   "metadata": {
    "format": "text/markdown"
   },
   "source": [
    "\n",
    "# Question 4\n",
    "\n",
    "Plot your estimates. Specifically, make a $3\\times 1$ collection of subplots. Assume that time starts at $0$ and the system has a sampling interval of $0.1$. Each subplot should show the corresponding state and estimate plotted with respect to time. \n",
    "For the angle, $\\theta$, the values should be shifted to lie in $[-\\pi,\\pi)$. \n",
    "\n"
   ]
  },
  {
   "cell_type": "code",
   "execution_count": 10,
   "metadata": {
    "autoscroll": "auto",
    "collapsed": false,
    "options": {
     "caption": false,
     "complete": true,
     "display_data": true,
     "display_stream": true,
     "dpi": 200,
     "echo": true,
     "evaluate": true,
     "f_env": null,
     "f_pos": "htpb",
     "f_size": [
      6,
      4
     ],
     "f_spines": true,
     "fig": true,
     "include": true,
     "name": null,
     "option_string": " echo='True',evaluate='True' ",
     "results": "verbatim",
     "term": false,
     "wrap": "output"
    }
   },
   "outputs": [
    {
     "name": "stdout",
     "output_type": "stream",
     "text": [
      "Spot on.\n",
      "A score of 1 was entered for Question 4\n"
     ]
    },
    {
     "data": {
      "image/png": "[encoded data removed]",
      "text/plain": [
       "<Figure size 432x288 with 3 Axes>"
      ]
     },
     "metadata": {
      "needs_background": "light"
     },
     "output_type": "display_data"
    }
   ],
   "source": [
    "fig,ax = plt.subplots(3,1,sharex=True)\n",
    "Time = 0.1 * np.arange(len(X))\n",
    "ax[0].plot(Time,X[:,0])\n",
    "ax[0].plot(Time,Mu[:,0])\n",
    "ax[1].plot(Time,X[:,1])\n",
    "ax[1].plot(Time,Mu[:,1])\n",
    "\n",
    "shiftAngle = lambda theta : ((theta + np.pi) % (2*np.pi)) -np.pi\n",
    "\n",
    "ax[2].plot(Time,shiftAngle(X[:,2]))\n",
    "ax[2].plot(Time,shiftAngle(Mu[:,2]))\n",
    "\n",
    "Questions[4].checkAnswer()"
   ]
  },
  {
   "cell_type": "markdown",
   "metadata": {
    "format": "text/markdown"
   },
   "source": [
    "\n"
   ]
  },
  {
   "cell_type": "markdown",
   "metadata": {
    "format": "text/markdown"
   },
   "source": [
    "\n"
   ]
  },
  {
   "cell_type": "markdown",
   "metadata": {
    "format": "text/markdown"
   },
   "source": [
    "\n"
   ]
  },
  {
   "cell_type": "markdown",
   "metadata": {
    "format": "text/markdown"
   },
   "source": [
    "\n",
    "# Final Score\n",
    "\n",
    "You can run this code to see all of your scores.\n",
    "\n",
    "\n"
   ]
  },
  {
   "cell_type": "code",
   "execution_count": 11,
   "metadata": {
    "autoscroll": "auto",
    "collapsed": false,
    "options": {
     "caption": false,
     "complete": true,
     "display_data": true,
     "display_stream": true,
     "dpi": 200,
     "echo": true,
     "evaluate": true,
     "f_env": null,
     "f_pos": "htpb",
     "f_size": [
      6,
      4
     ],
     "f_spines": true,
     "fig": true,
     "include": true,
     "name": null,
     "option_string": "echo='True', evaluate='True' ",
     "results": "verbatim",
     "term": false,
     "wrap": "output"
    }
   },
   "outputs": [
    {
     "name": "stdout",
     "output_type": "stream",
     "text": [
      "Problem 0: 1\n",
      "Problem 1: 1\n",
      "Problem 2: 1\n",
      "Problem 3: 1\n",
      "Problem 4: 1\n",
      "\n",
      "Total: 5 / 5\n"
     ]
    }
   ],
   "source": [
    "Assignment.showResults()"
   ]
  },
  {
   "cell_type": "markdown",
   "metadata": {
    "format": "text/markdown"
   },
   "source": [
    "\n",
    "\n",
    "\n",
    "# Submission\n",
    "\n",
    "Save your work and run this cell to submit. It will only work if you have the internet.\n",
    "\n"
   ]
  },
  {
   "cell_type": "markdown",
   "metadata": {
    "format": "text/markdown"
   },
   "source": [
    "\n"
   ]
  },
  {
   "cell_type": "markdown",
   "metadata": {
    "format": "text/markdown"
   },
   "source": []
  }
 ],
 "metadata": {
  "kernel_info": {
   "name": "estenv"
  },
  "kernelspec": {
   "argv": [
    "/home/andy/Cabinet/EE5251/class-files/estenv/bin/python",
    "-m",
    "ipykernel_launcher",
    "-f",
    "{connection_file}"
   ],
   "display_name": "Estimation",
   "env": {},
   "interrupt_mode": "signal",
   "language": "python",
   "metadata": {},
   "name": "estenv"
  },
  "language_info": {
   "name": "python"
  }
 },
 "nbformat": 4,
 "nbformat_minor": 0
}