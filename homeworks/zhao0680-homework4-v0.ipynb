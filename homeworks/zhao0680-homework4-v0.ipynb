{
 "cells": [
  {
   "cell_type": "markdown",
   "metadata": {
    "format": "text/markdown"
   },
   "source": [
    "\n"
   ]
  },
  {
   "cell_type": "markdown",
   "metadata": {
    "format": "text/markdown"
   },
   "source": [
    "\\begin{equation*}\n",
    "\\newcommand{\\E}{\\mathbb{E}}\n",
    "\\end{equation*}\n",
    "\n"
   ]
  },
  {
   "cell_type": "markdown",
   "metadata": {
    "format": "text/markdown"
   },
   "source": [
    "\n",
    "# Due Dates\n",
    "\n",
    "* Textbook: Thursday, October 18, in class\n",
    "* Coding: Thursday, October 18, at 11:59 PM\n",
    "\n",
    "# Textbook Problems\n",
    "\n",
    "* 3.9\n",
    "* 3.10\n",
    "* 3.12\n",
    "* 3.13\n",
    "* 3.20\n"
   ]
  },
  {
   "cell_type": "code",
   "execution_count": 2,
   "metadata": {
    "autoscroll": "auto",
    "options": {
     "caption": false,
     "complete": true,
     "display_data": true,
     "display_stream": true,
     "dpi": 200,
     "echo": true,
     "evaluate": false,
     "f_env": null,
     "f_pos": "htpb",
     "f_size": [
      6,
      4
     ],
     "f_spines": true,
     "fig": true,
     "include": true,
     "name": null,
     "option_string": "echo='True', evaluate='False' ",
     "results": "verbatim",
     "term": false,
     "wrap": "output"
    }
   },
   "outputs": [],
   "source": [
    "# This is code to load the assignment.\n",
    "# You'll need to run this code do or restart the assignment.\n",
    "from loadAssignment import loadAssignment\n",
    "Assignment, Questions, Submit, Data = loadAssignment(4)\n",
    "\n",
    "# These are modules that we need\n",
    "# once you run this code, you don't need to load them again\n",
    "import autograd.numpy as np\n",
    "import autograd as ag\n",
    "import scipy.linalg as la\n",
    "import matplotlib.pyplot as plt\n",
    "%matplotlib inline"
   ]
  },
  {
   "cell_type": "markdown",
   "metadata": {
    "format": "text/markdown"
   },
   "source": [
    "\n"
   ]
  },
  {
   "cell_type": "markdown",
   "metadata": {
    "format": "text/markdown"
   },
   "source": [
    "\n"
   ]
  },
  {
   "cell_type": "markdown",
   "metadata": {
    "format": "text/markdown"
   },
   "source": [
    "\n",
    "# Question 0\n"
   ]
  },
  {
   "cell_type": "markdown",
   "metadata": {
    "format": "text/markdown"
   },
   "source": [
    "\n"
   ]
  },
  {
   "cell_type": "markdown",
   "metadata": {
    "format": "text/markdown"
   },
   "source": [
    "\n",
    "\n"
   ]
  },
  {
   "cell_type": "markdown",
   "metadata": {
    "format": "text/markdown"
   },
   "source": [
    "\n",
    "Let $u$, $v$, and $w$ be scalar Gaussian random variables with mean zero and covariance:\n",
    "\\begin{equation*}\n",
    "\\E\\left[\n",
    "\t\\begin{bmatrix}\n",
    "\t\tu \\\\\n",
    "\t\tv \\\\\n",
    "\t\tw\n",
    "\t\\end{bmatrix}\n",
    "\t\\begin{bmatrix}\n",
    "\t\tu \\\\\n",
    "\t\tv \\\\\n",
    "\t\tw\n",
    "\t\\end{bmatrix}^\\top\n",
    "\t\\right]\n",
    "\t= \\left[\\begin{matrix}0.359 & -0.306 & 0.31\\\\-0.306 & 0.837 & -0.642\\\\0.31 & -0.642 & 0.76\\end{matrix}\\right]\n",
    "\\end{equation*}\n",
    "Define $x$ and $y$ by\n",
    "\\begin{align*}\n",
    "x &= u + v \\\\\n",
    "y &= x + w\n",
    "\\end{align*}\n",
    "\n",
    "Also assume that a values of $u = 0.189$ and $y=0.803$ are measured.\n",
    "\n",
    "For convenience, the covariance and measurements are given here:\n"
   ]
  },
  {
   "cell_type": "code",
   "execution_count": 3,
   "metadata": {
    "autoscroll": "auto",
    "options": {
     "caption": false,
     "complete": true,
     "display_data": true,
     "display_stream": true,
     "dpi": 200,
     "echo": true,
     "evaluate": false,
     "f_env": null,
     "f_pos": "htpb",
     "f_size": [
      6,
      4
     ],
     "f_spines": true,
     "fig": true,
     "include": true,
     "name": null,
     "option_string": " echo='True', evaluate='False' ",
     "results": "verbatim",
     "term": false,
     "wrap": "output"
    }
   },
   "outputs": [],
   "source": [
    "Cov = np.array([[0.359, -0.306, 0.31],\n",
    "[-0.306, 0.837, -0.642],\n",
    "[0.31, -0.642, 0.76]])\n",
    "u = 0.189\n",
    "y = 0.803"
   ]
  },
  {
   "cell_type": "markdown",
   "metadata": {
    "format": "text/markdown"
   },
   "source": [
    "\n",
    "Calculate $\\E[x|u,y]$.\n",
    "\n"
   ]
  },
  {
   "cell_type": "markdown",
   "metadata": {},
   "source": []
  },
  {
   "cell_type": "code",
   "execution_count": null,
   "metadata": {},
   "outputs": [],
   "source": [
    "s=sum(Co)"
   ]
  },
  {
   "cell_type": "markdown",
   "metadata": {
    "format": "text/markdown"
   },
   "source": [
    "\n"
   ]
  },
  {
   "cell_type": "code",
   "execution_count": 16,
   "metadata": {
    "autoscroll": "auto",
    "options": {
     "caption": false,
     "complete": true,
     "display_data": true,
     "display_stream": true,
     "dpi": 200,
     "echo": true,
     "evaluate": false,
     "f_env": null,
     "f_pos": "htpb",
     "f_size": [
      6,
      4
     ],
     "f_spines": true,
     "fig": true,
     "include": true,
     "name": null,
     "option_string": "echo='True',evaluate='False'",
     "results": "verbatim",
     "term": false,
     "wrap": "output"
    }
   },
   "outputs": [
    {
     "ename": "TypeError",
     "evalue": "'numpy.ndarray' object is not callable",
     "output_type": "error",
     "traceback": [
      "\u001b[1;31m---------------------------------------------------------------------------\u001b[0m",
      "\u001b[1;31mTypeError\u001b[0m                                 Traceback (most recent call last)",
      "\u001b[1;32m<ipython-input-16-d0324f41f4a3>\u001b[0m in \u001b[0;36m<module>\u001b[1;34m()\u001b[0m\n\u001b[0;32m      1\u001b[0m \u001b[1;31m# Make your estimate here and call it x_est\u001b[0m\u001b[1;33m\u001b[0m\u001b[1;33m\u001b[0m\u001b[0m\n\u001b[1;32m----> 2\u001b[1;33m \u001b[0muu\u001b[0m\u001b[1;33m=\u001b[0m\u001b[0mCov\u001b[0m\u001b[1;33m(\u001b[0m\u001b[1;36m1\u001b[0m\u001b[1;33m)\u001b[0m\u001b[1;33m\u001b[0m\u001b[0m\n\u001b[0m\u001b[0;32m      3\u001b[0m \u001b[0muv\u001b[0m\u001b[1;33m=\u001b[0m\u001b[0mCov\u001b[0m\u001b[1;33m(\u001b[0m\u001b[1;36m2\u001b[0m\u001b[1;33m)\u001b[0m\u001b[1;33m\u001b[0m\u001b[0m\n\u001b[0;32m      4\u001b[0m \u001b[0muw\u001b[0m\u001b[1;33m=\u001b[0m\u001b[0mCov\u001b[0m\u001b[1;33m(\u001b[0m\u001b[1;36m3\u001b[0m\u001b[1;33m)\u001b[0m\u001b[1;33m\u001b[0m\u001b[0m\n\u001b[0;32m      5\u001b[0m \u001b[0mvv\u001b[0m\u001b[1;33m=\u001b[0m\u001b[0mCov\u001b[0m\u001b[1;33m(\u001b[0m\u001b[1;36m5\u001b[0m\u001b[1;33m)\u001b[0m\u001b[1;33m\u001b[0m\u001b[0m\n",
      "\u001b[1;31mTypeError\u001b[0m: 'numpy.ndarray' object is not callable"
     ]
    }
   ],
   "source": [
    "# Make your estimate here and call it x_est\n",
    "uu=0.359\n",
    "uv=-0.306\n",
    "uw=0.31\n",
    "vv=0.837\n",
    "vw=-0.642\n",
    "ww= 0.76\n",
    "\n",
    "Covu = np.array([[uu+uv+uv+vv, uu+uv, uu+uv+uw+uv+vv+vw],\n",
    "[uu+uv, uu, uu+uv+uw],\n",
    "[uu+uv+uw+uv+vv+vw, uu+uv+uw, uu+uv+uw+uv+vv+vw]])\n",
    "\n",
    "\n",
    "\n",
    "B=Covu[0,1:3]\n",
    "C=Covu[1:3:1:3]\n",
    "temp=np.dot(B,np.linalg.inv(C))\n",
    "x_est=np.dot(temp,[[u],[y]])\n",
    "print(x_est)\n",
    "Questions[0].checkAnswer(x_est)"
   ]
  },
  {
   "cell_type": "markdown",
   "metadata": {
    "format": "text/markdown"
   },
   "source": [
    "\n",
    "\n"
   ]
  },
  {
   "cell_type": "markdown",
   "metadata": {
    "format": "text/markdown"
   },
   "source": [
    "\n",
    "\n",
    "# Question 1\n",
    "\n"
   ]
  },
  {
   "cell_type": "markdown",
   "metadata": {
    "format": "text/markdown"
   },
   "source": [
    "\n"
   ]
  },
  {
   "cell_type": "markdown",
   "metadata": {
    "format": "text/markdown"
   },
   "source": [
    "\n",
    "Say that $x_0 = 0$, and \n",
    "\\begin{equation*}\n",
    "x_{k+1} = \\Phi x_k + w_k\n",
    "\\end{equation*}\n",
    "where $w_k$ are independent Gaussians with mean $0$ and covariance $I$ and \n",
    "\\begin{equation*}\n",
    "\\Phi = \\left[\\begin{matrix}0.63 & 0.36\\\\0.0 & 0.19\\end{matrix}\\right]\n",
    "\\end{equation*}\n",
    "\n",
    "For convenience, it is given here:\n"
   ]
  },
  {
   "cell_type": "code",
   "execution_count": 5,
   "metadata": {
    "autoscroll": "auto",
    "options": {
     "caption": false,
     "complete": true,
     "display_data": true,
     "display_stream": true,
     "dpi": 200,
     "echo": true,
     "evaluate": false,
     "f_env": null,
     "f_pos": "htpb",
     "f_size": [
      6,
      4
     ],
     "f_spines": true,
     "fig": true,
     "include": true,
     "name": null,
     "option_string": "echo='True',evaluate='False' ",
     "results": "verbatim",
     "term": false,
     "wrap": "output"
    }
   },
   "outputs": [],
   "source": [
    "Phi = np.array([[0.63, 0.36],\n",
    "[0, 0.19]])"
   ]
  },
  {
   "cell_type": "markdown",
   "metadata": {
    "format": "text/markdown"
   },
   "source": [
    "\n",
    "Let $\\Sigma_k = \\E[x_k x_k^\\top]$ and let $\\Sigma = \\lim_{k\\to\\infty} \\Sigma_k$. (It can be shown\n",
    "that if all eigenvalues of $\\Phi$ have magnitude less than $1$, then the limit of $\\Sigma_k$ exists and is finite.)\n",
    "\n",
    "What is $\\Sigma$? (It will help to write an expression for $\\Sigma_{k+1}$ in terms of $\\Sigma_k$ and note that for large $k$, $\\Sigma_{k+1} \\approx \\Sigma_k$.)\n",
    "\n",
    "(The command `la.solve_discrete_lyapunov` may help.)\n",
    "\n"
   ]
  },
  {
   "cell_type": "markdown",
   "metadata": {
    "format": "text/markdown"
   },
   "source": [
    "\n"
   ]
  },
  {
   "cell_type": "markdown",
   "metadata": {
    "format": "text/markdown"
   },
   "source": [
    "\n"
   ]
  },
  {
   "cell_type": "code",
   "execution_count": 6,
   "metadata": {
    "autoscroll": "auto",
    "options": {
     "caption": false,
     "complete": true,
     "display_data": true,
     "display_stream": true,
     "dpi": 200,
     "echo": true,
     "evaluate": false,
     "f_env": null,
     "f_pos": "htpb",
     "f_size": [
      6,
      4
     ],
     "f_spines": true,
     "fig": true,
     "include": true,
     "name": null,
     "option_string": "echo='True',evaluate='False'",
     "results": "verbatim",
     "term": false,
     "wrap": "output"
    }
   },
   "outputs": [
    {
     "name": "stdout",
     "output_type": "stream",
     "text": [
      "Oh yeah!\n",
      "A score of 1 was entered for Question 1\n"
     ]
    }
   ],
   "source": [
    "# Define the matrix Sigma here \n",
    "Sigma=la.solve_discrete_lyapunov(Phi,np.eye(2))\n",
    "Questions[1].checkAnswer(Sigma)"
   ]
  },
  {
   "cell_type": "markdown",
   "metadata": {
    "format": "text/markdown"
   },
   "source": [
    "\n"
   ]
  },
  {
   "cell_type": "markdown",
   "metadata": {
    "format": "text/markdown"
   },
   "source": [
    "\n",
    "# Question 2\n",
    "\n",
    "\n",
    "Let $x_k$ be the sequence of vectors from the previous problem. Assume that we have\n",
    "measurements of the form\n",
    "\n",
    "\\begin{equation*}\n",
    "y_k = \\begin{bmatrix} 1 & 0 \\end{bmatrix} x_k + v_k\n",
    "\\end{equation*}\n",
    "\n",
    "where $v_k$ is a zero mean, variance $1$ Gaussian white noise sequence which is independent of $w_k$. \n",
    "\n",
    "Let $\\hat x_k^- = \\E[x_k|y_{0:k-1}]$ be the a-priori estimate and let\n",
    "Let $P_k^{-} = \\E[(x_k-\\hat x_k^-)(x_k-\\hat x_k^-)^\\top]$ be the a-priori filter covariance. In this problem, because $\\Phi$ is stable, the limit $P= \\lim_{k\\to\\infty}P_k^-$ is guaranteed exist and be finite. What is $P$?\n",
    "\n",
    "(The command `la.solve_discrete_are` may help.)\n",
    "\n"
   ]
  },
  {
   "cell_type": "markdown",
   "metadata": {
    "format": "text/markdown"
   },
   "source": [
    "\n"
   ]
  },
  {
   "cell_type": "code",
   "execution_count": 7,
   "metadata": {
    "autoscroll": "auto",
    "options": {
     "caption": false,
     "complete": true,
     "display_data": true,
     "display_stream": true,
     "dpi": 200,
     "echo": true,
     "evaluate": false,
     "f_env": null,
     "f_pos": "htpb",
     "f_size": [
      6,
      4
     ],
     "f_spines": true,
     "fig": true,
     "include": true,
     "name": null,
     "option_string": "echo='True',evaluate='False'",
     "results": "verbatim",
     "term": false,
     "wrap": "output"
    }
   },
   "outputs": [
    {
     "name": "stdout",
     "output_type": "stream",
     "text": [
      "Hoorah!\n",
      "A score of 1 was entered for Question 2\n"
     ]
    }
   ],
   "source": [
    "# Define the matrix P here \n",
    "A=np.transpose(Phi)\n",
    "B=[[1],[0]]\n",
    "Q=np.eye(2)\n",
    "R=[1]\n",
    "P=la.solve_discrete_are(A,B,Q,R)\n",
    "Questions[2].checkAnswer(P)"
   ]
  },
  {
   "cell_type": "markdown",
   "metadata": {
    "format": "text/markdown"
   },
   "source": [
    "\n",
    "\n",
    "\n",
    "\n",
    "\n"
   ]
  },
  {
   "cell_type": "markdown",
   "metadata": {
    "format": "text/markdown"
   },
   "source": [
    "\n",
    "# Question 3\n",
    "\n",
    "Let $\\hat x_k^-$ be the a-priori estimate from the previous problem. Let \n",
    "$D_k = \\E[\\hat x_k^- (\\hat x_k^-)^\\top]$. Let $D = \\lim_{k\\to\\infty} D_k$. Calculate $D$. \n",
    "\n"
   ]
  },
  {
   "cell_type": "markdown",
   "metadata": {
    "format": "text/markdown"
   },
   "source": [
    "\n"
   ]
  },
  {
   "cell_type": "code",
   "execution_count": 8,
   "metadata": {
    "autoscroll": "auto",
    "options": {
     "caption": false,
     "complete": true,
     "display_data": true,
     "display_stream": true,
     "dpi": 200,
     "echo": true,
     "evaluate": false,
     "f_env": null,
     "f_pos": "htpb",
     "f_size": [
      6,
      4
     ],
     "f_spines": true,
     "fig": true,
     "include": true,
     "name": null,
     "option_string": "echo='True',evaluate='False'",
     "results": "verbatim",
     "term": false,
     "wrap": "output"
    }
   },
   "outputs": [
    {
     "name": "stdout",
     "output_type": "stream",
     "text": [
      "[[5.63287300e-01 6.06305732e-03]\n",
      " [6.06305732e-03 8.75111900e-05]]\n",
      "Hoorah!\n",
      "A score of 1 was entered for Question 3\n"
     ]
    }
   ],
   "source": [
    "# Define the matrix D here \n",
    "D=Sigma-P\n",
    "print(D)\n",
    "Questions[3].checkAnswer(D)"
   ]
  },
  {
   "cell_type": "markdown",
   "metadata": {
    "format": "text/markdown"
   },
   "source": [
    "\n"
   ]
  },
  {
   "cell_type": "markdown",
   "metadata": {
    "format": "text/markdown"
   },
   "source": [
    "\n",
    "# Question 4\n",
    "\n",
    "Let $P_k^-$ be the a-priori covariance from above \n",
    "Assume that the initial condition, $x_0=0$ is known.\n",
    "Plot the entries of $P_k^-$ for $k=0,\\ldots,19$.  \n",
    "\n",
    "Your plot should have three lines, one for each of the unique entries of $P_k^-$. (Since $P_k^-$ is symmetric, the off-diagonal entries are identical.)\n",
    "\n"
   ]
  },
  {
   "cell_type": "markdown",
   "metadata": {
    "format": "text/markdown"
   },
   "source": [
    "\n"
   ]
  },
  {
   "cell_type": "code",
   "execution_count": 11,
   "metadata": {
    "autoscroll": "auto",
    "options": {
     "caption": false,
     "complete": true,
     "display_data": true,
     "display_stream": true,
     "dpi": 200,
     "echo": true,
     "evaluate": false,
     "f_env": null,
     "f_pos": "htpb",
     "f_size": [
      6,
      4
     ],
     "f_spines": true,
     "fig": true,
     "include": true,
     "name": null,
     "option_string": "echo='True',evaluate='False' ",
     "results": "verbatim",
     "term": false,
     "wrap": "output"
    }
   },
   "outputs": [
    {
     "ename": "ValueError",
     "evalue": "non-broadcastable output operand with shape (2,) doesn't match the broadcast shape (2,2)",
     "output_type": "error",
     "traceback": [
      "\u001b[1;31m---------------------------------------------------------------------------\u001b[0m",
      "\u001b[1;31mValueError\u001b[0m                                Traceback (most recent call last)",
      "\u001b[1;32m<ipython-input-11-28430f220124>\u001b[0m in \u001b[0;36m<module>\u001b[1;34m()\u001b[0m\n\u001b[0;32m     12\u001b[0m \u001b[0mpk\u001b[0m\u001b[1;33m[\u001b[0m\u001b[1;36m1\u001b[0m\u001b[1;33m,\u001b[0m\u001b[1;33m:\u001b[0m\u001b[1;33m]\u001b[0m\u001b[1;33m=\u001b[0m\u001b[0mnp\u001b[0m\u001b[1;33m.\u001b[0m\u001b[0marray\u001b[0m\u001b[1;33m(\u001b[0m\u001b[1;33m[\u001b[0m\u001b[1;36m1\u001b[0m\u001b[1;33m,\u001b[0m\u001b[1;36m0\u001b[0m\u001b[1;33m,\u001b[0m\u001b[1;36m1\u001b[0m\u001b[1;33m]\u001b[0m\u001b[1;33m)\u001b[0m\u001b[1;33m\u001b[0m\u001b[0m\n\u001b[0;32m     13\u001b[0m \u001b[1;32mfor\u001b[0m \u001b[0mi\u001b[0m \u001b[1;32min\u001b[0m \u001b[0mrange\u001b[0m \u001b[1;33m(\u001b[0m\u001b[1;36m2\u001b[0m \u001b[1;33m,\u001b[0m\u001b[1;36m20\u001b[0m\u001b[1;33m)\u001b[0m\u001b[1;33m:\u001b[0m\u001b[1;33m\u001b[0m\u001b[0m\n\u001b[1;32m---> 14\u001b[1;33m     \u001b[0mmidterm\u001b[0m\u001b[1;33m=\u001b[0m\u001b[0mnp\u001b[0m\u001b[1;33m.\u001b[0m\u001b[0mlinalg\u001b[0m\u001b[1;33m.\u001b[0m\u001b[0minv\u001b[0m\u001b[1;33m(\u001b[0m\u001b[1;36m1\u001b[0m\u001b[1;33m+\u001b[0m\u001b[0mnp\u001b[0m\u001b[1;33m.\u001b[0m\u001b[0mmultiply\u001b[0m\u001b[1;33m(\u001b[0m\u001b[0mH\u001b[0m\u001b[1;33m,\u001b[0m\u001b[0mP\u001b[0m\u001b[1;33m,\u001b[0m\u001b[0mnp\u001b[0m\u001b[1;33m.\u001b[0m\u001b[0mtranspose\u001b[0m\u001b[1;33m(\u001b[0m\u001b[0mH\u001b[0m\u001b[1;33m)\u001b[0m\u001b[1;33m)\u001b[0m\u001b[1;33m)\u001b[0m\u001b[1;33m\u001b[0m\u001b[0m\n\u001b[0m\u001b[0;32m     15\u001b[0m \u001b[1;33m\u001b[0m\u001b[0m\n\u001b[0;32m     16\u001b[0m     \u001b[0mterm2\u001b[0m\u001b[1;33m=\u001b[0m\u001b[0mnp\u001b[0m\u001b[1;33m.\u001b[0m\u001b[0mmultiply\u001b[0m\u001b[1;33m(\u001b[0m\u001b[0mPhi\u001b[0m\u001b[1;33m,\u001b[0m\u001b[0mP\u001b[0m\u001b[1;33m,\u001b[0m\u001b[0mnp\u001b[0m\u001b[1;33m.\u001b[0m\u001b[0mtranspose\u001b[0m\u001b[1;33m(\u001b[0m\u001b[0mH\u001b[0m\u001b[1;33m)\u001b[0m\u001b[1;33m,\u001b[0m\u001b[0mmidterm\u001b[0m\u001b[1;33m,\u001b[0m\u001b[0mH\u001b[0m\u001b[1;33m,\u001b[0m\u001b[0mP\u001b[0m\u001b[1;33m,\u001b[0m\u001b[0mnp\u001b[0m\u001b[1;33m.\u001b[0m\u001b[0mtranspose\u001b[0m\u001b[1;33m(\u001b[0m\u001b[0mPhi\u001b[0m\u001b[1;33m)\u001b[0m\u001b[1;33m)\u001b[0m\u001b[1;33m\u001b[0m\u001b[0m\n",
      "\u001b[1;32mD:\\EE5251\\lib\\site-packages\\autograd-1.2-py3.6.egg\\autograd\\tracer.py\u001b[0m in \u001b[0;36mf_wrapped\u001b[1;34m(*args, **kwargs)\u001b[0m\n\u001b[0;32m     46\u001b[0m             \u001b[1;32mreturn\u001b[0m \u001b[0mnew_box\u001b[0m\u001b[1;33m(\u001b[0m\u001b[0mans\u001b[0m\u001b[1;33m,\u001b[0m \u001b[0mtrace\u001b[0m\u001b[1;33m,\u001b[0m \u001b[0mnode\u001b[0m\u001b[1;33m)\u001b[0m\u001b[1;33m\u001b[0m\u001b[0m\n\u001b[0;32m     47\u001b[0m         \u001b[1;32melse\u001b[0m\u001b[1;33m:\u001b[0m\u001b[1;33m\u001b[0m\u001b[0m\n\u001b[1;32m---> 48\u001b[1;33m             \u001b[1;32mreturn\u001b[0m \u001b[0mf_raw\u001b[0m\u001b[1;33m(\u001b[0m\u001b[1;33m*\u001b[0m\u001b[0margs\u001b[0m\u001b[1;33m,\u001b[0m \u001b[1;33m**\u001b[0m\u001b[0mkwargs\u001b[0m\u001b[1;33m)\u001b[0m\u001b[1;33m\u001b[0m\u001b[0m\n\u001b[0m\u001b[0;32m     49\u001b[0m     \u001b[0mf_wrapped\u001b[0m\u001b[1;33m.\u001b[0m\u001b[0mfun\u001b[0m \u001b[1;33m=\u001b[0m \u001b[0mf_raw\u001b[0m\u001b[1;33m\u001b[0m\u001b[0m\n\u001b[0;32m     50\u001b[0m     \u001b[0mf_wrapped\u001b[0m\u001b[1;33m.\u001b[0m\u001b[0m_is_autograd_primitive\u001b[0m \u001b[1;33m=\u001b[0m \u001b[1;32mTrue\u001b[0m\u001b[1;33m\u001b[0m\u001b[0m\n",
      "\u001b[1;31mValueError\u001b[0m: non-broadcastable output operand with shape (2,) doesn't match the broadcast shape (2,2)"
     ]
    }
   ],
   "source": [
    "# Make your plot here\n",
    "\n",
    "\n",
    "Questions[4].checkAnswer()"
   ]
  },
  {
   "cell_type": "markdown",
   "metadata": {
    "format": "text/markdown"
   },
   "source": [
    "\n"
   ]
  },
  {
   "cell_type": "markdown",
   "metadata": {
    "format": "text/markdown"
   },
   "source": [
    "\n",
    "\n",
    "\n",
    "# Question 5\n",
    "\n",
    "# Final Score\n",
    "\n",
    "You can run this code to see all of your scores.\n",
    "\n",
    "\n"
   ]
  },
  {
   "cell_type": "code",
   "execution_count": null,
   "metadata": {
    "autoscroll": "auto",
    "options": {
     "caption": false,
     "complete": true,
     "display_data": true,
     "display_stream": true,
     "dpi": 200,
     "echo": true,
     "evaluate": false,
     "f_env": null,
     "f_pos": "htpb",
     "f_size": [
      6,
      4
     ],
     "f_spines": true,
     "fig": true,
     "include": true,
     "name": null,
     "option_string": "echo='True', evaluate='False' ",
     "results": "verbatim",
     "term": false,
     "wrap": "output"
    }
   },
   "outputs": [],
   "source": [
    "Assignment.showResults()"
   ]
  },
  {
   "cell_type": "markdown",
   "metadata": {
    "format": "text/markdown"
   },
   "source": [
    "\n",
    "\n",
    "\n",
    "# Submission\n",
    "\n",
    "Save your work and run this cell to submit. It will only work if you have the internet.\n",
    "\n"
   ]
  },
  {
   "cell_type": "code",
   "execution_count": null,
   "metadata": {
    "autoscroll": "auto",
    "options": {
     "caption": false,
     "complete": true,
     "display_data": true,
     "display_stream": true,
     "dpi": 200,
     "echo": true,
     "evaluate": false,
     "f_env": null,
     "f_pos": "htpb",
     "f_size": [
      6,
      4
     ],
     "f_spines": true,
     "fig": true,
     "include": true,
     "name": null,
     "option_string": "echo='True', evaluate='False' ",
     "results": "verbatim",
     "term": false,
     "wrap": "output"
    }
   },
   "outputs": [],
   "source": [
    "Submit()"
   ]
  },
  {
   "cell_type": "markdown",
   "metadata": {
    "format": "text/markdown"
   },
   "source": [
    "\n"
   ]
  },
  {
   "cell_type": "markdown",
   "metadata": {
    "format": "text/markdown"
   },
   "source": []
  }
 ],
 "metadata": {
  "kernel_info": {
   "name": "estenv"
  },
  "kernelspec": {
   "display_name": "Estimation",
   "language": "python",
   "name": "estenv"
  },
  "language_info": {
   "codemirror_mode": {
    "name": "ipython",
    "version": 3
   },
   "file_extension": ".py",
   "mimetype": "text/x-python",
   "name": "python",
   "nbconvert_exporter": "python",
   "pygments_lexer": "ipython3",
   "version": "3.6.5"
  }
 },
 "nbformat": 4,
 "nbformat_minor": 1
}
