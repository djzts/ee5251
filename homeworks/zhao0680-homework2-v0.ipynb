{
 "cells": [
  {
   "cell_type": "markdown",
   "metadata": {
    "format": "text/markdown"
   },
   "source": [
    "\n"
   ]
  },
  {
   "cell_type": "markdown",
   "metadata": {
    "format": "text/markdown"
   },
   "source": []
  },
  {
   "cell_type": "markdown",
   "metadata": {
    "format": "text/markdown"
   },
   "source": [
    "\n",
    "# Due Dates\n",
    "\n",
    "* Textbook: Thursday, September 27, in class\n",
    "* Coding: Thursday, September 27, at 11:59 PM\n",
    "\n",
    "# Textbook Problems\n",
    "\n",
    "* 2.5\n",
    "* 2.9\n",
    "* 2.16\n",
    "* 2.19\n",
    "\n"
   ]
  },
  {
   "cell_type": "code",
   "execution_count": 1,
   "metadata": {
    "autoscroll": "auto",
    "options": {
     "caption": false,
     "complete": true,
     "display_data": true,
     "display_stream": true,
     "dpi": 200,
     "echo": true,
     "evaluate": false,
     "f_env": null,
     "f_pos": "htpb",
     "f_size": [
      6,
      4
     ],
     "f_spines": true,
     "fig": true,
     "include": true,
     "name": null,
     "option_string": "echo='True', evaluate='False' ",
     "results": "verbatim",
     "term": false,
     "wrap": "output"
    }
   },
   "outputs": [],
   "source": [
    "# This is code to load the assignment.\n",
    "# You'll need to run this code do or restart the assignment.\n",
    "from loadAssignment import loadAssignment\n",
    "Assignment, Questions, Submit, Data = loadAssignment(2)\n",
    "\n",
    "# These are modules that we need\n",
    "# once you run this code, you don't need to load them again\n",
    "import autograd.numpy as np\n",
    "import autograd as ag\n",
    "import scipy.linalg as la\n",
    "import scipy.optimize as opt\n",
    "import matplotlib.pyplot as plt\n",
    "%matplotlib inline"
   ]
  },
  {
   "cell_type": "markdown",
   "metadata": {
    "format": "text/markdown"
   },
   "source": [
    "\n"
   ]
  },
  {
   "cell_type": "markdown",
   "metadata": {
    "format": "text/markdown"
   },
   "source": [
    "\n"
   ]
  },
  {
   "cell_type": "markdown",
   "metadata": {
    "format": "text/markdown"
   },
   "source": [
    "\n",
    "# Automatic Differentiation\n",
    "\n",
    "In class, Andy makes a lot of hoopla about taking derivatives. That is because when you are doing theory, you should really know how to take derivatives. \n",
    "\n",
    "However, when you are coding, you should do as little manually as possible, and that includes taking derivatives. Computers make fewer mistakes than humans.\n",
    "\n",
    "In recent years, several great tools for [automatic differentiation](https://en.wikipedia.org/wiki/Automatic_differentiation) have emerged. \n",
    "For this class, we will use a simple one known as [autograd](https://github.com/HIPS/autograd). Autograd is a wrapper around `numpy` (note how it was imported above) that enables you to automatically differentiate `numpy` code. \n",
    " \n",
    "Let's see how to use it.\n"
   ]
  },
  {
   "cell_type": "code",
   "execution_count": 2,
   "metadata": {
    "autoscroll": "auto",
    "options": {
     "caption": false,
     "complete": true,
     "display_data": true,
     "display_stream": true,
     "dpi": 200,
     "echo": true,
     "evaluate": false,
     "f_env": null,
     "f_pos": "htpb",
     "f_size": [
      6,
      4
     ],
     "f_spines": true,
     "fig": true,
     "include": true,
     "name": null,
     "option_string": "echo='True',evaluate='False' ",
     "results": "verbatim",
     "term": false,
     "wrap": "output"
    }
   },
   "outputs": [
    {
     "name": "stdout",
     "output_type": "stream",
     "text": [
      "Gradient\n",
      "[1. 2. 3.]\n",
      "Jacobian\n",
      "[[ 0.  1.]\n",
      " [ 1. -1.]]\n"
     ]
    }
   ],
   "source": [
    "# Gradients of scalar functions\n",
    "\n",
    "w = np.array([1.,2,3])\n",
    "\n",
    "def scalarFun(x):\n",
    "    return np.dot(w,x)\n",
    "\n",
    "scalarGrad = ag.grad(scalarFun)\n",
    "\n",
    "print('Gradient')\n",
    "print(scalarGrad(np.zeros(3)))\n",
    "\n",
    "def vectorFun(x):\n",
    "    return np.array([np.sin(x[1]),x[0]-x[1]])\n",
    "\n",
    "vectorJacobian = ag.jacobian(vectorFun)\n",
    "\n",
    "print('Jacobian')\n",
    "print(vectorJacobian(np.array([2.,0])))"
   ]
  },
  {
   "cell_type": "markdown",
   "metadata": {
    "format": "text/markdown"
   },
   "source": [
    "\n",
    "Other tools based on automatic differentiation include [TensorFlow](https://www.tensorflow.org/), [PyTorch](https://pytorch.org/), and [CasADi](https://web.casadi.org/). These tools have many more features than autograd and are geared toward specific applications (TensorFlow and PyTorch for machine learning, CasADi for optimal control).\n",
    "\n",
    "\n",
    "\n",
    "\n",
    "# Nonlinear Least Squares\n",
    "\n",
    "Nonlinear least squares is covered in Chapter 1 of the book. However, we will not have time to \n",
    "cover it in detail in class. Secretly, you actually used nonlinear least squares in the first homework when\n",
    "using `opt.curve_fit`. \n",
    "\n",
    "We will cover it in a bit more detail in this homework.\n",
    "\n",
    "# Localization with Range Finders\n",
    "\n",
    "\n",
    "The first few questions will deal with localization using range finder data. \n",
    "\n",
    "This is Margot. \n",
    "<img src=\"figures/margot.JPG\" alt=\"Margot\" width=\"300px\"/>\n",
    "\n",
    "I want to keep track of Margot to ensure that she is not entering the neighbor's yard. To do this, I will\n",
    "place a collection of range finders in the yard, and then use nonlinear least squares to determine her location.\n",
    "\n",
    "\n",
    "Each sensor gives a measurement of the form. \n",
    "\n",
    "\\begin{equation*}\n",
    "y_i = \\| x - c_i\\| + v_i,\n",
    "\\end{equation*}\n",
    "where $x$ is Margot's location, $c_i$ is the location of the sensor. \n",
    "\n"
   ]
  },
  {
   "cell_type": "markdown",
   "metadata": {
    "format": "text/markdown"
   },
   "source": [
    "\n"
   ]
  },
  {
   "cell_type": "markdown",
   "metadata": {
    "format": "text/markdown"
   },
   "source": [
    "\n",
    "I got 6 placed in the following locations:\n",
    "\n"
   ]
  },
  {
   "cell_type": "code",
   "execution_count": 3,
   "metadata": {
    "autoscroll": "auto",
    "options": {
     "caption": false,
     "complete": true,
     "display_data": true,
     "display_stream": true,
     "dpi": 200,
     "echo": true,
     "evaluate": false,
     "f_env": null,
     "f_pos": "htpb",
     "f_size": [
      6,
      4
     ],
     "f_spines": true,
     "fig": true,
     "include": true,
     "name": null,
     "option_string": "echo='True', evaluate='False' ",
     "results": "verbatim",
     "term": false,
     "wrap": "output"
    }
   },
   "outputs": [
    {
     "data": {
      "image/png": "[encoded data removed]",
      "text/plain": [
       "<Figure size 432x288 with 1 Axes>"
      ]
     },
     "metadata": {},
     "output_type": "display_data"
    }
   ],
   "source": [
    "SensorLocs = np.array([[7.886, 6.149],\n",
    "[-2.48, -9.688],\n",
    "[-9.229, -3.85],\n",
    "[0.384, -9.993],\n",
    "[-9.402, 3.406],\n",
    "[1.669, -9.86]])\n",
    "\n",
    "# Each row of SensorStr is the x-y coordinate of a sensor\n",
    "plt.plot(SensorLocs[:,0],SensorLocs[:,1],'.')\n",
    "plt.gca().set_aspect('equal')"
   ]
  },
  {
   "cell_type": "markdown",
   "metadata": {
    "format": "text/markdown"
   },
   "source": [
    "\n",
    "I turned the system on and recieved the following set of measurements:\n",
    "\n"
   ]
  },
  {
   "cell_type": "code",
   "execution_count": 4,
   "metadata": {
    "autoscroll": "auto",
    "options": {
     "caption": false,
     "complete": true,
     "display_data": true,
     "display_stream": true,
     "dpi": 200,
     "echo": true,
     "evaluate": false,
     "f_env": null,
     "f_pos": "htpb",
     "f_size": [
      6,
      4
     ],
     "f_spines": true,
     "fig": true,
     "include": true,
     "name": null,
     "option_string": "echo='True',evaluate='False' ",
     "results": "verbatim",
     "term": false,
     "wrap": "output"
    }
   },
   "outputs": [],
   "source": [
    "YRange = np.array([8.385, 14.409, 17.549, 10.675, 19.068, 8.636])"
   ]
  },
  {
   "cell_type": "markdown",
   "metadata": {
    "format": "text/markdown"
   },
   "source": [
    "\n",
    "We will attempt to optimize a cost of the form\n",
    "\\begin{equation}\n",
    "J(x) = \\frac{1}{2}\\sum_{i=0}^{5} (\\|x-c_i\\|-y_i)^2\n",
    "\\end{equation}\n",
    "\n",
    "\n",
    "# Question 0\n",
    "\n",
    "Gradient descent is one of the simplest and most useful algorithms for optimization. To minimize a cost function, $J(x)$, it is an iteration of the form:\n",
    "\n",
    "\\begin{equation*}\n",
    "x_{k+1} = x_k - \\eta \\frac{\\partial J(x_k)}{\\partial x},\n",
    "\\end{equation*}\n",
    "where $\\eta >0$ is a step size parameter. \n",
    "\n"
   ]
  },
  {
   "cell_type": "markdown",
   "metadata": {
    "format": "text/markdown"
   },
   "source": [
    "\n"
   ]
  },
  {
   "cell_type": "markdown",
   "metadata": {
    "format": "text/markdown"
   },
   "source": [
    "\n"
   ]
  },
  {
   "cell_type": "markdown",
   "metadata": {
    "format": "text/markdown"
   },
   "source": [
    "\n",
    "Start with $x_0$ a 2D zero vector, and perform $20$ iterations of gradient descent. Store all $21$ values of $x_k$ in a $21\\times 2$ `numpy` array called `X_gd`. Use a step size value of $\\eta = 0.1$.\n",
    "\n",
    "(Andy encourages you to use `autograd` to find the gradients. These are easy, but sometimes gradients get hard.)\n",
    "\n"
   ]
  },
  {
   "cell_type": "code",
   "execution_count": 5,
   "metadata": {
    "autoscroll": "auto",
    "options": {
     "caption": false,
     "complete": true,
     "display_data": true,
     "display_stream": true,
     "dpi": 200,
     "echo": true,
     "evaluate": false,
     "f_env": null,
     "f_pos": "htpb",
     "f_size": [
      6,
      4
     ],
     "f_spines": true,
     "fig": true,
     "include": true,
     "name": null,
     "option_string": "echo='True',evaluate='False'",
     "results": "verbatim",
     "term": false,
     "wrap": "output"
    }
   },
   "outputs": [
    {
     "name": "stdout",
     "output_type": "stream",
     "text": [
      "[[ 0.          0.        ]\n",
      " [ 1.80617335  0.44108019]\n",
      " [ 3.1901322   0.61551527]\n",
      " [ 4.22111752  0.55354168]\n",
      " [ 5.00540768  0.33931343]\n",
      " [ 5.62731725  0.04931223]\n",
      " [ 6.13730825 -0.26471968]\n",
      " [ 6.56223747 -0.57303071]\n",
      " [ 6.91696454 -0.8604742 ]\n",
      " [ 7.21143437 -1.12039896]\n",
      " [ 7.45389255 -1.35080724]\n",
      " [ 7.65194528 -1.55218824]\n",
      " [ 7.81269015 -1.72633002]\n",
      " [ 7.94257243 -1.87565454]\n",
      " [ 8.04724618 -2.00283073]\n",
      " [ 8.13152081 -2.11054326]\n",
      " [ 8.19938917 -2.2013552 ]\n",
      " [ 8.25410772 -2.27763109]\n",
      " [ 8.29830013 -2.34149982]\n",
      " [ 8.33406403 -2.39484366]\n",
      " [ 8.36306954 -2.43930394]]\n",
      "Huzzah.\n",
      "A score of 1 was entered for Question 0\n"
     ]
    },
    {
     "data": {
      "image/png": "[encoded data removed]",
      "text/plain": [
       "<Figure size 432x288 with 1 Axes>"
      ]
     },
     "metadata": {},
     "output_type": "display_data"
    }
   ],
   "source": [
    "# Define X_gd here\n",
    "x=np.zeros(2,dtype=float)\n",
    "eta=0.1\n",
    "def IterationFun(x):\n",
    "    J=0\n",
    "    for i in range(6):\n",
    "        J=J+0.5*(np.linalg.norm(x-SensorLocs[i])-YRange[i])**2\n",
    "    return(J)\n",
    "vectorGrad = ag.grad(IterationFun)\n",
    "list=[x]\n",
    "for i in range(20):\n",
    "    x=x-eta*vectorGrad(x)\n",
    "    list.append(x)\n",
    "X_gd=np.array(list)\n",
    "print(X_gd)\n",
    "Questions[0].checkAnswer(X_gd)"
   ]
  },
  {
   "cell_type": "markdown",
   "metadata": {
    "format": "text/markdown"
   },
   "source": [
    "\n"
   ]
  },
  {
   "cell_type": "markdown",
   "metadata": {
    "format": "text/markdown"
   },
   "source": [
    "\n",
    "\n"
   ]
  },
  {
   "cell_type": "markdown",
   "metadata": {
    "format": "text/markdown"
   },
   "source": [
    "\n",
    "# Question 1\n",
    "\n",
    "Now, instead of doing gradient descent, perform 20 of the nonlinear least squares algorithm from 1.4 of the book. This method is often called the Gauss-Newton method. Store your result in a $21\\times 2$ array called `X_gn`.\n",
    "\n",
    "(Andy encourages you to use `autograd` to take the jacobians. Again, these are easy, but they won't always be.)\n",
    "\n"
   ]
  },
  {
   "cell_type": "markdown",
   "metadata": {
    "format": "text/markdown"
   },
   "source": [
    "\n"
   ]
  },
  {
   "cell_type": "markdown",
   "metadata": {
    "format": "text/markdown"
   },
   "source": [
    "\n"
   ]
  },
  {
   "cell_type": "markdown",
   "metadata": {
    "format": "text/markdown"
   },
   "source": [
    "\n"
   ]
  },
  {
   "cell_type": "code",
   "execution_count": 7,
   "metadata": {
    "autoscroll": "auto",
    "options": {
     "caption": false,
     "complete": true,
     "display_data": true,
     "display_stream": true,
     "dpi": 200,
     "echo": true,
     "evaluate": false,
     "f_env": null,
     "f_pos": "htpb",
     "f_size": [
      6,
      4
     ],
     "f_spines": true,
     "fig": true,
     "include": true,
     "name": null,
     "option_string": "echo='True',evaluate='False'",
     "results": "verbatim",
     "term": false,
     "wrap": "output"
    }
   },
   "outputs": [
    {
     "name": "stdout",
     "output_type": "stream",
     "text": [
      "\n",
      "Huzzah.\n",
      "A score of 1 was entered for Question 1\n"
     ]
    },
    {
     "data": {
      "image/png": "[encoded data removed]",
      "text/plain": [
       "<Figure size 432x288 with 1 Axes>"
      ]
     },
     "metadata": {},
     "output_type": "display_data"
    }
   ],
   "source": [
    "# Define X_gn here\n",
    "\n",
    "def IterFun(x):\n",
    "    List=[]\n",
    "    for i in range(6):\n",
    "        List.append(np.linalg.norm(x-SensorLocs[i]))\n",
    "        J=np.array(List)\n",
    "    return(J)\n",
    "\n",
    "def step(x):\n",
    "    vectorGrad = ag.jacobian(IterFun)\n",
    "    return np.dot(np.linalg.pinv(vectorGrad(x)),(IterFun(x)-YRange))\n",
    "\n",
    "                                    \n",
    "                                                                                   \n",
    "x=np.zeros(2,dtype=float)\n",
    "list=[x]\n",
    "for i in range(20):\n",
    "    x=x-step(x)\n",
    "    list.append(x)\n",
    "X_gn=np.array(list)\n",
    "print()\n",
    "\n",
    "Questions[1].checkAnswer(X_gn)"
   ]
  },
  {
   "cell_type": "markdown",
   "metadata": {
    "format": "text/markdown"
   },
   "source": []
  },
  {
   "cell_type": "markdown",
   "metadata": {
    "format": "text/markdown"
   },
   "source": [
    "\n",
    "# Background: Generating Random Numbers\n",
    "\n",
    "Numpy and Scipy have methods for generating random numbers. \n",
    "The numpy functions are a bit simpler, while the scipy functions are more full featured.  \n",
    "Here is how to use a few.\n",
    "\n"
   ]
  },
  {
   "cell_type": "code",
   "execution_count": 8,
   "metadata": {
    "autoscroll": "auto",
    "options": {
     "caption": false,
     "complete": true,
     "display_data": true,
     "display_stream": true,
     "dpi": 200,
     "echo": true,
     "evaluate": false,
     "f_env": null,
     "f_pos": "htpb",
     "f_size": [
      6,
      4
     ],
     "f_spines": true,
     "fig": true,
     "include": true,
     "name": null,
     "option_string": "echo='True',evaluate='False' ",
     "results": "verbatim",
     "term": false,
     "wrap": "output"
    }
   },
   "outputs": [
    {
     "data": {
      "text/plain": [
       "[<matplotlib.lines.Line2D at 0x28cb55e8828>]"
      ]
     },
     "execution_count": 8,
     "metadata": {},
     "output_type": "execute_result"
    },
    {
     "data": {
      "image/png": "[encoded data removed]",
      "text/plain": [
       "<Figure size 432x288 with 1 Axes>"
      ]
     },
     "metadata": {},
     "output_type": "display_data"
    }
   ],
   "source": [
    "import scipy.stats as sts\n",
    "# Generate 1000 independent samples from a Gaussian\n",
    "y = sts.norm.rvs(size=1000)\n",
    "# Plot the histogram of a Gaussian\n",
    "plt.hist(y,density=True,bins=20)\n",
    "# This histogram should match the density function well \n",
    "x = np.linspace(-3,3,100)\n",
    "plt.plot(x,sts.norm.pdf(x))"
   ]
  },
  {
   "cell_type": "markdown",
   "metadata": {
    "format": "text/markdown"
   },
   "source": [
    "\n",
    "# Question 2 \n",
    "\n"
   ]
  },
  {
   "cell_type": "markdown",
   "metadata": {
    "format": "text/markdown"
   },
   "source": [
    "\n"
   ]
  },
  {
   "cell_type": "markdown",
   "metadata": {
    "format": "text/markdown"
   },
   "source": [
    "\n"
   ]
  },
  {
   "cell_type": "markdown",
   "metadata": {
    "format": "text/markdown"
   },
   "source": [
    "\n",
    "\n",
    "Generate 1000 in dependent Gaussian random variables with mean $\\mu$ and covariance $P$ given by:\n",
    "\n"
   ]
  },
  {
   "cell_type": "code",
   "execution_count": 9,
   "metadata": {
    "autoscroll": "auto",
    "options": {
     "caption": false,
     "complete": true,
     "display_data": true,
     "display_stream": true,
     "dpi": 200,
     "echo": true,
     "evaluate": false,
     "f_env": null,
     "f_pos": "htpb",
     "f_size": [
      6,
      4
     ],
     "f_spines": true,
     "fig": true,
     "include": true,
     "name": null,
     "option_string": "echo='True', evaluate='False' ",
     "results": "verbatim",
     "term": false,
     "wrap": "output"
    }
   },
   "outputs": [],
   "source": [
    "mu = np.array([6.959, -4.685])\n",
    "\n",
    "P = np.array([[0.523, -0.684],\n",
    "[-0.684, 2.489]])"
   ]
  },
  {
   "cell_type": "markdown",
   "metadata": {
    "format": "text/markdown"
   },
   "source": [
    "\n",
    "Store your result in a $2\\times 1000$ `numpy` array called `X`. The function [`la.cholesky`](https://docs.scipy.org/doc/scipy/reference/generated/scipy.linalg.cholesky.html) is helpful for this.\n",
    "\n"
   ]
  },
  {
   "cell_type": "markdown",
   "metadata": {
    "format": "text/markdown"
   },
   "source": [
    "\n"
   ]
  },
  {
   "cell_type": "code",
   "execution_count": 12,
   "metadata": {
    "autoscroll": "auto",
    "options": {
     "caption": false,
     "complete": true,
     "display_data": true,
     "display_stream": true,
     "dpi": 200,
     "echo": true,
     "evaluate": false,
     "f_env": null,
     "f_pos": "htpb",
     "f_size": [
      6,
      4
     ],
     "f_spines": true,
     "fig": true,
     "include": true,
     "name": null,
     "option_string": "echo='True',evaluate='False'",
     "results": "verbatim",
     "term": false,
     "wrap": "output"
    }
   },
   "outputs": [
    {
     "name": "stdout",
     "output_type": "stream",
     "text": [
      "Phenomenal\n",
      "A score of 1 was entered for Question 2\n"
     ]
    }
   ],
   "source": [
    "# Define X here\n",
    "X= np.random.multivariate_normal(mu, P, 1000).T\n",
    "\n",
    "Questions[2].checkAnswer(X)"
   ]
  },
  {
   "cell_type": "markdown",
   "metadata": {
    "format": "text/markdown"
   },
   "source": [
    "\n",
    "If you got it wrong but you are pretty sure you had the right answer, you may just need to run the cell again.\n",
    "The checker relies on a [statistical test](https://en.wikipedia.org/wiki/Kolmogorov-Smirnov_test). There is a slight chance that the test will fail even though you are correct.  \n",
    "(If you get it wrong several times in a row, you probably have the wrong answer.)<\n",
    "\n",
    "Let's see what this looks like. In particular, most of the points in `X`  should be contained within\n",
    "an ellipse centered at `mu` and shapred according to `P`.\n",
    "\n"
   ]
  },
  {
   "cell_type": "code",
   "execution_count": 13,
   "metadata": {
    "autoscroll": "auto",
    "options": {
     "caption": false,
     "complete": true,
     "display_data": true,
     "display_stream": true,
     "dpi": 200,
     "echo": true,
     "evaluate": false,
     "f_env": null,
     "f_pos": "htpb",
     "f_size": [
      6,
      4
     ],
     "f_spines": true,
     "fig": true,
     "include": true,
     "name": null,
     "option_string": "echo='True',evaluate='False'",
     "results": "verbatim",
     "term": false,
     "wrap": "output"
    }
   },
   "outputs": [
    {
     "data": {
      "text/plain": [
       "[<matplotlib.lines.Line2D at 0x28cb448cd68>]"
      ]
     },
     "execution_count": 13,
     "metadata": {},
     "output_type": "execute_result"
    },
    {
     "data": {
      "image/png": "[encoded data removed]",
      "text/plain": [
       "<Figure size 432x288 with 1 Axes>"
      ]
     },
     "metadata": {},
     "output_type": "display_data"
    }
   ],
   "source": [
    "# Plot the mean\n",
    "plt.plot(mu[0],mu[1],'*')\n",
    "\n",
    "# Plot the ellipse of the covariance matrix\n",
    "Mu = np.outer(mu,np.ones(100))\n",
    "L = la.cholesky(P,lower=True)\n",
    "theta = np.linspace(0,2*np.pi,100)\n",
    "Ellipse = Mu + np.dot(L,np.array([np.cos(theta),np.sin(theta)]))\n",
    "plt.plot(Ellipse[0],Ellipse[1])\n",
    "\n",
    "\n",
    "# Do a scatter plot of X\n",
    "plt.plot(X[0],X[1],'.',alpha=.2)"
   ]
  },
  {
   "cell_type": "markdown",
   "metadata": {
    "format": "text/markdown"
   },
   "source": [
    "\n"
   ]
  },
  {
   "cell_type": "markdown",
   "metadata": {
    "format": "text/markdown"
   },
   "source": [
    "\n",
    "# Question 3\n",
    "\n"
   ]
  },
  {
   "cell_type": "markdown",
   "metadata": {
    "format": "text/markdown"
   },
   "source": [
    "\n"
   ]
  },
  {
   "cell_type": "markdown",
   "metadata": {
    "format": "text/markdown"
   },
   "source": [
    "\n",
    "Here is some data that was randomly generated by a two-dimensional Gaussian. Here each column is a sample\n",
    "from the distribution.\n",
    "\n"
   ]
  },
  {
   "cell_type": "code",
   "execution_count": 14,
   "metadata": {
    "autoscroll": "auto",
    "options": {
     "caption": false,
     "complete": true,
     "display_data": true,
     "display_stream": true,
     "dpi": 200,
     "echo": true,
     "evaluate": false,
     "f_env": null,
     "f_pos": "htpb",
     "f_size": [
      6,
      4
     ],
     "f_spines": true,
     "fig": true,
     "include": true,
     "name": null,
     "option_string": "echo='True',evaluate='False'",
     "results": "verbatim",
     "term": false,
     "wrap": "output"
    }
   },
   "outputs": [
    {
     "data": {
      "image/png": "[encoded data removed]",
      "text/plain": [
       "<Figure size 432x288 with 1 Axes>"
      ]
     },
     "metadata": {},
     "output_type": "display_data"
    }
   ],
   "source": [
    "X_rand = Data.X_rand\n",
    "plt.plot(X_rand[0],X_rand[1],'.')\n",
    "plt.gca().set_aspect('equal')"
   ]
  },
  {
   "cell_type": "markdown",
   "metadata": {
    "format": "text/markdown"
   },
   "source": [
    " \n",
    "Compute the maximum likelihood estimates of the mean and covariance.\n",
    "\n"
   ]
  },
  {
   "cell_type": "markdown",
   "metadata": {
    "format": "text/markdown"
   },
   "source": [
    "\n"
   ]
  },
  {
   "cell_type": "code",
   "execution_count": 15,
   "metadata": {
    "autoscroll": "auto",
    "options": {
     "caption": false,
     "complete": true,
     "display_data": true,
     "display_stream": true,
     "dpi": 200,
     "echo": true,
     "evaluate": false,
     "f_env": null,
     "f_pos": "htpb",
     "f_size": [
      6,
      4
     ],
     "f_spines": true,
     "fig": true,
     "include": true,
     "name": null,
     "option_string": "echo='True',evaluate='False'",
     "results": "verbatim",
     "term": false,
     "wrap": "output"
    }
   },
   "outputs": [
    {
     "name": "stdout",
     "output_type": "stream",
     "text": [
      "[[ 1.59127636 -0.25272046]\n",
      " [-0.25272046  0.15288406]] [0.21908585 0.98932836]\n",
      "Huzzah.\n",
      "A score of 1 was entered for Question 3\n"
     ]
    }
   ],
   "source": [
    "# Call the mean mu_ml and the covariance R_ml\n",
    "mu_ml=sum(X_rand.T)/len(X_rand.T)\n",
    "R=np.zeros((2,2))\n",
    "for i in range(len(X_rand.T)):\n",
    "    B=(X_rand.T)[i]-mu_ml\n",
    "    A=[B,[0,0]]\n",
    "    R=R+np.dot(np.transpose(A),A)\n",
    "R_ml=R/(len(X_rand.T))\n",
    "print(R_ml,mu_ml)\n",
    "Questions[3].checkAnswer(mu_ml,R_ml)"
   ]
  },
  {
   "cell_type": "markdown",
   "metadata": {
    "format": "text/markdown"
   },
   "source": [
    "\n"
   ]
  },
  {
   "cell_type": "markdown",
   "metadata": {
    "format": "text/markdown"
   },
   "source": [
    "\n",
    "# Question 4\n",
    "\n",
    "Integrals are hard. This is a ubiquitous problem when working with probabilities. Say that\n",
    "$\\textbf{x}$ is a random variable. The expected value of some function $f(\\textbf{x})$ is given by\n",
    "\\begin{equation*}\n",
    "\\mathbb{E}[f(\\textbf{x})] = \\int f(x) p(x)dx,\n",
    "\\end{equation*}\n",
    "where $p(x)$ is the density of $\\textbf{x}$.\n",
    "\n",
    "Unless $f$ and $p$ have very special forms, the integral will be intractable. However, if we can draw samples from $p(x)$, then we \n",
    "compute the Monte Carlo estimate of the expected value:\n",
    "\\begin{equation*}\n",
    "\\mathbb{E}[f(\\textbf{x})] \\approx \\frac{1}{N} \\sum_{i=0}^{N-1} f(\\textbf{x}_i).\n",
    "\\end{equation*}\n",
    "Here $\\textbf{x}_i$ are independent samples drawn from $p(x)$. \n",
    "\n"
   ]
  },
  {
   "cell_type": "markdown",
   "metadata": {
    "format": "text/markdown"
   },
   "source": [
    "\n"
   ]
  },
  {
   "cell_type": "markdown",
   "metadata": {
    "format": "text/markdown"
   },
   "source": [
    "\n",
    "Assume that $\\textbf{x}$ is a $100$-dimensional Gaussian random variable with mean zero\n",
    "and identity covariance. Let $f(x)$ give the maximum of $x$ over the $100$ coordinates. (`np.max` will help here.)\n",
    "\n",
    "Estimate $\\mathbb{E}[f(\\mathbb{x})]$ by using $5000$ samples of $\\textbf{x}$.\n",
    "\n"
   ]
  },
  {
   "cell_type": "markdown",
   "metadata": {
    "format": "text/markdown"
   },
   "source": [
    "\n"
   ]
  },
  {
   "cell_type": "code",
   "execution_count": 16,
   "metadata": {
    "autoscroll": "auto",
    "options": {
     "caption": false,
     "complete": true,
     "display_data": true,
     "display_stream": true,
     "dpi": 200,
     "echo": true,
     "evaluate": false,
     "f_env": null,
     "f_pos": "htpb",
     "f_size": [
      6,
      4
     ],
     "f_spines": true,
     "fig": true,
     "include": true,
     "name": null,
     "option_string": "echo='True',evaluate='False'",
     "results": "verbatim",
     "term": false,
     "wrap": "output"
    }
   },
   "outputs": [
    {
     "name": "stdout",
     "output_type": "stream",
     "text": [
      "Huzzah.\n",
      "A score of 1 was entered for Question 4\n"
     ]
    }
   ],
   "source": [
    "# call your estimate f_MC_mean\n",
    "mean =np.zeros(100)\n",
    "cov = np.eye(100) \n",
    "x = np.random.multivariate_normal(mean, cov, 5000)\n",
    "f_MC_mean=np.mean(np.max(x,axis=1))\n",
    "Questions[4].checkAnswer(f_MC_mean)"
   ]
  },
  {
   "cell_type": "markdown",
   "metadata": {
    "format": "text/markdown"
   },
   "source": [
    "\n",
    "The uses a statistical test. There is a small chance that your test will fail even if the answer is right. If you think you have the right answer, just run the cell again. \n",
    "(If you get it wrong several times in a row, you probably have the wrong answer.)\n",
    "\n",
    "# Final Score\n",
    "\n",
    "You can run this code to see all of your scores.\n",
    "\n"
   ]
  },
  {
   "cell_type": "code",
   "execution_count": 17,
   "metadata": {
    "autoscroll": "auto",
    "options": {
     "caption": false,
     "complete": true,
     "display_data": true,
     "display_stream": true,
     "dpi": 200,
     "echo": true,
     "evaluate": false,
     "f_env": null,
     "f_pos": "htpb",
     "f_size": [
      6,
      4
     ],
     "f_spines": true,
     "fig": true,
     "include": true,
     "name": null,
     "option_string": "echo='True', evaluate='False' ",
     "results": "verbatim",
     "term": false,
     "wrap": "output"
    }
   },
   "outputs": [
    {
     "name": "stdout",
     "output_type": "stream",
     "text": [
      "Problem 0: 1\n",
      "Problem 1: 1\n",
      "Problem 2: 1\n",
      "Problem 3: 1\n",
      "Problem 4: 1\n",
      "\n",
      "Total: 5 / 5\n"
     ]
    }
   ],
   "source": [
    "Assignment.showResults()"
   ]
  },
  {
   "cell_type": "markdown",
   "metadata": {
    "format": "text/markdown"
   },
   "source": [
    "\n",
    "# Submission\n",
    "\n",
    "Save your work and run this cell to submit. It will only work if you have the internet.\n",
    "\n"
   ]
  },
  {
   "cell_type": "code",
   "execution_count": null,
   "metadata": {
    "autoscroll": "auto",
    "options": {
     "caption": false,
     "complete": true,
     "display_data": true,
     "display_stream": true,
     "dpi": 200,
     "echo": true,
     "evaluate": false,
     "f_env": null,
     "f_pos": "htpb",
     "f_size": [
      6,
      4
     ],
     "f_spines": true,
     "fig": true,
     "include": true,
     "name": null,
     "option_string": "echo='True', evaluate='False' ",
     "results": "verbatim",
     "term": false,
     "wrap": "output"
    }
   },
   "outputs": [],
   "source": [
    "Submit()"
   ]
  },
  {
   "cell_type": "markdown",
   "metadata": {
    "format": "text/markdown"
   },
   "source": [
    "\n"
   ]
  },
  {
   "cell_type": "markdown",
   "metadata": {
    "format": "text/markdown"
   },
   "source": []
  }
 ],
 "metadata": {
  "kernel_info": {
   "name": "estenv"
  },
  "kernelspec": {
   "display_name": "Estimation",
   "language": "python",
   "name": "estenv"
  },
  "language_info": {
   "codemirror_mode": {
    "name": "ipython",
    "version": 3
   },
   "file_extension": ".py",
   "mimetype": "text/x-python",
   "name": "python",
   "nbconvert_exporter": "python",
   "pygments_lexer": "ipython3",
   "version": "3.6.5"
  }
 },
 "nbformat": 4,
 "nbformat_minor": 1
}
