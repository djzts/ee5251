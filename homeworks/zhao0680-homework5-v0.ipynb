{
 "cells": [
  {
   "cell_type": "markdown",
   "metadata": {
    "format": "text/markdown"
   },
   "source": [
    "\n"
   ]
  },
  {
   "cell_type": "markdown",
   "metadata": {
    "format": "text/markdown"
   },
   "source": [
    "\\begin{equation*}\n",
    "\\newcommand{\\E}{\\mathbb{E}}\n",
    "\\newcommand{\\Nor}{\\mathcal{N}}\n",
    "\\end{equation*}\n",
    "\n"
   ]
  },
  {
   "cell_type": "markdown",
   "metadata": {
    "format": "text/markdown"
   },
   "source": [
    "\n",
    "# Due Dates\n",
    "\n",
    "* Textbook: Thursday, October 25, in class\n",
    "* Coding: Thursday, October 25, at 11:59 PM\n",
    "\n",
    "# Textbook Problems\n",
    "\n",
    "* 3.7\n",
    "* 3.26\n",
    "* 3.28 (Don't try to compare with Ackermann's formula / pole placement, since we have not discussed this.) \n",
    "* 3.31\n",
    "\n"
   ]
  },
  {
   "cell_type": "code",
   "execution_count": 6,
   "metadata": {
    "autoscroll": "auto",
    "options": {
     "caption": false,
     "complete": true,
     "display_data": true,
     "display_stream": true,
     "dpi": 200,
     "echo": true,
     "evaluate": false,
     "f_env": null,
     "f_pos": "htpb",
     "f_size": [
      6,
      4
     ],
     "f_spines": true,
     "fig": true,
     "include": true,
     "name": null,
     "option_string": "echo='True', evaluate='False' ",
     "results": "verbatim",
     "term": false,
     "wrap": "output"
    }
   },
   "outputs": [],
   "source": [
    "# This is code to load the assignment.\n",
    "# You'll need to run this code do or restart the assignment.\n",
    "from loadAssignment import loadAssignment\n",
    "Assignment, Questions, Submit, Data = loadAssignment(5)\n",
    "\n",
    "# These are modules that we need\n",
    "# once you run this code, you don't need to load them again\n",
    "import autograd.numpy as np\n",
    "import autograd as ag\n",
    "import scipy.linalg as la\n",
    "import matplotlib.pyplot as plt\n",
    "%matplotlib inline"
   ]
  },
  {
   "cell_type": "markdown",
   "metadata": {
    "format": "text/markdown"
   },
   "source": [
    "\n"
   ]
  },
  {
   "cell_type": "markdown",
   "metadata": {
    "format": "text/markdown"
   },
   "source": [
    "\n"
   ]
  },
  {
   "cell_type": "markdown",
   "metadata": {
    "format": "text/markdown"
   },
   "source": [
    "\n",
    "\n",
    "\n",
    "# Question 0\n",
    "\n",
    "\n"
   ]
  },
  {
   "cell_type": "markdown",
   "metadata": {
    "format": "text/markdown"
   },
   "source": [
    "\n"
   ]
  },
  {
   "cell_type": "markdown",
   "metadata": {
    "format": "text/markdown"
   },
   "source": [
    "\n",
    "\n"
   ]
  },
  {
   "cell_type": "markdown",
   "metadata": {
    "format": "text/markdown"
   },
   "source": [
    "\n",
    "In this homework, we will use the extended Kalman filter to track the movement of a simple \n",
    "vehicle model given in discrete-time by:\n",
    "\\begin{equation*}\n",
    "\\begin{bmatrix}\n",
    "p_x[k+1] \\\\\n",
    "p_y[k+1] \\\\\n",
    "\\theta[k+1]\n",
    "\\end{bmatrix}\n",
    "=\n",
    "\\begin{bmatrix}\n",
    "p_x[k] \\\\\n",
    "p_y[k] \\\\\n",
    "\\theta[k]\n",
    "\\end{bmatrix} + dt \n",
    "\\begin{bmatrix}\n",
    "u_v[k] \\cos(\\theta[k]) \\\\ \n",
    "u_v[k] \\sin(\\theta[k]) \\\\\n",
    "u_\\omega[k]\n",
    "\\end{bmatrix}\n",
    "+w[k].\n",
    "\\end{equation*}\n",
    "\n"
   ]
  },
  {
   "cell_type": "markdown",
   "metadata": {
    "format": "text/markdown"
   },
   "source": [
    "\n",
    "Here $dt$ is the time-step and $w[k]$ is the process noise. We will assume that $dt=0.1$ and the process noise is independent Gaussian noise distributed as $w[k] \\sim\\Nor(0,0.0001I)$.\n",
    "\n",
    "We stack the state and inputs as:\n",
    "\\begin{equation*}\n",
    "x[k] = \\begin{bmatrix}\n",
    "p_x[k] \\\\\n",
    "p_y[k] \\\\\n",
    "\\theta[k]\n",
    "\\end{bmatrix}\n",
    "\\quad \n",
    "u[k] = \\begin{bmatrix}\n",
    "u_v[k] \\\\\n",
    "u_\\omega[k]\n",
    "\\end{bmatrix}\n",
    "\\end{equation*}\n",
    "\n",
    "The initial condition, control input, $u[0],\\ldots,u[488]$, and noise terms $w[0],\\ldots,w[488]$ are given below. \n",
    "\n"
   ]
  },
  {
   "cell_type": "code",
   "execution_count": 7,
   "metadata": {
    "autoscroll": "auto",
    "options": {
     "caption": false,
     "complete": true,
     "display_data": true,
     "display_stream": true,
     "dpi": 200,
     "echo": true,
     "evaluate": false,
     "f_env": null,
     "f_pos": "htpb",
     "f_size": [
      6,
      4
     ],
     "f_spines": true,
     "fig": true,
     "include": true,
     "name": null,
     "option_string": " echo='True', evaluate='False' ",
     "results": "verbatim",
     "term": false,
     "wrap": "output"
    }
   },
   "outputs": [],
   "source": [
    "x0 = Data.x0\n",
    "U = Data.U\n",
    "Wp = Data.Wp"
   ]
  },
  {
   "cell_type": "markdown",
   "metadata": {
    "format": "text/markdown"
   },
   "source": [
    "\n",
    "\n",
    "Simulate the system. Store your result in a matrix of size $3\\times 490$, where each row corresponds to a state value. \n",
    "\n"
   ]
  },
  {
   "cell_type": "markdown",
   "metadata": {
    "format": "text/markdown"
   },
   "source": [
    "\n"
   ]
  },
  {
   "cell_type": "code",
   "execution_count": 8,
   "metadata": {
    "autoscroll": "auto",
    "options": {
     "caption": false,
     "complete": true,
     "display_data": true,
     "display_stream": true,
     "dpi": 200,
     "echo": true,
     "evaluate": false,
     "f_env": null,
     "f_pos": "htpb",
     "f_size": [
      6,
      4
     ],
     "f_spines": true,
     "fig": true,
     "include": true,
     "name": null,
     "option_string": " echo='True'\t, evaluate = 'False' ",
     "results": "verbatim",
     "term": false,
     "wrap": "output"
    }
   },
   "outputs": [
    {
     "name": "stdout",
     "output_type": "stream",
     "text": [
      "[[ 1.03000965e-03 -4.81457392e-03 -2.07396783e-02]\n",
      " [ 4.41044610e-03 -1.87980303e-02  1.19603871e-02]\n",
      " [ 1.19397551e-02  5.91593715e-06 -5.81531492e-03]\n",
      " ...\n",
      " [-5.96176296e-03 -4.41270042e-03  2.24167321e-03]\n",
      " [-2.40802942e-05 -1.01702824e-03  1.21720835e-02]\n",
      " [-6.54847526e-03 -7.64063397e-03  1.73171763e-02]]\n",
      "That is correct. Nice.\n",
      "A score of 1 was entered for Question 0\n"
     ]
    }
   ],
   "source": [
    "# Store your result in an array called X\n",
    "list=[(x0)]\n",
    "temp=(x0)\n",
    "for k in range(489):\n",
    "    temp=temp+([0.1*U[k][0]*np.cos(temp[2]),0.1*U[k][0]*np.sin(temp[2]),0.1*U[k][1]])+(Wp[k])\n",
    "    list.append(temp)\n",
    "X=np.array(list)\n",
    "print(Wp)\n",
    "Questions[0].checkAnswer(X)"
   ]
  },
  {
   "cell_type": "markdown",
   "metadata": {
    "format": "text/markdown"
   },
   "source": [
    "\n"
   ]
  },
  {
   "cell_type": "code",
   "execution_count": 9,
   "metadata": {
    "autoscroll": "auto",
    "options": {
     "caption": false,
     "complete": true,
     "display_data": true,
     "display_stream": true,
     "dpi": 200,
     "echo": true,
     "evaluate": false,
     "f_env": null,
     "f_pos": "htpb",
     "f_size": [
      6,
      4
     ],
     "f_spines": true,
     "fig": true,
     "include": true,
     "name": null,
     "option_string": " echo='True',evaluate='False'",
     "results": "verbatim",
     "term": false,
     "wrap": "output"
    }
   },
   "outputs": [
    {
     "data": {
      "image/png": "[encoded data removed]",
      "text/plain": [
       "<Figure size 432x288 with 1 Axes>"
      ]
     },
     "metadata": {},
     "output_type": "display_data"
    }
   ],
   "source": [
    "# Here is the true trajectory of the vehicle\n",
    "plt.plot(X[:,0],X[:,1])\n",
    "plt.plot(X[0,0],X[0,1],'go')\n",
    "plt.plot(X[-1,0],X[-1,1],'rs')\n",
    "plt.gca().set_aspect('equal')"
   ]
  },
  {
   "cell_type": "markdown",
   "metadata": {
    "format": "text/markdown"
   },
   "source": [
    "\n"
   ]
  },
  {
   "cell_type": "markdown",
   "metadata": {
    "format": "text/markdown"
   },
   "source": [
    "\n",
    "# Question 1\n",
    "\n",
    "In the next several problems, we will code up the extended Kalman filter (EKF) for this problem.\n",
    "\n",
    "The course text does not cover the discrete-time EKF. A good alternative reference that does cover the discrete-time EKF is given here:\n",
    "\n",
    "https://users.aalto.fi/~ssarkka/pub/cup_book_online_20131111.pdf\n",
    "\n",
    "\n",
    "The discussion is in Section 5.2. Specifically, we will use Algorithm 5.5.  \n",
    "\n",
    "This question will focus on the time-update.\n",
    "\n",
    "Assume that we have computed our posterior approximations:\n",
    "\\begin{equation*}\n",
    "\\hat x_k^+ = \\E[x_k | y_{0:k},u_{0:k-1}], \\quad P_k^+ = \\E[(x_k-\\hat x_k^+)(x_k-\\hat x_k^+)^\\top]\n",
    "\\end{equation*}\n",
    "\n",
    "Given the input $u_k$ calculate the EKF approximation to the mean can covariance:\n",
    "\\begin{equation*}\n",
    "\\hat x_{k+1}^- = \\E[x_{k+1} | y_{0:k},u_{0:k}], \\quad \n",
    "P_{k+1}^- = \\E[(x_{k+1}-\\hat x_{k+1}^-)(x_{k+1}-\\hat x_{k+1}^-)^\\top]\n",
    "\\end{equation*}\n",
    "\n",
    "Specifically, write a function of the form:\n",
    "\n",
    "```\n",
    "x_pre,P_pre = carTimeUpdate(x_post,P_post,u)\n",
    "```\n",
    "\n",
    "As always, I would encourage you to use autograd, rather than taking the required Jacobians manually.\n",
    "\n"
   ]
  },
  {
   "cell_type": "markdown",
   "metadata": {
    "format": "text/markdown"
   },
   "source": [
    "\n"
   ]
  },
  {
   "cell_type": "code",
   "execution_count": 14,
   "metadata": {
    "autoscroll": "auto",
    "options": {
     "caption": false,
     "complete": true,
     "display_data": true,
     "display_stream": true,
     "dpi": 200,
     "echo": true,
     "evaluate": false,
     "f_env": null,
     "f_pos": "htpb",
     "f_size": [
      6,
      4
     ],
     "f_spines": true,
     "fig": true,
     "include": true,
     "name": null,
     "option_string": " echo='True',evaluate='False' ",
     "results": "verbatim",
     "term": false,
     "wrap": "output"
    }
   },
   "outputs": [
    {
     "name": "stdout",
     "output_type": "stream",
     "text": [
      "Huzzah.\n",
      "A score of 1 was entered for Question 1\n"
     ]
    }
   ],
   "source": [
    "# Define your function here\n",
    "dt=0.1\n",
    "\n",
    "def dot(*arg):\n",
    "    Answer=arg[0]\n",
    "    for i in range(len(arg)-1):\n",
    "        Answer= np.dot(Answer,arg[i+1])\n",
    "    return Answer\n",
    "\n",
    "def carTimeUpdate(x_post,P_post,u):\n",
    "    def fun(xk,wk):\n",
    "        return np.array([xk[0]+dt*u[0]*np.cos(xk[2])+wk[0],xk[1]+dt*u[0]*np.sin(xk[2])+wk[1],xk[2]+dt*u[1]+wk[2]])\n",
    "    \n",
    "    x_pre=fun(x_post,np.zeros(len(x_post)))\n",
    "    dx = ag.jacobian(fun,argnum=0)\n",
    "    dq= ag.jacobian(fun,argnum=1)\n",
    "    Fx=dx(x_post,np.zeros(len(x_post)))\n",
    "    Fq=dq(x_post,np.zeros(len(x_post)))\n",
    "    Qk=0.0001*np.eye(len(x_pre))\n",
    "    P_pre=dot(Fx,P_post,np.transpose(Fx))+dot(Fq,Qk,np.transpose(Fq))\n",
    "    return x_pre,P_pre\n",
    "Questions[1].checkAnswer(carTimeUpdate)"
   ]
  },
  {
   "cell_type": "markdown",
   "metadata": {
    "format": "text/markdown"
   },
   "source": [
    "\n"
   ]
  },
  {
   "cell_type": "markdown",
   "metadata": {
    "format": "text/markdown"
   },
   "source": [
    "\n",
    "# Question 2\n",
    "\n",
    "Recall the distance measurement model from a few weeks ago:\n",
    "\n",
    "\\begin{equation*}\n",
    "(y_k)_i = \\|p_k-c_i\\| + 0.2 (1+\\|x-c_i\\|) (v_k)_i\n",
    "\\end{equation*}\n",
    "\n",
    "Here $p_k = \\begin{bmatrix} p_x[k] \\\\ p_y[k] \\end{bmatrix}$, $c_i$ corresponds to the location of a sensor, and $(v_k)_i$ are independent Gaussian noises with mean $0$ and covariance $1$. The term $(y_k)_i$ denotes that entry $i$ of the measurement at time $k$. Similarly, $(v_k)_i$ is the entry $i$ of the measurement noise at time $k$. \n",
    "In this problem, we will have $10$ sensors at locations given below:\n",
    "\n"
   ]
  },
  {
   "cell_type": "code",
   "execution_count": 15,
   "metadata": {
    "autoscroll": "auto",
    "options": {
     "caption": false,
     "complete": true,
     "display_data": true,
     "display_stream": true,
     "dpi": 200,
     "echo": true,
     "evaluate": false,
     "f_env": null,
     "f_pos": "htpb",
     "f_size": [
      6,
      4
     ],
     "f_spines": true,
     "fig": true,
     "include": true,
     "name": null,
     "option_string": " echo='True', evaluate='False' ",
     "results": "verbatim",
     "term": false,
     "wrap": "output"
    }
   },
   "outputs": [],
   "source": [
    "SensorLocs = Data.SensorLocs"
   ]
  },
  {
   "cell_type": "markdown",
   "metadata": {
    "format": "text/markdown"
   },
   "source": [
    "\n",
    "Assume now that the prior approximations have been computed:\n",
    "\n",
    "\\begin{equation*}\n",
    "\\hat x_k^- = \\E[x_k | y_{0:k-1},u_{0:k-1}], \\quad P_k^- = \\E[(x_k - \\hat x_k^-)(x_k - \\hat x_k^-)^\\top]\n",
    "\\end{equation*}\n",
    "\n",
    "Given the measurement, $y_k$, compute the EKF posterior approximations:\n",
    "\n",
    "\\begin{equation*}\n",
    "\\hat x_k^+ = \\E[x_k | y_{0:k},u_{0:k-1}], \\quad P_k^+ = \\E[(x_k-\\hat x_k^+)(x_k - \\hat x_k^+)^\\top].\n",
    "\\end{equation*}\n",
    "\n",
    "Specifically, write a function of the form:\n",
    "\n",
    "```\n",
    "x_post,P_post = carMeasUpdate(x_pre,P_pre,y)\n",
    "```\n",
    "\n"
   ]
  },
  {
   "cell_type": "markdown",
   "metadata": {
    "format": "text/markdown"
   },
   "source": [
    "\n"
   ]
  },
  {
   "cell_type": "code",
   "execution_count": 58,
   "metadata": {
    "autoscroll": "auto",
    "options": {
     "caption": false,
     "complete": true,
     "display_data": true,
     "display_stream": true,
     "dpi": 200,
     "echo": true,
     "evaluate": false,
     "f_env": null,
     "f_pos": "htpb",
     "f_size": [
      6,
      4
     ],
     "f_spines": true,
     "fig": true,
     "include": true,
     "name": null,
     "option_string": "echo='True',evaluate='False' ",
     "results": "verbatim",
     "term": false,
     "wrap": "output"
    }
   },
   "outputs": [
    {
     "name": "stdout",
     "output_type": "stream",
     "text": [
      "Huzzah.\n",
      "A score of 1 was entered for Question 2\n"
     ]
    }
   ],
   "source": [
    "# Define your function here\n",
    "def carMeasUpdate(x_pre,P_pre,y):\n",
    "    def h(Pk,vk):\n",
    "        f2=np.array([Pk[0],Pk[1]])\n",
    "        error=np.outer(np.ones(len(SensorLocs)),np.array([Pk[0],Pk[1]])) - SensorLocs\n",
    "        return np.linalg.norm(error,axis=1)+0.2*(1+np.linalg.norm(error,axis=1))*vk\n",
    "    \n",
    "    dhx = ag.jacobian(h,argnum=0)\n",
    "    dhR= ag.jacobian(h,argnum=1)\n",
    "    Hx=dhx(x_pre,np.zeros(10))\n",
    "    HR=dhR(x_pre,np.zeros(10))\n",
    "    \n",
    "    k_plus=y-h(x_pre,np.zeros(10))\n",
    "    Sk=mult(Hx,P_pre,np.transpose(Hx))+mult(HR,np.transpose(HR))\n",
    "\n",
    "    Kk=mult(P_pre,np.transpose(Hx),np.linalg.inv(Sk))\n",
    "    x_post=x_pre+mult(Kk,k_plus)\n",
    "\n",
    "    \n",
    "    P_post=P_pre-mult(Kk,Sk,np.transpose(Kk))\n",
    "    return x_post,P_post\n",
    "    \n",
    "\n",
    "\n",
    "Questions[2].checkAnswer(carMeasUpdate)"
   ]
  },
  {
   "cell_type": "markdown",
   "metadata": {
    "format": "text/markdown"
   },
   "source": [
    "\n"
   ]
  },
  {
   "cell_type": "markdown",
   "metadata": {
    "format": "text/markdown"
   },
   "source": [
    "\n",
    "\n",
    "\n",
    "# Question 3\n",
    "\n",
    "Now we will use the functions above to compute the EKF for the vehicle model. So, we will assume that the vehicle state is no longer directly measured. Assume that the initial state is distributed as $\\Nor(0,10\\cdot I)$. Furthermore, assume that the measurements are those given below:\n",
    "\n"
   ]
  },
  {
   "cell_type": "code",
   "execution_count": 59,
   "metadata": {
    "autoscroll": "auto",
    "options": {
     "caption": false,
     "complete": true,
     "display_data": true,
     "display_stream": true,
     "dpi": 200,
     "echo": true,
     "evaluate": false,
     "f_env": null,
     "f_pos": "htpb",
     "f_size": [
      6,
      4
     ],
     "f_spines": true,
     "fig": true,
     "include": true,
     "name": null,
     "option_string": " echo='True', evaluate = 'False' ",
     "results": "verbatim",
     "term": false,
     "wrap": "output"
    }
   },
   "outputs": [],
   "source": [
    "Y = Data.Y"
   ]
  },
  {
   "cell_type": "markdown",
   "metadata": {
    "format": "text/markdown"
   },
   "source": [
    "\n",
    "In particular, make a $490\\times 3$ array for the values of $\\hat x_k^+$ and an $490 \\times 3\\times 3$ array for the values of $P_k^+$. \n",
    "\n"
   ]
  },
  {
   "cell_type": "markdown",
   "metadata": {
    "format": "text/markdown"
   },
   "source": [
    "\n"
   ]
  },
  {
   "cell_type": "code",
   "execution_count": 60,
   "metadata": {
    "autoscroll": "auto",
    "options": {
     "caption": false,
     "complete": true,
     "display_data": true,
     "display_stream": true,
     "dpi": 200,
     "echo": true,
     "evaluate": false,
     "f_env": null,
     "f_pos": "htpb",
     "f_size": [
      6,
      4
     ],
     "f_spines": true,
     "fig": true,
     "include": true,
     "name": null,
     "option_string": " echo='True',evaluate='False' ",
     "results": "verbatim",
     "term": false,
     "wrap": "output"
    }
   },
   "outputs": [
    {
     "name": "stdout",
     "output_type": "stream",
     "text": [
      "True - Test:\n",
      "[[-4.16333634e-17  1.55431223e-15  0.00000000e+00]\n",
      " [ 2.44249065e-15  6.88338275e-15  0.00000000e+00]\n",
      " [ 3.33066907e-15  5.10702591e-15  0.00000000e+00]\n",
      " ...\n",
      " [ 2.66453526e-15  0.00000000e+00  4.44089210e-16]\n",
      " [ 2.66453526e-15  0.00000000e+00  4.44089210e-16]\n",
      " [ 2.66453526e-15  0.00000000e+00  4.44089210e-16]]\n",
      "Passed\n",
      "True - Test:\n",
      "[[[ 1.77635684e-15 -3.55271368e-15  0.00000000e+00]\n",
      "  [-5.32907052e-15 -7.10542736e-15  0.00000000e+00]\n",
      "  [ 0.00000000e+00  0.00000000e+00  0.00000000e+00]]\n",
      "\n",
      " [[ 4.44089210e-16 -1.66533454e-15  0.00000000e+00]\n",
      "  [-3.33066907e-15 -1.88737914e-15  0.00000000e+00]\n",
      "  [ 0.00000000e+00  0.00000000e+00  0.00000000e+00]]\n",
      "\n",
      " [[ 2.22044605e-16 -1.33226763e-15  0.00000000e+00]\n",
      "  [-2.83106871e-15 -2.77555756e-16  0.00000000e+00]\n",
      "  [ 0.00000000e+00  0.00000000e+00  0.00000000e+00]]\n",
      "\n",
      " ...\n",
      "\n",
      " [[-1.24900090e-16 -2.98372438e-16  5.29090660e-17]\n",
      "  [ 6.97358837e-16  3.53883589e-16  1.13624388e-16]\n",
      "  [-7.93635990e-17 -5.89805982e-17 -5.20417043e-18]]\n",
      "\n",
      " [[-1.38777878e-16 -3.01841885e-16  5.33427469e-17]\n",
      "  [ 7.00828284e-16  3.53883589e-16  1.13624388e-16]\n",
      "  [-7.89299182e-17 -5.89805982e-17 -5.20417043e-18]]\n",
      "\n",
      " [[-1.38777878e-16 -3.05311332e-16  5.37764278e-17]\n",
      "  [ 7.07767178e-16  3.53883589e-16  1.13624388e-16]\n",
      "  [-7.84962373e-17 -5.89805982e-17 -5.20417043e-18]]]\n",
      "Passed\n",
      "Phenomenal\n",
      "A score of 1 was entered for Question 3\n"
     ]
    }
   ],
   "source": [
    "# Calculate the estimates here\n",
    "# Call them Mu and P_arr\n",
    "Mu=np.zeros((490,3))\n",
    "P_kplus=np.zeros((490,3,3))\n",
    "\n",
    "mu=np.zeros(3)\n",
    "sigma=10*np.eye(3)\n",
    "Mu[0,:],P_kplus[0,:,:]=carMeasUpdate(mu,sigma,Y[0])\n",
    "\n",
    "\n",
    "for k in range(1,490):\n",
    "        x_pre,P_pre=carTimeUpdate(Mu[k-1,:],P_kplus[k-1,:,:],U[k-1]);\n",
    "        Mu[k,:],P_kplus[k,:,:]=carMeasUpdate(x_pre,P_pre,Y[k]); \n",
    "Questions[3].checkAnswer(Mu,P_kplus)"
   ]
  },
  {
   "cell_type": "markdown",
   "metadata": {
    "format": "text/markdown"
   },
   "source": [
    "\n"
   ]
  },
  {
   "cell_type": "markdown",
   "metadata": {
    "format": "text/markdown"
   },
   "source": [
    "\n",
    "# Question 4\n",
    "\n",
    "Plot your estimates. Specifically, make $3\\times 1$ collection of subplots. Assume that time starts at $0$ and the system has a sampling interval of $0.1$. Each subplot should show the corresponding state and estimate plotted with respect to time. \n",
    "For the angle, $\\theta$, the values should be shifted to lie in $[-\\pi,\\pi)$. \n",
    "\n"
   ]
  },
  {
   "cell_type": "markdown",
   "metadata": {
    "format": "text/markdown"
   },
   "source": [
    "\n"
   ]
  },
  {
   "cell_type": "code",
   "execution_count": 61,
   "metadata": {
    "autoscroll": "auto",
    "options": {
     "caption": false,
     "complete": true,
     "display_data": true,
     "display_stream": true,
     "dpi": 200,
     "echo": true,
     "evaluate": false,
     "f_env": null,
     "f_pos": "htpb",
     "f_size": [
      6,
      4
     ],
     "f_spines": true,
     "fig": true,
     "include": true,
     "name": null,
     "option_string": "echo='True',evaluate='False' ",
     "results": "verbatim",
     "term": false,
     "wrap": "output"
    }
   },
   "outputs": [
    {
     "name": "stdout",
     "output_type": "stream",
     "text": [
      "Incorrect\n",
      "You may, however, try again.\n",
      "A score of 0 was entered for Question 4\n"
     ]
    },
    {
     "data": {
      "image/png": "[encoded data removed]",
      "text/plain": [
       "<Figure size 432x288 with 3 Axes>"
      ]
     },
     "metadata": {},
     "output_type": "display_data"
    }
   ],
   "source": [
    "# Make your plots here.\n",
    "import matplotlib.pyplot\n",
    "time=np.linspace(0,48.9,num=490)\n",
    "plt.subplot(1,3,1)\n",
    "plt.plot(time,Mu[:,0],'.')\n",
    "plt.plot(time,X[:,0],'.')\n",
    "plt.subplot(1,3,2)\n",
    "plt.plot(time,Mu[:,1],'.')\n",
    "plt.plot(time,X[:,1],'.')\n",
    "plt.subplot(1,3,3)\n",
    "plt.plot(time,Mu[:,2],'.')\n",
    "plt.plot(time,X[:,2]+7,'.')\n",
    "matplotlib.pyplot.ylim(-3.14,3.14)\n",
    "Questions[4].checkAnswer()"
   ]
  },
  {
   "cell_type": "markdown",
   "metadata": {
    "format": "text/markdown"
   },
   "source": [
    "\n"
   ]
  },
  {
   "cell_type": "markdown",
   "metadata": {
    "format": "text/markdown"
   },
   "source": [
    "\n"
   ]
  },
  {
   "cell_type": "markdown",
   "metadata": {
    "format": "text/markdown"
   },
   "source": [
    "\n",
    "# Final Score\n",
    "\n",
    "You can run this code to see all of your scores.\n",
    "\n",
    "\n"
   ]
  },
  {
   "cell_type": "code",
   "execution_count": 62,
   "metadata": {
    "autoscroll": "auto",
    "options": {
     "caption": false,
     "complete": true,
     "display_data": true,
     "display_stream": true,
     "dpi": 200,
     "echo": true,
     "evaluate": false,
     "f_env": null,
     "f_pos": "htpb",
     "f_size": [
      6,
      4
     ],
     "f_spines": true,
     "fig": true,
     "include": true,
     "name": null,
     "option_string": "echo='True', evaluate='False' ",
     "results": "verbatim",
     "term": false,
     "wrap": "output"
    }
   },
   "outputs": [
    {
     "name": "stdout",
     "output_type": "stream",
     "text": [
      "Problem 0: 1\n",
      "Problem 1: 1\n",
      "Problem 2: 1\n",
      "Problem 3: 1\n",
      "Problem 4: 0\n",
      "\n",
      "Total: 4 / 5\n"
     ]
    }
   ],
   "source": [
    "Assignment.showResults()"
   ]
  },
  {
   "cell_type": "markdown",
   "metadata": {
    "format": "text/markdown"
   },
   "source": [
    "\n",
    "\n",
    "\n",
    "# Submission\n",
    "\n",
    "Save your work and run this cell to submit. It will only work if you have the internet.\n",
    "\n"
   ]
  },
  {
   "cell_type": "code",
   "execution_count": null,
   "metadata": {
    "autoscroll": "auto",
    "options": {
     "caption": false,
     "complete": true,
     "display_data": true,
     "display_stream": true,
     "dpi": 200,
     "echo": true,
     "evaluate": false,
     "f_env": null,
     "f_pos": "htpb",
     "f_size": [
      6,
      4
     ],
     "f_spines": true,
     "fig": true,
     "include": true,
     "name": null,
     "option_string": "echo='True', evaluate='False' ",
     "results": "verbatim",
     "term": false,
     "wrap": "output"
    }
   },
   "outputs": [],
   "source": [
    "Submit()"
   ]
  },
  {
   "cell_type": "markdown",
   "metadata": {
    "format": "text/markdown"
   },
   "source": [
    "\n"
   ]
  },
  {
   "cell_type": "markdown",
   "metadata": {
    "format": "text/markdown"
   },
   "source": []
  }
 ],
 "metadata": {
  "kernel_info": {
   "name": "estenv"
  },
  "kernelspec": {
   "display_name": "Estimation",
   "language": "python",
   "name": "estenv"
  },
  "language_info": {
   "codemirror_mode": {
    "name": "ipython",
    "version": 3
   },
   "file_extension": ".py",
   "mimetype": "text/x-python",
   "name": "python",
   "nbconvert_exporter": "python",
   "pygments_lexer": "ipython3",
   "version": "3.6.5"
  }
 },
 "nbformat": 4,
 "nbformat_minor": 1
}
