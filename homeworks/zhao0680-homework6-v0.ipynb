{
 "cells": [
  {
   "cell_type": "markdown",
   "metadata": {
    "format": "text/markdown"
   },
   "source": [
    "\n"
   ]
  },
  {
   "cell_type": "markdown",
   "metadata": {
    "format": "text/markdown"
   },
   "source": [
    "\\begin{equation*}\n",
    "\\newcommand{\\E}{\\mathbb{E}}\n",
    "\\newcommand{\\Nor}{\\mathcal{N}}\n",
    "\\end{equation*}\n",
    "\n"
   ]
  },
  {
   "cell_type": "markdown",
   "metadata": {
    "format": "text/markdown"
   },
   "source": [
    "\n",
    "# Due Dates\n",
    "\n",
    "* Textbook: Thursday, November 1, in class\n",
    "* Coding: Thursday, November 1, at 11:59 PM\n",
    "\n",
    "# Textbook Problems\n",
    "\n",
    "These problems are also coding-based. It may be helpful to do the first two coding exercises, which are related. \n",
    "\n",
    "* 3.39\n",
    "* 3.41\n",
    "* 3.43 (Use an Euler approximation to compute the time updates in discrete-time. The continuous-discrete unscented Kalman filter is outside of the scope of the class.)\n",
    "\n"
   ]
  },
  {
   "cell_type": "code",
   "execution_count": 1,
   "metadata": {
    "autoscroll": "auto",
    "options": {
     "caption": false,
     "complete": true,
     "display_data": true,
     "display_stream": true,
     "dpi": 200,
     "echo": true,
     "evaluate": false,
     "f_env": null,
     "f_pos": "htpb",
     "f_size": [
      6,
      4
     ],
     "f_spines": true,
     "fig": true,
     "include": true,
     "name": null,
     "option_string": "echo='True', evaluate='False' ",
     "results": "verbatim",
     "term": false,
     "wrap": "output"
    }
   },
   "outputs": [],
   "source": [
    "# This is code to load the assignment.\n",
    "# You'll need to run this code do or restart the assignment.\n",
    "from loadAssignment import loadAssignment\n",
    "Assignment, Questions, Submit, Data = loadAssignment(6)\n",
    "\n",
    "# These are modules that we need\n",
    "# once you run this code, you don't need to load them again\n",
    "import autograd.numpy as np\n",
    "import autograd as ag\n",
    "import scipy.linalg as la\n",
    "import scipy.integrate as itg\n",
    "import matplotlib.pyplot as plt\n",
    "%matplotlib inline"
   ]
  },
  {
   "cell_type": "markdown",
   "metadata": {
    "format": "text/markdown"
   },
   "source": [
    "\n"
   ]
  },
  {
   "cell_type": "markdown",
   "metadata": {
    "format": "text/markdown"
   },
   "source": [
    "\n"
   ]
  },
  {
   "cell_type": "markdown",
   "metadata": {
    "format": "text/markdown"
   },
   "source": [
    "\n",
    "\n",
    "\n",
    "# Question 0\n",
    "\n",
    "\n"
   ]
  },
  {
   "cell_type": "markdown",
   "metadata": {
    "format": "text/markdown"
   },
   "source": [
    "\n"
   ]
  },
  {
   "cell_type": "markdown",
   "metadata": {
    "format": "text/markdown"
   },
   "source": [
    "\n",
    "\n"
   ]
  },
  {
   "cell_type": "markdown",
   "metadata": {
    "format": "text/markdown"
   },
   "source": [
    "\n",
    "The first few problems in this assignment will be a warm-ups for the texbook problems. In particular, they will focus on coding continuous-time simulations of the Van der Pol System from example 3.5. That example focuses on the case of estimating the states of a nonlinear dynamic system when the parameters are incorrectly specified.\n",
    "\n",
    "Assume that the initial condition is $x(0)=\\left[\\begin{matrix}1.0\\\\0.0\\end{matrix}\\right]$. \n",
    "Use [`itg.solve_ivp`](https://docs.scipy.org/doc/scipy/reference/generated/scipy.integrate.solve_ivp.html) to simulate the true Van der Pol system for 1000 time points spaced according to $\\Delta t = 0.01$. Make a plot with $x_1(t)$ on the $x$-axis and $x_2(t)$ on the $y$-axis. \n",
    "\n"
   ]
  },
  {
   "cell_type": "markdown",
   "metadata": {
    "format": "text/markdown"
   },
   "source": [
    "\n"
   ]
  },
  {
   "cell_type": "code",
   "execution_count": null,
   "metadata": {
    "autoscroll": "auto",
    "options": {
     "caption": false,
     "complete": true,
     "display_data": true,
     "display_stream": true,
     "dpi": 200,
     "echo": true,
     "evaluate": false,
     "f_env": null,
     "f_pos": "htpb",
     "f_size": [
      6,
      4
     ],
     "f_spines": true,
     "fig": true,
     "include": true,
     "name": null,
     "option_string": " echo='True',evaluate='False' ",
     "results": "verbatim",
     "term": false,
     "wrap": "output"
    }
   },
   "outputs": [],
   "source": [
    "# Make your plot here\n",
    "\n",
    "Questions[0].checkAnswer()"
   ]
  },
  {
   "cell_type": "markdown",
   "metadata": {
    "format": "text/markdown"
   },
   "source": [
    "\n"
   ]
  },
  {
   "cell_type": "markdown",
   "metadata": {
    "format": "text/markdown"
   },
   "source": [
    "\n",
    "# Question 1\n",
    "\n",
    "Assume that no measurements are taken. Using just the propagation equation from Table 3.9, the mean $\\hat x(t)$ and $ P(t)$ can be simulated. Now use `itg.solve_ivp` to simulate $\\hat x(t)$ and $P(t)$. As in example 3.5, for this simulation, assume that the mis-specified values are used. Also, as in the example, assume that $q =0.2$ and $P(0) = 1000 I$. Assume that $\\hat x(0) = \\left[\\begin{matrix}1.0\\\\0.0\\end{matrix}\\right]\t$\n",
    "\n",
    "Note that in order to use `itg.solve_ivp`, you will need to flatten $\\hat x(t)$ and $P(t)$ into a single vector.\n",
    "\n",
    "Make two plots. The first plot should show $x_1(t)$ and $\\hat x(t)$ on the $x$-axis and $x_2(t)$ and $\\hat x_2(t)$ on the $y$-axis. The second plot should have time on the $x$ axis (starting from $0$) and the 3 unique entries of $P(t)$ on the $y$ axis.\n",
    "\n"
   ]
  },
  {
   "cell_type": "markdown",
   "metadata": {
    "format": "text/markdown"
   },
   "source": [
    "\n"
   ]
  },
  {
   "cell_type": "code",
   "execution_count": null,
   "metadata": {
    "autoscroll": "auto",
    "options": {
     "caption": false,
     "complete": true,
     "display_data": true,
     "display_stream": true,
     "dpi": 200,
     "echo": true,
     "evaluate": false,
     "f_env": null,
     "f_pos": "htpb",
     "f_size": [
      6,
      4
     ],
     "f_spines": true,
     "fig": true,
     "include": true,
     "name": null,
     "option_string": " echo='True', evaluate='False' ",
     "results": "verbatim",
     "term": false,
     "wrap": "output"
    }
   },
   "outputs": [],
   "source": [
    "fig_mean = plt.figure()\n",
    "# Make your plots of x and x_hat here\n",
    "\n",
    "fig_cov = plt.figure()\n",
    "# Make your covariance plots here\n",
    "\n",
    "\n",
    "Questions[1].checkAnswer(fig_mean,fig_cov)"
   ]
  },
  {
   "cell_type": "markdown",
   "metadata": {
    "format": "text/markdown"
   },
   "source": [
    "\n"
   ]
  },
  {
   "cell_type": "markdown",
   "metadata": {
    "format": "text/markdown"
   },
   "source": [
    "\n",
    "# Question 2\n",
    "\n",
    "For the rest of the assignment, we will see how to apply the unscented Kalman filter to the localization problem from the previous homework.\n",
    "\n",
    "Recall the vehicle model given in discrete-time by:\n",
    "\\begin{equation*}\n",
    "\\begin{bmatrix}\n",
    "p_x[k+1] \\\\\n",
    "p_y[k+1] \\\\\n",
    "\\theta[k+1]\n",
    "\\end{bmatrix}\n",
    "=\n",
    "\\begin{bmatrix}\n",
    "p_x[k] \\\\\n",
    "p_y[k] \\\\\n",
    "\\theta[k]\n",
    "\\end{bmatrix} + dt \n",
    "\\begin{bmatrix}\n",
    "u_v[k] \\cos(\\theta[k]) \\\\ \n",
    "u_v[k] \\sin(\\theta[k]) \\\\\n",
    "u_\\omega[k]\n",
    "\\end{bmatrix}\n",
    "+w[k].\n",
    "\\end{equation*}\n",
    "\n"
   ]
  },
  {
   "cell_type": "markdown",
   "metadata": {
    "format": "text/markdown"
   },
   "source": [
    "\n",
    "Here $dt$ is the time-step and $w[k]$ is the process noise. We will assume that $dt=0.1$ and the process noise is independent Gaussian noise distributed as $w[k] \\sim\\Nor(0,0.0001I)$.\n",
    "\n",
    "We stack the state and inputs as:\n",
    "\\begin{equation*}\n",
    "x[k] = \\begin{bmatrix}\n",
    "p_x[k] \\\\\n",
    "p_y[k] \\\\\n",
    "\\theta[k]\n",
    "\\end{bmatrix}\n",
    "\\quad \n",
    "u[k] = \\begin{bmatrix}\n",
    "u_v[k] \\\\\n",
    "u_\\omega[k]\n",
    "\\end{bmatrix}\n",
    "\\end{equation*}\n",
    "\n",
    "This question will focus on the time-update.\n",
    "\n",
    "Throughout this assignment, we will be implementing Algorithm 5.15 from:\n",
    "\n",
    "https://users.aalto.fi/~ssarkka/pub/cup_book_online_20131111.pdf\n",
    "\n",
    "(This algorithm is somewhat different from the description of the UKF from the course text. \n",
    "\n",
    "Assume that we have computed our posterior approximations:\n",
    "\\begin{equation*}\n",
    "\\hat x_k^+ = \\E[x_k | y_{0:k},u_{0:k-1}], \\quad P_k^+ = \\E[(x_k-\\hat x_k^+)(x_k-\\hat x_k^+)^\\top]\n",
    "\\end{equation*}\n",
    "\n",
    "Given the input $u_k$ calculate the UKF approximation to the mean can covariance:\n",
    "\\begin{equation*}\n",
    "\\hat x_{k+1}^- = \\E[x_{k+1} | y_{0:k},u_{0:k}], \\quad \n",
    "P_{k+1}^- = \\E[(x_{k+1}-\\hat x_{k+1}^-)(x_{k+1}-\\hat x_{k+1}^-)^\\top]\n",
    "\\end{equation*}\n",
    "\n",
    "Specifically, write a function of the form:\n",
    "\n",
    "```\n",
    "x_pre,P_pre = carTimeUpdateUKF(x_post,P_post,u)\n",
    "```\n",
    "\n",
    "Use the lower triangular Cholesky decomposition from [`sp.cholesky`](https://docs.scipy.org/doc/scipy/reference/generated/scipy.linalg.cholesky.html) to compute the sigma points. (Note, matrix square roots are not unique. So, for the checker to work we all need to use the same code.)\n",
    "\n",
    "For all of the unscented transforms in this homework, use the parameters:\n",
    "\\begin{equation*}\n",
    "\\alpha = 1, \\quad \\beta = 2, \\quad \\kappa = 3-n,\n",
    "\\end{equation*}\n",
    "where $n$ is the dimension of the variable which you are transforming.\n",
    "\n",
    "\n",
    "\n",
    "\n"
   ]
  },
  {
   "cell_type": "markdown",
   "metadata": {
    "format": "text/markdown"
   },
   "source": [
    "\n"
   ]
  },
  {
   "cell_type": "code",
   "execution_count": null,
   "metadata": {
    "autoscroll": "auto",
    "options": {
     "caption": false,
     "complete": true,
     "display_data": true,
     "display_stream": true,
     "dpi": 200,
     "echo": true,
     "evaluate": false,
     "f_env": null,
     "f_pos": "htpb",
     "f_size": [
      6,
      4
     ],
     "f_spines": true,
     "fig": true,
     "include": true,
     "name": null,
     "option_string": " echo='True',evaluate='False' ",
     "results": "verbatim",
     "term": false,
     "wrap": "output"
    }
   },
   "outputs": [],
   "source": [
    "# Define your function here\n",
    "\n",
    "Questions[2].checkAnswer(carTimeUpdateUKF)"
   ]
  },
  {
   "cell_type": "markdown",
   "metadata": {
    "format": "text/markdown"
   },
   "source": [
    "\n"
   ]
  },
  {
   "cell_type": "markdown",
   "metadata": {
    "format": "text/markdown"
   },
   "source": [
    "\n",
    "# Question 3\n",
    "\n",
    "Recall the distance measurement model from last week ago:\n",
    "\n",
    "\\begin{equation*}\n",
    "(y_k)_i = \\|p_k-c_i\\| + 0.2 (1+\\|p_k-c_i\\|) (v_k)_i\n",
    "\\end{equation*}\n",
    "\n",
    "Here $p_k = \\begin{bmatrix} p_x[k] \\\\ p_y[k] \\end{bmatrix}$, $c_i$ corresponds to the location of a sensor, and $(v_k)_i$ are independent Gaussian noises with mean $0$ and covariance $1$. The term $(y_k)_i$ denotes that entry $i$ of the measurement at time $k$. Similarly, $(v_k)_i$ is the entry $i$ of the measurement noise at time $k$. \n",
    "In this problem, we will have $10$ sensors at locations given below:\n",
    "\n"
   ]
  },
  {
   "cell_type": "code",
   "execution_count": null,
   "metadata": {
    "autoscroll": "auto",
    "options": {
     "caption": false,
     "complete": true,
     "display_data": true,
     "display_stream": true,
     "dpi": 200,
     "echo": true,
     "evaluate": false,
     "f_env": null,
     "f_pos": "htpb",
     "f_size": [
      6,
      4
     ],
     "f_spines": true,
     "fig": true,
     "include": true,
     "name": null,
     "option_string": " echo='True', evaluate='False' ",
     "results": "verbatim",
     "term": false,
     "wrap": "output"
    }
   },
   "outputs": [],
   "source": [
    "SensorLocs = Data.SensorLocs"
   ]
  },
  {
   "cell_type": "markdown",
   "metadata": {
    "format": "text/markdown"
   },
   "source": [
    "\n",
    "Assume now that the prior approximations have been computed:\n",
    "\n",
    "\\begin{equation*}\n",
    "\\hat x_k^- = \\E[x_k | y_{0:k-1},u_{0:k-1}], \\quad P_k^- = \\E[(x_k - \\hat x_k^-)(x_k - \\hat x_k^-)^\\top]\n",
    "\\end{equation*}\n",
    "\n",
    "Given the measurement, $y_k$, compute the UKF posterior approximations:\n",
    "\n",
    "\\begin{equation*}\n",
    "\\hat x_k^+ = \\E[x_k | y_{0:k},u_{0:k-1}], \\quad P_k^+ = \\E[(x_k-\\hat x_k^+)(x_k - \\hat x_k^+)^\\top].\n",
    "\\end{equation*}\n",
    "\n",
    "Specifically, write a function of the form:\n",
    "\n",
    "```\n",
    "x_post,P_post = carMeasUpdateUKF(x_pre,P_pre,y)\n",
    "```\n",
    "\n"
   ]
  },
  {
   "cell_type": "markdown",
   "metadata": {
    "format": "text/markdown"
   },
   "source": [
    "\n"
   ]
  },
  {
   "cell_type": "code",
   "execution_count": null,
   "metadata": {
    "autoscroll": "auto",
    "options": {
     "caption": false,
     "complete": true,
     "display_data": true,
     "display_stream": true,
     "dpi": 200,
     "echo": true,
     "evaluate": false,
     "f_env": null,
     "f_pos": "htpb",
     "f_size": [
      6,
      4
     ],
     "f_spines": true,
     "fig": true,
     "include": true,
     "name": null,
     "option_string": "echo='True',evaluate='False' ",
     "results": "verbatim",
     "term": false,
     "wrap": "output"
    }
   },
   "outputs": [],
   "source": [
    "# Define your function here\n",
    "\n",
    "\n",
    "Questions[3].checkAnswer(carMeasUpdateUKF)"
   ]
  },
  {
   "cell_type": "markdown",
   "metadata": {
    "format": "text/markdown"
   },
   "source": [
    "\n"
   ]
  },
  {
   "cell_type": "markdown",
   "metadata": {
    "format": "text/markdown"
   },
   "source": [
    "\n",
    "\n",
    "\n",
    "# Question 4\n",
    "\n",
    "Now we will use the functions above to compute the UKF for the vehicle model. So, we will assume that the vehicle state is no longer directly measured. Assume that the initial state is distributed as $\\Nor(0,10\\cdot I)$. Furthermore, assume that the inputs and measurements are those given below:\n",
    "\n"
   ]
  },
  {
   "cell_type": "code",
   "execution_count": null,
   "metadata": {
    "autoscroll": "auto",
    "options": {
     "caption": false,
     "complete": true,
     "display_data": true,
     "display_stream": true,
     "dpi": 200,
     "echo": true,
     "evaluate": false,
     "f_env": null,
     "f_pos": "htpb",
     "f_size": [
      6,
      4
     ],
     "f_spines": true,
     "fig": true,
     "include": true,
     "name": null,
     "option_string": " echo='True', evaluate = 'False' ",
     "results": "verbatim",
     "term": false,
     "wrap": "output"
    }
   },
   "outputs": [],
   "source": [
    "U = Data.U\n",
    "Y = Data.Y"
   ]
  },
  {
   "cell_type": "markdown",
   "metadata": {
    "format": "text/markdown"
   },
   "source": [
    "\n",
    "In particular, make a $490\\times 3$ array for the values of $\\hat x_k^+$ and an $490 \\times 3\\times 3$ array for the values of $P_k^+$. \n",
    "\n"
   ]
  },
  {
   "cell_type": "markdown",
   "metadata": {
    "format": "text/markdown"
   },
   "source": [
    "\n"
   ]
  },
  {
   "cell_type": "code",
   "execution_count": null,
   "metadata": {
    "autoscroll": "auto",
    "options": {
     "caption": false,
     "complete": true,
     "display_data": true,
     "display_stream": true,
     "dpi": 200,
     "echo": true,
     "evaluate": false,
     "f_env": null,
     "f_pos": "htpb",
     "f_size": [
      6,
      4
     ],
     "f_spines": true,
     "fig": true,
     "include": true,
     "name": null,
     "option_string": " echo='True',evaluate='False' ",
     "results": "verbatim",
     "term": false,
     "wrap": "output"
    }
   },
   "outputs": [],
   "source": [
    "# Calculate the estimates here\n",
    "# Call them Mu and P_arr\n",
    "\n",
    "Questions[4].checkAnswer(Mu,P_arr)"
   ]
  },
  {
   "cell_type": "markdown",
   "metadata": {
    "format": "text/markdown"
   },
   "source": [
    "\n",
    "Below is a plot of the performance of the UKF\n",
    "\n"
   ]
  },
  {
   "cell_type": "code",
   "execution_count": null,
   "metadata": {
    "autoscroll": "auto",
    "options": {
     "caption": false,
     "complete": true,
     "display_data": true,
     "display_stream": true,
     "dpi": 200,
     "echo": true,
     "evaluate": false,
     "f_env": null,
     "f_pos": "htpb",
     "f_size": [
      6,
      4
     ],
     "f_spines": true,
     "fig": true,
     "include": true,
     "name": null,
     "option_string": " echo='True',evaluate='False' ",
     "results": "verbatim",
     "term": false,
     "wrap": "output"
    }
   },
   "outputs": [],
   "source": [
    "X = Data.X\n",
    "\n",
    "fig,ax = plt.subplots(3,1,sharex=True)\n",
    "Time = 0.1 * np.arange(len(X))\n",
    "ax[0].plot(Time,X[:,0])\n",
    "ax[0].plot(Time,Mu[:,0])\n",
    "ax[1].plot(Time,X[:,1])\n",
    "ax[1].plot(Time,Mu[:,1])\n",
    "\n",
    "shiftAngle = lambda theta : ((theta + np.pi) % (2*np.pi)) -np.pi\n",
    "\n",
    "ax[2].plot(Time,shiftAngle(X[:,2]))\n",
    "ax[2].plot(Time,shiftAngle(Mu[:,2]))"
   ]
  },
  {
   "cell_type": "markdown",
   "metadata": {
    "format": "text/markdown"
   },
   "source": [
    "\n",
    "# Final Score\n",
    "\n",
    "You can run this code to see all of your scores.\n",
    "\n",
    "\n"
   ]
  },
  {
   "cell_type": "code",
   "execution_count": null,
   "metadata": {
    "autoscroll": "auto",
    "options": {
     "caption": false,
     "complete": true,
     "display_data": true,
     "display_stream": true,
     "dpi": 200,
     "echo": true,
     "evaluate": false,
     "f_env": null,
     "f_pos": "htpb",
     "f_size": [
      6,
      4
     ],
     "f_spines": true,
     "fig": true,
     "include": true,
     "name": null,
     "option_string": "echo='True', evaluate='False' ",
     "results": "verbatim",
     "term": false,
     "wrap": "output"
    }
   },
   "outputs": [],
   "source": [
    "Assignment.showResults()"
   ]
  },
  {
   "cell_type": "markdown",
   "metadata": {
    "format": "text/markdown"
   },
   "source": [
    "\n",
    "\n",
    "\n",
    "# Submission\n",
    "\n",
    "Save your work and run this cell to submit. It will only work if you have the internet.\n",
    "\n"
   ]
  },
  {
   "cell_type": "code",
   "execution_count": null,
   "metadata": {
    "autoscroll": "auto",
    "options": {
     "caption": false,
     "complete": true,
     "display_data": true,
     "display_stream": true,
     "dpi": 200,
     "echo": true,
     "evaluate": false,
     "f_env": null,
     "f_pos": "htpb",
     "f_size": [
      6,
      4
     ],
     "f_spines": true,
     "fig": true,
     "include": true,
     "name": null,
     "option_string": "echo='True', evaluate='False' ",
     "results": "verbatim",
     "term": false,
     "wrap": "output"
    }
   },
   "outputs": [],
   "source": [
    "Submit()"
   ]
  },
  {
   "cell_type": "markdown",
   "metadata": {
    "format": "text/markdown"
   },
   "source": [
    "\n"
   ]
  },
  {
   "cell_type": "markdown",
   "metadata": {
    "format": "text/markdown"
   },
   "source": []
  }
 ],
 "metadata": {
  "kernel_info": {
   "name": "estenv"
  },
  "kernelspec": {
   "display_name": "Estimation",
   "language": "python",
   "name": "estenv"
  },
  "language_info": {
   "codemirror_mode": {
    "name": "ipython",
    "version": 3
   },
   "file_extension": ".py",
   "mimetype": "text/x-python",
   "name": "python",
   "nbconvert_exporter": "python",
   "pygments_lexer": "ipython3",
   "version": "3.6.5"
  }
 },
 "nbformat": 4,
 "nbformat_minor": 1
}
