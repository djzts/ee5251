{
 "cells": [
  {
   "cell_type": "markdown",
   "metadata": {
    "format": "text/markdown"
   },
   "source": [
    "\n"
   ]
  },
  {
   "cell_type": "markdown",
   "metadata": {
    "format": "text/markdown"
   },
   "source": [
    "\\begin{equation*}\n",
    "\\newcommand{\\E}{\\mathbb{E}}\n",
    "\\newcommand{\\Nor}{\\mathcal{N}}\n",
    "\\end{equation*}\n",
    "\n"
   ]
  },
  {
   "cell_type": "markdown",
   "metadata": {
    "format": "text/markdown"
   },
   "source": [
    "\n",
    "# Due Dates\n",
    "\n",
    "* Textbook: Tuesday, December 4. Give to Bolei, Keller 5-178\n",
    "* Coding: Tuesday, December 4, at 11:59 PM\n",
    "\n",
    "# Textbook Problem\n",
    "\n",
    "* 4.34\n",
    "\n",
    "\n",
    "\n"
   ]
  },
  {
   "cell_type": "code",
   "execution_count": null,
   "metadata": {
    "autoscroll": "auto",
    "collapsed": false,
    "options": {
     "caption": false,
     "complete": true,
     "display_data": true,
     "display_stream": true,
     "dpi": 200,
     "echo": true,
     "evaluate": false,
     "f_env": null,
     "f_pos": "htpb",
     "f_size": [
      6,
      4
     ],
     "f_spines": true,
     "fig": true,
     "include": true,
     "name": null,
     "option_string": "echo='True', evaluate='False' ",
     "results": "verbatim",
     "term": false,
     "wrap": "output"
    }
   },
   "outputs": [],
   "source": [
    "# This is code to load the assignment.\n",
    "# You'll need to run this code do or restart the assignment.\n",
    "from loadAssignment import loadAssignment\n",
    "Assignment, Questions, Submit, Data = loadAssignment(10)\n",
    "\n",
    "# These are modules that we need\n",
    "# once you run this code, you don't need to load them again\n",
    "import autograd.numpy as np\n",
    "import autograd as ag\n",
    "import scipy.linalg as la\n",
    "import scipy.signal as sp\n",
    "import scipy.stats as st\n",
    "import numpy.random as rnd\n",
    "import matplotlib.pyplot as plt\n",
    "%matplotlib inline"
   ]
  },
  {
   "cell_type": "markdown",
   "metadata": {
    "format": "text/markdown"
   },
   "source": [
    "\n"
   ]
  },
  {
   "cell_type": "markdown",
   "metadata": {
    "format": "text/markdown"
   },
   "source": [
    "\n"
   ]
  },
  {
   "cell_type": "markdown",
   "metadata": {
    "format": "text/markdown"
   },
   "source": [
    "\n",
    "\n",
    "\n",
    "\n",
    "\n"
   ]
  },
  {
   "cell_type": "markdown",
   "metadata": {
    "format": "text/markdown"
   },
   "source": [
    "\n",
    "\n",
    "\n"
   ]
  },
  {
   "cell_type": "markdown",
   "metadata": {
    "format": "text/markdown"
   },
   "source": [
    "\n",
    "\n"
   ]
  },
  {
   "cell_type": "markdown",
   "metadata": {
    "format": "text/markdown"
   },
   "source": [
    "\n",
    "\n",
    "# Question 0\n",
    "\n",
    "This assignment will step through the application of the bootstrap particle filter for a simple\n",
    "video tracking application.\n",
    "\n",
    "The goal is to draw a box at location $(p_x,p_y)$ and size $s$ which\n",
    "        tracks an object as it moves through the video. (In this case, you \n",
    "        will will make the box follow my hoodie. See the cells at the bottom.)\n",
    "\n",
    "The state of the system is given by:\n",
    "\t\n",
    "\\begin{equation*}\n",
    "x[k] = \\begin{bmatrix}\n",
    "p_x[k] \\\\\n",
    "p_y[k] \\\\\n",
    "s[k] \\\\\n",
    "p_x[k-1] \\\\\n",
    "p_y[k-1] \\\\\n",
    "s[k-1]\n",
    "\\end{bmatrix}\n",
    "\\end{equation*}\n",
    "        \n",
    "Find matrices $A$ and $B$ such that:\n",
    "\n",
    "\\begin{equation*}\n",
    "x[k+1] = A x[k] + Bw[k]\n",
    "\\end{equation*}\n",
    "\n",
    "with the following properties:\n",
    "       \n",
    "* If $w[k]=0$, then the velocity of each of the coordinates remains constant:\n",
    "\\begin{equation*}\n",
    "\\begin{bmatrix}\n",
    "p_x[k+1]-p_x[k] \\\\\n",
    "p_y[k+1]-p_y[k] \\\\\n",
    "s[k+1]-s[k]\n",
    "\\end{bmatrix} = \n",
    "\\begin{bmatrix}\n",
    "p_x[k]-p_x[k-1] \\\\\n",
    "p_y[k]-p_y[k-1] \\\\\n",
    "s[k]-s[k-1]\n",
    "\\end{bmatrix}\n",
    "\\end{equation*}\n",
    "\n",
    "\n",
    "*  If $w[k]$ is a three dimensional Gaussian with \n",
    "$w[k]\\sim \\mathcal{N}(0,I)$, then the conditional \n",
    "covariance of $\\begin{bmatrix}\n",
    "p_x[k+1] \\\\\n",
    "p_y[k+1] \\\\\n",
    "s[k+1] \n",
    "\\end{bmatrix}$ given $x[k]$ is given by \n",
    "\\begin{equation*}\n",
    "\\begin{bmatrix}\n",
    "1 & 0 & 0 \\\\\n",
    "0 & 1 & 0 \\\\\n",
    "0 & 0 & 0.0004\n",
    "\\end{bmatrix}\n",
    "\\end{equation*}\n",
    "\n"
   ]
  },
  {
   "cell_type": "markdown",
   "metadata": {
    "format": "text/markdown"
   },
   "source": [
    "\n"
   ]
  },
  {
   "cell_type": "code",
   "execution_count": null,
   "metadata": {
    "autoscroll": "auto",
    "collapsed": false,
    "options": {
     "caption": false,
     "complete": true,
     "display_data": true,
     "display_stream": true,
     "dpi": 200,
     "echo": true,
     "evaluate": false,
     "f_env": null,
     "f_pos": "htpb",
     "f_size": [
      6,
      4
     ],
     "f_spines": true,
     "fig": true,
     "include": true,
     "name": null,
     "option_string": " echo='True',evaluate='False' ",
     "results": "verbatim",
     "term": false,
     "wrap": "output"
    }
   },
   "outputs": [],
   "source": [
    "# Define A and B here\n",
    "\n",
    "Questions[0].checkAnswer(A,B)"
   ]
  },
  {
   "cell_type": "markdown",
   "metadata": {
    "format": "text/markdown"
   },
   "source": [
    "\n"
   ]
  },
  {
   "cell_type": "markdown",
   "metadata": {
    "format": "text/markdown"
   },
   "source": [
    "\n",
    "# Question 1\n",
    "\n",
    "For the bootstrap particle filter, we sample from the distribution $p(x[k+1]|x[k])$. \n",
    "\n",
    "Write a function that generates a sample of $x[k+1]$ given $x[k]$,\n",
    "assuming that $w[k] \\sim \\mathcal{N}(0,I)$:\n",
    "\n",
    "Your function should have the form:\n",
    "\n",
    "```\n",
    "xNext = sampleDynamics(x)\n",
    "```\n",
    "\n"
   ]
  },
  {
   "cell_type": "markdown",
   "metadata": {
    "format": "text/markdown"
   },
   "source": [
    "\n"
   ]
  },
  {
   "cell_type": "code",
   "execution_count": null,
   "metadata": {
    "autoscroll": "auto",
    "collapsed": false,
    "options": {
     "caption": false,
     "complete": true,
     "display_data": true,
     "display_stream": true,
     "dpi": 200,
     "echo": true,
     "evaluate": false,
     "f_env": null,
     "f_pos": "htpb",
     "f_size": [
      6,
      4
     ],
     "f_spines": true,
     "fig": true,
     "include": true,
     "name": null,
     "option_string": " echo='True',evaluate='False' ",
     "results": "verbatim",
     "term": false,
     "wrap": "output"
    }
   },
   "outputs": [],
   "source": [
    "# Define your sampling function here\n",
    "\n",
    "\n",
    "Questions[1].checkAnswer(sampleDynamics)"
   ]
  },
  {
   "cell_type": "markdown",
   "metadata": {
    "format": "text/markdown"
   },
   "source": [
    "\n"
   ]
  },
  {
   "cell_type": "markdown",
   "metadata": {
    "format": "text/markdown"
   },
   "source": [
    "\n",
    "# Question 2\n",
    "\n",
    "\n",
    "\n",
    "The bootstrap particle filter uses weights of the form:\n",
    "\n",
    "\\begin{equation*}\n",
    "w_k^{(i)} \\propto p(y_k | x_k^{(i)}),\n",
    "\\end{equation*}\n",
    "where $p(y|x)$ is the measurement likelihood function, and $x_k^{(i)}$ is particle $i$.\n",
    "\n",
    "If we have $N$ particles, the weights are normalized so that $\\sum_{i=0}^{N-1} w_k^{(i)} = 1$.\n",
    "\n",
    "\n",
    "\n",
    "Write a function of the form:\n",
    "\n",
    "```\n",
    "W = bootstrapWeights(X,y,likelihood)\n",
    "```\n",
    "\n",
    "Here the inputs to the function are:\n",
    "\n",
    "* `X` - an $N \\times n$ array of particles. Here $N$ is the number of  particles and $n$ is the state dimension.\n",
    "* `y` - a measurement\n",
    "* `likelihood` - a function so that `p(y|x) = likelihood(y,x)`. \n",
    "\n",
    "`W` should be a length $N$ array of weights corresponding to the particles from `X`.\n",
    "\n",
    "(The reason we want this to work in general is that the actual likelihood function that we will use in the application is complicated. So it is easier to just treat that function as a black box, rather than worry about coding it up.)\n",
    "\n"
   ]
  },
  {
   "cell_type": "markdown",
   "metadata": {
    "format": "text/markdown"
   },
   "source": [
    "\n"
   ]
  },
  {
   "cell_type": "code",
   "execution_count": null,
   "metadata": {
    "autoscroll": "auto",
    "collapsed": false,
    "options": {
     "caption": false,
     "complete": true,
     "display_data": true,
     "display_stream": true,
     "dpi": 200,
     "echo": true,
     "evaluate": false,
     "f_env": null,
     "f_pos": "htpb",
     "f_size": [
      6,
      4
     ],
     "f_spines": true,
     "fig": true,
     "include": true,
     "name": null,
     "option_string": " echo='True', evaluate='False' ",
     "results": "verbatim",
     "term": false,
     "wrap": "output"
    }
   },
   "outputs": [],
   "source": [
    "# Define your function here\n",
    "\n",
    "Questions[2].checkAnswer(bootstrapWeights)"
   ]
  },
  {
   "cell_type": "markdown",
   "metadata": {
    "format": "text/markdown"
   },
   "source": [
    "\n"
   ]
  },
  {
   "cell_type": "markdown",
   "metadata": {
    "format": "text/markdown"
   },
   "source": [
    "\n",
    "# Question 3\n",
    "\n",
    "As discussed above, the bootstrap particle filter generates samples according to the transition\n",
    "density, $p(x_{k+1}|x_k)$. This is simple to implement, but does not incorporate any information from the measuremnets.\n",
    "\n",
    "To get information from the measurements, the particicles are resampled at each time-step. Specifically, given particles $x_k^{(0)},\\ldots,x_k^{(N-1)}$ and corresponding weights, $w_k^{(0)},\\ldots,w_k^{(N-1)}$, the resampled particles are given by\n",
    "\n",
    "\\begin{equation*}\n",
    "x_k^{(I_0)},x_k^{(I_1)},\\ldots,x_k^{(I_{N-1})},\n",
    "\\end{equation*}\n",
    "where each index $I_j$ is an inpdendent sample from the categorical distribution defined by the weights. In other words, $I_j = i$ with probability $w_k^{(i)}$. \n",
    "\n",
    "Write a function of the form:\n",
    "\n",
    "```\n",
    "X_resampled = resample(X,W)\n",
    "```\n",
    "\n",
    "Here `X` is an $N\\times n$ array of particles, and `W` is a length $N$ array of weights.\n",
    "`X_resampled` should be an $N\\times n$ array of particles resampled as described above.\n",
    "\n",
    "For this problem [`rnd.choice`](https://docs.scipy.org/doc/numpy/reference/generated/numpy.random.choice.html) can be used for the sampling.\n",
    "\n"
   ]
  },
  {
   "cell_type": "markdown",
   "metadata": {
    "format": "text/markdown"
   },
   "source": [
    "\n"
   ]
  },
  {
   "cell_type": "code",
   "execution_count": null,
   "metadata": {
    "autoscroll": "auto",
    "collapsed": false,
    "options": {
     "caption": false,
     "complete": true,
     "display_data": true,
     "display_stream": true,
     "dpi": 200,
     "echo": true,
     "evaluate": false,
     "f_env": null,
     "f_pos": "htpb",
     "f_size": [
      6,
      4
     ],
     "f_spines": true,
     "fig": true,
     "include": true,
     "name": null,
     "option_string": " echo='True', evaluate='False' ",
     "results": "verbatim",
     "term": false,
     "wrap": "output"
    }
   },
   "outputs": [],
   "source": [
    "# Define your function here\n",
    "\n",
    "Questions[3].checkAnswer(resample)"
   ]
  },
  {
   "cell_type": "markdown",
   "metadata": {
    "format": "text/markdown"
   },
   "source": [
    "\n"
   ]
  },
  {
   "cell_type": "markdown",
   "metadata": {
    "format": "text/markdown"
   },
   "source": [
    "\n",
    "\n",
    "\n",
    "# Question 4\n",
    "\n",
    "Putting everything together, the bootstrap particle filter can be summarized as follows:\n",
    "\n",
    "* Initialze particles $x_0^{(i)} \\sim p(x_0)$ for $i=0,\\ldots,N-$.\n",
    "* For each time $k$:\n",
    "\t* Compute the weights $w_k^{(i)} \\propto p(y_k | x_k^{(i)})$\n",
    "\t* Resample the particles based on the weights, $w_k^{(i)}$\n",
    "\t* Compute the next particle values $x_{k+1}^{(i)} \\sim p(x_{k+1}|x_k^{(i)})$\n",
    "\n",
    "Write a function of the form:\n",
    "\n",
    "```\n",
    "XParticle = bootstrapPF(Y,init,dynSampler,likelihood,N)\n",
    "```\n",
    "that implements the bootstrap particle filter.\n",
    "\n",
    "The inputs are:\n",
    "\n",
    "* `Y` - a $T\\times m$ array corresponding to $T$ measurements each of dimension $m$.\n",
    "* `init` - a function such that `init(N)` returns an $N\\times n$ array of samples from the initial distribution, $p(x_0)$\n",
    "* `dynSampler` - a function such that `dynSampler(x)` draws a sample of $x' \\sim p(x'|x)$. \n",
    "* `likelihood` - a function such that `likelihood(y,x)=p(y|x)`\n",
    "* N - the number of particles\n",
    "\n",
    "Here `XParticle` should be a $T\\times N \\times n$ array, where $T$ is the number of time steps, $N$ is the number of particles, and $n$ is the dimension of $x_k$. \n",
    "\n"
   ]
  },
  {
   "cell_type": "markdown",
   "metadata": {
    "format": "text/markdown"
   },
   "source": [
    "\n"
   ]
  },
  {
   "cell_type": "code",
   "execution_count": null,
   "metadata": {
    "autoscroll": "auto",
    "collapsed": false,
    "options": {
     "caption": false,
     "complete": true,
     "display_data": true,
     "display_stream": true,
     "dpi": 200,
     "echo": true,
     "evaluate": false,
     "f_env": null,
     "f_pos": "htpb",
     "f_size": [
      6,
      4
     ],
     "f_spines": true,
     "fig": true,
     "include": true,
     "name": null,
     "option_string": " echo='True',evaluate='False' ",
     "results": "verbatim",
     "term": false,
     "wrap": "output"
    }
   },
   "outputs": [],
   "source": [
    "# Define your function here\n",
    "\n",
    "Questions[4].checkAnswer(bootstrapPF)"
   ]
  },
  {
   "cell_type": "markdown",
   "metadata": {
    "format": "text/markdown"
   },
   "source": [
    "\n",
    "\n",
    "\n",
    "Now we will see how it does. The cells below set up a simple image tracking problem.\n",
    "\n"
   ]
  },
  {
   "cell_type": "code",
   "execution_count": null,
   "metadata": {
    "autoscroll": "auto",
    "collapsed": false,
    "options": {
     "caption": false,
     "complete": true,
     "display_data": true,
     "display_stream": true,
     "dpi": 200,
     "echo": true,
     "evaluate": false,
     "f_env": null,
     "f_pos": "htpb",
     "f_size": [
      6,
      4
     ],
     "f_spines": true,
     "fig": true,
     "include": true,
     "name": null,
     "option_string": "echo='True',evaluate='False' ",
     "results": "verbatim",
     "term": false,
     "wrap": "output"
    }
   },
   "outputs": [],
   "source": [
    "# First we'll load the images and do some basic pre-processing\n",
    "# This may take a few seconds\n",
    "import matplotlib.image as mpimg\n",
    "import matplotlib.colors as mpcol\n",
    "\n",
    "ImRange = range(1,70)\n",
    "\n",
    "Images = []\n",
    "Hsv_Images = []\n",
    "for k in ImRange:\n",
    "    # This is the actual image\n",
    "    img = mpimg.imread('video/both%d.png' % k)\n",
    "    # Our likelihood function requires hue-saturation-value, rather than red-green-blue\n",
    "    hsv = mpcol.rgb_to_hsv(img)\n",
    "    \n",
    "    Images.append(img)\n",
    "    \n",
    "    Hsv_Images.append(hsv)\n",
    "\n",
    "\n",
    "# Next we\n",
    "# Now we'll initialize the state by drawing a box around my hoodie\n",
    "\n",
    "import videoProcessing as vp\n",
    "img= Images[0]\n",
    "img_hsv = Hsv_Images[0]\n",
    "plt.figure(figsize=(10,20))\n",
    "plt.imshow(img)\n",
    "\n",
    "\n",
    "d = np.array([605,150])\n",
    "s = 28\n",
    "\n",
    "x0 = np.hstack([d,s,d,s])\n",
    "imProc = vp.imageProcessor(d,s,img_hsv)\n",
    "\n",
    "vp.drawBox(d,s)\n",
    "plt.axis('off')"
   ]
  },
  {
   "cell_type": "markdown",
   "metadata": {
    "format": "text/markdown"
   },
   "source": [
    "\n"
   ]
  },
  {
   "cell_type": "code",
   "execution_count": 1,
   "metadata": {
    "autoscroll": "auto",
    "collapsed": false,
    "options": {
     "caption": false,
     "complete": true,
     "display_data": true,
     "display_stream": true,
     "dpi": 200,
     "echo": true,
     "evaluate": "---------------------------------------------------------------------------NameError                                 Traceback (most recent call last)<ipython-input-1-7291c144ac20> in <module>()\n----> 1 td_evalaute\nNameError: name 'td_evalaute' is not defined",
     "f_env": null,
     "f_pos": "htpb",
     "f_size": [
      6,
      4
     ],
     "f_spines": true,
     "fig": true,
     "include": true,
     "name": null,
     "option_string": " echo='True',evaluate='---------------------------------------------------------------------------NameError                                 Traceback (most recent call last)<ipython-input-1-7291c144ac20> in <module>()\n----> 1 td_evalaute\nNameError: name 'td_evalaute' is not defined' ",
     "results": "verbatim",
     "term": false,
     "wrap": "output"
    }
   },
   "outputs": [
    {
     "ename": "NameError",
     "evalue": "name 'bootstrapPF' is not defined",
     "output_type": "error",
     "traceback": [
      "\u001b[1;31m---------------------------------------------------------------------------\u001b[0m",
      "\u001b[1;31mNameError\u001b[0m                                 Traceback (most recent call last)",
      "\u001b[1;32m<ipython-input-1-88c7962ec6c2>\u001b[0m in \u001b[0;36m<module>\u001b[1;34m()\u001b[0m\n\u001b[0;32m      6\u001b[0m \u001b[0mNumParticles\u001b[0m \u001b[1;33m=\u001b[0m \u001b[1;36m100\u001b[0m\u001b[1;33m\u001b[0m\u001b[0m\n\u001b[0;32m      7\u001b[0m \u001b[0minit\u001b[0m \u001b[1;33m=\u001b[0m \u001b[1;32mlambda\u001b[0m \u001b[0mN\u001b[0m \u001b[1;33m:\u001b[0m \u001b[0mnp\u001b[0m\u001b[1;33m.\u001b[0m\u001b[0mtile\u001b[0m\u001b[1;33m(\u001b[0m\u001b[0mx0\u001b[0m\u001b[1;33m,\u001b[0m\u001b[1;33m(\u001b[0m\u001b[0mN\u001b[0m\u001b[1;33m,\u001b[0m\u001b[1;36m1\u001b[0m\u001b[1;33m)\u001b[0m\u001b[1;33m)\u001b[0m\u001b[1;33m\u001b[0m\u001b[0m\n\u001b[1;32m----> 8\u001b[1;33m \u001b[0mXParticles\u001b[0m \u001b[1;33m=\u001b[0m \u001b[0mbootstrapPF\u001b[0m\u001b[1;33m(\u001b[0m\u001b[0mHsv_Images\u001b[0m\u001b[1;33m,\u001b[0m\u001b[0minit\u001b[0m\u001b[1;33m,\u001b[0m\u001b[0msampleDynamics\u001b[0m\u001b[1;33m,\u001b[0m\u001b[0mimProc\u001b[0m\u001b[1;33m.\u001b[0m\u001b[0mmeasLikelihood\u001b[0m\u001b[1;33m,\u001b[0m\u001b[0mNumParticles\u001b[0m\u001b[1;33m)\u001b[0m\u001b[1;33m\u001b[0m\u001b[0m\n\u001b[0m\u001b[0;32m      9\u001b[0m \u001b[0mXMean\u001b[0m \u001b[1;33m=\u001b[0m \u001b[0mnp\u001b[0m\u001b[1;33m.\u001b[0m\u001b[0mmean\u001b[0m\u001b[1;33m(\u001b[0m\u001b[0mXParticles\u001b[0m\u001b[1;33m,\u001b[0m\u001b[0maxis\u001b[0m\u001b[1;33m=\u001b[0m\u001b[1;36m1\u001b[0m\u001b[1;33m)\u001b[0m\u001b[1;33m\u001b[0m\u001b[0m\n\u001b[0;32m     10\u001b[0m \u001b[1;33m\u001b[0m\u001b[0m\n",
      "\u001b[1;31mNameError\u001b[0m: name 'bootstrapPF' is not defined"
     ]
    }
   ],
   "source": [
    "# Let's run the particle filter on the video data\n",
    "# It typically works with 100 particles, but occasionally, it will not track\n",
    "# Increasing the number of particles will improve the tracking, but it will run slowly.\n",
    "# You'll know you've gotten it right if the boxes are still on my sweatshirt in the final frame\n",
    "\n",
    "NumParticles = 100\n",
    "init = lambda N : np.tile(x0,(N,1))\n",
    "XParticles = bootstrapPF(Hsv_Images,init,sampleDynamics,imProc.measLikelihood,NumParticles)\n",
    "XMean = np.mean(XParticles,axis=1)\n",
    "\n",
    "fig,ax = plt.subplots(1,2,figsize=(15,10))\n",
    "img = Images[-1]\n",
    "ax[0].imshow(img)\n",
    "plt.axis('off')\n",
    "for part in range(NumParticles):\n",
    "    xCur = XParticles[-1,part]\n",
    "    vp.drawBox(xCur[:2],xCur[2],ax[0],linewidth=.5)\n",
    "\n",
    "\n",
    "ax[1].imshow(img)\n",
    "vp.drawBox(XMean[-1,:2],XMean[-1,2],ax[1])\n",
    "plt.axis('off')"
   ]
  },
  {
   "cell_type": "markdown",
   "metadata": {
    "format": "text/markdown"
   },
   "source": [
    "\n"
   ]
  },
  {
   "cell_type": "code",
   "execution_count": null,
   "metadata": {
    "autoscroll": "auto",
    "collapsed": false,
    "options": {
     "caption": false,
     "complete": true,
     "display_data": true,
     "display_stream": true,
     "dpi": 200,
     "echo": true,
     "evaluate": false,
     "f_env": null,
     "f_pos": "htpb",
     "f_size": [
      6,
      4
     ],
     "f_spines": true,
     "fig": true,
     "include": true,
     "name": null,
     "option_string": " echo='True', evaluate='False' ",
     "results": "verbatim",
     "term": false,
     "wrap": "output"
    }
   },
   "outputs": [],
   "source": [
    "# Now we'll make a video of the result\n",
    "# Don't run this cell too many times, because it will make python run out of memory\n",
    "\n",
    "import matplotlib.animation as animation\n",
    "\n",
    "VidImages = []\n",
    "fig,ax = plt.subplots(1)\n",
    "for i,img in enumerate(Images):\n",
    "    img_plot = plt.imshow(img)\n",
    "    box = vp.drawBox(XMean[i,:2],XMean[i,2],ax,linewidth=3)\n",
    "    VidImages.append([img_plot,box])\n",
    "    \n",
    "    \n",
    "Anim = animation.ArtistAnimation(fig,VidImages,interval=100, blit=True,repeat=False)\n",
    "Vid = Anim.to_jshtml()\n",
    "import gc\n",
    "fig.clf()\n",
    "plt.close()\n",
    "gc.collect()"
   ]
  },
  {
   "cell_type": "markdown",
   "metadata": {
    "format": "text/markdown"
   },
   "source": [
    "\n"
   ]
  },
  {
   "cell_type": "code",
   "execution_count": null,
   "metadata": {
    "autoscroll": "auto",
    "collapsed": false,
    "options": {
     "caption": false,
     "complete": true,
     "display_data": true,
     "display_stream": true,
     "dpi": 200,
     "echo": true,
     "evaluate": false,
     "f_env": null,
     "f_pos": "htpb",
     "f_size": [
      6,
      4
     ],
     "f_spines": true,
     "fig": true,
     "include": true,
     "name": null,
     "option_string": " echo='True',evaluate='False' ",
     "results": "verbatim",
     "term": false,
     "wrap": "output"
    }
   },
   "outputs": [],
   "source": [
    "# Now let's watch it!\n",
    "from IPython.display import HTML\n",
    "\n",
    "HTML(Vid)"
   ]
  },
  {
   "cell_type": "markdown",
   "metadata": {
    "format": "text/markdown"
   },
   "source": [
    "\n",
    "# Final Score\n",
    "\n",
    "You can run this code to see all of your scores.\n",
    "\n",
    "\n"
   ]
  },
  {
   "cell_type": "code",
   "execution_count": null,
   "metadata": {
    "autoscroll": "auto",
    "collapsed": false,
    "options": {
     "caption": false,
     "complete": true,
     "display_data": true,
     "display_stream": true,
     "dpi": 200,
     "echo": true,
     "evaluate": false,
     "f_env": null,
     "f_pos": "htpb",
     "f_size": [
      6,
      4
     ],
     "f_spines": true,
     "fig": true,
     "include": true,
     "name": null,
     "option_string": "echo='True', evaluate='False' ",
     "results": "verbatim",
     "term": false,
     "wrap": "output"
    }
   },
   "outputs": [],
   "source": [
    "Assignment.showResults()"
   ]
  },
  {
   "cell_type": "markdown",
   "metadata": {
    "format": "text/markdown"
   },
   "source": [
    "\n",
    "\n",
    "\n",
    "# Submission\n",
    "\n",
    "Save your work and run this cell to submit. It will only work if you have the internet.\n",
    "\n"
   ]
  },
  {
   "cell_type": "code",
   "execution_count": null,
   "metadata": {
    "autoscroll": "auto",
    "collapsed": false,
    "options": {
     "caption": false,
     "complete": true,
     "display_data": true,
     "display_stream": true,
     "dpi": 200,
     "echo": true,
     "evaluate": false,
     "f_env": null,
     "f_pos": "htpb",
     "f_size": [
      6,
      4
     ],
     "f_spines": true,
     "fig": true,
     "include": true,
     "name": null,
     "option_string": "echo='True', evaluate='False' ",
     "results": "verbatim",
     "term": false,
     "wrap": "output"
    }
   },
   "outputs": [],
   "source": [
    "Submit()"
   ]
  },
  {
   "cell_type": "markdown",
   "metadata": {
    "format": "text/markdown"
   },
   "source": [
    "\n"
   ]
  },
  {
   "cell_type": "markdown",
   "metadata": {
    "format": "text/markdown"
   },
   "source": []
  }
 ],
 "metadata": {
  "kernel_info": {
   "name": "estenv"
  },
  "kernelspec": {
   "argv": [
    "D:\\EE5251\\python.exe",
    "-m",
    "ipykernel_launcher",
    "-f",
    "{connection_file}"
   ],
   "display_name": "Estimation",
   "env": {},
   "interrupt_mode": "signal",
   "language": "python",
   "metadata": {},
   "name": "estenv"
  },
  "language_info": {
   "name": "python"
  }
 },
 "nbformat": 4,
 "nbformat_minor": 0
}