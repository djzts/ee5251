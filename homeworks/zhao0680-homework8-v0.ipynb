{
 "cells": [
  {
   "cell_type": "markdown",
   "metadata": {
    "format": "text/markdown"
   },
   "source": [
    "\n"
   ]
  },
  {
   "cell_type": "markdown",
   "metadata": {
    "format": "text/markdown"
   },
   "source": [
    "\\begin{equation*}\n",
    "\\newcommand{\\E}{\\mathbb{E}}\n",
    "\\newcommand{\\Nor}{\\mathcal{N}}\n",
    "\\end{equation*}\n",
    "\n"
   ]
  },
  {
   "cell_type": "markdown",
   "metadata": {
    "format": "text/markdown"
   },
   "source": [
    "\n",
    "# Due Dates\n",
    "\n",
    "* Textbook: None, due to the shortened week\n",
    "* Coding: Tuesday, November 20, at 11:59 PM\n",
    "\n",
    "# Textbook Problems\n",
    "\n",
    "* 4.5\n",
    "* 4.10\n",
    "* 4.12\n",
    "\n",
    "\n"
   ]
  },
  {
   "cell_type": "code",
   "execution_count": 1,
   "metadata": {
    "autoscroll": "auto",
    "options": {
     "caption": false,
     "complete": true,
     "display_data": true,
     "display_stream": true,
     "dpi": 200,
     "echo": true,
     "evaluate": false,
     "f_env": null,
     "f_pos": "htpb",
     "f_size": [
      6,
      4
     ],
     "f_spines": true,
     "fig": true,
     "include": true,
     "name": null,
     "option_string": "echo='True', evaluate='False' ",
     "results": "verbatim",
     "term": false,
     "wrap": "output"
    }
   },
   "outputs": [],
   "source": [
    "# This is code to load the assignment.\n",
    "# You'll need to run this code do or restart the assignment.\n",
    "from loadAssignment import loadAssignment\n",
    "Assignment, Questions, Submit, Data = loadAssignment(8)\n",
    "\n",
    "# These are modules that we need\n",
    "# once you run this code, you don't need to load them again\n",
    "import autograd.numpy as np\n",
    "import autograd as ag\n",
    "import scipy.linalg as la\n",
    "import scipy.signal as sp\n",
    "import scipy.stats as st\n",
    "import matplotlib.pyplot as plt\n",
    "%matplotlib inline"
   ]
  },
  {
   "cell_type": "markdown",
   "metadata": {
    "format": "text/markdown"
   },
   "source": [
    "\n",
    "Here is some code that may be helpful. \n",
    "\n"
   ]
  },
  {
   "cell_type": "code",
   "execution_count": 2,
   "metadata": {
    "autoscroll": "auto",
    "options": {
     "caption": false,
     "complete": true,
     "display_data": true,
     "display_stream": true,
     "dpi": 200,
     "echo": true,
     "evaluate": false,
     "f_env": null,
     "f_pos": "htpb",
     "f_size": [
      6,
      4
     ],
     "f_spines": true,
     "fig": true,
     "include": true,
     "name": null,
     "option_string": "echo='True'\t,evaluate='False' ",
     "results": "verbatim",
     "term": false,
     "wrap": "output"
    }
   },
   "outputs": [],
   "source": [
    "# Helper functions \n",
    "def dot(*mats):\n",
    "    \"\"\"\n",
    "    Computes product of arbitrary matrices\n",
    "    \"\"\"\n",
    "    \n",
    "    if len(mats) == 1:\n",
    "        return mats[0]\n",
    "    else:\n",
    "        return np.dot(mats[0],dot(*mats[1:]))\n",
    "\n",
    "\n",
    "def ricS(A,C,Q,R,S):\n",
    "    \"\"\"\n",
    "    Solves the generalized riccati equation with correlation term, S:\n",
    "    \n",
    "    P = Q + APA' - (APC' + S)(CPC'+R)^{-1}(CPA'+S')\n",
    "    \"\"\"\n",
    "    AC = A-np.dot(S,la.solve(R,C))\n",
    "    QC = Q - np.dot(S,la.solve(R,S.T))\n",
    "    QC = .5 * (QC + QC.T)\n",
    "    P = la.solve_discrete_are(AC.T,C.T,QC,R)\n",
    "    return P\n",
    "\n",
    "def observabilityMatrix(A,C):\n",
    "    \"\"\"\n",
    "    Compute the observability matrix:\n",
    "    [C,\n",
    "     CA,\n",
    "     :,\n",
    "     CA^{n-1}]\n",
    "    \"\"\"\n",
    "    \n",
    "    n = len(A)\n",
    "    ObsList = []\n",
    "    Mat = np.copy(C)\n",
    "    for _ in range(n):\n",
    "        ObsList.append(Mat)\n",
    "        Mat = np.dot(C,A)\n",
    "    return np.vstack(ObsList)"
   ]
  },
  {
   "cell_type": "markdown",
   "metadata": {
    "format": "text/markdown"
   },
   "source": [
    "\n"
   ]
  },
  {
   "cell_type": "markdown",
   "metadata": {
    "format": "text/markdown"
   },
   "source": [
    "\n"
   ]
  },
  {
   "cell_type": "markdown",
   "metadata": {
    "format": "text/markdown"
   },
   "source": [
    "\n",
    "\n",
    "\n",
    "# Question 0\n",
    "\n",
    "\n"
   ]
  },
  {
   "cell_type": "markdown",
   "metadata": {
    "format": "text/markdown"
   },
   "source": [
    "\n",
    "\n"
   ]
  },
  {
   "cell_type": "markdown",
   "metadata": {
    "format": "text/markdown"
   },
   "source": [
    "\n",
    "\n"
   ]
  },
  {
   "cell_type": "markdown",
   "metadata": {
    "format": "text/markdown"
   },
   "source": [
    "\n",
    "The first few problems revisit the system\n",
    "\\begin{align*}\n",
    "x_{k+1} &= \\Phi x_k + w_k \\\\\n",
    "y_k &= H x_k + v_k\n",
    "\\end{align*}\n",
    "\n",
    "where the matrices are given by:\n",
    "\n"
   ]
  },
  {
   "cell_type": "code",
   "execution_count": 3,
   "metadata": {
    "autoscroll": "auto",
    "options": {
     "caption": false,
     "complete": true,
     "display_data": true,
     "display_stream": true,
     "dpi": 200,
     "echo": true,
     "evaluate": false,
     "f_env": null,
     "f_pos": "htpb",
     "f_size": [
      6,
      4
     ],
     "f_spines": true,
     "fig": true,
     "include": true,
     "name": null,
     "option_string": "echo='True',evaluate='False'",
     "results": "verbatim",
     "term": false,
     "wrap": "output"
    }
   },
   "outputs": [],
   "source": [
    "Phi = np.array([[0.5, -0.5],\n",
    "[0.5, 0.5]])\n",
    "H = np.array([[1, 0]])"
   ]
  },
  {
   "cell_type": "markdown",
   "metadata": {
    "format": "text/markdown"
   },
   "source": [
    "\n",
    "A whole bunch of measurements are given here. \n",
    "\n"
   ]
  },
  {
   "cell_type": "code",
   "execution_count": 4,
   "metadata": {
    "autoscroll": "auto",
    "options": {
     "caption": false,
     "complete": true,
     "display_data": true,
     "display_stream": true,
     "dpi": 200,
     "echo": true,
     "evaluate": false,
     "f_env": null,
     "f_pos": "htpb",
     "f_size": [
      6,
      4
     ],
     "f_spines": true,
     "fig": true,
     "include": true,
     "name": null,
     "option_string": "echo='True',evaluate='False'",
     "results": "verbatim",
     "term": false,
     "wrap": "output"
    }
   },
   "outputs": [],
   "source": [
    "Y = Data.Y"
   ]
  },
  {
   "cell_type": "markdown",
   "metadata": {
    "format": "text/markdown"
   },
   "source": [
    "\n",
    "Here each row is a value of $y_k$. The format is slightly different from last time. It is an $N\\times 1$ array, whereas the last time, it \n",
    "was just a flat length $N$ array.\n",
    "\n",
    "In the last assignment, we constructed an estimator based on nominal models for $Q$ and $R$. The estimator had the form\n",
    "\n",
    "\\begin{align*}\n",
    "\\hat x_{k+1} &= \\Phi \\hat x_k + L_{nom}(y_k-H\\hat x_k) \\\\\n",
    "\\hat y_k &= H \\hat x_k\n",
    "\\end{align*}\n",
    "\n",
    "It was shown that $L_{nom}$ was unlikely to be optimal based \n",
    "analysis of residuals.\n",
    "The analysis is repeated here, in shortened form.\n",
    "\n"
   ]
  },
  {
   "cell_type": "code",
   "execution_count": 5,
   "metadata": {
    "autoscroll": "auto",
    "options": {
     "caption": false,
     "complete": true,
     "display_data": true,
     "display_stream": true,
     "dpi": 200,
     "echo": true,
     "evaluate": false,
     "f_env": null,
     "f_pos": "htpb",
     "f_size": [
      6,
      4
     ],
     "f_spines": true,
     "fig": true,
     "include": true,
     "name": null,
     "option_string": "echo='True',evaluate='False' ",
     "results": "verbatim",
     "term": false,
     "wrap": "output"
    }
   },
   "outputs": [
    {
     "name": "stdout",
     "output_type": "stream",
     "text": [
      "[[ 1.55343423]\n",
      " [-0.37829177]\n",
      " [ 0.15337469]\n",
      " ...\n",
      " [-2.97902118]\n",
      " [-0.44227529]\n",
      " [-0.72135409]]\n",
      "Based on chi-squared statistic, our residual is in the 100th percentile\n"
     ]
    }
   ],
   "source": [
    "# Code from last time\n",
    "    \n",
    "# This is the nominal model\n",
    "Q_nom = np.eye(2)\n",
    "R_nom = np.eye(1)\n",
    "P_nom = la.solve_discrete_are(Phi.T,H.T,Q_nom,R_nom)\n",
    "Psi_nom = dot(H,P_nom,H.T) + R_nom\n",
    "L_nom = la.solve(Psi_nom,dot(H,P_nom,Phi.T)).T\n",
    "\n",
    "\n",
    "# Predictions from nominal model\n",
    "PredNom = (Phi-np.dot(L_nom,H),L_nom,H,np.zeros((1,1)),-1)\n",
    "_,Y_nom,_ = sp.dlsim(PredNom,Y)\n",
    "\n",
    "\n",
    "\n",
    "# This is code for testing it\n",
    "\n",
    "# Let's do  the least-squares predictor to estimate\n",
    "# The optimal residual covariance\n",
    "p = 10\n",
    "\n",
    "Y_s = Y.squeeze()\n",
    "\n",
    "Hank = la.hankel(Y_s[:p+1],Y_s[p:])\n",
    "\n",
    "G = la.lstsq(Hank[:-1].T,Hank[-1])[0]\n",
    "\n",
    "Y_LS = np.dot(G,Hank[:-1])\n",
    "Res_LS = Y_s[p:] - Y_LS\n",
    "Psi_LS = np.mean(Res_LS**2)\n",
    "\n",
    "# Now we compare the emperical residual to the predicted optimal\n",
    "# Residual\n",
    "Res = Y-Y_nom\n",
    "\n",
    "Psi_emp = np.mean(Res**2).squeeze()\n",
    "print(Res)\n",
    "NumSteps = len(Y)\n",
    "CDF = st.chi2.cdf(NumSteps * Psi_emp / Psi_LS,df=NumSteps)\n",
    "\n",
    "print('Based on chi-squared statistic, our residual is in the %gth percentile' % (CDF*100,))"
   ]
  },
  {
   "cell_type": "markdown",
   "metadata": {
    "format": "text/markdown"
   },
   "source": [
    "\n",
    "In the next few questions, we will step through the residual whitening method. We will use a slightly simpler algorithm than suggested by the book. In most cases, they give similar results.\n",
    "\n",
    "Now we review the residual whitening algorithm.\n",
    "\n",
    "The residual errors are given by $e_k = y_k-\\hat y_k$. The residual correlations are given by:\n",
    "\n",
    "\\begin{equation*}\n",
    "C_i = \\mathbb{E}[e_{k+i} e_k^\\top ]\n",
    "\\end{equation*}\n",
    "\n",
    "\n",
    "\n",
    "Let $\\tilde \\Phi = \\Phi - L_{nom} H$.\n",
    "If the system has $n$ states, then\n",
    "\\begin{equation*}\n",
    "\\begin{bmatrix}\n",
    "C_1 \\\\\n",
    "C_2 \\\\\n",
    "\\vdots \\\\\n",
    "C_n\n",
    "\\end{bmatrix} = \\begin{bmatrix}\n",
    "H \\\\\n",
    "H\\tilde \\Phi \\\\\n",
    "\\vdots \\\\\n",
    "H\\tilde \\Phi^{n-1}\n",
    "\\end{bmatrix} (\\Omega - L_{nom}C_0),\n",
    "\\end{equation*}\n",
    "where $\\Omega = \\Phi P H^\\top$, and $P$ is the nominal filter error covariance, $\\mathbb{E}[(x_k-\\hat x_k)(x_k-\\hat x_k)^\\top]$.\n",
    "\n",
    "The filter error covariance satisfies:\n",
    "\n",
    "\\begin{align*}\n",
    "P &= Q + L_{nom}RL_{nom}^\\top + (\\Phi-L_{nom}H)P(\\Phi-L_{nom} H)^\\top \\\\\n",
    "&= Q-\\tilde Q + \\Phi P \\Phi^\\top\n",
    "\\end{align*}\n",
    "where $\\tilde Q = L_{nom}\\Omega^\\top + \\Omega L_{nom}^\\top - L_{nom} C_0 L_{nom}^\\top$.\n",
    "\n",
    "The optimal filter error covariance is given by $P^*$, which satisfies:\n",
    "\\begin{equation*}\n",
    "P^* = Q + \\Phi P^* \\Phi^\\top - \\Phi P^* H^\\top (HP^*H^\\top +R)^{-1} H P^* \\Phi^\\top.\n",
    "\\end{equation*}\n",
    "\n",
    "Setting $P^* = P + \\delta P$ and subtracting the equation for $P$ gives that\n",
    "\\begin{equation*}\n",
    "\\delta P = \\tilde Q + \\Phi \\delta P \\Phi^\\top - (\\Phi \\delta P H^\\top + \\Omega)(H\\delta P H^\\top + C_0)^{-1} \n",
    "(\\Phi \\delta P H^\\top + \\Omega)^\\top\n",
    "\\end{equation*}\n",
    "\n",
    "Finally, the optimal gain is given by:\n",
    "\\begin{equation*}\n",
    "L^* = (\\Phi \\delta P H^\\top + \\Omega) (H\\delta P H^\\top + C_0)^{-1}\n",
    "\\end{equation*}\n",
    "\n",
    "The residual whitening algorithm goes through the following steps.\n",
    "\n",
    "* Estimate $C_i$ using empirical means.\n",
    "* Solve for $\\Omega$.\n",
    "* Solve for $\\delta P$\n",
    "* solve for $L^*$.\n",
    "\n",
    "For this question, estimate $C_0,C_1,C_2$ by empirical means. Store your results in a $3x1x1$ array called `C_arr`. \n",
    "(The funny shape is for compatibility with other tests. You can think about it as a list of $1\\times 1$ matrices for each of the covariances.)\n",
    "\n"
   ]
  },
  {
   "cell_type": "markdown",
   "metadata": {
    "format": "text/markdown"
   },
   "source": [
    "\n"
   ]
  },
  {
   "cell_type": "code",
   "execution_count": 6,
   "metadata": {
    "autoscroll": "auto",
    "options": {
     "caption": false,
     "complete": true,
     "display_data": true,
     "display_stream": true,
     "dpi": 200,
     "echo": true,
     "evaluate": false,
     "f_env": null,
     "f_pos": "htpb",
     "f_size": [
      6,
      4
     ],
     "f_spines": true,
     "fig": true,
     "include": true,
     "name": null,
     "option_string": "echo='True',evaluate='False' ",
     "results": "verbatim",
     "term": false,
     "wrap": "output"
    }
   },
   "outputs": [
    {
     "name": "stdout",
     "output_type": "stream",
     "text": [
      "You estimated residual correlations:\n",
      "[[[ 3.89569175]]\n",
      "\n",
      " [[-0.57105808]]\n",
      "\n",
      " [[-0.64179404]]]\n",
      "For reference, the optimal correlations are:\n",
      "[[[3.61593681]]\n",
      "\n",
      " [[0.        ]]\n",
      "\n",
      " [[0.        ]]]\n",
      "Note that since L was suboptimal, the correlations will not match well.\n",
      "That is correct. Nice.\n",
      "A score of 1 was entered for Question 0\n"
     ]
    }
   ],
   "source": [
    "import math\n",
    "\n",
    "# Define C_arr here\n",
    "C0=np.array(Psi_emp)\n",
    "temp=0\n",
    "for i in range(len(Res)-1):\n",
    "    temp=temp+Res[i]*Res[i+1]\n",
    "temp=temp/(len(Res)-1)\n",
    "total=0\n",
    "for i in range(len(Res)-2):\n",
    "    total=total+Res[i]*Res[i+2]\n",
    "total=total/(len(Res)-2)\n",
    "\n",
    "\n",
    "C1=temp\n",
    "C2=total\n",
    "\n",
    "C_arr=np.array([C0,C1,C2])\n",
    "C_arr=C_arr.reshape(3,1,1)\n",
    "\n",
    "Questions[0].checkAnswer(C_arr)"
   ]
  },
  {
   "cell_type": "markdown",
   "metadata": {
    "format": "text/markdown"
   },
   "source": [
    "\n"
   ]
  },
  {
   "cell_type": "markdown",
   "metadata": {
    "format": "text/markdown"
   },
   "source": [
    "\n",
    "# Question 1\n",
    "\n",
    "Now compute the optimal gain and call it `L`. The commands `observabilityMatrix` will be helpful for the obserbability matrix term, and `ricS` is helpful for the Riccati equation for $\\delta P$.\n",
    "\n",
    "\n"
   ]
  },
  {
   "cell_type": "markdown",
   "metadata": {
    "format": "text/markdown"
   },
   "source": [
    "\n"
   ]
  },
  {
   "cell_type": "code",
   "execution_count": 7,
   "metadata": {
    "autoscroll": "auto",
    "options": {
     "caption": false,
     "complete": true,
     "display_data": true,
     "display_stream": true,
     "dpi": 200,
     "echo": true,
     "evaluate": false,
     "f_env": null,
     "f_pos": "htpb",
     "f_size": [
      6,
      4
     ],
     "f_spines": true,
     "fig": true,
     "include": true,
     "name": null,
     "option_string": " echo='True',evaluate='False' ",
     "results": "verbatim",
     "term": false,
     "wrap": "output"
    }
   },
   "outputs": [
    {
     "name": "stdout",
     "output_type": "stream",
     "text": [
      "Your udpated gain is now\n",
      "[[0.11731787]\n",
      " [0.60346377]]\n",
      "The true optimal gain is\n",
      "[[0.13749891]\n",
      " [0.58594759]]\n",
      "The original nominal gain was\n",
      "[[0.34600806]\n",
      " [0.26308318]]\n",
      "Oh yeah!\n",
      "A score of 1 was entered for Question 1\n"
     ]
    }
   ],
   "source": [
    "# Define L Here\n",
    "Phi_tilt=Phi-dot(L_nom,H)\n",
    "CoM=observabilityMatrix(Phi_tilt,H)\n",
    "c_n=np.array([C1,C2]).reshape(2,1)\n",
    "x = dot(np.linalg.inv(CoM),c_n)\n",
    "Omega=dot(L_nom,C0)+x\n",
    "\n",
    "\n",
    "Q_tilt=dot(L_nom,Omega.T)+dot(Omega,L_nom.T)-dot(L_nom,C0,L_nom.T)\n",
    "delta_P=ricS(Phi,H,Q_tilt,C0,Omega)\n",
    "L=dot(dot(Phi,delta_P,H.T)+Omega,np.linalg.inv(dot(H,delta_P,H.T)+C0))\n",
    "\n",
    "Questions[1].checkAnswer(L)"
   ]
  },
  {
   "cell_type": "markdown",
   "metadata": {
    "format": "text/markdown"
   },
   "source": [
    "\n"
   ]
  },
  {
   "cell_type": "markdown",
   "metadata": {
    "format": "text/markdown"
   },
   "source": [
    "\n",
    "# Question 2\n",
    "\n",
    "The previous question should have gotten the gain closer to the true optimal value.\n",
    "\n",
    "Now let's see if the algorithm lives up to its name. Construct an estimator using your new gain, $L$. \n",
    "Estimate the residual correlations $C_0,C_1,C_2$. Store them in a $3\\times 1 \\times 1$ array called `C_update`.\n",
    "\n",
    "If the residual has been whitened, the estimates of $C_1$ and $C_2$ should be smaller. (The they are zero when the true optimal estimator is used.)\n",
    "\n"
   ]
  },
  {
   "cell_type": "markdown",
   "metadata": {
    "format": "text/markdown"
   },
   "source": [
    "\n"
   ]
  },
  {
   "cell_type": "code",
   "execution_count": 8,
   "metadata": {
    "autoscroll": "auto",
    "options": {
     "caption": false,
     "complete": true,
     "display_data": true,
     "display_stream": true,
     "dpi": 200,
     "echo": true,
     "evaluate": false,
     "f_env": null,
     "f_pos": "htpb",
     "f_size": [
      6,
      4
     ],
     "f_spines": true,
     "fig": true,
     "include": true,
     "name": null,
     "option_string": " echo='True',evaluate='False' ",
     "results": "verbatim",
     "term": false,
     "wrap": "output"
    }
   },
   "outputs": [
    {
     "name": "stdout",
     "output_type": "stream",
     "text": [
      "You estimated residual correlations:\n",
      "[[[3.54610335]]\n",
      "\n",
      " [[0.01543002]]\n",
      "\n",
      " [[0.02067466]]]\n",
      "For reference, the optimal correlations are:\n",
      "[[[3.61593681]]\n",
      "\n",
      " [[0.        ]]\n",
      "\n",
      " [[0.        ]]]\n",
      "Phenomenal\n",
      "A score of 1 was entered for Question 2\n"
     ]
    }
   ],
   "source": [
    "# Define C_update here\n",
    "\n",
    "# Predictions from new model\n",
    "Pred_update = (Phi-np.dot(L,H),L,H,np.zeros((1,1)),-1)\n",
    "_,Y_update,_ = sp.dlsim(Pred_update,Y)\n",
    "\n",
    "# Now we compare the emperical residual to the predicted optimal\n",
    "# Residual\n",
    "Res_update = Y-Y_update\n",
    "\n",
    "Psi_emp_update = np.mean(Res_update**2).squeeze()\n",
    "\n",
    "\n",
    "NumSteps = len(Y)\n",
    "CDF = st.chi2.cdf(NumSteps * Psi_emp_update / Psi_LS,df=NumSteps)\n",
    "\n",
    "\n",
    "\n",
    "# Define C_update here\n",
    "C0_new=np.array(Psi_emp_update)\n",
    "temp=0\n",
    "for i in range(len(Res_update)-1):\n",
    "    temp=temp+Res_update[i]*Res_update[i+1]\n",
    "temp=temp/(len(Res_update)-1)\n",
    "total=0\n",
    "for i in range(len(Res_update)-2):\n",
    "    total=total+Res_update[i]*Res_update[i+2]\n",
    "total=total/(len(Res_update)-2)\n",
    "\n",
    "\n",
    "C1_new=temp\n",
    "C2_new=total\n",
    "\n",
    "C_update=np.array([C0_new,C1_new,C2_new])\n",
    "C_update=C_update.reshape(3,1,1)\n",
    "\n",
    "\n",
    "\n",
    "\n",
    "\n",
    "Questions[2].checkAnswer(C_update)"
   ]
  },
  {
   "cell_type": "markdown",
   "metadata": {
    "format": "text/markdown"
   },
   "source": [
    "\n",
    "Also, the hypothesis test should now fall comfortably within the 95 percent confidence interval.\n",
    "\n"
   ]
  },
  {
   "cell_type": "markdown",
   "metadata": {
    "format": "text/markdown"
   },
   "source": [
    "\n"
   ]
  },
  {
   "cell_type": "markdown",
   "metadata": {
    "format": "text/markdown"
   },
   "source": [
    "\n",
    "# Question 3\n",
    "\n",
    "The rest of  the assignment will focus on the multiple-model adaptive estimation (MMAE) problem.\n",
    "\n",
    "We study a model with two sensors and two actuators. We use the MMAE framework to estimate the likelihood of a sensor or actuator failing.\n",
    "\n",
    "The models ahave the form:\n",
    "\n",
    "\\begin{align*}\n",
    "x_{k+1} &= \\Phi x_k + \\Gamma^j u_k + w_k \\\\\n",
    "y_k & =H^i x_k + v_k,\n",
    "\\end{align*}\n",
    "\n",
    "Each $H^i$ corresponds to a different measurement matrix, depending on which sensors are functioning. Similarly, each $\\Gamma^j$ corresponds to a different input matrix, depending on which actuator are functioning.\n",
    "\n",
    "For each of the models, the state matrix, $\\Phi$ is the same, and the noises follow the same distributions $w_k\\sim \\mathcal{N}(0,Q)$ and $v_k \\sim \\mathcal{N}(0,R)$.\n",
    "\n",
    "In all cases, we will assume that $x_0 = 0$, so that $\\hat x_0^{(i,j),-} = 0$ and $P_0^{(i,j),-} = 0$. \n",
    "\n",
    "The models are given below:\n",
    "\n"
   ]
  },
  {
   "cell_type": "markdown",
   "metadata": {
    "format": "text/markdown"
   },
   "source": [
    "\n"
   ]
  },
  {
   "cell_type": "markdown",
   "metadata": {
    "format": "text/markdown"
   },
   "source": [
    "\n"
   ]
  },
  {
   "cell_type": "markdown",
   "metadata": {
    "format": "text/markdown"
   },
   "source": [
    "\n"
   ]
  },
  {
   "cell_type": "code",
   "execution_count": 9,
   "metadata": {
    "autoscroll": "auto",
    "options": {
     "caption": false,
     "complete": true,
     "display_data": true,
     "display_stream": true,
     "dpi": 200,
     "echo": true,
     "evaluate": false,
     "f_env": null,
     "f_pos": "htpb",
     "f_size": [
      6,
      4
     ],
     "f_spines": true,
     "fig": true,
     "include": true,
     "name": null,
     "option_string": "echo='True',evaluate='False' ",
     "results": "verbatim",
     "term": false,
     "wrap": "output"
    }
   },
   "outputs": [
    {
     "name": "stdout",
     "output_type": "stream",
     "text": [
      "[[[0. 0. 0. 0.]\n",
      "  [0. 0. 0. 0.]]\n",
      "\n",
      " [[1. 0. 0. 0.]\n",
      "  [0. 0. 0. 0.]]\n",
      "\n",
      " [[0. 0. 0. 0.]\n",
      "  [0. 0. 1. 0.]]\n",
      "\n",
      " [[1. 0. 0. 0.]\n",
      "  [0. 0. 1. 0.]]]\n",
      "[[[0.  0. ]\n",
      "  [0.  0. ]\n",
      "  [0.  0. ]\n",
      "  [0.  0. ]]\n",
      "\n",
      " [[0.  0. ]\n",
      "  [0.1 0. ]\n",
      "  [0.  0. ]\n",
      "  [0.  0. ]]\n",
      "\n",
      " [[0.  0. ]\n",
      "  [0.  0. ]\n",
      "  [0.  0. ]\n",
      "  [0.  0.1]]\n",
      "\n",
      " [[0.  0. ]\n",
      "  [0.1 0. ]\n",
      "  [0.  0. ]\n",
      "  [0.  0.1]]]\n"
     ]
    }
   ],
   "source": [
    "Phi_M = np.array([[1, 0.1, 0, 0],\n",
    "[-0.1, 0.9, 0.1, 0],\n",
    "[0, 0, 1, 0.1],\n",
    "[0.1, 0, -0.1, 0.9]])\n",
    "\n",
    "Q_M = np.array([[0, 0, 0, 0],\n",
    "[0, 0.25, 0, 0],\n",
    "[0, 0, 0, 0],\n",
    "[0, 0, 0, 0.25]])\n",
    "\n",
    "R_M = np.array([[1, 0],\n",
    "[0, 1]])\n",
    "\n",
    "H_M_list = Data.H_M_list\n",
    "Gam_M_list = Data.Gam_M_list\n",
    "print(H_M_list)\n",
    "print(Gam_M_list)"
   ]
  },
  {
   "cell_type": "markdown",
   "metadata": {
    "format": "text/markdown"
   },
   "source": [
    "\n",
    "Since there are $4$ different measurement matrices and $4$ different input matrices, there are a total of $4\\times 4 = 16$ different models.\n",
    "\n",
    "We start with a prior over models $p(m=(i,j)) = 1/16$. In other words, we assume initially that each sensor/actuator combination is equally likely. Then let $W_k^{(i,j)} = p(m=(i,j)| y_{0:k})$. (The input will be deterministic, and thus it is not required in the conditioning.)\n",
    "\n",
    "From the theory discussed in class, the weights can be updated as:\n",
    "\n",
    "\\begin{align*}\n",
    "\\tilde W_{k}^{(i,j)} & = p(y_{k} | m=(i,j), y_{0:k-1}) W_{k-1}^{(i,j)}  \\\\\n",
    "W_{k}^{(i,j)} &= \\frac{\\tilde W_k^{(i,j)}}{\\sum_{i',j'=0}^3 \\tilde W_{k}^{(i',j')}}\n",
    "\\end{align*}\n",
    "\n",
    "For initialization, we take $W_{-1}^{(i,j)} =1/16$, and $p(y_0|m=(i,j),y_{0:-1})=p(y_0|m=(i,j))$.\n",
    "\n",
    "The inputs and the measurements are given below:\n",
    "\n"
   ]
  },
  {
   "cell_type": "code",
   "execution_count": 10,
   "metadata": {
    "autoscroll": "auto",
    "options": {
     "caption": false,
     "complete": true,
     "display_data": true,
     "display_stream": true,
     "dpi": 200,
     "echo": true,
     "evaluate": false,
     "f_env": null,
     "f_pos": "htpb",
     "f_size": [
      6,
      4
     ],
     "f_spines": true,
     "fig": true,
     "include": true,
     "name": null,
     "option_string": "echo='True',evaluate='False' ",
     "results": "verbatim",
     "term": false,
     "wrap": "output"
    }
   },
   "outputs": [
    {
     "name": "stdout",
     "output_type": "stream",
     "text": [
      "[2. 0.]\n"
     ]
    },
    {
     "data": {
      "text/plain": [
       "Text(0.5,0,'Time')"
      ]
     },
     "execution_count": 10,
     "metadata": {},
     "output_type": "execute_result"
    },
    {
     "data": {
      "image/png": "[encoded data removed]",
      "text/plain": [
       "<Figure size 432x288 with 2 Axes>"
      ]
     },
     "metadata": {},
     "output_type": "display_data"
    },
    {
     "data": {
      "image/png": "[encoded data removed]",
      "text/plain": [
       "<Figure size 432x288 with 2 Axes>"
      ]
     },
     "metadata": {},
     "output_type": "display_data"
    }
   ],
   "source": [
    "Y_M = Data.Y_M\n",
    "U_M = Data.U_M\n",
    "print(U_M[1])\n",
    "fig,ax = plt.subplots(2,1,sharex=True)\n",
    "Time = np.arange(len(Y_M))\n",
    "ax[0].set_title('Inputs')\n",
    "ax[0].plot(Time,U_M[:,0])\n",
    "ax[1].plot(Time,U_M[:,1])\n",
    "ax[1].set_xlabel('Time')\n",
    "\n",
    "fig,ax = plt.subplots(2,1,sharex=True)\n",
    "ax[0].set_title('Measurements')\n",
    "ax[0].plot(Time,Y_M[:,0])\n",
    "ax[1].plot(Time,Y_M[:,1])\n",
    "ax[1].set_xlabel('Time')"
   ]
  },
  {
   "cell_type": "markdown",
   "metadata": {
    "format": "text/markdown"
   },
   "source": [
    "\n",
    "Compute the sequence of weights $W_k^{(i,j)}$, where $k$ is the time index, $i$ corresponds to the index of the measurement matrix and $j$ corresponds to the index of the input matrix. Store them in an $N\\times 4\\times 4$ array called `W_arr`.\n",
    "\n"
   ]
  },
  {
   "cell_type": "markdown",
   "metadata": {
    "format": "text/markdown"
   },
   "source": [
    "\n"
   ]
  },
  {
   "cell_type": "code",
   "execution_count": 89,
   "metadata": {},
   "outputs": [],
   "source": [
    "W_arr=np.zeros((400,4,4))\n",
    "W_arr[0,:,:]=np.ones((4,4))*1/16\n",
    "P_pre=np.zeros((400,4,4,4,4))\n",
    "P_post=np.zeros((400,4,4,4,4))\n",
    "x_pre=np.zeros((400,4,4,4))\n",
    "x_post=np.zeros((400,4,4,4))\n",
    "W=np.zeros((4,4))\n",
    "for k in range(399):\n",
    "    for i in range(4):\n",
    "        for j in range(4):\n",
    "            K1=dot(P_pre[k,i,j],H_M_list[i].T)\n",
    "            K2=np.linalg.inv(dot(H_M_list[i],P_pre[k,i,j],H_M_list[i].T)+R_M)\n",
    "            K=dot(K1,K2)\n",
    "            rhs=Y_M[k]-dot(H_M_list[i],x_pre[k,i,j])\n",
    "\n",
    "            x_post[k,i,j]=x_pre[k,i,j]+dot(K,rhs)\n",
    "\n",
    "            x_pre[k+1,i,j]=dot(Phi_M,x_post[k,i,j])+dot(Gam_M_list[j],U_M[k])\n",
    "            P_post[k,i,j]=dot((np.eye(4)-dot(K,H_M_list[i])),P_pre[k,i,j])\n",
    "            P_pre[k+1,i,j]=dot(Phi_M,P_post[k,i,j],Phi_M.T)+Q_M\n",
    "\n",
    "            rho=st.multivariate_normal.pdf((Y_M[k+1]),mean=dot(H_M_list[i],x_pre[k+1,i,j]),cov=dot(H_M_list[i],P_pre[k+1,i,j],H_M_list[i].T)+R_M)\n",
    "            W[i,j]=rho*W_arr[k,i,j]\n",
    "    W_arr[k+1]=W/sum(sum(W))"
   ]
  },
  {
   "cell_type": "code",
   "execution_count": 90,
   "metadata": {
    "autoscroll": "auto",
    "options": {
     "caption": false,
     "complete": true,
     "display_data": true,
     "display_stream": true,
     "dpi": 200,
     "echo": true,
     "evaluate": false,
     "f_env": null,
     "f_pos": "htpb",
     "f_size": [
      6,
      4
     ],
     "f_spines": true,
     "fig": true,
     "include": true,
     "name": null,
     "option_string": "echo='True',evaluate='False' ",
     "results": "verbatim",
     "term": false,
     "wrap": "output"
    }
   },
   "outputs": [
    {
     "name": "stdout",
     "output_type": "stream",
     "text": [
      "[[0.00000000e+00 0.00000000e+00 0.00000000e+00 0.00000000e+00]\n",
      " [0.00000000e+00 0.00000000e+00 0.00000000e+00 0.00000000e+00]\n",
      " [0.00000000e+00 0.00000000e+00 0.00000000e+00 0.00000000e+00]\n",
      " [2.40571507e-07 9.99999759e-01 6.95192861e-17 3.49344394e-10]]\n",
      "Here is a plot of your weights\n",
      "The weights of the true model are shown in bold blue\n",
      "The rest are in red\n",
      "Phenomenal\n",
      "A score of 1 was entered for Question 3\n"
     ]
    },
    {
     "data": {
      "image/png": "[encoded data removed]",
      "text/plain": [
       "<Figure size 432x288 with 16 Axes>"
      ]
     },
     "metadata": {},
     "output_type": "display_data"
    }
   ],
   "source": [
    "# Define W_arr  here\n",
    "print(W_arr[399])\n",
    "Questions[3].checkAnswer(W_arr)"
   ]
  },
  {
   "cell_type": "markdown",
   "metadata": {
    "format": "text/markdown"
   },
   "source": [
    "\n"
   ]
  },
  {
   "cell_type": "markdown",
   "metadata": {
    "format": "text/markdown"
   },
   "source": [
    "\n",
    "# Question 4\n",
    "\n",
    "One of the measurement matrices gives the same weights no matter which input matrix is used. In other words, for each time $k$, we have\n",
    "$W_k^{(i,0)} = W_k^{(i,1)}=W_k^{(i,2)}=W_k^{(i,3)}$. Which index $i$ is it? Think about why  this is true.\n",
    "\n"
   ]
  },
  {
   "cell_type": "markdown",
   "metadata": {
    "format": "text/markdown"
   },
   "source": [
    "\n"
   ]
  },
  {
   "cell_type": "code",
   "execution_count": 109,
   "metadata": {
    "autoscroll": "auto",
    "options": {
     "caption": false,
     "complete": true,
     "display_data": true,
     "display_stream": true,
     "dpi": 200,
     "echo": true,
     "evaluate": false,
     "f_env": null,
     "f_pos": "htpb",
     "f_size": [
      6,
      4
     ],
     "f_spines": true,
     "fig": true,
     "include": true,
     "name": null,
     "option_string": "echo='True',evaluate='False' ",
     "results": "verbatim",
     "term": false,
     "wrap": "output"
    }
   },
   "outputs": [
    {
     "name": "stdout",
     "output_type": "stream",
     "text": [
      "Phenomenal\n",
      "A score of 1 was entered for Question 4\n"
     ]
    }
   ],
   "source": [
    "# Define i below\n",
    "i=0\n",
    "Questions[4].checkAnswer(i)"
   ]
  },
  {
   "cell_type": "markdown",
   "metadata": {
    "format": "text/markdown"
   },
   "source": [
    "\n",
    "# Final Score\n",
    "\n",
    "You can run this code to see all of your scores.\n",
    "\n",
    "\n"
   ]
  },
  {
   "cell_type": "code",
   "execution_count": 238,
   "metadata": {
    "autoscroll": "auto",
    "options": {
     "caption": false,
     "complete": true,
     "display_data": true,
     "display_stream": true,
     "dpi": 200,
     "echo": true,
     "evaluate": false,
     "f_env": null,
     "f_pos": "htpb",
     "f_size": [
      6,
      4
     ],
     "f_spines": true,
     "fig": true,
     "include": true,
     "name": null,
     "option_string": "echo='True', evaluate='False' ",
     "results": "verbatim",
     "term": false,
     "wrap": "output"
    }
   },
   "outputs": [
    {
     "name": "stdout",
     "output_type": "stream",
     "text": [
      "Problem 0: 1\n",
      "Problem 1: 1\n",
      "Problem 2: 1\n",
      "Problem 3: 1\n",
      "Problem 4: 1\n",
      "\n",
      "Total: 5 / 5\n"
     ]
    }
   ],
   "source": [
    "Assignment.showResults()"
   ]
  },
  {
   "cell_type": "markdown",
   "metadata": {
    "format": "text/markdown"
   },
   "source": [
    "\n",
    "\n",
    "\n",
    "# Submission\n",
    "\n",
    "Save your work and run this cell to submit. It will only work if you have the internet.\n",
    "\n"
   ]
  },
  {
   "cell_type": "code",
   "execution_count": null,
   "metadata": {
    "autoscroll": "auto",
    "options": {
     "caption": false,
     "complete": true,
     "display_data": true,
     "display_stream": true,
     "dpi": 200,
     "echo": true,
     "evaluate": false,
     "f_env": null,
     "f_pos": "htpb",
     "f_size": [
      6,
      4
     ],
     "f_spines": true,
     "fig": true,
     "include": true,
     "name": null,
     "option_string": "echo='True', evaluate='False' ",
     "results": "verbatim",
     "term": false,
     "wrap": "output"
    }
   },
   "outputs": [],
   "source": [
    "Submit()"
   ]
  },
  {
   "cell_type": "markdown",
   "metadata": {
    "format": "text/markdown"
   },
   "source": [
    "\n"
   ]
  },
  {
   "cell_type": "markdown",
   "metadata": {
    "format": "text/markdown"
   },
   "source": []
  }
 ],
 "metadata": {
  "kernel_info": {
   "name": "estenv"
  },
  "kernelspec": {
   "display_name": "Estimation",
   "language": "python",
   "name": "estenv"
  },
  "language_info": {
   "codemirror_mode": {
    "name": "ipython",
    "version": 3
   },
   "file_extension": ".py",
   "mimetype": "text/x-python",
   "name": "python",
   "nbconvert_exporter": "python",
   "pygments_lexer": "ipython3",
   "version": "3.6.5"
  }
 },
 "nbformat": 4,
 "nbformat_minor": 1
}
