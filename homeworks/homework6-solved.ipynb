{
 "cells": [
  {
   "cell_type": "markdown",
   "metadata": {
    "format": "text/markdown"
   },
   "source": [
    "\n"
   ]
  },
  {
   "cell_type": "markdown",
   "metadata": {
    "format": "text/markdown"
   },
   "source": [
    "\\begin{equation*}\n",
    "\\newcommand{\\E}{\\mathbb{E}}\n",
    "\\newcommand{\\Nor}{\\mathcal{N}}\n",
    "\\end{equation*}\n",
    "\n"
   ]
  },
  {
   "cell_type": "markdown",
   "metadata": {
    "format": "text/markdown"
   },
   "source": [
    "\n",
    "# Due Dates\n",
    "\n",
    "* Textbook: Thursday, November 1, in class\n",
    "* Coding: Thursday, November 1, at 11:59 PM\n",
    "\n",
    "# Textbook Problems\n",
    "\n",
    "These problems are also coding-based. It may be helpful to do the first two coding exercises, which are related. \n",
    "\n",
    "* 3.39\n",
    "* 3.41\n",
    "* 3.43 (Use an Euler approximation to compute the time updates in discrete-time. The continuous-discrete unscented Kalman filter is outside of the scope of the class.)\n",
    "\n"
   ]
  },
  {
   "cell_type": "code",
   "execution_count": 1,
   "metadata": {
    "autoscroll": "auto",
    "options": {
     "caption": false,
     "complete": true,
     "display_data": true,
     "display_stream": true,
     "dpi": 200,
     "echo": true,
     "evaluate": true,
     "f_env": null,
     "f_pos": "htpb",
     "f_size": [
      6,
      4
     ],
     "f_spines": true,
     "fig": true,
     "include": true,
     "name": null,
     "option_string": "echo='True', evaluate='True' ",
     "results": "verbatim",
     "term": false,
     "wrap": "output"
    }
   },
   "outputs": [],
   "source": [
    "# This is code to load the assignment.\n",
    "# You'll need to run this code do or restart the assignment.\n",
    "from loadAssignment import loadAssignment\n",
    "Assignment, Questions, Submit, Data = loadAssignment(6)\n",
    "\n",
    "# These are modules that we need\n",
    "# once you run this code, you don't need to load them again\n",
    "import autograd.numpy as np\n",
    "import autograd as ag\n",
    "import scipy.linalg as la\n",
    "import scipy.integrate as itg\n",
    "import matplotlib.pyplot as plt\n",
    "%matplotlib inline"
   ]
  },
  {
   "cell_type": "markdown",
   "metadata": {
    "format": "text/markdown"
   },
   "source": [
    "\n"
   ]
  },
  {
   "cell_type": "markdown",
   "metadata": {
    "format": "text/markdown"
   },
   "source": [
    "\n"
   ]
  },
  {
   "cell_type": "markdown",
   "metadata": {
    "format": "text/markdown"
   },
   "source": [
    "\n",
    "\n",
    "\n",
    "# Question 0\n",
    "\n",
    "\n"
   ]
  },
  {
   "cell_type": "markdown",
   "metadata": {
    "format": "text/markdown"
   },
   "source": [
    "\n"
   ]
  },
  {
   "cell_type": "markdown",
   "metadata": {
    "format": "text/markdown"
   },
   "source": [
    "\n",
    "\n"
   ]
  },
  {
   "cell_type": "markdown",
   "metadata": {
    "format": "text/markdown"
   },
   "source": [
    "\n",
    "The first few problems in this assignment will be a warm-ups for the texbook problems. In particular, they will focus on coding continuous-time simulations of the Van der Pol System from example 3.5. That example focuses on the case of estimating the states of a nonlinear dynamic system when the parameters are incorrectly specified.\n",
    "\n",
    "Assume that the initial condition is $x(0)=\\left[\\begin{matrix}1.0\\\\0.0\\end{matrix}\\right]$. \n",
    "Use [`itg.solve_ivp`](https://docs.scipy.org/doc/scipy/reference/generated/scipy.integrate.solve_ivp.html) to simulate the true Van der Pol system for 1000 time points spaced according to $\\Delta t = 0.01$. Make a plot with $x_1(t)$ on the $x$-axis and $x_2(t)$ on the $y$-axis. \n",
    "\n"
   ]
  },
  {
   "cell_type": "code",
   "execution_count": 2,
   "metadata": {
    "autoscroll": "auto",
    "options": {
     "caption": false,
     "complete": true,
     "display_data": true,
     "display_stream": true,
     "dpi": 200,
     "echo": true,
     "evaluate": true,
     "f_env": null,
     "f_pos": "htpb",
     "f_size": [
      6,
      4
     ],
     "f_spines": true,
     "fig": true,
     "include": true,
     "name": null,
     "option_string": "echo='True',evaluate='True' ",
     "results": "verbatim",
     "term": false,
     "wrap": "output"
    }
   },
   "outputs": [
    {
     "name": "stdout",
     "output_type": "stream",
     "text": [
      "Phenomenal\n",
      "A score of 1 was entered for Question 0\n"
     ]
    },
    {
     "data": {
      "image/png": "[encoded data removed]",
      "text/plain": [
       "<Figure size 432x288 with 1 Axes>"
      ]
     },
     "metadata": {
      "needs_background": "light"
     },
     "output_type": "display_data"
    }
   ],
   "source": [
    "def vanderPolGen(t,x,c,m,k):\n",
    "    return np.array([x[1],-2*(c/m)*(x[0]**2-1)*x[1]-(k/m)*x[0]])\n",
    "    \n",
    "def vanderPolTrueDrift(t,x):\n",
    "    c = 1.\n",
    "    m = 1.\n",
    "    k = 1.\n",
    "    \n",
    "    return vanderPolGen(t,x,c,m,k)\n",
    "    \n",
    "    \n",
    "def vanderPolGuessDrift(t,x):\n",
    "    c = 1.5\n",
    "    m = 1.\n",
    "    k = 1.2\n",
    "    return vanderPolGen(t,x,c,m,k)\n",
    "\n",
    "Time = 0.01 * np.arange(1000)\n",
    "x0 = np.array([1.,0.])\n",
    "Res = itg.solve_ivp(vanderPolTrueDrift,(Time[0],Time[-1]),x0,t_eval=Time)\n",
    "X = Res.y\n",
    "plt.plot(X[0],X[1])\n",
    "         \n",
    "Questions[0].checkAnswer()"
   ]
  },
  {
   "cell_type": "markdown",
   "metadata": {
    "format": "text/markdown"
   },
   "source": [
    "\n"
   ]
  },
  {
   "cell_type": "markdown",
   "metadata": {
    "format": "text/markdown"
   },
   "source": [
    "\n"
   ]
  },
  {
   "cell_type": "markdown",
   "metadata": {
    "format": "text/markdown"
   },
   "source": [
    "\n",
    "# Question 1\n",
    "\n",
    "Assume that no measurements are taken. Using just the propagation equation from Table 3.9, the mean $\\hat x(t)$ and $ P(t)$ can be simulated. Now use `itg.solve_ivp` to simulate $\\hat x(t)$ and $P(t)$. As in example 3.5, for this simulation, assume that the mis-specified values are used. Also, as in the example, assume that $q =0.2$ and $P(0) = 1000 I$. Assume that $\\hat x(0) = \\left[\\begin{matrix}1.0\\\\0.0\\end{matrix}\\right]\t$\n",
    "\n",
    "Note that in order to use `itg.solve_ivp`, you will need to flatten $\\hat x(t)$ and $P(t)$ into a single vector.\n",
    "\n",
    "Make two plots. The first plot should show $x_1(t)$ and $\\hat x(t)$ on the $x$-axis and $x_2(t)$ and $\\hat x_2(t)$ on the $y$-axis. The second plot should have time on the $x$ axis (starting from $0$) and the 3 unique entries of $P(t)$ on the $y$ axis.\n",
    "\n"
   ]
  },
  {
   "cell_type": "code",
   "execution_count": 3,
   "metadata": {
    "autoscroll": "auto",
    "options": {
     "caption": false,
     "complete": true,
     "display_data": true,
     "display_stream": true,
     "dpi": 200,
     "echo": true,
     "evaluate": true,
     "f_env": null,
     "f_pos": "htpb",
     "f_size": [
      6,
      4
     ],
     "f_spines": true,
     "fig": true,
     "include": true,
     "name": null,
     "option_string": " echo='True', evaluate='True' ",
     "results": "verbatim",
     "term": false,
     "wrap": "output"
    }
   },
   "outputs": [
    {
     "name": "stderr",
     "output_type": "stream",
     "text": [
      "/home/andy/Cabinet/EE5251/class-files/estenv/lib/python3.6/site-packages/scipy-1.1.0-py3.6-linux-x86_64.egg/scipy/integrate/_ivp/rk.py:140: RuntimeWarning: invalid value encountered in maximum\n",
      "  scale = atol + np.maximum(np.abs(y), np.abs(y_new)) * rtol\n"
     ]
    },
    {
     "ename": "KeyboardInterrupt",
     "evalue": "",
     "output_type": "error",
     "traceback": [
      "\u001b[0;31m--------------------------------------------------------------------\u001b[0m",
      "\u001b[0;31mKeyboardInterrupt\u001b[0m                  Traceback (most recent call last)",
      "\u001b[0;32m<ipython-input-3-5517dcec146e>\u001b[0m in \u001b[0;36m<module>\u001b[0;34m()\u001b[0m\n\u001b[1;32m     49\u001b[0m \u001b[0mZ\u001b[0m \u001b[0;34m=\u001b[0m \u001b[0mnp\u001b[0m\u001b[0;34m.\u001b[0m\u001b[0mhstack\u001b[0m\u001b[0;34m(\u001b[0m\u001b[0;34m[\u001b[0m\u001b[0mmu\u001b[0m\u001b[0;34m,\u001b[0m\u001b[0mtriuStack\u001b[0m\u001b[0;34m(\u001b[0m\u001b[0mP\u001b[0m\u001b[0;34m)\u001b[0m\u001b[0;34m]\u001b[0m\u001b[0;34m)\u001b[0m\u001b[0;34m\u001b[0m\u001b[0m\n\u001b[1;32m     50\u001b[0m \u001b[0;34m\u001b[0m\u001b[0m\n\u001b[0;32m---> 51\u001b[0;31m \u001b[0mRes\u001b[0m \u001b[0;34m=\u001b[0m \u001b[0mitg\u001b[0m\u001b[0;34m.\u001b[0m\u001b[0msolve_ivp\u001b[0m\u001b[0;34m(\u001b[0m\u001b[0mjointVF\u001b[0m\u001b[0;34m,\u001b[0m\u001b[0;34m(\u001b[0m\u001b[0mTime\u001b[0m\u001b[0;34m[\u001b[0m\u001b[0;36m0\u001b[0m\u001b[0;34m]\u001b[0m\u001b[0;34m,\u001b[0m\u001b[0mTime\u001b[0m\u001b[0;34m[\u001b[0m\u001b[0;34m-\u001b[0m\u001b[0;36m1\u001b[0m\u001b[0;34m]\u001b[0m\u001b[0;34m)\u001b[0m\u001b[0;34m,\u001b[0m\u001b[0mZ\u001b[0m\u001b[0;34m,\u001b[0m\u001b[0mt_eval\u001b[0m\u001b[0;34m=\u001b[0m\u001b[0mTime\u001b[0m\u001b[0;34m)\u001b[0m\u001b[0;34m\u001b[0m\u001b[0m\n\u001b[0m\u001b[1;32m     52\u001b[0m \u001b[0mMu\u001b[0m \u001b[0;34m=\u001b[0m \u001b[0mRes\u001b[0m\u001b[0;34m.\u001b[0m\u001b[0my\u001b[0m\u001b[0;34m[\u001b[0m\u001b[0;34m:\u001b[0m\u001b[0;36m2\u001b[0m\u001b[0;34m,\u001b[0m\u001b[0;34m:\u001b[0m\u001b[0;34m]\u001b[0m\u001b[0;34m\u001b[0m\u001b[0m\n\u001b[1;32m     53\u001b[0m \u001b[0mP_traj\u001b[0m \u001b[0;34m=\u001b[0m \u001b[0mRes\u001b[0m\u001b[0;34m.\u001b[0m\u001b[0my\u001b[0m\u001b[0;34m[\u001b[0m\u001b[0;36m2\u001b[0m\u001b[0;34m:\u001b[0m\u001b[0;34m,\u001b[0m\u001b[0;34m:\u001b[0m\u001b[0;34m]\u001b[0m\u001b[0;34m\u001b[0m\u001b[0m\n",
      "\u001b[0;32m~/Cabinet/EE5251/class-files/estenv/lib/python3.6/site-packages/scipy-1.1.0-py3.6-linux-x86_64.egg/scipy/integrate/_ivp/ivp.py\u001b[0m in \u001b[0;36msolve_ivp\u001b[0;34m(fun, t_span, y0, method, t_eval, dense_output, events, vectorized, **options)\u001b[0m\n\u001b[1;32m    473\u001b[0m     \u001b[0mstatus\u001b[0m \u001b[0;34m=\u001b[0m \u001b[0;32mNone\u001b[0m\u001b[0;34m\u001b[0m\u001b[0m\n\u001b[1;32m    474\u001b[0m     \u001b[0;32mwhile\u001b[0m \u001b[0mstatus\u001b[0m \u001b[0;32mis\u001b[0m \u001b[0;32mNone\u001b[0m\u001b[0;34m:\u001b[0m\u001b[0;34m\u001b[0m\u001b[0m\n\u001b[0;32m--> 475\u001b[0;31m         \u001b[0mmessage\u001b[0m \u001b[0;34m=\u001b[0m \u001b[0msolver\u001b[0m\u001b[0;34m.\u001b[0m\u001b[0mstep\u001b[0m\u001b[0;34m(\u001b[0m\u001b[0;34m)\u001b[0m\u001b[0;34m\u001b[0m\u001b[0m\n\u001b[0m\u001b[1;32m    476\u001b[0m \u001b[0;34m\u001b[0m\u001b[0m\n\u001b[1;32m    477\u001b[0m         \u001b[0;32mif\u001b[0m \u001b[0msolver\u001b[0m\u001b[0;34m.\u001b[0m\u001b[0mstatus\u001b[0m \u001b[0;34m==\u001b[0m \u001b[0;34m'finished'\u001b[0m\u001b[0;34m:\u001b[0m\u001b[0;34m\u001b[0m\u001b[0m\n",
      "\u001b[0;32m~/Cabinet/EE5251/class-files/estenv/lib/python3.6/site-packages/scipy-1.1.0-py3.6-linux-x86_64.egg/scipy/integrate/_ivp/base.py\u001b[0m in \u001b[0;36mstep\u001b[0;34m(self)\u001b[0m\n\u001b[1;32m    180\u001b[0m         \u001b[0;32melse\u001b[0m\u001b[0;34m:\u001b[0m\u001b[0;34m\u001b[0m\u001b[0m\n\u001b[1;32m    181\u001b[0m             \u001b[0mt\u001b[0m \u001b[0;34m=\u001b[0m \u001b[0mself\u001b[0m\u001b[0;34m.\u001b[0m\u001b[0mt\u001b[0m\u001b[0;34m\u001b[0m\u001b[0m\n\u001b[0;32m--> 182\u001b[0;31m             \u001b[0msuccess\u001b[0m\u001b[0;34m,\u001b[0m \u001b[0mmessage\u001b[0m \u001b[0;34m=\u001b[0m \u001b[0mself\u001b[0m\u001b[0;34m.\u001b[0m\u001b[0m_step_impl\u001b[0m\u001b[0;34m(\u001b[0m\u001b[0;34m)\u001b[0m\u001b[0;34m\u001b[0m\u001b[0m\n\u001b[0m\u001b[1;32m    183\u001b[0m \u001b[0;34m\u001b[0m\u001b[0m\n\u001b[1;32m    184\u001b[0m             \u001b[0;32mif\u001b[0m \u001b[0;32mnot\u001b[0m \u001b[0msuccess\u001b[0m\u001b[0;34m:\u001b[0m\u001b[0;34m\u001b[0m\u001b[0m\n",
      "\u001b[0;32m~/Cabinet/EE5251/class-files/estenv/lib/python3.6/site-packages/scipy-1.1.0-py3.6-linux-x86_64.egg/scipy/integrate/_ivp/rk.py\u001b[0m in \u001b[0;36m_step_impl\u001b[0;34m(self)\u001b[0m\n\u001b[1;32m    137\u001b[0m \u001b[0;34m\u001b[0m\u001b[0m\n\u001b[1;32m    138\u001b[0m             y_new, f_new, error = rk_step(self.fun, t, y, self.f, h, self.A,\n\u001b[0;32m--> 139\u001b[0;31m                                           self.B, self.C, self.E, self.K)\n\u001b[0m\u001b[1;32m    140\u001b[0m             \u001b[0mscale\u001b[0m \u001b[0;34m=\u001b[0m \u001b[0matol\u001b[0m \u001b[0;34m+\u001b[0m \u001b[0mnp\u001b[0m\u001b[0;34m.\u001b[0m\u001b[0mmaximum\u001b[0m\u001b[0;34m(\u001b[0m\u001b[0mnp\u001b[0m\u001b[0;34m.\u001b[0m\u001b[0mabs\u001b[0m\u001b[0;34m(\u001b[0m\u001b[0my\u001b[0m\u001b[0;34m)\u001b[0m\u001b[0;34m,\u001b[0m \u001b[0mnp\u001b[0m\u001b[0;34m.\u001b[0m\u001b[0mabs\u001b[0m\u001b[0;34m(\u001b[0m\u001b[0my_new\u001b[0m\u001b[0;34m)\u001b[0m\u001b[0;34m)\u001b[0m \u001b[0;34m*\u001b[0m \u001b[0mrtol\u001b[0m\u001b[0;34m\u001b[0m\u001b[0m\n\u001b[1;32m    141\u001b[0m             \u001b[0merror_norm\u001b[0m \u001b[0;34m=\u001b[0m \u001b[0mnorm\u001b[0m\u001b[0;34m(\u001b[0m\u001b[0merror\u001b[0m \u001b[0;34m/\u001b[0m \u001b[0mscale\u001b[0m\u001b[0;34m)\u001b[0m\u001b[0;34m\u001b[0m\u001b[0m\n",
      "\u001b[0;32m~/Cabinet/EE5251/class-files/estenv/lib/python3.6/site-packages/scipy-1.1.0-py3.6-linux-x86_64.egg/scipy/integrate/_ivp/rk.py\u001b[0m in \u001b[0;36mrk_step\u001b[0;34m(fun, t, y, f, h, A, B, C, E, K)\u001b[0m\n\u001b[1;32m     68\u001b[0m     \u001b[0;32mfor\u001b[0m \u001b[0ms\u001b[0m\u001b[0;34m,\u001b[0m \u001b[0;34m(\u001b[0m\u001b[0ma\u001b[0m\u001b[0;34m,\u001b[0m \u001b[0mc\u001b[0m\u001b[0;34m)\u001b[0m \u001b[0;32min\u001b[0m \u001b[0menumerate\u001b[0m\u001b[0;34m(\u001b[0m\u001b[0mzip\u001b[0m\u001b[0;34m(\u001b[0m\u001b[0mA\u001b[0m\u001b[0;34m,\u001b[0m \u001b[0mC\u001b[0m\u001b[0;34m)\u001b[0m\u001b[0;34m)\u001b[0m\u001b[0;34m:\u001b[0m\u001b[0;34m\u001b[0m\u001b[0m\n\u001b[1;32m     69\u001b[0m         \u001b[0mdy\u001b[0m \u001b[0;34m=\u001b[0m \u001b[0mnp\u001b[0m\u001b[0;34m.\u001b[0m\u001b[0mdot\u001b[0m\u001b[0;34m(\u001b[0m\u001b[0mK\u001b[0m\u001b[0;34m[\u001b[0m\u001b[0;34m:\u001b[0m\u001b[0ms\u001b[0m \u001b[0;34m+\u001b[0m \u001b[0;36m1\u001b[0m\u001b[0;34m]\u001b[0m\u001b[0;34m.\u001b[0m\u001b[0mT\u001b[0m\u001b[0;34m,\u001b[0m \u001b[0ma\u001b[0m\u001b[0;34m)\u001b[0m \u001b[0;34m*\u001b[0m \u001b[0mh\u001b[0m\u001b[0;34m\u001b[0m\u001b[0m\n\u001b[0;32m---> 70\u001b[0;31m         \u001b[0mK\u001b[0m\u001b[0;34m[\u001b[0m\u001b[0ms\u001b[0m \u001b[0;34m+\u001b[0m \u001b[0;36m1\u001b[0m\u001b[0;34m]\u001b[0m \u001b[0;34m=\u001b[0m \u001b[0mfun\u001b[0m\u001b[0;34m(\u001b[0m\u001b[0mt\u001b[0m \u001b[0;34m+\u001b[0m \u001b[0mc\u001b[0m \u001b[0;34m*\u001b[0m \u001b[0mh\u001b[0m\u001b[0;34m,\u001b[0m \u001b[0my\u001b[0m \u001b[0;34m+\u001b[0m \u001b[0mdy\u001b[0m\u001b[0;34m)\u001b[0m\u001b[0;34m\u001b[0m\u001b[0m\n\u001b[0m\u001b[1;32m     71\u001b[0m \u001b[0;34m\u001b[0m\u001b[0m\n\u001b[1;32m     72\u001b[0m     \u001b[0my_new\u001b[0m \u001b[0;34m=\u001b[0m \u001b[0my\u001b[0m \u001b[0;34m+\u001b[0m \u001b[0mh\u001b[0m \u001b[0;34m*\u001b[0m \u001b[0mnp\u001b[0m\u001b[0;34m.\u001b[0m\u001b[0mdot\u001b[0m\u001b[0;34m(\u001b[0m\u001b[0mK\u001b[0m\u001b[0;34m[\u001b[0m\u001b[0;34m:\u001b[0m\u001b[0;34m-\u001b[0m\u001b[0;36m1\u001b[0m\u001b[0;34m]\u001b[0m\u001b[0;34m.\u001b[0m\u001b[0mT\u001b[0m\u001b[0;34m,\u001b[0m \u001b[0mB\u001b[0m\u001b[0;34m)\u001b[0m\u001b[0;34m\u001b[0m\u001b[0m\n",
      "\u001b[0;32m~/Cabinet/EE5251/class-files/estenv/lib/python3.6/site-packages/scipy-1.1.0-py3.6-linux-x86_64.egg/scipy/integrate/_ivp/base.py\u001b[0m in \u001b[0;36mfun\u001b[0;34m(t, y)\u001b[0m\n\u001b[1;32m    137\u001b[0m         \u001b[0;32mdef\u001b[0m \u001b[0mfun\u001b[0m\u001b[0;34m(\u001b[0m\u001b[0mt\u001b[0m\u001b[0;34m,\u001b[0m \u001b[0my\u001b[0m\u001b[0;34m)\u001b[0m\u001b[0;34m:\u001b[0m\u001b[0;34m\u001b[0m\u001b[0m\n\u001b[1;32m    138\u001b[0m             \u001b[0mself\u001b[0m\u001b[0;34m.\u001b[0m\u001b[0mnfev\u001b[0m \u001b[0;34m+=\u001b[0m \u001b[0;36m1\u001b[0m\u001b[0;34m\u001b[0m\u001b[0m\n\u001b[0;32m--> 139\u001b[0;31m             \u001b[0;32mreturn\u001b[0m \u001b[0mself\u001b[0m\u001b[0;34m.\u001b[0m\u001b[0mfun_single\u001b[0m\u001b[0;34m(\u001b[0m\u001b[0mt\u001b[0m\u001b[0;34m,\u001b[0m \u001b[0my\u001b[0m\u001b[0;34m)\u001b[0m\u001b[0;34m\u001b[0m\u001b[0m\n\u001b[0m\u001b[1;32m    140\u001b[0m \u001b[0;34m\u001b[0m\u001b[0m\n\u001b[1;32m    141\u001b[0m         \u001b[0mself\u001b[0m\u001b[0;34m.\u001b[0m\u001b[0mfun\u001b[0m \u001b[0;34m=\u001b[0m \u001b[0mfun\u001b[0m\u001b[0;34m\u001b[0m\u001b[0m\n",
      "\u001b[0;32m~/Cabinet/EE5251/class-files/estenv/lib/python3.6/site-packages/scipy-1.1.0-py3.6-linux-x86_64.egg/scipy/integrate/_ivp/base.py\u001b[0m in \u001b[0;36mfun_wrapped\u001b[0;34m(t, y)\u001b[0m\n\u001b[1;32m     19\u001b[0m \u001b[0;34m\u001b[0m\u001b[0m\n\u001b[1;32m     20\u001b[0m     \u001b[0;32mdef\u001b[0m \u001b[0mfun_wrapped\u001b[0m\u001b[0;34m(\u001b[0m\u001b[0mt\u001b[0m\u001b[0;34m,\u001b[0m \u001b[0my\u001b[0m\u001b[0;34m)\u001b[0m\u001b[0;34m:\u001b[0m\u001b[0;34m\u001b[0m\u001b[0m\n\u001b[0;32m---> 21\u001b[0;31m         \u001b[0;32mreturn\u001b[0m \u001b[0mnp\u001b[0m\u001b[0;34m.\u001b[0m\u001b[0masarray\u001b[0m\u001b[0;34m(\u001b[0m\u001b[0mfun\u001b[0m\u001b[0;34m(\u001b[0m\u001b[0mt\u001b[0m\u001b[0;34m,\u001b[0m \u001b[0my\u001b[0m\u001b[0;34m)\u001b[0m\u001b[0;34m,\u001b[0m \u001b[0mdtype\u001b[0m\u001b[0;34m=\u001b[0m\u001b[0mdtype\u001b[0m\u001b[0;34m)\u001b[0m\u001b[0;34m\u001b[0m\u001b[0m\n\u001b[0m\u001b[1;32m     22\u001b[0m \u001b[0;34m\u001b[0m\u001b[0m\n\u001b[1;32m     23\u001b[0m     \u001b[0;32mreturn\u001b[0m \u001b[0mfun_wrapped\u001b[0m\u001b[0;34m,\u001b[0m \u001b[0my0\u001b[0m\u001b[0;34m\u001b[0m\u001b[0m\n",
      "\u001b[0;32m<ipython-input-3-5517dcec146e>\u001b[0m in \u001b[0;36mjointVF\u001b[0;34m(t, Z)\u001b[0m\n\u001b[1;32m     36\u001b[0m     \u001b[0mmu\u001b[0m \u001b[0;34m=\u001b[0m \u001b[0mZ\u001b[0m\u001b[0;34m[\u001b[0m\u001b[0;34m:\u001b[0m\u001b[0mn\u001b[0m\u001b[0;34m]\u001b[0m\u001b[0;34m\u001b[0m\u001b[0m\n\u001b[1;32m     37\u001b[0m     \u001b[0mP\u001b[0m \u001b[0;34m=\u001b[0m \u001b[0msymStack\u001b[0m\u001b[0;34m(\u001b[0m\u001b[0mZ\u001b[0m\u001b[0;34m[\u001b[0m\u001b[0mn\u001b[0m\u001b[0;34m:\u001b[0m\u001b[0;34m]\u001b[0m\u001b[0;34m)\u001b[0m\u001b[0;34m\u001b[0m\u001b[0m\n\u001b[0;32m---> 38\u001b[0;31m     \u001b[0mF\u001b[0m \u001b[0;34m=\u001b[0m \u001b[0mF_fun\u001b[0m\u001b[0;34m(\u001b[0m\u001b[0mt\u001b[0m\u001b[0;34m,\u001b[0m\u001b[0mmu\u001b[0m\u001b[0;34m)\u001b[0m\u001b[0;34m\u001b[0m\u001b[0m\n\u001b[0m\u001b[1;32m     39\u001b[0m \u001b[0;34m\u001b[0m\u001b[0m\n\u001b[1;32m     40\u001b[0m     \u001b[0mmu_dot\u001b[0m \u001b[0;34m=\u001b[0m \u001b[0mvanderPolGuessDrift\u001b[0m\u001b[0;34m(\u001b[0m\u001b[0mt\u001b[0m\u001b[0;34m,\u001b[0m\u001b[0mmu\u001b[0m\u001b[0;34m)\u001b[0m\u001b[0;34m\u001b[0m\u001b[0m\n",
      "\u001b[0;32m~/Cabinet/EE5251/class-files/estenv/lib/python3.6/site-packages/autograd-1.2-py3.6.egg/autograd/wrap_util.py\u001b[0m in \u001b[0;36mnary_f\u001b[0;34m(*args, **kwargs)\u001b[0m\n\u001b[1;32m     18\u001b[0m             \u001b[0;32melse\u001b[0m\u001b[0;34m:\u001b[0m\u001b[0;34m\u001b[0m\u001b[0m\n\u001b[1;32m     19\u001b[0m                 \u001b[0mx\u001b[0m \u001b[0;34m=\u001b[0m \u001b[0mtuple\u001b[0m\u001b[0;34m(\u001b[0m\u001b[0margs\u001b[0m\u001b[0;34m[\u001b[0m\u001b[0mi\u001b[0m\u001b[0;34m]\u001b[0m \u001b[0;32mfor\u001b[0m \u001b[0mi\u001b[0m \u001b[0;32min\u001b[0m \u001b[0margnum\u001b[0m\u001b[0;34m)\u001b[0m\u001b[0;34m\u001b[0m\u001b[0m\n\u001b[0;32m---> 20\u001b[0;31m             \u001b[0;32mreturn\u001b[0m \u001b[0munary_operator\u001b[0m\u001b[0;34m(\u001b[0m\u001b[0munary_f\u001b[0m\u001b[0;34m,\u001b[0m \u001b[0mx\u001b[0m\u001b[0;34m,\u001b[0m \u001b[0;34m*\u001b[0m\u001b[0mnary_op_args\u001b[0m\u001b[0;34m,\u001b[0m \u001b[0;34m**\u001b[0m\u001b[0mnary_op_kwargs\u001b[0m\u001b[0;34m)\u001b[0m\u001b[0;34m\u001b[0m\u001b[0m\n\u001b[0m\u001b[1;32m     21\u001b[0m         \u001b[0;32mreturn\u001b[0m \u001b[0mnary_f\u001b[0m\u001b[0;34m\u001b[0m\u001b[0m\n\u001b[1;32m     22\u001b[0m     \u001b[0;32mreturn\u001b[0m \u001b[0mnary_operator\u001b[0m\u001b[0;34m\u001b[0m\u001b[0m\n",
      "\u001b[0;32m~/Cabinet/EE5251/class-files/estenv/lib/python3.6/site-packages/autograd-1.2-py3.6.egg/autograd/differential_operators.py\u001b[0m in \u001b[0;36mjacobian\u001b[0;34m(fun, x)\u001b[0m\n\u001b[1;32m     53\u001b[0m     \u001b[0mjacobian_shape\u001b[0m \u001b[0;34m=\u001b[0m \u001b[0mans_vspace\u001b[0m\u001b[0;34m.\u001b[0m\u001b[0mshape\u001b[0m \u001b[0;34m+\u001b[0m \u001b[0mvspace\u001b[0m\u001b[0;34m(\u001b[0m\u001b[0mx\u001b[0m\u001b[0;34m)\u001b[0m\u001b[0;34m.\u001b[0m\u001b[0mshape\u001b[0m\u001b[0;34m\u001b[0m\u001b[0m\n\u001b[1;32m     54\u001b[0m     \u001b[0mgrads\u001b[0m \u001b[0;34m=\u001b[0m \u001b[0mmap\u001b[0m\u001b[0;34m(\u001b[0m\u001b[0mvjp\u001b[0m\u001b[0;34m,\u001b[0m \u001b[0mans_vspace\u001b[0m\u001b[0;34m.\u001b[0m\u001b[0mstandard_basis\u001b[0m\u001b[0;34m(\u001b[0m\u001b[0;34m)\u001b[0m\u001b[0;34m)\u001b[0m\u001b[0;34m\u001b[0m\u001b[0m\n\u001b[0;32m---> 55\u001b[0;31m     \u001b[0;32mreturn\u001b[0m \u001b[0mnp\u001b[0m\u001b[0;34m.\u001b[0m\u001b[0mreshape\u001b[0m\u001b[0;34m(\u001b[0m\u001b[0mnp\u001b[0m\u001b[0;34m.\u001b[0m\u001b[0mstack\u001b[0m\u001b[0;34m(\u001b[0m\u001b[0mgrads\u001b[0m\u001b[0;34m)\u001b[0m\u001b[0;34m,\u001b[0m \u001b[0mjacobian_shape\u001b[0m\u001b[0;34m)\u001b[0m\u001b[0;34m\u001b[0m\u001b[0m\n\u001b[0m\u001b[1;32m     56\u001b[0m \u001b[0;34m\u001b[0m\u001b[0m\n\u001b[1;32m     57\u001b[0m \u001b[0;34m@\u001b[0m\u001b[0munary_to_nary\u001b[0m\u001b[0;34m\u001b[0m\u001b[0m\n",
      "\u001b[0;32m~/Cabinet/EE5251/class-files/estenv/lib/python3.6/site-packages/autograd-1.2-py3.6.egg/autograd/numpy/numpy_wrapper.py\u001b[0m in \u001b[0;36mstack\u001b[0;34m(arrays, axis)\u001b[0m\n\u001b[1;32m     86\u001b[0m     \u001b[0;31m# this code is basically copied from numpy/core/shape_base.py's stack\u001b[0m\u001b[0;34m\u001b[0m\u001b[0;34m\u001b[0m\u001b[0m\n\u001b[1;32m     87\u001b[0m \u001b[0;34m\u001b[0m\u001b[0m\n\u001b[0;32m---> 88\u001b[0;31m     \u001b[0marrays\u001b[0m \u001b[0;34m=\u001b[0m \u001b[0;34m[\u001b[0m\u001b[0marray\u001b[0m\u001b[0;34m(\u001b[0m\u001b[0marr\u001b[0m\u001b[0;34m)\u001b[0m \u001b[0;32mfor\u001b[0m \u001b[0marr\u001b[0m \u001b[0;32min\u001b[0m \u001b[0marrays\u001b[0m\u001b[0;34m]\u001b[0m\u001b[0;34m\u001b[0m\u001b[0m\n\u001b[0m\u001b[1;32m     89\u001b[0m     \u001b[0;32mif\u001b[0m \u001b[0;32mnot\u001b[0m \u001b[0marrays\u001b[0m\u001b[0;34m:\u001b[0m\u001b[0;34m\u001b[0m\u001b[0m\n\u001b[1;32m     90\u001b[0m         \u001b[0;32mraise\u001b[0m \u001b[0mValueError\u001b[0m\u001b[0;34m(\u001b[0m\u001b[0;34m'need at least one array to stack'\u001b[0m\u001b[0;34m)\u001b[0m\u001b[0;34m\u001b[0m\u001b[0m\n",
      "\u001b[0;32m~/Cabinet/EE5251/class-files/estenv/lib/python3.6/site-packages/autograd-1.2-py3.6.egg/autograd/numpy/numpy_wrapper.py\u001b[0m in \u001b[0;36m<listcomp>\u001b[0;34m(.0)\u001b[0m\n\u001b[1;32m     86\u001b[0m     \u001b[0;31m# this code is basically copied from numpy/core/shape_base.py's stack\u001b[0m\u001b[0;34m\u001b[0m\u001b[0;34m\u001b[0m\u001b[0m\n\u001b[1;32m     87\u001b[0m \u001b[0;34m\u001b[0m\u001b[0m\n\u001b[0;32m---> 88\u001b[0;31m     \u001b[0marrays\u001b[0m \u001b[0;34m=\u001b[0m \u001b[0;34m[\u001b[0m\u001b[0marray\u001b[0m\u001b[0;34m(\u001b[0m\u001b[0marr\u001b[0m\u001b[0;34m)\u001b[0m \u001b[0;32mfor\u001b[0m \u001b[0marr\u001b[0m \u001b[0;32min\u001b[0m \u001b[0marrays\u001b[0m\u001b[0;34m]\u001b[0m\u001b[0;34m\u001b[0m\u001b[0m\n\u001b[0m\u001b[1;32m     89\u001b[0m     \u001b[0;32mif\u001b[0m \u001b[0;32mnot\u001b[0m \u001b[0marrays\u001b[0m\u001b[0;34m:\u001b[0m\u001b[0;34m\u001b[0m\u001b[0m\n\u001b[1;32m     90\u001b[0m         \u001b[0;32mraise\u001b[0m \u001b[0mValueError\u001b[0m\u001b[0;34m(\u001b[0m\u001b[0;34m'need at least one array to stack'\u001b[0m\u001b[0;34m)\u001b[0m\u001b[0;34m\u001b[0m\u001b[0m\n",
      "\u001b[0;32m~/Cabinet/EE5251/class-files/estenv/lib/python3.6/site-packages/autograd-1.2-py3.6.egg/autograd/core.py\u001b[0m in \u001b[0;36mvjp\u001b[0;34m(g)\u001b[0m\n\u001b[1;32m     12\u001b[0m         \u001b[0;32mdef\u001b[0m \u001b[0mvjp\u001b[0m\u001b[0;34m(\u001b[0m\u001b[0mg\u001b[0m\u001b[0;34m)\u001b[0m\u001b[0;34m:\u001b[0m \u001b[0;32mreturn\u001b[0m \u001b[0mvspace\u001b[0m\u001b[0;34m(\u001b[0m\u001b[0mx\u001b[0m\u001b[0;34m)\u001b[0m\u001b[0;34m.\u001b[0m\u001b[0mzeros\u001b[0m\u001b[0;34m(\u001b[0m\u001b[0;34m)\u001b[0m\u001b[0;34m\u001b[0m\u001b[0m\n\u001b[1;32m     13\u001b[0m     \u001b[0;32melse\u001b[0m\u001b[0;34m:\u001b[0m\u001b[0;34m\u001b[0m\u001b[0m\n\u001b[0;32m---> 14\u001b[0;31m         \u001b[0;32mdef\u001b[0m \u001b[0mvjp\u001b[0m\u001b[0;34m(\u001b[0m\u001b[0mg\u001b[0m\u001b[0;34m)\u001b[0m\u001b[0;34m:\u001b[0m \u001b[0;32mreturn\u001b[0m \u001b[0mbackward_pass\u001b[0m\u001b[0;34m(\u001b[0m\u001b[0mg\u001b[0m\u001b[0;34m,\u001b[0m \u001b[0mend_node\u001b[0m\u001b[0;34m)\u001b[0m\u001b[0;34m\u001b[0m\u001b[0m\n\u001b[0m\u001b[1;32m     15\u001b[0m     \u001b[0;32mreturn\u001b[0m \u001b[0mvjp\u001b[0m\u001b[0;34m,\u001b[0m \u001b[0mend_value\u001b[0m\u001b[0;34m\u001b[0m\u001b[0m\n\u001b[1;32m     16\u001b[0m \u001b[0;34m\u001b[0m\u001b[0m\n",
      "\u001b[0;32m~/Cabinet/EE5251/class-files/estenv/lib/python3.6/site-packages/autograd-1.2-py3.6.egg/autograd/core.py\u001b[0m in \u001b[0;36mbackward_pass\u001b[0;34m(g, end_node)\u001b[0m\n\u001b[1;32m     21\u001b[0m         \u001b[0mingrads\u001b[0m \u001b[0;34m=\u001b[0m \u001b[0mnode\u001b[0m\u001b[0;34m.\u001b[0m\u001b[0mvjp\u001b[0m\u001b[0;34m(\u001b[0m\u001b[0moutgrad\u001b[0m\u001b[0;34m[\u001b[0m\u001b[0;36m0\u001b[0m\u001b[0;34m]\u001b[0m\u001b[0;34m)\u001b[0m\u001b[0;34m\u001b[0m\u001b[0m\n\u001b[1;32m     22\u001b[0m         \u001b[0;32mfor\u001b[0m \u001b[0mparent\u001b[0m\u001b[0;34m,\u001b[0m \u001b[0mingrad\u001b[0m \u001b[0;32min\u001b[0m \u001b[0mzip\u001b[0m\u001b[0;34m(\u001b[0m\u001b[0mnode\u001b[0m\u001b[0;34m.\u001b[0m\u001b[0mparents\u001b[0m\u001b[0;34m,\u001b[0m \u001b[0mingrads\u001b[0m\u001b[0;34m)\u001b[0m\u001b[0;34m:\u001b[0m\u001b[0;34m\u001b[0m\u001b[0m\n\u001b[0;32m---> 23\u001b[0;31m             \u001b[0moutgrads\u001b[0m\u001b[0;34m[\u001b[0m\u001b[0mparent\u001b[0m\u001b[0;34m]\u001b[0m \u001b[0;34m=\u001b[0m \u001b[0madd_outgrads\u001b[0m\u001b[0;34m(\u001b[0m\u001b[0moutgrads\u001b[0m\u001b[0;34m.\u001b[0m\u001b[0mget\u001b[0m\u001b[0;34m(\u001b[0m\u001b[0mparent\u001b[0m\u001b[0;34m)\u001b[0m\u001b[0;34m,\u001b[0m \u001b[0mingrad\u001b[0m\u001b[0;34m)\u001b[0m\u001b[0;34m\u001b[0m\u001b[0m\n\u001b[0m\u001b[1;32m     24\u001b[0m     \u001b[0;32mreturn\u001b[0m \u001b[0moutgrad\u001b[0m\u001b[0;34m[\u001b[0m\u001b[0;36m0\u001b[0m\u001b[0;34m]\u001b[0m\u001b[0;34m\u001b[0m\u001b[0m\n\u001b[1;32m     25\u001b[0m \u001b[0;34m\u001b[0m\u001b[0m\n",
      "\u001b[0;31mKeyboardInterrupt\u001b[0m: "
     ]
    }
   ],
   "source": [
    "G = np.array([[0.],\n",
    "              [1.]])\n",
    "q = .2\n",
    "\n",
    "Q = q * np.dot(G,G.T)\n",
    "\n",
    "F_fun = ag.jacobian(vanderPolGuessDrift,1)\n",
    "\n",
    "def triuStack(M):\n",
    "    vecList = []\n",
    "    m,n = M.shape\n",
    "    for k,v in enumerate(M):\n",
    "        if k < n:\n",
    "            vecList.append(v[k:])\n",
    "    return np.hstack(vecList)\n",
    "\n",
    "def triuUnstack(v):\n",
    "    d = len(v)\n",
    "    if d == 1:\n",
    "        return np.array([v])\n",
    "    else:\n",
    "        n = int((-1+np.sqrt(1+8*d))/2)\n",
    "        Top = v[:n]\n",
    "        BL = np.zeros((n-1,1))\n",
    "        BR = triuUnstack(v[n:])\n",
    "        Bot = np.hstack([BL,BR])\n",
    "        return np.vstack([Top,Bot])\n",
    "    \n",
    "def symStack(v):\n",
    "    U = triuUnstack(v)\n",
    "    D = np.diag(np.diag(U))\n",
    "    return U + U.T - D\n",
    "\n",
    "def jointVF(t,Z):\n",
    "    n = 2\n",
    "    mu = Z[:n]\n",
    "    P = symStack(Z[n:])\n",
    "    F = F_fun(t,mu)\n",
    "    \n",
    "    mu_dot = vanderPolGuessDrift(t,mu)\n",
    "    P_dot = np.dot(F,P)+np.dot(P,F.T) + Q\n",
    "    \n",
    "    Z_dot = np.hstack([mu_dot,triuStack(P_dot)])\n",
    "    #return Z_dot\n",
    "    #return np.hstack([mu_dot,np.zeros(3)])\n",
    "\n",
    "mu = np.array([1.,0])\n",
    "P = 1000 * np.eye(2)\n",
    "Z = np.hstack([mu,triuStack(P)])\n",
    "\n",
    "Res = itg.solve_ivp(jointVF,(Time[0],Time[-1]),Z,t_eval=Time)\n",
    "Mu = Res.y[:2,:]\n",
    "P_traj = Res.y[2:,:]\n",
    "\n",
    "fig_mean = plt.figure()\n",
    "# Make your plots of x and x_hat here\n",
    "plt.plot(Mu[0],Mu[1])\n",
    "plt.plot(X[0],X[1])\n",
    "\n",
    "\n",
    "fig_cov = plt.figure()\n",
    "# Make your covariance plots here\n",
    "plt.plot(Time,P_traj.T)\n",
    "\n",
    "\n",
    "Questions[1].checkAnswer(fig_mean,fig_cov)"
   ]
  },
  {
   "cell_type": "markdown",
   "metadata": {
    "format": "text/markdown"
   },
   "source": [
    "\n"
   ]
  },
  {
   "cell_type": "markdown",
   "metadata": {
    "format": "text/markdown"
   },
   "source": [
    "\n"
   ]
  },
  {
   "cell_type": "markdown",
   "metadata": {
    "format": "text/markdown"
   },
   "source": [
    "\n",
    "# Question 2\n",
    "\n",
    "For the rest of the assignment, we will see how to apply the unscented Kalman filter to the localization problem from the previous homework.\n",
    "\n",
    "Recall the vehicle model given in discrete-time by:\n",
    "\\begin{equation*}\n",
    "\\begin{bmatrix}\n",
    "p_x[k+1] \\\\\n",
    "p_y[k+1] \\\\\n",
    "\\theta[k+1]\n",
    "\\end{bmatrix}\n",
    "=\n",
    "\\begin{bmatrix}\n",
    "p_x[k] \\\\\n",
    "p_y[k] \\\\\n",
    "\\theta[k]\n",
    "\\end{bmatrix} + dt \n",
    "\\begin{bmatrix}\n",
    "u_v[k] \\cos(\\theta[k]) \\\\ \n",
    "u_v[k] \\sin(\\theta[k]) \\\\\n",
    "u_\\omega[k]\n",
    "\\end{bmatrix}\n",
    "+w[k].\n",
    "\\end{equation*}\n",
    "\n"
   ]
  },
  {
   "cell_type": "markdown",
   "metadata": {
    "format": "text/markdown"
   },
   "source": [
    "\n",
    "Here $dt$ is the time-step and $w[k]$ is the process noise. We will assume that $dt=0.1$ and the process noise is independent Gaussian noise distributed as $w[k] \\sim\\Nor(0,0.0001I)$.\n",
    "\n",
    "We stack the state and inputs as:\n",
    "\\begin{equation*}\n",
    "x[k] = \\begin{bmatrix}\n",
    "p_x[k] \\\\\n",
    "p_y[k] \\\\\n",
    "\\theta[k]\n",
    "\\end{bmatrix}\n",
    "\\quad \n",
    "u[k] = \\begin{bmatrix}\n",
    "u_v[k] \\\\\n",
    "u_\\omega[k]\n",
    "\\end{bmatrix}\n",
    "\\end{equation*}\n",
    "\n",
    "This question will focus on the time-update.\n",
    "\n",
    "Throughout this assignment, we will be implementing Algorithm 5.15 from:\n",
    "\n",
    "https://users.aalto.fi/~ssarkka/pub/cup_book_online_20131111.pdf\n",
    "\n",
    "(This algorithm is somewhat different from the description of the UKF from the course text. \n",
    "\n",
    "Assume that we have computed our posterior approximations:\n",
    "\\begin{equation*}\n",
    "\\hat x_k^+ = \\E[x_k | y_{0:k},u_{0:k-1}], \\quad P_k^+ = \\E[(x_k-\\hat x_k^+)(x_k-\\hat x_k^+)^\\top]\n",
    "\\end{equation*}\n",
    "\n",
    "Given the input $u_k$ calculate the UKF approximation to the mean can covariance:\n",
    "\\begin{equation*}\n",
    "\\hat x_{k+1}^- = \\E[x_{k+1} | y_{0:k},u_{0:k}], \\quad \n",
    "P_{k+1}^- = \\E[(x_{k+1}-\\hat x_{k+1}^-)(x_{k+1}-\\hat x_{k+1}^-)^\\top]\n",
    "\\end{equation*}\n",
    "\n",
    "Specifically, write a function of the form:\n",
    "\n",
    "```\n",
    "x_pre,P_pre = carTimeUpdateUKF(x_post,P_post,u)\n",
    "```\n",
    "\n",
    "Use the lower triangular Cholesky decomposition from [`sp.cholesky`](https://docs.scipy.org/doc/scipy/reference/generated/scipy.linalg.cholesky.html) to compute the sigma points. (Note, matrix square roots are not unique. So, for the checker to work we all need to use the same code.)\n",
    "\n",
    "For all of the unscented transforms in this homework, use the parameters:\n",
    "\\begin{equation*}\n",
    "\\alpha = 1, \\quad \\beta = 2, \\quad \\kappa = 3-n,\n",
    "\\end{equation*}\n",
    "where $n$ is the dimension of the variable which you are transforming.\n",
    "\n",
    "\n",
    "\n",
    "\n"
   ]
  },
  {
   "cell_type": "code",
   "execution_count": 4,
   "metadata": {
    "autoscroll": "auto",
    "options": {
     "caption": false,
     "complete": true,
     "display_data": true,
     "display_stream": true,
     "dpi": 200,
     "echo": true,
     "evaluate": true,
     "f_env": null,
     "f_pos": "htpb",
     "f_size": [
      6,
      4
     ],
     "f_spines": true,
     "fig": true,
     "include": true,
     "name": null,
     "option_string": " echo='True', evaluate='True' ",
     "results": "verbatim",
     "term": false,
     "wrap": "output"
    }
   },
   "outputs": [
    {
     "name": "stdout",
     "output_type": "stream",
     "text": [
      "Hoorah!\n",
      "A score of 1 was entered for Question 2\n"
     ]
    }
   ],
   "source": [
    "def vectorField(x,u):\n",
    "    px,py,theta = x\n",
    "    v,omega = u\n",
    "\n",
    "    return np.array([v*np.cos(theta),v*np.sin(theta),omega])\n",
    "\n",
    "def step(x,u,w):\n",
    "    return x + 0.1 * vectorField(x,u) + w\n",
    "\n",
    "\n",
    "def sigmaPoints(x_bar,P,lam):\n",
    "    n = len(x_bar)\n",
    "    gam = np.sqrt(n + lam)\n",
    "    L = la.cholesky(P,lower=True)\n",
    "    M = gam *  np.hstack([np.zeros((n,1)),L,-L])\n",
    "    SigmaPoints = np.outer(x_bar,np.ones(2*n+1)) + M\n",
    "    return SigmaPoints.T\n",
    "\n",
    "\n",
    "def unscentedTransform(x_bar,P,h,alpha=1.,beta=2.,kappa = None):\n",
    "    n = len(x_bar)\n",
    "    if kappa is None:\n",
    "        kappa = 3 - n\n",
    "    \n",
    "    lam = alpha**2 * (n+kappa) -n\n",
    "    SigmaPoints = sigmaPoints(x_bar,P,lam)\n",
    "    \n",
    "    W_mean = np.hstack([lam/(lam+n),np.ones(2*n)/(2*(lam+n))])\n",
    "    W_cov = W_mean + np.hstack([1-alpha**2 + beta,np.zeros(2*n)]) \n",
    "    \n",
    "    Y = np.array([h(x) for x in SigmaPoints])\n",
    "    y_bar = np.zeros_like(Y[0])\n",
    "    for w,y in zip(W_mean,Y):\n",
    "        y_bar += w * y\n",
    "    \n",
    "    \n",
    "    Res = Y - np.outer(np.ones(2*n+1),y_bar)\n",
    "    \n",
    "    m = len(y_bar)\n",
    "    Q = np.zeros((m,m))\n",
    "    \n",
    "    for w,r in zip(W_cov,Res):\n",
    "        Q += w * np.outer(r,r)\n",
    "    return y_bar,Q\n",
    "\n",
    "\n",
    "Q = 0.0001 * np.eye(3)\n",
    "\n",
    "def carTimeUpdateUKF(mu,P,u):\n",
    "    \n",
    "    P_big = la.block_diag(P,Q)\n",
    "    mu_big = np.hstack([mu,np.zeros_like(mu)])\n",
    "\n",
    "    def h(z):\n",
    "        x = z[:3]\n",
    "        w = z[3:]\n",
    "        return step(x,u,w)\n",
    "\n",
    "    mu_pre,P_pre = unscentedTransform(mu_big,P_big,h)\n",
    "    return mu_pre,P_pre\n",
    "    \n",
    "\n",
    "Questions[2].checkAnswer(carTimeUpdateUKF)"
   ]
  },
  {
   "cell_type": "markdown",
   "metadata": {
    "format": "text/markdown"
   },
   "source": [
    "\n"
   ]
  },
  {
   "cell_type": "markdown",
   "metadata": {
    "format": "text/markdown"
   },
   "source": [
    "\n"
   ]
  },
  {
   "cell_type": "markdown",
   "metadata": {
    "format": "text/markdown"
   },
   "source": [
    "\n",
    "# Question 3\n",
    "\n",
    "Recall the distance measurement model from last week ago:\n",
    "\n",
    "\\begin{equation*}\n",
    "(y_k)_i = \\|p_k-c_i\\| + 0.2 (1+\\|p_k-c_i\\|) (v_k)_i\n",
    "\\end{equation*}\n",
    "\n",
    "Here $p_k = \\begin{bmatrix} p_x[k] \\\\ p_y[k] \\end{bmatrix}$, $c_i$ corresponds to the location of a sensor, and $(v_k)_i$ are independent Gaussian noises with mean $0$ and covariance $1$. The term $(y_k)_i$ denotes that entry $i$ of the measurement at time $k$. Similarly, $(v_k)_i$ is the entry $i$ of the measurement noise at time $k$. \n",
    "In this problem, we will have $10$ sensors at locations given below:\n",
    "\n"
   ]
  },
  {
   "cell_type": "code",
   "execution_count": 5,
   "metadata": {
    "autoscroll": "auto",
    "options": {
     "caption": false,
     "complete": true,
     "display_data": true,
     "display_stream": true,
     "dpi": 200,
     "echo": true,
     "evaluate": true,
     "f_env": null,
     "f_pos": "htpb",
     "f_size": [
      6,
      4
     ],
     "f_spines": true,
     "fig": true,
     "include": true,
     "name": null,
     "option_string": " echo='True', evaluate='True' ",
     "results": "verbatim",
     "term": false,
     "wrap": "output"
    }
   },
   "outputs": [],
   "source": [
    "SensorLocs = Data.SensorLocs"
   ]
  },
  {
   "cell_type": "markdown",
   "metadata": {
    "format": "text/markdown"
   },
   "source": [
    "\n",
    "Assume now that the prior approximations have been computed:\n",
    "\n",
    "\\begin{equation*}\n",
    "\\hat x_k^- = \\E[x_k | y_{0:k-1},u_{0:k-1}], \\quad P_k^- = \\E[(x_k - \\hat x_k^-)(x_k - \\hat x_k^-)^\\top]\n",
    "\\end{equation*}\n",
    "\n",
    "Given the measurement, $y_k$, compute the UKF posterior approximations:\n",
    "\n",
    "\\begin{equation*}\n",
    "\\hat x_k^+ = \\E[x_k | y_{0:k},u_{0:k-1}], \\quad P_k^+ = \\E[(x_k-\\hat x_k^+)(x_k - \\hat x_k^+)^\\top].\n",
    "\\end{equation*}\n",
    "\n",
    "Specifically, write a function of the form:\n",
    "\n",
    "```\n",
    "x_post,P_post = carMeasUpdateUKF(x_pre,P_pre,y)\n",
    "```\n",
    "\n"
   ]
  },
  {
   "cell_type": "code",
   "execution_count": 6,
   "metadata": {
    "autoscroll": "auto",
    "options": {
     "caption": false,
     "complete": true,
     "display_data": true,
     "display_stream": true,
     "dpi": 200,
     "echo": true,
     "evaluate": true,
     "f_env": null,
     "f_pos": "htpb",
     "f_size": [
      6,
      4
     ],
     "f_spines": true,
     "fig": true,
     "include": true,
     "name": null,
     "option_string": " echo='True', evaluate='True' ",
     "results": "verbatim",
     "term": false,
     "wrap": "output"
    }
   },
   "outputs": [
    {
     "name": "stdout",
     "output_type": "stream",
     "text": [
      "That is correct. Nice.\n",
      "A score of 1 was entered for Question 3\n"
     ]
    }
   ],
   "source": [
    "nSensors = len(SensorLocs)\n",
    "noiseStd = 0.2\n",
    "def measure(x,v):\n",
    "    d = np.linalg.norm(SensorLocs-np.outer(np.ones(nSensors),x[:2]),axis=1)\n",
    "    y = d + noiseStd * (1+d)*v\n",
    "    return y\n",
    "\n",
    "def dot(*mats):\n",
    "    if len(mats)==1:\n",
    "        return mats[0]\n",
    "    else:\n",
    "        return np.dot(mats[0],dot(*mats[1:]))\n",
    "\n",
    "def carMeasUpdateUKF(x,P,y):\n",
    "    mu_big = np.hstack([x,np.zeros_like(y)])\n",
    "    P_big = la.block_diag(P,np.eye(len(y)))\n",
    "\n",
    "    \n",
    "    def h(z):\n",
    "        x = z[:3]\n",
    "        v = z[3:]\n",
    "\n",
    "        return np.hstack([x,measure(x,v)])\n",
    "\n",
    "    y_big,Q_big = unscentedTransform(mu_big,P_big,h)\n",
    "\n",
    "    B = Q_big[:3,3:]\n",
    "    Psi = Q_big[3:,3:]\n",
    "    K = np.linalg.solve(Psi,B.T).T\n",
    "\n",
    "    h_bar = y_big[3:]\n",
    "    \n",
    "    x_post = x + np.dot(K,y-h_bar)\n",
    "    P_post = P - dot(K,Psi,K.T)\n",
    "\n",
    "\n",
    "    return x_post,P_post\n",
    "\n",
    "Questions[3].checkAnswer(carMeasUpdateUKF)"
   ]
  },
  {
   "cell_type": "markdown",
   "metadata": {
    "format": "text/markdown"
   },
   "source": [
    "\n"
   ]
  },
  {
   "cell_type": "markdown",
   "metadata": {
    "format": "text/markdown"
   },
   "source": [
    "\n"
   ]
  },
  {
   "cell_type": "markdown",
   "metadata": {
    "format": "text/markdown"
   },
   "source": [
    "\n",
    "\n",
    "\n",
    "# Question 4\n",
    "\n",
    "Now we will use the functions above to compute the UKF for the vehicle model. So, we will assume that the vehicle state is no longer directly measured. Assume that the initial state is distributed as $\\Nor(0,10\\cdot I)$. Furthermore, assume that the inputs and measurements are those given below:\n",
    "\n"
   ]
  },
  {
   "cell_type": "code",
   "execution_count": 7,
   "metadata": {
    "autoscroll": "auto",
    "options": {
     "caption": false,
     "complete": true,
     "display_data": true,
     "display_stream": true,
     "dpi": 200,
     "echo": true,
     "evaluate": true,
     "f_env": null,
     "f_pos": "htpb",
     "f_size": [
      6,
      4
     ],
     "f_spines": true,
     "fig": true,
     "include": true,
     "name": null,
     "option_string": " echo='True', evaluate = 'True' ",
     "results": "verbatim",
     "term": false,
     "wrap": "output"
    }
   },
   "outputs": [],
   "source": [
    "U = Data.U\n",
    "Y = Data.Y"
   ]
  },
  {
   "cell_type": "markdown",
   "metadata": {
    "format": "text/markdown"
   },
   "source": [
    "\n",
    "In particular, make a $512\\times 3$ array for the values of $\\hat x_k^+$ and an $512 \\times 3\\times 3$ array for the values of $P_k^+$. \n",
    "\n"
   ]
  },
  {
   "cell_type": "code",
   "execution_count": 10,
   "metadata": {
    "autoscroll": "auto",
    "options": {
     "caption": false,
     "complete": true,
     "display_data": true,
     "display_stream": true,
     "dpi": 200,
     "echo": true,
     "evaluate": true,
     "f_env": null,
     "f_pos": "htpb",
     "f_size": [
      6,
      4
     ],
     "f_spines": true,
     "fig": true,
     "include": true,
     "name": null,
     "option_string": "echo = 'True',evaluate= 'True' ",
     "results": "verbatim",
     "term": false,
     "wrap": "output"
    }
   },
   "outputs": [
    {
     "name": "stdout",
     "output_type": "stream",
     "text": [
      "True - Test:\n",
      "[[ 0.00000000e+00  0.00000000e+00  0.00000000e+00]\n",
      " [ 4.44089210e-16  1.77635684e-15 -8.62816615e-32]\n",
      " [-4.44089210e-16  4.44089210e-16 -4.31408308e-31]\n",
      " ...\n",
      " [-1.38238053e-03  8.47151156e-04  3.09836331e-04]\n",
      " [-1.39977706e-03  8.26138543e-04  3.06035491e-04]\n",
      " [-1.39537293e-03  7.87111744e-04  3.01303228e-04]]\n",
      "Passed\n",
      "True - Test:\n",
      "[[[ 0.00000000e+00 -1.66533454e-16  0.00000000e+00]\n",
      "  [ 1.66533454e-16  0.00000000e+00  0.00000000e+00]\n",
      "  [ 0.00000000e+00  0.00000000e+00  0.00000000e+00]]\n",
      "\n",
      " [[ 0.00000000e+00 -4.44089210e-16 -1.56770697e-31]\n",
      "  [-6.10622664e-16 -8.88178420e-16 -1.14785425e-31]\n",
      "  [-1.56770697e-31 -1.14015053e-31  0.00000000e+00]]\n",
      "\n",
      " [[ 1.11022302e-15  1.80411242e-16 -1.46755862e-31]\n",
      "  [ 1.66533454e-16 -2.22044605e-16 -3.77482269e-32]\n",
      "  [-1.46755862e-31 -3.85185989e-32  0.00000000e+00]]\n",
      "\n",
      " ...\n",
      "\n",
      " [[-3.93366946e-06 -4.19841258e-06  4.07793840e-06]\n",
      "  [-4.19841258e-06  4.62351282e-06 -4.54525347e-06]\n",
      "  [ 4.07793840e-06 -4.54525347e-06 -6.48527975e-07]]\n",
      "\n",
      " [[-3.98452174e-06 -4.24511089e-06  4.10729642e-06]\n",
      "  [-4.24511089e-06  5.26027955e-06 -4.42351631e-06]\n",
      "  [ 4.10729642e-06 -4.42351631e-06 -6.44179371e-07]]\n",
      "\n",
      " [[-4.04721262e-06 -4.31905487e-06  4.13652829e-06]\n",
      "  [-4.31905487e-06  5.83960184e-06 -4.29833972e-06]\n",
      "  [ 4.13652829e-06 -4.29833972e-06 -6.40265441e-07]]]\n",
      "Passed\n",
      "Spot on.\n",
      "A score of 1 was entered for Question 4\n"
     ]
    }
   ],
   "source": [
    "mu = np.zeros(3)\n",
    "P = 10 * np.eye(3)\n",
    "\n",
    "Mu_list = []\n",
    "P_list = []\n",
    "\n",
    "for k,y in enumerate(Y):\n",
    "    mu,P = carMeasUpdateUKF(mu,P,y)\n",
    "    Mu_list.append(mu)\n",
    "    P_list.append(P)\n",
    "\n",
    "    if k < len(U):\n",
    "        mu,P = carTimeUpdateUKF(mu,P,U[k])\n",
    "\n",
    "Mu = np.array(Mu_list)\n",
    "P_arr = np.array(P_list)\n",
    "\n",
    "N = 512\n",
    "\n",
    "nx = 3\n",
    "Mu = np.zeros((N, nx))\n",
    "P_arr = np.zeros((N, nx, nx))\n",
    "Mu0 = np.zeros((nx))\n",
    "# Mu0 = np.array([0., 0., -1.25])\n",
    "P_arr0 = 10. * np.eye(nx)\n",
    "\n",
    "for n in range(N):\n",
    "    # Time update\n",
    "    if n == 0:\n",
    "        Mu[n] = Mu0\n",
    "        P_arr[n] = P_arr0\n",
    "    else:\n",
    "        Mu[n], P_arr[n] = carTimeUpdateUKF(Mu[n-1], P_arr[n-1], U[n-1])\n",
    "    # Measurement update\n",
    "    Mu[n], P_arr[n] = carMeasUpdateUKF(Mu[n], P_arr[n], Y[n])\n",
    "\n",
    "Questions[4].checkAnswer(Mu,P_arr)"
   ]
  },
  {
   "cell_type": "markdown",
   "metadata": {
    "format": "text/markdown"
   },
   "source": [
    "\n"
   ]
  },
  {
   "cell_type": "markdown",
   "metadata": {
    "format": "text/markdown"
   },
   "source": [
    "\n",
    "Below is a plot of the performance of the UKF\n",
    "\n"
   ]
  },
  {
   "cell_type": "code",
   "execution_count": 11,
   "metadata": {
    "autoscroll": "auto",
    "options": {
     "caption": false,
     "complete": true,
     "display_data": true,
     "display_stream": true,
     "dpi": 200,
     "echo": true,
     "evaluate": true,
     "f_env": null,
     "f_pos": "htpb",
     "f_size": [
      6,
      4
     ],
     "f_spines": true,
     "fig": true,
     "include": true,
     "name": null,
     "option_string": " echo='True',evaluate='True' ",
     "results": "verbatim",
     "term": false,
     "wrap": "output"
    }
   },
   "outputs": [
    {
     "data": {
      "text/plain": [
       "[<matplotlib.lines.Line2D at 0x7f89edae4828>]"
      ]
     },
     "execution_count": 11,
     "metadata": {},
     "output_type": "execute_result"
    },
    {
     "data": {
      "image/png": "[encoded data removed]",
      "text/plain": [
       "<Figure size 432x288 with 3 Axes>"
      ]
     },
     "metadata": {
      "needs_background": "light"
     },
     "output_type": "display_data"
    }
   ],
   "source": [
    "X = Data.X\n",
    "\n",
    "fig,ax = plt.subplots(3,1,sharex=True)\n",
    "Time = 0.1 * np.arange(len(X))\n",
    "ax[0].plot(Time,X[:,0])\n",
    "ax[0].plot(Time,Mu[:,0])\n",
    "ax[1].plot(Time,X[:,1])\n",
    "ax[1].plot(Time,Mu[:,1])\n",
    "\n",
    "shiftAngle = lambda theta : ((theta + np.pi) % (2*np.pi)) -np.pi\n",
    "\n",
    "ax[2].plot(Time,shiftAngle(X[:,2]))\n",
    "ax[2].plot(Time,shiftAngle(Mu[:,2]))"
   ]
  },
  {
   "cell_type": "markdown",
   "metadata": {
    "format": "text/markdown"
   },
   "source": [
    "\n",
    "# Final Score\n",
    "\n",
    "You can run this code to see all of your scores.\n",
    "\n",
    "\n"
   ]
  },
  {
   "cell_type": "code",
   "execution_count": null,
   "metadata": {
    "autoscroll": "auto",
    "options": {
     "caption": false,
     "complete": true,
     "display_data": true,
     "display_stream": true,
     "dpi": 200,
     "echo": true,
     "evaluate": true,
     "f_env": null,
     "f_pos": "htpb",
     "f_size": [
      6,
      4
     ],
     "f_spines": true,
     "fig": true,
     "include": true,
     "name": null,
     "option_string": "echo='True', evaluate='True' ",
     "results": "verbatim",
     "term": false,
     "wrap": "output"
    }
   },
   "outputs": [],
   "source": [
    "Assignment.showResults()"
   ]
  },
  {
   "cell_type": "markdown",
   "metadata": {
    "format": "text/markdown"
   },
   "source": [
    "\n",
    "\n",
    "\n",
    "# Submission\n",
    "\n",
    "Save your work and run this cell to submit. It will only work if you have the internet.\n",
    "\n"
   ]
  },
  {
   "cell_type": "markdown",
   "metadata": {
    "format": "text/markdown"
   },
   "source": [
    "\n"
   ]
  },
  {
   "cell_type": "markdown",
   "metadata": {
    "format": "text/markdown"
   },
   "source": []
  }
 ],
 "metadata": {
  "kernel_info": {
   "name": "estenv"
  },
  "kernelspec": {
   "display_name": "Estimation",
   "language": "python",
   "name": "estenv"
  },
  "language_info": {
   "codemirror_mode": {
    "name": "ipython",
    "version": 3
   },
   "file_extension": ".py",
   "mimetype": "text/x-python",
   "name": "python",
   "nbconvert_exporter": "python",
   "pygments_lexer": "ipython3",
   "version": "3.6.5"
  }
 },
 "nbformat": 4,
 "nbformat_minor": 1
}
