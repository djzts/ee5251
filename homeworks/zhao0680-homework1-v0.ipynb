{
 "cells": [
  {
   "cell_type": "markdown",
   "metadata": {
    "format": "text/markdown"
   },
   "source": [
    "\n"
   ]
  },
  {
   "cell_type": "markdown",
   "metadata": {
    "format": "text/markdown"
   },
   "source": [
    "\n"
   ]
  },
  {
   "cell_type": "markdown",
   "metadata": {
    "format": "text/markdown"
   },
   "source": [
    "\n",
    "# Due Dates\n",
    "\n",
    "* Textbook: Thursday, September 20, in class\n",
    "* Coding: Thursday, September 20, at 11:59 PM\n",
    "\n",
    "# Textbook Problems\n",
    "\n",
    "* 1.2\n",
    "* 1.11\n",
    "* 1.12\n",
    "\n",
    "\n",
    "# Get Started\n",
    "\n"
   ]
  },
  {
   "cell_type": "code",
   "execution_count": 7,
   "metadata": {
    "autoscroll": "auto",
    "options": {
     "caption": false,
     "complete": true,
     "display_data": true,
     "display_stream": true,
     "dpi": 200,
     "echo": true,
     "evaluate": false,
     "f_env": null,
     "f_pos": "htpb",
     "f_size": [
      6,
      4
     ],
     "f_spines": true,
     "fig": true,
     "include": true,
     "name": null,
     "option_string": "echo='True', evaluate='False' ",
     "results": "verbatim",
     "term": false,
     "wrap": "output"
    }
   },
   "outputs": [],
   "source": [
    "# This is code to load the assignment.\n",
    "# You'll need to run this code do or restart the assignment.\n",
    "from loadAssignment import loadAssignment\n",
    "Assignment, Questions, Submit = loadAssignment(1)\n",
    "\n",
    "# These are modules that we need\n",
    "# once you run this code, you don't need to load them again\n",
    "import numpy as np\n",
    "import scipy.linalg as la\n",
    "import scipy.optimize as opt\n",
    "import matplotlib.pyplot as plt\n",
    "%matplotlib inline"
   ]
  },
  {
   "cell_type": "markdown",
   "metadata": {
    "format": "text/markdown"
   },
   "source": [
    "\n",
    "\n"
   ]
  },
  {
   "cell_type": "markdown",
   "metadata": {
    "format": "text/markdown"
   },
   "source": [
    "\n",
    "# Background: Numpy\n",
    "\n",
    "We will work a lot with `numpy` matrices and vectors.\n",
    "\n"
   ]
  },
  {
   "cell_type": "code",
   "execution_count": 8,
   "metadata": {
    "autoscroll": "auto",
    "options": {
     "caption": false,
     "complete": true,
     "display_data": true,
     "display_stream": true,
     "dpi": 200,
     "echo": true,
     "evaluate": false,
     "f_env": null,
     "f_pos": "htpb",
     "f_size": [
      6,
      4
     ],
     "f_spines": true,
     "fig": true,
     "include": true,
     "name": null,
     "option_string": "echo='True', evaluate='False' ",
     "results": "verbatim",
     "term": false,
     "wrap": "output"
    }
   },
   "outputs": [
    {
     "name": "stdout",
     "output_type": "stream",
     "text": [
      "M:\n",
      "[[ 1. -2.  0.]\n",
      " [-3.  5.  8.]]\n"
     ]
    }
   ],
   "source": [
    "# We define matrices in numpy as follows:\n",
    "M = np.array([[1.,-2.,0],\n",
    "              [-3.,5.,8.]])\n",
    "\n",
    "print('M:')\n",
    "print(M)"
   ]
  },
  {
   "cell_type": "markdown",
   "metadata": {
    "format": "text/markdown"
   },
   "source": [
    "\n",
    "# Background: Numpy Vectors vs. Matrices\n",
    "\n",
    "We must make a brief digression to discuss the distinction between vectors and matrices in Numpy.\n",
    "\n"
   ]
  },
  {
   "cell_type": "code",
   "execution_count": 9,
   "metadata": {
    "autoscroll": "auto",
    "options": {
     "caption": false,
     "complete": true,
     "display_data": true,
     "display_stream": true,
     "dpi": 200,
     "echo": true,
     "evaluate": false,
     "f_env": null,
     "f_pos": "htpb",
     "f_size": [
      6,
      4
     ],
     "f_spines": true,
     "fig": true,
     "include": true,
     "name": null,
     "option_string": "echo='True', evaluate='False'",
     "results": "verbatim",
     "term": false,
     "wrap": "output"
    }
   },
   "outputs": [
    {
     "name": "stdout",
     "output_type": "stream",
     "text": [
      "Matrices are Numpy arrays with two indices:\n",
      "M:\n",
      "[[ 1.  2.]\n",
      " [ 0.  4.]\n",
      " [-1.  6.]]\n",
      "M[1,1]:  4.0\n",
      "M[2,0]:  -1.0\n",
      "Matrices can also be interpreted as a list-of-lists.\n",
      "Specifically, the matrix is a list of rows\n",
      "M[0]:  [1. 2.]\n",
      "In Numpy, is it common to represent vectors as arrays with just a single index:\n",
      "z:  [-2.  3.  5.]\n",
      "z[0]:  -2.0\n"
     ]
    }
   ],
   "source": [
    "print('Matrices are Numpy arrays with two indices:')\n",
    "M = np.array([[1.,2],\n",
    "              [0,4],\n",
    "              [-1,6]])\n",
    "print('M:')\n",
    "print(M)\n",
    "print('M[1,1]: ', M[1,1])\n",
    "print('M[2,0]: ', M[2,0])\n",
    "\n",
    "print('Matrices can also be interpreted as a list-of-lists.')\n",
    "print('Specifically, the matrix is a list of rows')\n",
    "\n",
    "print('M[0]: ', M[0])\n",
    "\n",
    "print('In Numpy, is it common to represent vectors as arrays with just a single index:')\n",
    "z = np.array([-2.0,3.,5.])\n",
    "print('z: ',z)\n",
    "print('z[0]: ', z[0])"
   ]
  },
  {
   "cell_type": "markdown",
   "metadata": {
    "format": "text/markdown"
   },
   "source": [
    "\n",
    "## Multiplying Vectors and Matrices \n",
    "\n"
   ]
  },
  {
   "cell_type": "code",
   "execution_count": 10,
   "metadata": {
    "autoscroll": "auto",
    "options": {
     "caption": false,
     "complete": true,
     "display_data": true,
     "display_stream": true,
     "dpi": 200,
     "echo": true,
     "evaluate": false,
     "f_env": null,
     "f_pos": "htpb",
     "f_size": [
      6,
      4
     ],
     "f_spines": true,
     "fig": true,
     "include": true,
     "name": null,
     "option_string": "echo='True', evaluate='False' ",
     "results": "verbatim",
     "term": false,
     "wrap": "output"
    }
   },
   "outputs": [
    {
     "name": "stdout",
     "output_type": "stream",
     "text": [
      "np.dot treats vectors as either a row vector or column vector depending on which side they occur\n",
      "On the left, z acts as a row vector\n",
      "zM:  [-7. 38.]\n",
      "x:  [1. 1.]\n",
      "On the right, Numpy treats x as a column vector.\n",
      "When you print the result, it \"looks\" like a row vector, but these are the correct values\n",
      "Mx:  [3. 4. 5.]\n",
      "np.dot treats multiplication of vectors as a dot product\n",
      "y:  [2. 3.]\n",
      "y'x: 5.0\n",
      "To get an outer product of vectors, instead use np.outer\n",
      "xy':\n",
      "[[2. 3.]\n",
      " [2. 3.]]\n"
     ]
    }
   ],
   "source": [
    "print('np.dot treats vectors as either a row vector or column vector depending on which side they occur')\n",
    "print('On the left, z acts as a row vector')\n",
    "print('zM: ', np.dot(z,M))\n",
    "\n",
    "x = np.array([1.,1.])\n",
    "print('x: ', x)\n",
    "print('On the right, Numpy treats x as a column vector.')\n",
    "print('When you print the result, it \"looks\" like a row vector, but these are the correct values')\n",
    "print('Mx: ', np.dot(M,x))\n",
    "\n",
    "print('np.dot treats multiplication of vectors as a dot product')\n",
    "y = np.array([2.,3.])\n",
    "print('y: ', y)\n",
    "print(\"y\\'x:\", np.dot(y,x))\n",
    "\n",
    "print('To get an outer product of vectors, instead use np.outer')\n",
    "print(\"xy\\':\")\n",
    "print(np.outer(x,y))"
   ]
  },
  {
   "cell_type": "markdown",
   "metadata": {
    "format": "text/markdown"
   },
   "source": [
    "\n"
   ]
  },
  {
   "cell_type": "markdown",
   "metadata": {
    "format": "text/markdown"
   },
   "source": [
    "\n",
    "\n",
    "# Autoregressive Models\n",
    "\n",
    "One of the simplest and most important time-series model is called an autoregressive (AR) model. \n",
    "\n",
    "If $y_0,y_1,\\ldots,y_{N-1}$ is a series of scalar measurements, an autoregessive model of order $p$ is given by:\n",
    "\\begin{equation*}\n",
    "y_t = \\theta_0 + y_{t-1} \\theta_1 + y_{t-2} \\theta_2 + \\cdots + \\theta_p y_{t-p} + v_t, \n",
    "\\end{equation*}\n",
    "where $\\theta_i$ are coefficients of the model and $v_t$ is unmeasured noise. Note then, this assumes that the output at time $t$ is an affine function of the past $p$ measurements, along with some noise. \n",
    "\n",
    "The natural cost for an autoregressive model is given by:\n",
    "\n",
    "\\begin{equation*}\n",
    "J(\\theta) = \\frac{1}{2} \\sum_{t=p}^{N-1} \n",
    "(\\theta_0 + y_{t-1} \\theta_1 + y_{t-2} \\theta_2 + \\cdots + \\theta_p y_{t-p} - y_t)^2\n",
    "\\end{equation*}\n",
    "\n",
    "# Question 0\n",
    "\n",
    "Recall the temperature data from the previous homework\n",
    "\n"
   ]
  },
  {
   "cell_type": "code",
   "execution_count": 11,
   "metadata": {
    "autoscroll": "auto",
    "options": {
     "caption": false,
     "complete": true,
     "display_data": true,
     "display_stream": true,
     "dpi": 200,
     "echo": true,
     "evaluate": false,
     "f_env": null,
     "f_pos": "htpb",
     "f_size": [
      6,
      4
     ],
     "f_spines": true,
     "fig": true,
     "include": true,
     "name": null,
     "option_string": "echo='True', evaluate = 'False' ",
     "results": "verbatim",
     "term": false,
     "wrap": "output"
    }
   },
   "outputs": [
    {
     "data": {
      "text/plain": [
       "Text(0,0.5,'Temperature (F)')"
      ]
     },
     "execution_count": 11,
     "metadata": {},
     "output_type": "execute_result"
    },
    {
     "data": {
      "image/png": "[encoded data removed]",
      "text/plain": [
       "<Figure size 432x288 with 1 Axes>"
      ]
     },
     "metadata": {},
     "output_type": "display_data"
    }
   ],
   "source": [
    "import data\n",
    "YTrain,DateTrain,YTest,DateTest = data.extractMonthlyTempData()\n",
    "\n",
    "import datetime as dt\n",
    "import matplotlib.dates as mdates\n",
    "\n",
    "# This is just to make stuff look nice\n",
    "plt.gca().xaxis.set_major_formatter(mdates.DateFormatter('%Y-%m'))\n",
    "plt.gca().xaxis.set_major_locator(mdates.MonthLocator())\n",
    "plt.gca().xaxis.set_ticks(DateTrain[::6])\n",
    "# This is the real command\n",
    "plt.plot(DateTrain,YTrain)\n",
    "# This is also just to make stuff look nice.\n",
    "plt.gcf().autofmt_xdate()\n",
    "plt.ylabel('Temperature (F)')"
   ]
  },
  {
   "cell_type": "markdown",
   "metadata": {
    "format": "text/markdown"
   },
   "source": [
    "\n",
    "In the next few questions, we will fit an autoregressive model of order $5$ to `YTrain`. \n",
    "\n",
    "For thie first part, find a matrix, $\\Phi$ and a vector $Y$ so that \n",
    "\\begin{equation*}\n",
    "J(\\theta) = \\frac{1}{2}\\| \\Phi \\theta - Y\\|^2\n",
    "\\end{equation*}\n",
    "\n",
    "To get the data in the right shape, the command [`la.toeplitz`](https://docs.scipy.org/doc/scipy/reference/generated/scipy.linalg.toeplitz.html) could be helpful. \n",
    "\n"
   ]
  },
  {
   "cell_type": "markdown",
   "metadata": {
    "format": "text/markdown"
   },
   "source": [
    "\n"
   ]
  },
  {
   "cell_type": "code",
   "execution_count": 23,
   "metadata": {},
   "outputs": [
    {
     "name": "stdout",
     "output_type": "stream",
     "text": [
      "date\n",
      "2010-01-31    20.032258\n",
      "2010-02-28    28.071429\n",
      "2010-03-31    50.032258\n",
      "2010-04-30    65.533333\n",
      "2010-05-31    70.483871\n",
      "2010-06-30    77.500000\n",
      "2010-07-31    85.419355\n",
      "2010-08-31    86.193548\n",
      "2010-09-30    68.866667\n",
      "2010-10-31    64.064516\n",
      "2010-11-30    42.466667\n",
      "2010-12-31    22.419355\n",
      "2011-01-31    18.290323\n",
      "2011-02-28    26.964286\n",
      "2011-03-31    37.419355\n",
      "2011-04-30    55.133333\n",
      "2011-05-31    67.193548\n",
      "2011-06-30    78.733333\n",
      "2011-07-31    87.870968\n",
      "2011-08-31    82.387097\n",
      "2011-09-30    72.533333\n",
      "2011-10-31    64.903226\n",
      "2011-11-30    46.966667\n",
      "2011-12-31    34.419355\n",
      "2012-01-31    30.774194\n",
      "2012-02-29    34.827586\n",
      "2012-03-31    57.548387\n",
      "2012-04-30    59.566667\n",
      "2012-05-31    73.548387\n",
      "2012-06-30    82.333333\n",
      "2012-07-31    89.903226\n",
      "2012-08-31    82.096774\n",
      "2012-09-30    76.200000\n",
      "2012-10-31    56.354839\n",
      "2012-11-30    45.633333\n",
      "2012-12-31    30.580645\n",
      "2013-01-31    25.000000\n",
      "2013-02-28    26.178571\n",
      "2013-03-31    34.645161\n",
      "2013-04-30    48.600000\n",
      "Freq: M, Name: (max temp F), dtype: float64 40\n"
     ]
    }
   ],
   "source": [
    "o=range(5)\n",
    "print(YTrain,len(YTrain))"
   ]
  },
  {
   "cell_type": "markdown",
   "metadata": {
    "format": "text/markdown"
   },
   "source": [
    "\n"
   ]
  },
  {
   "cell_type": "markdown",
   "metadata": {
    "format": "text/markdown"
   },
   "source": [
    "\n"
   ]
  },
  {
   "cell_type": "code",
   "execution_count": 39,
   "metadata": {
    "autoscroll": "auto",
    "options": {
     "caption": false,
     "complete": true,
     "display_data": true,
     "display_stream": true,
     "dpi": 200,
     "echo": true,
     "evaluate": false,
     "f_env": null,
     "f_pos": "htpb",
     "f_size": [
      6,
      4
     ],
     "f_spines": true,
     "fig": true,
     "include": true,
     "name": null,
     "option_string": "echo='True', evaluate='False' ",
     "results": "verbatim",
     "term": false,
     "wrap": "output"
    }
   },
   "outputs": [
    {
     "name": "stdout",
     "output_type": "stream",
     "text": [
      "That is correct. Nice.\n",
      "A score of 1 was entered for Question 0\n"
     ]
    }
   ],
   "source": [
    "# Define Phi and Y here\n",
    "n = len(YTrain)-5\n",
    "m = 6\n",
    "Phi = [0] * n\n",
    "for i in range(n):\n",
    "    Phi[i] = [1.0] * m\n",
    "for i in range(len(YTrain)-5):\n",
    "    for j in range(6):\n",
    "        if j==0 :\n",
    "            Phi[i][j]=1.0\n",
    "        else:\n",
    "            Phi[i][j]=YTrain[5+i-j]\n",
    "Y=YTrain[5:]\n",
    "\n",
    "Questions[0].checkAnswer(Phi,Y)"
   ]
  },
  {
   "cell_type": "markdown",
   "metadata": {
    "format": "text/markdown"
   },
   "source": [
    "\n"
   ]
  },
  {
   "cell_type": "markdown",
   "metadata": {
    "format": "text/markdown"
   },
   "source": [
    "\n",
    "# Question 1\n",
    "\n",
    "Compute the least-squares solution for $\\theta$. Two possible methods are:\n",
    "\n",
    "- Use [`la.lstsq`](https://docs.scipy.org/doc/scipy/reference/generated/scipy.linalg.lstsq.html) for low-level least-squares optimization\n",
    "- Use [`opt.curve_fit`](https://docs.scipy.org/doc/scipy/reference/generated/scipy.optimize.curve_fit.html) as in the last homework. \n",
    "\n",
    "Make a plot with `DateTrain[5:]` on the $x$-axis and temperature on the $y$-axis.\n",
    "Your plot should have two curves:\n",
    "* One curve should have  `Y` on the $y$-axis\n",
    "* The other curve should have your predictions `np.dot(Phi,theta)` on the $y$-axis\n",
    "\n"
   ]
  },
  {
   "cell_type": "markdown",
   "metadata": {
    "format": "text/markdown"
   },
   "source": [
    "\n",
    "\n",
    "\n"
   ]
  },
  {
   "cell_type": "code",
   "execution_count": 46,
   "metadata": {
    "autoscroll": "auto",
    "options": {
     "caption": false,
     "complete": true,
     "display_data": true,
     "display_stream": true,
     "dpi": 200,
     "echo": true,
     "evaluate": false,
     "f_env": null,
     "f_pos": "htpb",
     "f_size": [
      6,
      4
     ],
     "f_spines": true,
     "fig": true,
     "include": true,
     "name": null,
     "option_string": "echo='True', evaluate='False' ",
     "results": "verbatim",
     "term": false,
     "wrap": "output"
    }
   },
   "outputs": [
    {
     "name": "stdout",
     "output_type": "stream",
     "text": [
      "True - Test:\n",
      "[[0. 0.]\n",
      " [0. 0.]\n",
      " [0. 0.]\n",
      " [0. 0.]\n",
      " [0. 0.]\n",
      " [0. 0.]\n",
      " [0. 0.]\n",
      " [0. 0.]\n",
      " [0. 0.]\n",
      " [0. 0.]\n",
      " [0. 0.]\n",
      " [0. 0.]\n",
      " [0. 0.]\n",
      " [0. 0.]\n",
      " [0. 0.]\n",
      " [0. 0.]\n",
      " [0. 0.]\n",
      " [0. 0.]\n",
      " [0. 0.]\n",
      " [0. 0.]\n",
      " [0. 0.]\n",
      " [0. 0.]\n",
      " [0. 0.]\n",
      " [0. 0.]\n",
      " [0. 0.]\n",
      " [0. 0.]\n",
      " [0. 0.]\n",
      " [0. 0.]\n",
      " [0. 0.]\n",
      " [0. 0.]\n",
      " [0. 0.]\n",
      " [0. 0.]\n",
      " [0. 0.]\n",
      " [0. 0.]\n",
      " [0. 0.]]\n",
      "Passed\n",
      "True - Test:\n",
      "[[0. 0.]\n",
      " [0. 0.]\n",
      " [0. 0.]\n",
      " [0. 0.]\n",
      " [0. 0.]\n",
      " [0. 0.]\n",
      " [0. 0.]\n",
      " [0. 0.]\n",
      " [0. 0.]\n",
      " [0. 0.]\n",
      " [0. 0.]\n",
      " [0. 0.]\n",
      " [0. 0.]\n",
      " [0. 0.]\n",
      " [0. 0.]\n",
      " [0. 0.]\n",
      " [0. 0.]\n",
      " [0. 0.]\n",
      " [0. 0.]\n",
      " [0. 0.]\n",
      " [0. 0.]\n",
      " [0. 0.]\n",
      " [0. 0.]\n",
      " [0. 0.]\n",
      " [0. 0.]\n",
      " [0. 0.]\n",
      " [0. 0.]\n",
      " [0. 0.]\n",
      " [0. 0.]\n",
      " [0. 0.]\n",
      " [0. 0.]\n",
      " [0. 0.]\n",
      " [0. 0.]\n",
      " [0. 0.]\n",
      " [0. 0.]]\n",
      "Passed\n",
      "Oh yeah!\n",
      "A score of 1 was entered for Question 1\n"
     ]
    },
    {
     "data": {
      "image/png": "[encoded data removed]",
      "text/plain": [
       "<Figure size 432x288 with 1 Axes>"
      ]
     },
     "metadata": {},
     "output_type": "display_data"
    }
   ],
   "source": [
    "# Make your plot here\n",
    "theta,residuals,rank,s = np.linalg.lstsq(Phi, Y, rcond=None)\n",
    "\n",
    "plt.gca().xaxis.set_major_formatter(mdates.DateFormatter('%Y-%m'))\n",
    "plt.gca().xaxis.set_major_locator(mdates.MonthLocator())\n",
    "plt.gca().xaxis.set_ticks(DateTrain[5:])\n",
    "plt.plot(DateTrain[5:],np.dot(Phi,theta))\n",
    "plt.plot(DateTrain[5:],YTrain[5:])\n",
    "plt.gcf().autofmt_xdate()\n",
    "plt.ylabel('Temperature (F)')\n",
    "Questions[1].checkAnswer()"
   ]
  },
  {
   "cell_type": "markdown",
   "metadata": {
    "format": "text/markdown"
   },
   "source": []
  },
  {
   "cell_type": "markdown",
   "metadata": {
    "format": "text/markdown"
   },
   "source": [
    "\n"
   ]
  },
  {
   "cell_type": "markdown",
   "metadata": {
    "format": "text/markdown"
   },
   "source": [
    "\n"
   ]
  },
  {
   "cell_type": "markdown",
   "metadata": {
    "format": "text/markdown"
   },
   "source": [
    "\n",
    "\n"
   ]
  },
  {
   "cell_type": "code",
   "execution_count": 47,
   "metadata": {
    "autoscroll": "auto",
    "options": {
     "caption": false,
     "complete": true,
     "display_data": true,
     "display_stream": true,
     "dpi": 200,
     "echo": true,
     "evaluate": false,
     "f_env": null,
     "f_pos": "htpb",
     "f_size": [
      6,
      4
     ],
     "f_spines": true,
     "fig": true,
     "include": true,
     "name": null,
     "option_string": "echo='True',evaluate='False' ",
     "results": "verbatim",
     "term": false,
     "wrap": "output"
    }
   },
   "outputs": [],
   "source": [
    "# We'll use theta again so let's store it with a different name\n",
    "theta_batch = theta"
   ]
  },
  {
   "cell_type": "markdown",
   "metadata": {
    "format": "text/markdown"
   },
   "source": [
    "\n",
    "# Background: functions with variable input numbers\n",
    "\n",
    "A bit of coding trickery that can be helpful is writing functions that can take a variable number of inputs.\n",
    "\n"
   ]
  },
  {
   "cell_type": "code",
   "execution_count": 50,
   "metadata": {
    "autoscroll": "auto",
    "options": {
     "caption": false,
     "complete": true,
     "display_data": true,
     "display_stream": true,
     "dpi": 200,
     "echo": true,
     "evaluate": false,
     "f_env": null,
     "f_pos": "htpb",
     "f_size": [
      6,
      4
     ],
     "f_spines": true,
     "fig": true,
     "include": true,
     "name": null,
     "option_string": "echo='True',evaluate='False' ",
     "results": "verbatim",
     "term": false,
     "wrap": "output"
    }
   },
   "outputs": [
    {
     "name": "stdout",
     "output_type": "stream",
     "text": [
      "3\n",
      "6\n",
      "10\n"
     ]
    }
   ],
   "source": [
    "def addManyNumbers(*nums):\n",
    "    return np.sum(nums)\n",
    "\n",
    "# Let's test iter\n",
    "print(addManyNumbers(1,2))\n",
    "print(addManyNumbers(1,2,3))\n",
    "print(addManyNumbers(1,2,3,4))"
   ]
  },
  {
   "cell_type": "markdown",
   "metadata": {
    "format": "text/markdown"
   },
   "source": [
    "\n",
    "# Question 2\n",
    "\n",
    "In this class, we will often need to take products of many matrices. Writing `np.dot(A,np.dot(B,np.dot(C,D)))` for $ABCD$ would be painful. \n",
    "\n",
    "Write a function called `dot` that takes an arbitrary number of matrices and computes their product. For example we should have:\n",
    "\n",
    "```\n",
    "AB = dot(A,B)\n",
    "ABC = dot(A,B,C)\n",
    "ABCD = dot(A,B,C,D)\n",
    "```\n",
    "\n"
   ]
  },
  {
   "cell_type": "markdown",
   "metadata": {
    "format": "text/markdown"
   },
   "source": [
    "\n"
   ]
  },
  {
   "cell_type": "code",
   "execution_count": 51,
   "metadata": {
    "autoscroll": "auto",
    "options": {
     "caption": false,
     "complete": true,
     "display_data": true,
     "display_stream": true,
     "dpi": 200,
     "echo": true,
     "evaluate": false,
     "f_env": null,
     "f_pos": "htpb",
     "f_size": [
      6,
      4
     ],
     "f_spines": true,
     "fig": true,
     "include": true,
     "name": null,
     "option_string": "echo='True', evaluate='False' ",
     "results": "verbatim",
     "term": false,
     "wrap": "output"
    }
   },
   "outputs": [
    {
     "name": "stdout",
     "output_type": "stream",
     "text": [
      "Huzzah.\n",
      "A score of 1 was entered for Question 2\n"
     ]
    }
   ],
   "source": [
    "# Write your function here\n",
    "\n",
    "def dot(*arg):\n",
    "    Answer=arg[0]\n",
    "    for i in range(len(arg)-1):\n",
    "        Answer= np.dot(Answer,arg[i+1])\n",
    "    return Answer\n",
    "Questions[2].checkAnswer(dot)"
   ]
  },
  {
   "cell_type": "markdown",
   "metadata": {
    "format": "text/markdown"
   },
   "source": [
    "\n"
   ]
  },
  {
   "cell_type": "markdown",
   "metadata": {
    "format": "text/markdown"
   },
   "source": [
    "\n"
   ]
  },
  {
   "cell_type": "markdown",
   "metadata": {
    "format": "text/markdown"
   },
   "source": [
    "\n",
    "\n"
   ]
  },
  {
   "cell_type": "markdown",
   "metadata": {
    "format": "text/markdown"
   },
   "source": [
    "\n",
    "# Question 3\n",
    "\n",
    "Implement the recursive least squares algorithm, which corresponds to equations (1.65-1.67) or (1.78-1.80) in the book. Specifically, write a function of the form\n",
    "\n",
    "```\n",
    "x_hat_new, P_new = rlsUpdate(y_new,x_hat,P,H_new,W_new)\n",
    "```\n",
    "\n"
   ]
  },
  {
   "cell_type": "markdown",
   "metadata": {
    "format": "text/markdown"
   },
   "source": [
    "\n"
   ]
  },
  {
   "cell_type": "markdown",
   "metadata": {
    "format": "text/markdown"
   },
   "source": [
    "\n"
   ]
  },
  {
   "cell_type": "markdown",
   "metadata": {
    "format": "text/markdown"
   },
   "source": [
    "\n",
    "\n"
   ]
  },
  {
   "cell_type": "code",
   "execution_count": 52,
   "metadata": {
    "autoscroll": "auto",
    "options": {
     "caption": false,
     "complete": true,
     "display_data": true,
     "display_stream": true,
     "dpi": 200,
     "echo": true,
     "evaluate": false,
     "f_env": null,
     "f_pos": "htpb",
     "f_size": [
      6,
      4
     ],
     "f_spines": true,
     "fig": true,
     "include": true,
     "name": null,
     "option_string": "echo='True', evaluate='False' ",
     "results": "verbatim",
     "term": false,
     "wrap": "output"
    }
   },
   "outputs": [
    {
     "name": "stdout",
     "output_type": "stream",
     "text": [
      "Hoorah!\n",
      "A score of 1 was entered for Question 3\n"
     ]
    }
   ],
   "source": [
    "# Write your function Here\n",
    "def rlsUpdate(y_new,x_hat,P,H_new,W_new):\n",
    "    INV=np.linalg.inv(dot(H_new,P,np.transpose(H_new))+np.linalg.inv(W_new))\n",
    "    K_new=dot(P,np.transpose(H_new),INV)\n",
    "    x_hat_new= x_hat+dot(K_new,(y_new-dot(H_new,x_hat)))\n",
    "    P_new=dot(np.eye(len(x_hat))-dot(K_new,H_new),P)\n",
    "    return x_hat_new, P_new\n",
    "Questions[3].checkAnswer(rlsUpdate)"
   ]
  },
  {
   "cell_type": "markdown",
   "metadata": {
    "format": "text/markdown"
   },
   "source": [
    "\n"
   ]
  },
  {
   "cell_type": "markdown",
   "metadata": {
    "format": "text/markdown"
   },
   "source": [
    "\n",
    "\n",
    "# Question 4\n",
    "\n",
    "Use your recursive least squares algorithm to compute a sequence of parameter estimates, $\\theta_t$. Store the result as a matrix of the form:\n",
    "\n",
    "\\begin{equation*}\n",
    "\\Theta = \\begin{bmatrix}\n",
    "\\theta_0^\\top \\\\\n",
    "\\theta_1^\\top \\\\\n",
    "\\vdots \\\\\n",
    "\\end{bmatrix}\n",
    "\\end{equation*}\n",
    "\n",
    "(Note: You can store the sequence of parameter vectors as a list using `append` and then stack as a matrix at the end using the command `np.array`)\n",
    "\n",
    "Recall that recursive least squares requires the $P_t$ matrices to be invertible at each step. In particular, the first matrix $P_0$ must be invertible. In order to ensure this, assume that $H_0$ is constructed from the first $6$ rows of `Phi`, and so the first \"measurement\", $y_0$, must consist of the first $5$ entries of `Y`. This corresponds to `Phi[:6]` and `Y[:6]`. \n",
    "\n",
    "After computing $\\theta_0$ assume that measurements arrive one at a time. Based on python indexing, this would mean that $H_t$ is constructed from `Phi[5+t:6+t]` and $y_t$ is constucted from `Y[5+t:6+t]` for $t=1,2,\\ldots$.  \n",
    "\n",
    "Assume that $W_t$ is an identity matrix of appropriate size for at each step.\n",
    "\n"
   ]
  },
  {
   "cell_type": "markdown",
   "metadata": {
    "format": "text/markdown"
   },
   "source": [
    "\n"
   ]
  },
  {
   "cell_type": "code",
   "execution_count": 90,
   "metadata": {
    "autoscroll": "auto",
    "options": {
     "caption": false,
     "complete": true,
     "display_data": true,
     "display_stream": true,
     "dpi": 200,
     "echo": true,
     "evaluate": false,
     "f_env": null,
     "f_pos": "htpb",
     "f_size": [
      6,
      4
     ],
     "f_spines": true,
     "fig": true,
     "include": true,
     "name": null,
     "option_string": "echo='True', evaluate='False' ",
     "results": "verbatim",
     "term": false,
     "wrap": "output"
    }
   },
   "outputs": [
    {
     "name": "stdout",
     "output_type": "stream",
     "text": [
      "Spot on.\n",
      "A score of 1 was entered for Question 4\n"
     ]
    }
   ],
   "source": [
    "# Make the matrix of parameters here\n",
    "H_0=Phi[:6]\n",
    "W_0=np.eye(len(H_0))\n",
    "P_0=np.linalg.inv(dot(np.transpose(H_0),W_0,H_0))\n",
    "x_hat=np.transpose(dot(P_0,transpose(H_0),W_0,Y[:6]))\n",
    "list=[x_hat]\n",
    "P=P_0\n",
    "for t in range(29):\n",
    "    y_new=Y[5+t+1:6+t+1]\n",
    "    H_new=Phi[5+t+1:6+t+1]\n",
    "    W_new=np.eye(len(H_new))\n",
    "    x_hat_new, P_new=rlsUpdate(y_new,x_hat,P,H_new,W_new)\n",
    "    list.append(x_hat_new)\n",
    "    x_hat=x_hat_new\n",
    "    P=P_new\n",
    "    Theta= np.array(list)\n",
    "Theta= np.array(list)\n",
    "Questions[4].checkAnswer(Theta)"
   ]
  },
  {
   "cell_type": "markdown",
   "metadata": {
    "format": "text/markdown"
   },
   "source": [
    "\n"
   ]
  },
  {
   "cell_type": "code",
   "execution_count": 91,
   "metadata": {
    "autoscroll": "auto",
    "options": {
     "caption": false,
     "complete": true,
     "display_data": true,
     "display_stream": true,
     "dpi": 200,
     "echo": true,
     "evaluate": false,
     "f_env": null,
     "f_pos": "htpb",
     "f_size": [
      6,
      4
     ],
     "f_spines": true,
     "fig": true,
     "include": true,
     "name": null,
     "option_string": "echo='True',evaluate='False'",
     "results": "verbatim",
     "term": false,
     "wrap": "output"
    }
   },
   "outputs": [
    {
     "name": "stdout",
     "output_type": "stream",
     "text": [
      "Final difference: [ 4.65405492e-12 -1.51656465e-13  7.43849426e-14  1.20459198e-13\n",
      " -1.10071674e-13 -1.92623695e-14]\n"
     ]
    },
    {
     "data": {
      "image/png": "[encoded data removed]",
      "text/plain": [
       "<Figure size 432x288 with 1 Axes>"
      ]
     },
     "metadata": {},
     "output_type": "display_data"
    }
   ],
   "source": [
    "# If you've done this correctly \n",
    "# the final value of theta should be exactly the same as the batch value\n",
    "# \n",
    "ThetaDiff = Theta - np.outer(np.ones(len(Theta)),theta_batch)\n",
    "plt.plot(la.norm(ThetaDiff,axis=1))\n",
    "plt.ylabel(r'$|\\theta_t - \\theta_{batch}|$')\n",
    "plt.xlabel('t')\n",
    "print('Final difference:', ThetaDiff[-1])"
   ]
  },
  {
   "cell_type": "markdown",
   "metadata": {
    "format": "text/markdown"
   },
   "source": [
    "\n"
   ]
  },
  {
   "cell_type": "markdown",
   "metadata": {
    "format": "text/markdown"
   },
   "source": [
    "\n"
   ]
  },
  {
   "cell_type": "markdown",
   "metadata": {
    "format": "text/markdown"
   },
   "source": [
    "\n",
    "# Final Score\n",
    "\n",
    "You can run this code to see all of your scores.\n",
    "\n",
    "\n"
   ]
  },
  {
   "cell_type": "code",
   "execution_count": 92,
   "metadata": {
    "autoscroll": "auto",
    "options": {
     "caption": false,
     "complete": true,
     "display_data": true,
     "display_stream": true,
     "dpi": 200,
     "echo": true,
     "evaluate": false,
     "f_env": null,
     "f_pos": "htpb",
     "f_size": [
      6,
      4
     ],
     "f_spines": true,
     "fig": true,
     "include": true,
     "name": null,
     "option_string": "echo='True', evaluate='False' ",
     "results": "verbatim",
     "term": false,
     "wrap": "output"
    }
   },
   "outputs": [
    {
     "name": "stdout",
     "output_type": "stream",
     "text": [
      "Problem 0: 1\n",
      "Problem 1: 1\n",
      "Problem 2: 1\n",
      "Problem 3: 1\n",
      "Problem 4: 1\n",
      "\n",
      "Total: 5 / 5\n"
     ]
    }
   ],
   "source": [
    "Assignment.showResults()"
   ]
  },
  {
   "cell_type": "markdown",
   "metadata": {
    "format": "text/markdown"
   },
   "source": [
    "\n",
    "\n",
    "\n",
    "# Submission\n",
    "\n",
    "Save your work and run this cell to submit. It will only work if you have the internet.\n",
    "\n"
   ]
  },
  {
   "cell_type": "code",
   "execution_count": null,
   "metadata": {
    "autoscroll": "auto",
    "options": {
     "caption": false,
     "complete": true,
     "display_data": true,
     "display_stream": true,
     "dpi": 200,
     "echo": true,
     "evaluate": false,
     "f_env": null,
     "f_pos": "htpb",
     "f_size": [
      6,
      4
     ],
     "f_spines": true,
     "fig": true,
     "include": true,
     "name": null,
     "option_string": "echo='True', evaluate='False' ",
     "results": "verbatim",
     "term": false,
     "wrap": "output"
    }
   },
   "outputs": [],
   "source": [
    "Submit()"
   ]
  },
  {
   "cell_type": "markdown",
   "metadata": {
    "format": "text/markdown"
   },
   "source": [
    "\n"
   ]
  },
  {
   "cell_type": "markdown",
   "metadata": {
    "format": "text/markdown"
   },
   "source": []
  }
 ],
 "metadata": {
  "kernel_info": {
   "name": "estenv"
  },
  "kernelspec": {
   "display_name": "Estimation",
   "language": "python",
   "name": "estenv"
  },
  "language_info": {
   "codemirror_mode": {
    "name": "ipython",
    "version": 3
   },
   "file_extension": ".py",
   "mimetype": "text/x-python",
   "name": "python",
   "nbconvert_exporter": "python",
   "pygments_lexer": "ipython3",
   "version": "3.6.5"
  }
 },
 "nbformat": 4,
 "nbformat_minor": 1
}
