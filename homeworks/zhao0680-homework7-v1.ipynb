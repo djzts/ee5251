{
 "cells": [
  {
   "cell_type": "markdown",
   "metadata": {
    "format": "text/markdown"
   },
   "source": [
    "\n"
   ]
  },
  {
   "cell_type": "markdown",
   "metadata": {
    "format": "text/markdown"
   },
   "source": [
    "\\begin{equation*}\n",
    "\\newcommand{\\E}{\\mathbb{E}}\n",
    "\\newcommand{\\Nor}{\\mathcal{N}}\n",
    "\\end{equation*}\n",
    "\n"
   ]
  },
  {
   "cell_type": "markdown",
   "metadata": {
    "format": "text/markdown"
   },
   "source": [
    "\n",
    "# Due Dates\n",
    "\n",
    "* Textbook: Thursday, November 8, in class\n",
    "* Coding: Thursday, November 8, at 11:59 PM\n",
    "\n",
    "# Textbook Problems\n",
    "\n",
    "* 4.5\n",
    "* 4.10\n",
    "* 4.12\n",
    "\n",
    "\n"
   ]
  },
  {
   "cell_type": "code",
   "execution_count": null,
   "metadata": {
    "autoscroll": "auto",
    "collapsed": false,
    "options": {
     "caption": false,
     "complete": true,
     "display_data": true,
     "display_stream": true,
     "dpi": 200,
     "echo": true,
     "evaluate": false,
     "f_env": null,
     "f_pos": "htpb",
     "f_size": [
      6,
      4
     ],
     "f_spines": true,
     "fig": true,
     "include": true,
     "name": null,
     "option_string": "echo='True', evaluate='False' ",
     "results": "verbatim",
     "term": false,
     "wrap": "output"
    }
   },
   "outputs": [],
   "source": [
    "# This is code to load the assignment.\n",
    "# You'll need to run this code do or restart the assignment.\n",
    "from loadAssignment import loadAssignment\n",
    "Assignment, Questions, Submit, Data = loadAssignment(7)\n",
    "\n",
    "# These are modules that we need\n",
    "# once you run this code, you don't need to load them again\n",
    "import autograd.numpy as np\n",
    "import autograd as ag\n",
    "import scipy.linalg as la\n",
    "import scipy.signal as sp\n",
    "import scipy.stats as st\n",
    "import matplotlib.pyplot as plt\n",
    "%matplotlib inline"
   ]
  },
  {
   "cell_type": "markdown",
   "metadata": {
    "format": "text/markdown"
   },
   "source": [
    "\n"
   ]
  },
  {
   "cell_type": "markdown",
   "metadata": {
    "format": "text/markdown"
   },
   "source": [
    "\n"
   ]
  },
  {
   "cell_type": "markdown",
   "metadata": {
    "format": "text/markdown"
   },
   "source": [
    "\n",
    "\n",
    "\n",
    "# Question 0\n",
    "\n",
    "\n"
   ]
  },
  {
   "cell_type": "markdown",
   "metadata": {
    "format": "text/markdown"
   },
   "source": [
    "\n",
    "\n"
   ]
  },
  {
   "cell_type": "markdown",
   "metadata": {
    "format": "text/markdown"
   },
   "source": [
    "\n",
    "\n"
   ]
  },
  {
   "cell_type": "markdown",
   "metadata": {
    "format": "text/markdown"
   },
   "source": [
    "\n",
    "This assignment will focus on what to do when your noise model is incorrect. Consider the dynamic system given by:\n",
    "\n",
    "\\begin{align*}\n",
    "x_{k+1} &= \\Phi x_k + w_k \\\\\n",
    "y_k &= H x_k + v_k\n",
    "\\end{align*}\n",
    "\n",
    "where the matrices are given by:\n",
    "\n"
   ]
  },
  {
   "cell_type": "code",
   "execution_count": null,
   "metadata": {
    "autoscroll": "auto",
    "collapsed": false,
    "options": {
     "caption": false,
     "complete": true,
     "display_data": true,
     "display_stream": true,
     "dpi": 200,
     "echo": true,
     "evaluate": false,
     "f_env": null,
     "f_pos": "htpb",
     "f_size": [
      6,
      4
     ],
     "f_spines": true,
     "fig": true,
     "include": true,
     "name": null,
     "option_string": "echo='True',evaluate='False'",
     "results": "verbatim",
     "term": false,
     "wrap": "output"
    }
   },
   "outputs": [],
   "source": [
    "Phi = np.array([[0.5, -0.5],\n",
    "[0.5, 0.5]])\n",
    "H = np.array([[1, 0]])"
   ]
  },
  {
   "cell_type": "markdown",
   "metadata": {
    "format": "text/markdown"
   },
   "source": [
    "\n",
    "We will assume that $w_k \\sim \\Nor(0,Q)$ and $v_k \\sim \\Nor(0,R)$ are independent white noise variables. As is common, however, we do not know $Q$ and $R$. In this assignment we will:\n",
    "\n",
    "* Estimate what the Kalman residual error *should* be.\n",
    "* Build an estimator using nominal values of $Q$ and $R$\n",
    "* Assess the consistency of that estimator by comparing the residual error with the predicted optimal error.\n",
    "* Analyze the residuals produced \n",
    "\n",
    "In the next homework assignment (after the exam), we will see how to correct the errors due to incorrect covariances.\n",
    "\n",
    "A whole bunch of measurements are given here. \n",
    "\n"
   ]
  },
  {
   "cell_type": "code",
   "execution_count": null,
   "metadata": {
    "autoscroll": "auto",
    "collapsed": false,
    "options": {
     "caption": false,
     "complete": true,
     "display_data": true,
     "display_stream": true,
     "dpi": 200,
     "echo": true,
     "evaluate": false,
     "f_env": null,
     "f_pos": "htpb",
     "f_size": [
      6,
      4
     ],
     "f_spines": true,
     "fig": true,
     "include": true,
     "name": null,
     "option_string": "echo='True',evaluate='False'",
     "results": "verbatim",
     "term": false,
     "wrap": "output"
    }
   },
   "outputs": [],
   "source": [
    "Y = Data.Y"
   ]
  },
  {
   "cell_type": "markdown",
   "metadata": {
    "format": "text/markdown"
   },
   "source": [
    "\n",
    "Here each row is a value of $y_k$. \n",
    "\n",
    "As discussed in class, the Kalman predictor $\\hat y_k$ is closely approximated as:\n",
    "\\begin{equation*}\n",
    "\\hat y_k \\approx G \\begin{bmatrix}\n",
    "y_{k-p} \\\\\n",
    "y_{k-p-1} \\\\\n",
    "\\vdots \\\\\n",
    "y_{k-2} \\\\\n",
    "y_{k-1}\n",
    "\\end{bmatrix},\n",
    "\\end{equation*}\n",
    "where $G$ is the solution to the least-squares problem:\n",
    "\\begin{equation*}\n",
    "\\min_G \\frac{1}{2} \\sum_{k=p}^{N-1} \\left\\|\n",
    "y_k - G \\begin{bmatrix}\n",
    "y_{k-p} \\\\\n",
    "y_{k-p-1} \\\\\n",
    "\\vdots \\\\\n",
    "y_{k-2} \\\\\n",
    "y_{k-1}\n",
    "\\end{bmatrix}\n",
    "\\right\\|^2\n",
    "\\end{equation*}\n",
    "\n",
    "The approximation is close as long as $p$ and $N$ are sufficiently large. \n",
    "\n",
    "Use the approximation method to estimate $\\Psi = \\E[(y_k-\\hat y_k)^2]$. Use $p=10$ and let $N$ be number of measurements. (Just take the emperical mean of the least squares error.) Call your estimate `Psi_LS` make it a scalar. \n",
    "\n",
    "For reference, the true residual error variance is given by $\\Psi = 3.615936808770562$.\n",
    "\n"
   ]
  },
  {
   "cell_type": "markdown",
   "metadata": {
    "format": "text/markdown"
   },
   "source": [
    "\n"
   ]
  },
  {
   "cell_type": "code",
   "execution_count": null,
   "metadata": {
    "autoscroll": "auto",
    "collapsed": false,
    "options": {
     "caption": false,
     "complete": true,
     "display_data": true,
     "display_stream": true,
     "dpi": 200,
     "echo": true,
     "evaluate": false,
     "f_env": null,
     "f_pos": "htpb",
     "f_size": [
      6,
      4
     ],
     "f_spines": true,
     "fig": true,
     "include": true,
     "name": null,
     "option_string": " echo='True',evaluate='False' ",
     "results": "verbatim",
     "term": false,
     "wrap": "output"
    }
   },
   "outputs": [],
   "source": [
    "# Calculate Psi_LS here. la.hankel and la.lstsq may help\n",
    "\n",
    "\n",
    "\n",
    "Questions[0].checkAnswer(Psi_LS)"
   ]
  },
  {
   "cell_type": "markdown",
   "metadata": {
    "format": "text/markdown"
   },
   "source": [
    "\n"
   ]
  },
  {
   "cell_type": "markdown",
   "metadata": {
    "format": "text/markdown"
   },
   "source": [
    "\n",
    "# Question 1\n",
    "\n",
    "Assume now that $Q=I$ and $R=I$ of appropriate size. Compute a matrix $L$ so that the steady state *a priori* estimator is given by\n",
    "\n",
    "\\begin{align*}\n",
    "\\hat x_{k+1}^- &= (\\Phi - LH) \\hat x_k^- + L y_k  \\\\\n",
    "\\hat y_k &= H \\hat x_k^-\n",
    "\\end{align*}\n",
    "\n",
    "The command [`la.solve_discrete_are`](https://docs.scipy.org/doc/scipy/reference/generated/scipy.linalg.solve_discrete_are.html) will help.\n",
    "\n",
    "\n"
   ]
  },
  {
   "cell_type": "markdown",
   "metadata": {
    "format": "text/markdown"
   },
   "source": [
    "\n"
   ]
  },
  {
   "cell_type": "code",
   "execution_count": null,
   "metadata": {
    "autoscroll": "auto",
    "collapsed": false,
    "options": {
     "caption": false,
     "complete": true,
     "display_data": true,
     "display_stream": true,
     "dpi": 200,
     "echo": true,
     "evaluate": false,
     "f_env": null,
     "f_pos": "htpb",
     "f_size": [
      6,
      4
     ],
     "f_spines": true,
     "fig": true,
     "include": true,
     "name": null,
     "option_string": " echo='True',evaluate='False' ",
     "results": "verbatim",
     "term": false,
     "wrap": "output"
    }
   },
   "outputs": [],
   "source": [
    "# Define L here\n",
    "# Make L a 2x1  matrix. \n",
    "# This is different from our usual vector convention\n",
    "# It is done for scipy compatibility.\n",
    "\n",
    "\n",
    "Questions[1].checkAnswer(L)"
   ]
  },
  {
   "cell_type": "markdown",
   "metadata": {
    "format": "text/markdown"
   },
   "source": [
    "\n"
   ]
  },
  {
   "cell_type": "markdown",
   "metadata": {
    "format": "text/markdown"
   },
   "source": [
    "\n",
    "\n",
    "# Question 2\n",
    "\n",
    "Assume that $\\hat x_0^- = 0$. Calculate $\\hat y_k$ for $k=0,\\ldots,N-1$, where $N$ is the number of $y_k$ values. [`sp.dlsim`](https://docs.scipy.org/doc/scipy/reference/generated/scipy.signal.dlsim.html) is helpful here. Store the values in matrix, `Y_pred`.\n",
    "\n"
   ]
  },
  {
   "cell_type": "markdown",
   "metadata": {
    "format": "text/markdown"
   },
   "source": [
    "\n"
   ]
  },
  {
   "cell_type": "code",
   "execution_count": null,
   "metadata": {
    "autoscroll": "auto",
    "collapsed": false,
    "options": {
     "caption": false,
     "complete": true,
     "display_data": true,
     "display_stream": true,
     "dpi": 200,
     "echo": true,
     "evaluate": false,
     "f_env": null,
     "f_pos": "htpb",
     "f_size": [
      6,
      4
     ],
     "f_spines": true,
     "fig": true,
     "include": true,
     "name": null,
     "option_string": " echo='True',evaluate='False' ",
     "results": "verbatim",
     "term": false,
     "wrap": "output"
    }
   },
   "outputs": [],
   "source": [
    "# Calculate your predictions here\n",
    "\n",
    "Questions[2].checkAnswer(Y_pred)"
   ]
  },
  {
   "cell_type": "markdown",
   "metadata": {
    "format": "text/markdown"
   },
   "source": [
    "\n"
   ]
  },
  {
   "cell_type": "markdown",
   "metadata": {
    "format": "text/markdown"
   },
   "source": [
    "\n",
    "# Question 3\n",
    "\n",
    "Let $\\hat y_k$ be your prediction sequence from above.\n",
    "Recall that $\\Psi = \\E[(y_k-\\hat y_k)^2]$. Assuming the values $Q=I$ and $R=I$, calculate the theoretical prediction for $\\Psi$. Store this in a number caller `Psi_pred`. \n",
    "\n",
    "Also calculate the emperical mean of $(y_k -\\hat y_k)^2$ and store this as a number called `Psi_emp`.\n",
    "\n"
   ]
  },
  {
   "cell_type": "markdown",
   "metadata": {
    "format": "text/markdown"
   },
   "source": [
    "\n"
   ]
  },
  {
   "cell_type": "code",
   "execution_count": null,
   "metadata": {
    "autoscroll": "auto",
    "collapsed": false,
    "options": {
     "caption": false,
     "complete": true,
     "display_data": true,
     "display_stream": true,
     "dpi": 200,
     "echo": true,
     "evaluate": false,
     "f_env": null,
     "f_pos": "htpb",
     "f_size": [
      6,
      4
     ],
     "f_spines": true,
     "fig": true,
     "include": true,
     "name": null,
     "option_string": " echo='True',evaluate='False' ",
     "results": "verbatim",
     "term": false,
     "wrap": "output"
    }
   },
   "outputs": [],
   "source": [
    "# Define Psi_pred and Psi_emp here\n",
    "\n",
    "Questions[3].checkAnswer(Psi_pred,Psi_emp)"
   ]
  },
  {
   "cell_type": "markdown",
   "metadata": {
    "format": "text/markdown"
   },
   "source": [
    "\n"
   ]
  },
  {
   "cell_type": "markdown",
   "metadata": {
    "format": "text/markdown"
   },
   "source": [
    "\n",
    "\n",
    "\n",
    "# Question 4\n",
    "\n",
    "This final question will perform a statistical consistency check on the residuals. The text discusses performing a hypothesis test by compering `Psi_emp` with `Psi_pred`. In particular, if `Psi_pred` were the correct variance, then `N Psi_emp / Psi_pred` would have a $\\chi$-squared distribution with $N$ degrees of freedom. \n",
    "\n",
    "In the assignment a few weeks from now, we will focus calculating the optimal $L$ directly (using a variant of the residual whitening method from Chapter 4). In this case, we can compute $L$ without estimating $Q$ or $R$, and in particular, without analytically computing `Psi_pred`. So, it is helpful to have a consistency test that does not rely on `Psi_pred`.\n",
    "\n",
    "A simple variation is to assume that the least-squares `Psi_LS` is approximately equal to the true residual variance. In this case, if $L$ were the true Kalman gain, then `s = N Psi_emp / Psi_LS` should have (approximately) a $\\chi$-squared distribution with $N$ degrees of freedom. \n",
    "\n",
    "Let $z$ be a $\\chi$-squared random variable. Calculate the probability that $z \\le s$. Note that if this probability is less than $2.5\\%$ greater than $97.5\\%$, then our statistic lives outside of the common $95\\%$ confidence interval used for hypothesis testing. The commands from [`st.chi2`](https://docs.scipy.org/doc/scipy/reference/generated/scipy.stats.chi2.html) can help.\n",
    "\n",
    "\n"
   ]
  },
  {
   "cell_type": "markdown",
   "metadata": {
    "format": "text/markdown"
   },
   "source": [
    "\n"
   ]
  },
  {
   "cell_type": "code",
   "execution_count": null,
   "metadata": {
    "autoscroll": "auto",
    "collapsed": false,
    "options": {
     "caption": false,
     "complete": true,
     "display_data": true,
     "display_stream": true,
     "dpi": 200,
     "echo": true,
     "evaluate": false,
     "f_env": null,
     "f_pos": "htpb",
     "f_size": [
      6,
      4
     ],
     "f_spines": true,
     "fig": true,
     "include": true,
     "name": null,
     "option_string": " echo='True',evaluate='False' ",
     "results": "verbatim",
     "term": false,
     "wrap": "output"
    }
   },
   "outputs": [],
   "source": [
    "# Calculate the probability and call if Prob\n",
    "\n",
    "\n",
    "Questions[4].checkAnswer(Prob)"
   ]
  },
  {
   "cell_type": "markdown",
   "metadata": {
    "format": "text/markdown"
   },
   "source": [
    "\n",
    "# Final Score\n",
    "\n",
    "You can run this code to see all of your scores.\n",
    "\n",
    "\n"
   ]
  },
  {
   "cell_type": "code",
   "execution_count": null,
   "metadata": {
    "autoscroll": "auto",
    "collapsed": false,
    "options": {
     "caption": false,
     "complete": true,
     "display_data": true,
     "display_stream": true,
     "dpi": 200,
     "echo": true,
     "evaluate": false,
     "f_env": null,
     "f_pos": "htpb",
     "f_size": [
      6,
      4
     ],
     "f_spines": true,
     "fig": true,
     "include": true,
     "name": null,
     "option_string": "echo='True', evaluate='False' ",
     "results": "verbatim",
     "term": false,
     "wrap": "output"
    }
   },
   "outputs": [],
   "source": [
    "Assignment.showResults()"
   ]
  },
  {
   "cell_type": "markdown",
   "metadata": {
    "format": "text/markdown"
   },
   "source": [
    "\n",
    "\n",
    "\n",
    "# Submission\n",
    "\n",
    "Save your work and run this cell to submit. It will only work if you have the internet.\n",
    "\n"
   ]
  },
  {
   "cell_type": "code",
   "execution_count": null,
   "metadata": {
    "autoscroll": "auto",
    "collapsed": false,
    "options": {
     "caption": false,
     "complete": true,
     "display_data": true,
     "display_stream": true,
     "dpi": 200,
     "echo": true,
     "evaluate": false,
     "f_env": null,
     "f_pos": "htpb",
     "f_size": [
      6,
      4
     ],
     "f_spines": true,
     "fig": true,
     "include": true,
     "name": null,
     "option_string": "echo='True', evaluate='False' ",
     "results": "verbatim",
     "term": false,
     "wrap": "output"
    }
   },
   "outputs": [],
   "source": [
    "Submit()"
   ]
  },
  {
   "cell_type": "markdown",
   "metadata": {
    "format": "text/markdown"
   },
   "source": [
    "\n"
   ]
  },
  {
   "cell_type": "markdown",
   "metadata": {
    "format": "text/markdown"
   },
   "source": []
  }
 ],
 "metadata": {
  "kernel_info": {
   "name": "estenv"
  },
  "kernelspec": {
   "argv": [
    "D:\\EE5251\\python.exe",
    "-m",
    "ipykernel_launcher",
    "-f",
    "{connection_file}"
   ],
   "display_name": "Estimation",
   "env": {},
   "interrupt_mode": "signal",
   "language": "python",
   "metadata": {},
   "name": "estenv"
  },
  "language_info": {
   "name": "python"
  }
 },
 "nbformat": 4,
 "nbformat_minor": 0
}